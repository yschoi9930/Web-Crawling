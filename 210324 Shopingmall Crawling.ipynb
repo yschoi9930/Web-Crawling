{
 "cells": [
  {
   "cell_type": "code",
   "execution_count": 2,
   "metadata": {
    "ExecuteTime": {
     "end_time": "2021-03-24T01:16:58.209209Z",
     "start_time": "2021-03-24T01:16:56.546138Z"
    }
   },
   "outputs": [],
   "source": [
    "import pandas as pd\n",
    "import numpy as np\n",
    "from urllib.request import urlopen\n",
    "from bs4 import BeautifulSoup"
   ]
  },
  {
   "cell_type": "code",
   "execution_count": 3,
   "metadata": {
    "ExecuteTime": {
     "end_time": "2021-03-24T01:16:58.260136Z",
     "start_time": "2021-03-24T01:16:58.253840Z"
    }
   },
   "outputs": [],
   "source": [
    "from IPython.core.interactiveshell import InteractiveShell\n",
    "InteractiveShell.ast_node_interactivity=\"all\""
   ]
  },
  {
   "cell_type": "code",
   "execution_count": 4,
   "metadata": {
    "ExecuteTime": {
     "end_time": "2021-03-24T01:17:01.752030Z",
     "start_time": "2021-03-24T01:16:58.307576Z"
    }
   },
   "outputs": [],
   "source": [
    "url = \"http://jolse.com/category/tones-mists/1019/\"\n",
    "html = urlopen(url)\n",
    "htmls = html.read()\n",
    "# print(htmls)\n",
    "bs_obj = BeautifulSoup(htmls, 'html.parser')"
   ]
  },
  {
   "cell_type": "code",
   "execution_count": 5,
   "metadata": {
    "ExecuteTime": {
     "end_time": "2021-03-24T01:17:02.190244Z",
     "start_time": "2021-03-24T01:17:02.181936Z"
    },
    "code_folding": []
   },
   "outputs": [],
   "source": [
    "# 한 페이지에 모든 상품이 들어있는 ul 태그 추출\n",
    "# ul class : prdList grid 04\n",
    "ul = bs_obj.find('ul',{\"class\":'prdList grid4'})\n",
    "#print(ul)"
   ]
  },
  {
   "cell_type": "code",
   "execution_count": 6,
   "metadata": {
    "ExecuteTime": {
     "end_time": "2021-03-24T01:17:02.899549Z",
     "start_time": "2021-03-24T01:17:02.890186Z"
    }
   },
   "outputs": [
    {
     "name": "stdout",
     "output_type": "stream",
     "text": [
      "Isntree Hyaluronic Acid Toner 200ml (Renewal)\n"
     ]
    }
   ],
   "source": [
    "# 품목 1개를 담고 있는 div 태그 추출\n",
    "# div class:box\n",
    "box = ul.find('div',{'class' : 'box'})\n",
    "# print(box)\n",
    "\n",
    "# 품목명을 담고 있는 p태그 추출\n",
    "p_tag = box.find('p',{'class':'name'})\n",
    "prod = p_tag.find('span').text\n",
    "print(prod)"
   ]
  },
  {
   "cell_type": "code",
   "execution_count": 38,
   "metadata": {
    "ExecuteTime": {
     "end_time": "2021-03-24T01:54:02.553439Z",
     "start_time": "2021-03-24T01:54:02.543231Z"
    }
   },
   "outputs": [
    {
     "name": "stdout",
     "output_type": "stream",
     "text": [
      "<ul class=\"xans-element- xans-product xans-product-listitem\"><!-- 일반목록 상품정보 --><li class=\" xans-record-\" item-title=\"Price\">\n",
      "<strong class=\"title displaynone\"><span style=\"font-size:12px;color:#888888;\">Price</span></strong> <span style=\"font-size:12px;color:#888888;text-decoration:line-through;\">USD 27.00</span><span id=\"span_product_tax_type_text\" style=\"text-decoration:line-through;\"> </span></li>\n",
      "<li class=\" xans-record-\" item-title=\"\">\n",
      "<strong class=\"title \"><span style=\"font-size:15px;color:#222222;font-weight:bold;\"></span></strong> <span style=\"font-size:15px;color:#222222;font-weight:bold;\">USD 18.90</span></li>\n",
      "</ul>\n"
     ]
    }
   ],
   "source": [
    "# 품목의 원 가격 및 세일 가격\n",
    "# box 안에 ul 태그는 1개 있음\n",
    "ul_price = box.find(\"ul\")\n",
    "print(ul_price)"
   ]
  },
  {
   "cell_type": "code",
   "execution_count": 42,
   "metadata": {
    "ExecuteTime": {
     "end_time": "2021-03-24T01:55:51.720598Z",
     "start_time": "2021-03-24T01:55:51.707406Z"
    }
   },
   "outputs": [
    {
     "name": "stdout",
     "output_type": "stream",
     "text": [
      "가격 :  USD 27.00\n",
      "세일가격 :  USD 18.90\n"
     ]
    }
   ],
   "source": [
    "# ul_price의 모든 span 태그를 찾은 후 필요한 인덱스만 찾아오면 됨\n",
    "span_price = ul_price.find_all('span')\n",
    "# print(span_price)\n",
    "# 가격이 들어 있는 1, 4 인덱스의 텍스트를 가져옴 \n",
    "print('가격 : ',span_price[1].text)\n",
    "print('세일가격 : ', span_price[4].text)"
   ]
  },
  {
   "cell_type": "code",
   "execution_count": 9,
   "metadata": {
    "ExecuteTime": {
     "end_time": "2021-03-24T01:17:05.075370Z",
     "start_time": "2021-03-24T01:17:05.069892Z"
    }
   },
   "outputs": [],
   "source": [
    "# ----------------- 위 작업을 함수로 수정"
   ]
  },
  {
   "cell_type": "code",
   "execution_count": 10,
   "metadata": {
    "ExecuteTime": {
     "end_time": "2021-03-24T01:17:05.775827Z",
     "start_time": "2021-03-24T01:17:05.770655Z"
    }
   },
   "outputs": [],
   "source": [
    "import pandas as pd\n",
    "import numpy as np\n",
    "from urllib.request import urlopen\n",
    "from bs4 import BeautifulSoup"
   ]
  },
  {
   "cell_type": "code",
   "execution_count": 11,
   "metadata": {
    "ExecuteTime": {
     "end_time": "2021-03-24T01:17:07.460570Z",
     "start_time": "2021-03-24T01:17:06.482363Z"
    }
   },
   "outputs": [],
   "source": [
    "url = \"http://jolse.com/category/tones-mists/1019/\"\n",
    "html = urlopen(url)\n",
    "htmls = html.read()\n",
    "bs_obj = BeautifulSoup(htmls, 'html.parser')"
   ]
  },
  {
   "cell_type": "code",
   "execution_count": 12,
   "metadata": {
    "ExecuteTime": {
     "end_time": "2021-03-24T01:17:08.191851Z",
     "start_time": "2021-03-24T01:17:08.146373Z"
    }
   },
   "outputs": [],
   "source": [
    "# 한 페이지에 모든 상품이 들어있는 ui 태그 추출\n",
    "# ui class : prdList grid 04\n",
    "ul = bs_obj.find('ul',{\"class\":'prdList grid4'})\n",
    "\n",
    "# 품목 여러개를 담고 있는 div 태그 모두를 추출\n",
    "# div class:box\n",
    "boxes = ul.findAll('div',{'class' : 'box'})"
   ]
  },
  {
   "cell_type": "code",
   "execution_count": 18,
   "metadata": {
    "ExecuteTime": {
     "end_time": "2021-03-24T01:24:29.052227Z",
     "start_time": "2021-03-24T01:24:29.042616Z"
    }
   },
   "outputs": [],
   "source": [
    "def get_product_info(box) :  \n",
    "    # 품목명을 담고 있는 p태그 추출\n",
    "    p_tag = box.find('p',{'class':'name'})\n",
    "    prod_name = p_tag.find('span').text\n",
    "    # 품목의 원 가격 및 세일 가격\n",
    "    # box 안에 ul 태그는 1개 있음\n",
    "    ul_price = box.find(\"ul\")\n",
    "    # ul_price의 모든 span 태그를 찾은 후 필요한 인덱스만 찾아오면 됨\n",
    "    span_price = ul_price.find_all('span')\n",
    "    # 가격이 들어 있는 1, 4 인덱스의 텍스트를 가져옴 \n",
    "    price = span_price[1].text\n",
    "    # sale_price = span_price[4].text : 세일이 없을 경우 값이 없음 -> 오류 가능성. 예외 처리 필요\n",
    "    try :\n",
    "        sale_price = span_price[4].text\n",
    "    except IndexError :\n",
    "        sale_price = \"no sale price\"\n",
    "    return {'name':prod_name,'price':price,'sale_price':sale_price}"
   ]
  },
  {
   "cell_type": "code",
   "execution_count": 20,
   "metadata": {
    "ExecuteTime": {
     "end_time": "2021-03-24T01:24:37.721779Z",
     "start_time": "2021-03-24T01:24:37.656449Z"
    }
   },
   "outputs": [
    {
     "name": "stdout",
     "output_type": "stream",
     "text": [
      "{'name': 'Isntree Hyaluronic Acid Toner 200ml (Renewal)', 'price': 'USD 19.00', 'sale_price': 'USD 16.15'}\n",
      "{'name': 'ETUDE HOUSE Soon Jung pH 5.5 Relief Toner 180ml', 'price': 'USD 20.26', 'sale_price': 'USD 17.22'}\n",
      "{'name': 'SON&PARK; BEAUTY WATER 340ml', 'price': 'USD 29.40', 'sale_price': 'USD 24.99'}\n",
      "{'name': 'SOME BY MI AHA BHA PHA 30 Days Miracle Toner 150ml', 'price': 'USD 24.00', 'sale_price': 'USD 20.40'}\n",
      "{'name': 'SOME BY MI Galactomyces Pure Vitamin C Glow Toner 200ml', 'price': 'USD 34.00', 'sale_price': 'USD 28.90'}\n",
      "{'name': 'PURITO Centella Green Level Calming Toner 200ml', 'price': 'USD 25.20', 'sale_price': 'USD 21.42'}\n",
      "{'name': 'SON&PARK; Beauty Water 60ml', 'price': 'USD 10.50', 'sale_price': 'USD 8.92'}\n",
      "{'name': 'Pyunkang Yul Essence Toner 100ml', 'price': 'USD 14.50', 'sale_price': 'USD 12.32'}\n",
      "{'name': 'secretKey Hyaluron Aqua Soft Toner 500ml', 'price': 'USD 22.00', 'sale_price': 'USD 17.48'}\n",
      "{'name': 'ROUND LAB 1025 Dokdo Toner 200ml', 'price': 'USD 17.00', 'sale_price': 'USD 14.45'}\n",
      "{'name': 'SOME BY MI Snail Truecica Miracle Repair Toner 135ml', 'price': 'USD 24.00', 'sale_price': 'USD 20.40'}\n",
      "{'name': 'Dr.MYSKIN Vita Galacto Bifida 90 Toner 110ml', 'price': 'USD 15.70', 'sale_price': 'USD 13.34'}\n",
      "{'name': 'COSRX AHA 7 WHITEHEAD POWER LIQUID 100ml', 'price': 'USD 17.81', 'sale_price': 'USD 15.14'}\n",
      "{'name': 'secretKey Fresh Toner 248ml', 'price': 'USD 12.00', 'sale_price': 'USD 9.99'}\n",
      "{'name': 'BLITHE Vital Treatment 8 Nourishing Beans 150ml', 'price': 'USD 42.90', 'sale_price': 'USD 36.46'}\n",
      "{'name': 'COSRX Two In One Poreless Power Liquid 100ml', 'price': 'USD 22.00', 'sale_price': 'USD 18.70'}\n",
      "{'name': 'Pyunkang Yul Essence Toner 200ml', 'price': 'USD 21.90', 'sale_price': 'USD 18.61'}\n",
      "{'name': 'Isntree Clear Skin BHA Toner 200ml', 'price': 'USD 21.96', 'sale_price': 'USD 18.67'}\n",
      "{'name': 'COSRX One Step Moisture Up Pad 70ea', 'price': 'USD 19.50', 'sale_price': 'USD 16.57'}\n",
      "{'name': 'Elizavecca Hell-Pore Clean up AHA Fruit Toner 200ml', 'price': 'USD 14.00', 'sale_price': 'USD 11.90'}\n",
      "{'name': 'BENTON Aloe BHA Skin Toner 200ml', 'price': 'USD 19.00', 'sale_price': 'USD 16.15'}\n",
      "{'name': 'COSRX One Step Original Clear Pad 70ea', 'price': 'USD 19.63', 'sale_price': 'USD 16.69'}\n",
      "{'name': 'NATURE REPUBLIC Soothing & Moisture Aloe Vera 92% Soothing Gel Mist 150ml', 'price': 'USD 12.16', 'sale_price': 'USD 8.50'}\n",
      "{'name': 'COSRX BHA BLACKHEAD POWER LIQUID 100 ML', 'price': 'USD 20.81', 'sale_price': 'USD 17.69'}\n",
      "{'name': 'KEEP COOL Soothe Bamboo Toner 160ml', 'price': 'USD 17.00', 'sale_price': 'USD 14.45'}\n",
      "{'name': 'SKIN&LAB; Medicica Balancing Toner 180ml', 'price': 'USD 21.63', 'sale_price': 'USD 18.39'}\n",
      "{'name': 'MAY ISLAND 7 Days Secret Centella Cica Toner 155ml', 'price': 'USD 16.50', 'sale_price': 'USD 11.53'}\n",
      "{'name': 'TIAM Vita B5 Toner 180ml', 'price': 'USD 18.60', 'sale_price': 'USD 10.99'}\n",
      "{'name': 'BADSKIN Hyaluronic Spa Toner 500ml', 'price': 'USD 26.00', 'sale_price': 'USD 22.10'}\n",
      "{'name': 'TIAM AC Fighting AHA BHA PHA Toner 180ml', 'price': 'USD 18.70', 'sale_price': 'USD 11.99'}\n",
      "{'name': 'Real Barrier Aqua Soothing Toner 200ml', 'price': 'USD 26.40', 'sale_price': 'USD 22.44'}\n",
      "{'name': 'Real Barrier Extreme Essence Toner 190ml', 'price': 'USD 30.00', 'sale_price': 'USD 25.50'}\n",
      "{'name': 'innisfree Jeju Orchid Skin 200ml', 'price': 'USD 27.92', 'sale_price': 'USD 17.59'}\n",
      "{'name': 'ROUND LAB Mugwort Calming Toner 300ml', 'price': 'USD 25.00', 'sale_price': 'USD 21.25'}\n",
      "{'name': 'innisfree Jeju Cherry Blossom Skin 200ml', 'price': 'USD 20.22', 'sale_price': 'USD 15.16'}\n",
      "{'name': 'LANEIGE Cream Skin Refiner Mist 120ml', 'price': 'USD 24.16', 'sale_price': 'USD 20.54'}\n",
      "{'name': 'iUNIK Vitamin Hyaluronic Acid Vitalizing Toner 200ml', 'price': 'USD 21.99', 'sale_price': 'USD 18.69'}\n",
      "{'name': 'G9SKIN White In Milk Toner 300ml', 'price': 'USD 18.00', 'sale_price': 'USD 15.30'}\n",
      "{'name': 'COSRX AC Collection Calming Liquid Mild 125ml', 'price': 'USD 26.00', 'sale_price': 'USD 22.10'}\n",
      "{'name': 'NACIFIC Real Calendula Floral Toner 180ml', 'price': 'USD 26.00', 'sale_price': 'USD 22.10'}\n",
      "{'name': 'CARYOPHY Portulaca Toner 300ml', 'price': 'USD 24.00', 'sale_price': 'USD 20.40'}\n",
      "{'name': 'KEEP COOL Soothe Fixence Mist 60ml', 'price': 'USD 10.00', 'sale_price': 'USD 8.50'}\n",
      "{'name': 'NEOGEN DERMALOGY Real Cica Pad 90ea', 'price': 'USD 17.90', 'sale_price': 'no sale price'}\n",
      "{'name': 'MAMONDE Rose Water Toner 250ml', 'price': 'USD 18.48', 'sale_price': 'USD 15.71'}\n",
      "{'name': 'heimish Bulgarian Rose Mist Serum 55ml', 'price': 'USD 24.00', 'sale_price': 'USD 20.40'}\n",
      "{'name': 'BLITHE Vital Treatment 5 Energy Roots 150ml', 'price': 'USD 37.60', 'sale_price': 'USD 31.96'}\n",
      "{'name': 'Elizavecca Hell-Pore Perfect Wine Sparkling Peeling Pad 30ea', 'price': 'USD 20.00', 'sale_price': 'USD 17.00'}\n",
      "{'name': 'Haruharu WONDER Black Bamboo Mist 150ml', 'price': 'USD 27.00', 'sale_price': 'USD 18.90'}\n",
      "48\n"
     ]
    }
   ],
   "source": [
    "i = 0\n",
    "for box in boxes :\n",
    "    i+=1\n",
    "    product_info = get_product_info(box)\n",
    "    print(product_info)\n",
    "print(i)"
   ]
  },
  {
   "cell_type": "code",
   "execution_count": 43,
   "metadata": {
    "ExecuteTime": {
     "end_time": "2021-03-24T02:06:54.900768Z",
     "start_time": "2021-03-24T02:06:54.836772Z"
    }
   },
   "outputs": [
    {
     "name": "stdout",
     "output_type": "stream",
     "text": [
      "{'name': 'Isntree Hyaluronic Acid Toner 200ml (Renewal)', 'price': 'USD 19.00', 'sale_price': 'USD 16.15'}\n",
      "{'name': 'ETUDE HOUSE Soon Jung pH 5.5 Relief Toner 180ml', 'price': 'USD 20.26', 'sale_price': 'USD 17.22'}\n",
      "{'name': 'SON&PARK; BEAUTY WATER 340ml', 'price': 'USD 29.40', 'sale_price': 'USD 24.99'}\n",
      "{'name': 'SOME BY MI AHA BHA PHA 30 Days Miracle Toner 150ml', 'price': 'USD 24.00', 'sale_price': 'USD 20.40'}\n",
      "{'name': 'SOME BY MI Galactomyces Pure Vitamin C Glow Toner 200ml', 'price': 'USD 34.00', 'sale_price': 'USD 28.90'}\n",
      "{'name': 'PURITO Centella Green Level Calming Toner 200ml', 'price': 'USD 25.20', 'sale_price': 'USD 21.42'}\n",
      "{'name': 'SON&PARK; Beauty Water 60ml', 'price': 'USD 10.50', 'sale_price': 'USD 8.92'}\n",
      "{'name': 'Pyunkang Yul Essence Toner 100ml', 'price': 'USD 14.50', 'sale_price': 'USD 12.32'}\n",
      "{'name': 'secretKey Hyaluron Aqua Soft Toner 500ml', 'price': 'USD 22.00', 'sale_price': 'USD 17.48'}\n",
      "{'name': 'ROUND LAB 1025 Dokdo Toner 200ml', 'price': 'USD 17.00', 'sale_price': 'USD 14.45'}\n",
      "{'name': 'SOME BY MI Snail Truecica Miracle Repair Toner 135ml', 'price': 'USD 24.00', 'sale_price': 'USD 20.40'}\n",
      "{'name': 'Dr.MYSKIN Vita Galacto Bifida 90 Toner 110ml', 'price': 'USD 15.70', 'sale_price': 'USD 13.34'}\n",
      "{'name': 'COSRX AHA 7 WHITEHEAD POWER LIQUID 100ml', 'price': 'USD 17.81', 'sale_price': 'USD 15.14'}\n",
      "{'name': 'secretKey Fresh Toner 248ml', 'price': 'USD 12.00', 'sale_price': 'USD 9.99'}\n",
      "{'name': 'BLITHE Vital Treatment 8 Nourishing Beans 150ml', 'price': 'USD 42.90', 'sale_price': 'USD 36.46'}\n",
      "{'name': 'COSRX Two In One Poreless Power Liquid 100ml', 'price': 'USD 22.00', 'sale_price': 'USD 18.70'}\n",
      "{'name': 'Pyunkang Yul Essence Toner 200ml', 'price': 'USD 21.90', 'sale_price': 'USD 18.61'}\n",
      "{'name': 'Isntree Clear Skin BHA Toner 200ml', 'price': 'USD 21.96', 'sale_price': 'USD 18.67'}\n",
      "{'name': 'COSRX One Step Moisture Up Pad 70ea', 'price': 'USD 19.50', 'sale_price': 'USD 16.57'}\n",
      "{'name': 'Elizavecca Hell-Pore Clean up AHA Fruit Toner 200ml', 'price': 'USD 14.00', 'sale_price': 'USD 11.90'}\n",
      "{'name': 'BENTON Aloe BHA Skin Toner 200ml', 'price': 'USD 19.00', 'sale_price': 'USD 16.15'}\n",
      "{'name': 'COSRX One Step Original Clear Pad 70ea', 'price': 'USD 19.63', 'sale_price': 'USD 16.69'}\n",
      "{'name': 'NATURE REPUBLIC Soothing & Moisture Aloe Vera 92% Soothing Gel Mist 150ml', 'price': 'USD 12.16', 'sale_price': 'USD 8.50'}\n",
      "{'name': 'COSRX BHA BLACKHEAD POWER LIQUID 100 ML', 'price': 'USD 20.81', 'sale_price': 'USD 17.69'}\n",
      "{'name': 'KEEP COOL Soothe Bamboo Toner 160ml', 'price': 'USD 17.00', 'sale_price': 'USD 14.45'}\n",
      "{'name': 'SKIN&LAB; Medicica Balancing Toner 180ml', 'price': 'USD 21.63', 'sale_price': 'USD 18.39'}\n",
      "{'name': 'MAY ISLAND 7 Days Secret Centella Cica Toner 155ml', 'price': 'USD 16.50', 'sale_price': 'USD 11.53'}\n",
      "{'name': 'TIAM Vita B5 Toner 180ml', 'price': 'USD 18.60', 'sale_price': 'USD 10.99'}\n",
      "{'name': 'BADSKIN Hyaluronic Spa Toner 500ml', 'price': 'USD 26.00', 'sale_price': 'USD 22.10'}\n",
      "{'name': 'TIAM AC Fighting AHA BHA PHA Toner 180ml', 'price': 'USD 18.70', 'sale_price': 'USD 11.99'}\n",
      "{'name': 'Real Barrier Aqua Soothing Toner 200ml', 'price': 'USD 26.40', 'sale_price': 'USD 22.44'}\n",
      "{'name': 'Real Barrier Extreme Essence Toner 190ml', 'price': 'USD 30.00', 'sale_price': 'USD 25.50'}\n",
      "{'name': 'innisfree Jeju Orchid Skin 200ml', 'price': 'USD 27.92', 'sale_price': 'USD 17.59'}\n",
      "{'name': 'ROUND LAB Mugwort Calming Toner 300ml', 'price': 'USD 25.00', 'sale_price': 'USD 21.25'}\n",
      "{'name': 'innisfree Jeju Cherry Blossom Skin 200ml', 'price': 'USD 20.22', 'sale_price': 'USD 15.16'}\n",
      "{'name': 'LANEIGE Cream Skin Refiner Mist 120ml', 'price': 'USD 24.16', 'sale_price': 'USD 20.54'}\n",
      "{'name': 'iUNIK Vitamin Hyaluronic Acid Vitalizing Toner 200ml', 'price': 'USD 21.99', 'sale_price': 'USD 18.69'}\n",
      "{'name': 'G9SKIN White In Milk Toner 300ml', 'price': 'USD 18.00', 'sale_price': 'USD 15.30'}\n",
      "{'name': 'COSRX AC Collection Calming Liquid Mild 125ml', 'price': 'USD 26.00', 'sale_price': 'USD 22.10'}\n",
      "{'name': 'NACIFIC Real Calendula Floral Toner 180ml', 'price': 'USD 26.00', 'sale_price': 'USD 22.10'}\n",
      "{'name': 'CARYOPHY Portulaca Toner 300ml', 'price': 'USD 24.00', 'sale_price': 'USD 20.40'}\n",
      "{'name': 'KEEP COOL Soothe Fixence Mist 60ml', 'price': 'USD 10.00', 'sale_price': 'USD 8.50'}\n",
      "{'name': 'NEOGEN DERMALOGY Real Cica Pad 90ea', 'price': 'USD 17.90', 'sale_price': 'no sale price'}\n",
      "{'name': 'MAMONDE Rose Water Toner 250ml', 'price': 'USD 18.48', 'sale_price': 'USD 15.71'}\n",
      "{'name': 'heimish Bulgarian Rose Mist Serum 55ml', 'price': 'USD 24.00', 'sale_price': 'USD 20.40'}\n",
      "{'name': 'BLITHE Vital Treatment 5 Energy Roots 150ml', 'price': 'USD 37.60', 'sale_price': 'USD 31.96'}\n",
      "{'name': 'Elizavecca Hell-Pore Perfect Wine Sparkling Peeling Pad 30ea', 'price': 'USD 20.00', 'sale_price': 'USD 17.00'}\n",
      "{'name': 'Haruharu WONDER Black Bamboo Mist 150ml', 'price': 'USD 27.00', 'sale_price': 'USD 18.90'}\n"
     ]
    }
   ],
   "source": [
    "for box in boxes :\n",
    "    product_info = get_product_info(box)\n",
    "    print(product_info)\n",
    "    # i는 숫자 확인용"
   ]
  },
  {
   "cell_type": "code",
   "execution_count": null,
   "metadata": {},
   "outputs": [],
   "source": [
    "# -----------------여러 페이지 크롤링(함수로 구성)\n",
    "import pandas as pd\n",
    "import numpy as np\n",
    "from urllib.request import urlopen\n",
    "from bs4 import BeautifulSoup"
   ]
  },
  {
   "cell_type": "code",
   "execution_count": 54,
   "metadata": {
    "ExecuteTime": {
     "end_time": "2021-03-24T02:22:27.517230Z",
     "start_time": "2021-03-24T02:22:27.502479Z"
    }
   },
   "outputs": [],
   "source": [
    "def get_product_info(box) :  \n",
    "    # 품목명을 담고 있는 p태그 추출\n",
    "    p_tag = box.find('p',{'class':'name'})\n",
    "    prod_name = p_tag.find('span').text\n",
    "    # 품목의 원 가격 및 세일 가격\n",
    "    # box 안에 ul 태그는 1개 있음\n",
    "    ul_price = box.find(\"ul\")\n",
    "    # ul_price의 모든 span 태그를 찾은 후 필요한 인덱스만 찾아오면 됨\n",
    "    span_price = ul_price.find_all('span')\n",
    "    # 가격이 들어 있는 1, 4 인덱스의 텍스트를 가져옴 \n",
    "    price = span_price[1].text\n",
    "    # sale_price = span_price[4].text : 세일이 없을 경우 값이 없음 -> 오류 가능성. 예외 처리 필요\n",
    "    try :\n",
    "        sale_price = span_price[4].text\n",
    "    except IndexError :\n",
    "        sale_price = \"no sale price\"\n",
    "    # 상품 링크 추출\n",
    "    a_tag = p_tag.find('a')\n",
    "    prod_link=a_tag['href']\n",
    "    return {'name':prod_name,'price':price,'sale_price':sale_price, 'link':prod_link}"
   ]
  },
  {
   "cell_type": "code",
   "execution_count": 55,
   "metadata": {
    "ExecuteTime": {
     "end_time": "2021-03-24T02:22:30.468296Z",
     "start_time": "2021-03-24T02:22:30.455578Z"
    }
   },
   "outputs": [],
   "source": [
    "# 전달받은 url 페이지를 호출하고 호출된 페이지에서 전체 상품목록 태그 추출\n",
    "# get_product_info() 함수 호출 -> 추출된 1개의 상품 정보들을 받아서 리스트로 만들어 반환\n",
    "def get_page_products(url) :\n",
    "    html = urlopen(url)\n",
    "    htmls = html.read()\n",
    "    bs_obj = BeautifulSoup(htmls, 'html.parser')\n",
    "    # 한 페이지에 모든 상품이 들어있는 ul 태그 추출\n",
    "    ul = bs_obj.find('ul',{\"class\":'prdList grid4'})\n",
    "    # 품목 여러개를 담고 있는 div 태그 추출\n",
    "    boxes = ul.findAll('div',{'class' : 'box'}) # 리스트로 반환\n",
    "    \n",
    "    prod_info_list = [get_product_info(box) for box in boxes]\n",
    "    return prod_info_list"
   ]
  },
  {
   "cell_type": "code",
   "execution_count": 56,
   "metadata": {
    "ExecuteTime": {
     "end_time": "2021-03-24T02:22:40.253255Z",
     "start_time": "2021-03-24T02:22:38.401051Z"
    }
   },
   "outputs": [
    {
     "name": "stdout",
     "output_type": "stream",
     "text": [
      "http://jolse.com/category/tones-mists/1019/?page=1\n"
     ]
    }
   ],
   "source": [
    "# main \n",
    "url = \"http://jolse.com/category/tones-mists/1019/?page=\"\n",
    "df_fin=pd.DataFrame()\n",
    "for i in range(1,2) :\n",
    "    url_fin = url+str(i)\n",
    "    print(url_fin)\n",
    "    page_product = get_page_products(url_fin)\n",
    "    df = pd.DataFrame(page_product)\n",
    "    df_fin = pd.concat([df_fin,df],axis=0,ignore_index=True)"
   ]
  },
  {
   "cell_type": "code",
   "execution_count": 57,
   "metadata": {
    "ExecuteTime": {
     "end_time": "2021-03-24T02:22:41.425874Z",
     "start_time": "2021-03-24T02:22:41.381603Z"
    }
   },
   "outputs": [
    {
     "data": {
      "text/html": [
       "<div>\n",
       "<style scoped>\n",
       "    .dataframe tbody tr th:only-of-type {\n",
       "        vertical-align: middle;\n",
       "    }\n",
       "\n",
       "    .dataframe tbody tr th {\n",
       "        vertical-align: top;\n",
       "    }\n",
       "\n",
       "    .dataframe thead th {\n",
       "        text-align: right;\n",
       "    }\n",
       "</style>\n",
       "<table border=\"1\" class=\"dataframe\">\n",
       "  <thead>\n",
       "    <tr style=\"text-align: right;\">\n",
       "      <th></th>\n",
       "      <th>name</th>\n",
       "      <th>price</th>\n",
       "      <th>sale_price</th>\n",
       "      <th>link</th>\n",
       "    </tr>\n",
       "  </thead>\n",
       "  <tbody>\n",
       "    <tr>\n",
       "      <th>0</th>\n",
       "      <td>Isntree Hyaluronic Acid Toner 200ml (Renewal)</td>\n",
       "      <td>USD 19.00</td>\n",
       "      <td>USD 16.15</td>\n",
       "      <td>/product/detail.html?product_no=22560&amp;cate_no=...</td>\n",
       "    </tr>\n",
       "    <tr>\n",
       "      <th>1</th>\n",
       "      <td>ETUDE HOUSE Soon Jung pH 5.5 Relief Toner 180ml</td>\n",
       "      <td>USD 20.26</td>\n",
       "      <td>USD 17.22</td>\n",
       "      <td>/product/detail.html?product_no=11647&amp;cate_no=...</td>\n",
       "    </tr>\n",
       "    <tr>\n",
       "      <th>2</th>\n",
       "      <td>SON&amp;PARK; BEAUTY WATER 340ml</td>\n",
       "      <td>USD 29.40</td>\n",
       "      <td>USD 24.99</td>\n",
       "      <td>/product/detail.html?product_no=10953&amp;cate_no=...</td>\n",
       "    </tr>\n",
       "    <tr>\n",
       "      <th>3</th>\n",
       "      <td>SOME BY MI AHA BHA PHA 30 Days Miracle Toner 1...</td>\n",
       "      <td>USD 24.00</td>\n",
       "      <td>USD 20.40</td>\n",
       "      <td>/product/detail.html?product_no=16241&amp;cate_no=...</td>\n",
       "    </tr>\n",
       "    <tr>\n",
       "      <th>4</th>\n",
       "      <td>SOME BY MI Galactomyces Pure Vitamin C Glow To...</td>\n",
       "      <td>USD 34.00</td>\n",
       "      <td>USD 28.90</td>\n",
       "      <td>/product/detail.html?product_no=19667&amp;cate_no=...</td>\n",
       "    </tr>\n",
       "  </tbody>\n",
       "</table>\n",
       "</div>"
      ],
      "text/plain": [
       "                                                name      price sale_price  \\\n",
       "0      Isntree Hyaluronic Acid Toner 200ml (Renewal)  USD 19.00  USD 16.15   \n",
       "1    ETUDE HOUSE Soon Jung pH 5.5 Relief Toner 180ml  USD 20.26  USD 17.22   \n",
       "2                       SON&PARK; BEAUTY WATER 340ml  USD 29.40  USD 24.99   \n",
       "3  SOME BY MI AHA BHA PHA 30 Days Miracle Toner 1...  USD 24.00  USD 20.40   \n",
       "4  SOME BY MI Galactomyces Pure Vitamin C Glow To...  USD 34.00  USD 28.90   \n",
       "\n",
       "                                                link  \n",
       "0  /product/detail.html?product_no=22560&cate_no=...  \n",
       "1  /product/detail.html?product_no=11647&cate_no=...  \n",
       "2  /product/detail.html?product_no=10953&cate_no=...  \n",
       "3  /product/detail.html?product_no=16241&cate_no=...  \n",
       "4  /product/detail.html?product_no=19667&cate_no=...  "
      ]
     },
     "execution_count": 57,
     "metadata": {},
     "output_type": "execute_result"
    },
    {
     "data": {
      "text/html": [
       "<div>\n",
       "<style scoped>\n",
       "    .dataframe tbody tr th:only-of-type {\n",
       "        vertical-align: middle;\n",
       "    }\n",
       "\n",
       "    .dataframe tbody tr th {\n",
       "        vertical-align: top;\n",
       "    }\n",
       "\n",
       "    .dataframe thead th {\n",
       "        text-align: right;\n",
       "    }\n",
       "</style>\n",
       "<table border=\"1\" class=\"dataframe\">\n",
       "  <thead>\n",
       "    <tr style=\"text-align: right;\">\n",
       "      <th></th>\n",
       "      <th>name</th>\n",
       "      <th>price</th>\n",
       "      <th>sale_price</th>\n",
       "      <th>link</th>\n",
       "    </tr>\n",
       "  </thead>\n",
       "  <tbody>\n",
       "    <tr>\n",
       "      <th>43</th>\n",
       "      <td>MAMONDE Rose Water Toner 250ml</td>\n",
       "      <td>USD 18.48</td>\n",
       "      <td>USD 15.71</td>\n",
       "      <td>/product/detail.html?product_no=16002&amp;cate_no=...</td>\n",
       "    </tr>\n",
       "    <tr>\n",
       "      <th>44</th>\n",
       "      <td>heimish Bulgarian Rose Mist Serum 55ml</td>\n",
       "      <td>USD 24.00</td>\n",
       "      <td>USD 20.40</td>\n",
       "      <td>/product/detail.html?product_no=15273&amp;cate_no=...</td>\n",
       "    </tr>\n",
       "    <tr>\n",
       "      <th>45</th>\n",
       "      <td>BLITHE Vital Treatment 5 Energy Roots 150ml</td>\n",
       "      <td>USD 37.60</td>\n",
       "      <td>USD 31.96</td>\n",
       "      <td>/product/detail.html?product_no=15117&amp;cate_no=...</td>\n",
       "    </tr>\n",
       "    <tr>\n",
       "      <th>46</th>\n",
       "      <td>Elizavecca Hell-Pore Perfect Wine Sparkling Pe...</td>\n",
       "      <td>USD 20.00</td>\n",
       "      <td>USD 17.00</td>\n",
       "      <td>/product/detail.html?product_no=15000&amp;cate_no=...</td>\n",
       "    </tr>\n",
       "    <tr>\n",
       "      <th>47</th>\n",
       "      <td>Haruharu WONDER Black Bamboo Mist 150ml</td>\n",
       "      <td>USD 27.00</td>\n",
       "      <td>USD 18.90</td>\n",
       "      <td>/product/detail.html?product_no=37810&amp;cate_no=...</td>\n",
       "    </tr>\n",
       "  </tbody>\n",
       "</table>\n",
       "</div>"
      ],
      "text/plain": [
       "                                                 name      price sale_price  \\\n",
       "43                     MAMONDE Rose Water Toner 250ml  USD 18.48  USD 15.71   \n",
       "44             heimish Bulgarian Rose Mist Serum 55ml  USD 24.00  USD 20.40   \n",
       "45        BLITHE Vital Treatment 5 Energy Roots 150ml  USD 37.60  USD 31.96   \n",
       "46  Elizavecca Hell-Pore Perfect Wine Sparkling Pe...  USD 20.00  USD 17.00   \n",
       "47            Haruharu WONDER Black Bamboo Mist 150ml  USD 27.00  USD 18.90   \n",
       "\n",
       "                                                 link  \n",
       "43  /product/detail.html?product_no=16002&cate_no=...  \n",
       "44  /product/detail.html?product_no=15273&cate_no=...  \n",
       "45  /product/detail.html?product_no=15117&cate_no=...  \n",
       "46  /product/detail.html?product_no=15000&cate_no=...  \n",
       "47  /product/detail.html?product_no=37810&cate_no=...  "
      ]
     },
     "execution_count": 57,
     "metadata": {},
     "output_type": "execute_result"
    }
   ],
   "source": [
    "df_fin.head()\n",
    "df_fin.tail()"
   ]
  },
  {
   "cell_type": "code",
   "execution_count": null,
   "metadata": {},
   "outputs": [],
   "source": [
    "# 1) 품목 상세보기 링크도 추가해서 크롤링\n",
    "# 2) 사이트내에서 전체페이지를 확인할 수 있는 태그가 있는지 검사하고 해당 태그에서 총 페이지를 추출한 후\n",
    "#    전체 페이지를 크롤링 할 수 있는 프로그램으로 변경"
   ]
  },
  {
   "cell_type": "code",
   "execution_count": null,
   "metadata": {},
   "outputs": [],
   "source": [
    "# last -\n",
    "int(bs_obj.find(\"p\",{'class':'first'}))"
   ]
  },
  {
   "cell_type": "code",
   "execution_count": null,
   "metadata": {},
   "outputs": [],
   "source": []
  },
  {
   "cell_type": "code",
   "execution_count": null,
   "metadata": {},
   "outputs": [],
   "source": []
  }
 ],
 "metadata": {
  "kernelspec": {
   "display_name": "Python 3",
   "language": "python",
   "name": "python3"
  },
  "language_info": {
   "codemirror_mode": {
    "name": "ipython",
    "version": 3
   },
   "file_extension": ".py",
   "mimetype": "text/x-python",
   "name": "python",
   "nbconvert_exporter": "python",
   "pygments_lexer": "ipython3",
   "version": "3.8.5"
  },
  "toc": {
   "base_numbering": 1,
   "nav_menu": {},
   "number_sections": true,
   "sideBar": true,
   "skip_h1_title": false,
   "title_cell": "Table of Contents",
   "title_sidebar": "Contents",
   "toc_cell": false,
   "toc_position": {},
   "toc_section_display": true,
   "toc_window_display": false
  },
  "varInspector": {
   "cols": {
    "lenName": 16,
    "lenType": 16,
    "lenVar": 40
   },
   "kernels_config": {
    "python": {
     "delete_cmd_postfix": "",
     "delete_cmd_prefix": "del ",
     "library": "var_list.py",
     "varRefreshCmd": "print(var_dic_list())"
    },
    "r": {
     "delete_cmd_postfix": ") ",
     "delete_cmd_prefix": "rm(",
     "library": "var_list.r",
     "varRefreshCmd": "cat(var_dic_list()) "
    }
   },
   "types_to_exclude": [
    "module",
    "function",
    "builtin_function_or_method",
    "instance",
    "_Feature"
   ],
   "window_display": false
  }
 },
 "nbformat": 4,
 "nbformat_minor": 4
}
