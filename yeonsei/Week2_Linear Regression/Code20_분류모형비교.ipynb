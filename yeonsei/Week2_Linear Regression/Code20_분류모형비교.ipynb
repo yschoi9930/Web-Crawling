{
 "cells": [
  {
   "cell_type": "markdown",
   "metadata": {},
   "source": [
    "# Loan 데이터 분류모형 예측성능 비교"
   ]
  },
  {
   "cell_type": "code",
   "execution_count": null,
   "metadata": {},
   "outputs": [],
   "source": [
    "import pandas as pd\n",
    "import numpy as np\n",
    "import matplotlib.pyplot as plt\n",
    "import seaborn as sns"
   ]
  },
  {
   "cell_type": "code",
   "execution_count": null,
   "metadata": {},
   "outputs": [],
   "source": [
    "df = pd.read_csv('loan.csv')"
   ]
  },
  {
   "cell_type": "code",
   "execution_count": null,
   "metadata": {},
   "outputs": [],
   "source": [
    "df['job'] = df['job'].replace({'Office':0, 'ProfExe':1, 'Other':2, 'Mgr':3, 'Self':4, 'Sales':5})"
   ]
  },
  {
   "cell_type": "code",
   "execution_count": null,
   "metadata": {},
   "outputs": [],
   "source": [
    "X = df.drop(['y'], axis=1)\n",
    "y = df['y']\n",
    "xname = X.columns\n",
    "yname = ['Normal','Bad']"
   ]
  },
  {
   "cell_type": "markdown",
   "metadata": {},
   "source": [
    "## Train/Test 데이터 분할"
   ]
  },
  {
   "cell_type": "code",
   "execution_count": null,
   "metadata": {},
   "outputs": [],
   "source": [
    "from sklearn.model_selection import train_test_split\n",
    "X_train, X_test, y_train, y_test = train_test_split(X, y, test_size=0.4, random_state=0, stratify=y)"
   ]
  },
  {
   "cell_type": "markdown",
   "metadata": {},
   "source": [
    "## 로지스틱 회귀분석"
   ]
  },
  {
   "cell_type": "code",
   "execution_count": null,
   "metadata": {},
   "outputs": [],
   "source": [
    "from sklearn.linear_model import LogisticRegression\n",
    "m1 = LogisticRegression(random_state=0, max_iter = 1000)\n",
    "m1.fit(X_train, y_train)\n",
    "m1_prob = m1.predict_proba(X_test)\n",
    "pd.DataFrame(m1_prob)"
   ]
  },
  {
   "cell_type": "markdown",
   "metadata": {},
   "source": [
    "### cut-off=0.1"
   ]
  },
  {
   "cell_type": "code",
   "execution_count": null,
   "metadata": {},
   "outputs": [],
   "source": [
    "threshold = 0.1\n",
    "m1_pred = (m1_prob[:,1]>threshold).astype(int)\n",
    "m1_pred"
   ]
  },
  {
   "cell_type": "code",
   "execution_count": null,
   "metadata": {},
   "outputs": [],
   "source": [
    "from sklearn.metrics import confusion_matrix\n",
    "m1_cm = confusion_matrix(y_test, m1_pred)\n",
    "pd.DataFrame(m1_cm)"
   ]
  },
  {
   "cell_type": "code",
   "execution_count": null,
   "metadata": {},
   "outputs": [],
   "source": [
    "# 정확도\n",
    "accu1 = np.trace(m1_cm)/len(y_test)\n",
    "print('정확도    :', np.round(accu1,2))\n",
    "\n",
    "# 특이도, 민감도\n",
    "spec1, sens1 = np.diag(m1_cm) / np.sum(m1_cm, axis = 1)\n",
    "print('특이도    :', np.round(spec1,2))\n",
    "print('민감도    :', np.round(sens1,2))\n",
    "\n",
    "# 정밀도\n",
    "prec1 = m1_cm[1,1] / np.sum(m1_cm, axis=0)[1]\n",
    "print('정밀도    :', np.round(prec1,2))\n",
    "\n",
    "# F1-score\n",
    "f1_1 = 2*prec1*sens1 / (prec1+sens1)\n",
    "print('F1-score :', np.round(f1_1,2))"
   ]
  },
  {
   "cell_type": "markdown",
   "metadata": {},
   "source": [
    "### cut-off=0.3"
   ]
  },
  {
   "cell_type": "code",
   "execution_count": null,
   "metadata": {},
   "outputs": [],
   "source": [
    "threshold = 0.3\n",
    "m1_pred = (m1_prob[:,1]>threshold).astype(int)\n",
    "m1_pred"
   ]
  },
  {
   "cell_type": "code",
   "execution_count": null,
   "metadata": {},
   "outputs": [],
   "source": [
    "from sklearn.metrics import confusion_matrix\n",
    "m1_cm = confusion_matrix(y_test, m1_pred)\n",
    "pd.DataFrame(m1_cm)"
   ]
  },
  {
   "cell_type": "code",
   "execution_count": null,
   "metadata": {},
   "outputs": [],
   "source": [
    "# 정확도\n",
    "accu1 = np.trace(m1_cm)/len(y_test)\n",
    "print('정확도 :', np.round(accu1,2))\n",
    "\n",
    "# 특이도, 민감도\n",
    "spec1, sens1 = np.diag(m1_cm) / np.sum(m1_cm, axis = 1)\n",
    "print('특이도 :', np.round(spec1,2))\n",
    "print('민감도 :', np.round(sens1,2))\n",
    "\n",
    "# 정밀도\n",
    "prec1 = m1_cm[1,1] / np.sum(m1_cm, axis=0)[1]\n",
    "print('정밀도 :', np.round(prec1,2))\n",
    "\n",
    "# F1-score\n",
    "f1_1 = 2*prec1*sens1 / (prec1+sens1)\n",
    "print('F1-score :', np.round(f1_1,2))"
   ]
  },
  {
   "cell_type": "markdown",
   "metadata": {},
   "source": [
    "### cut-off=0.5"
   ]
  },
  {
   "cell_type": "code",
   "execution_count": null,
   "metadata": {},
   "outputs": [],
   "source": [
    "threshold = 0.5\n",
    "m1_pred = (m1_prob[:,1]>threshold).astype(int)\n",
    "m1_pred"
   ]
  },
  {
   "cell_type": "code",
   "execution_count": null,
   "metadata": {},
   "outputs": [],
   "source": [
    "from sklearn.metrics import confusion_matrix\n",
    "m1_cm = confusion_matrix(y_test, m1_pred)\n",
    "pd.DataFrame(m1_cm)"
   ]
  },
  {
   "cell_type": "code",
   "execution_count": null,
   "metadata": {},
   "outputs": [],
   "source": [
    "# 정확도\n",
    "accu1 = np.trace(m1_cm)/len(y_test)\n",
    "print('정확도 :', np.round(accu1,2))\n",
    "\n",
    "# 특이도, 민감도\n",
    "spec1, sens1 = np.diag(m1_cm) / np.sum(m1_cm, axis = 1)\n",
    "print('특이도 :', np.round(spec1,2))\n",
    "print('민감도 :', np.round(sens1,2))\n",
    "\n",
    "# 정밀도\n",
    "prec1 = m1_cm[1,1] / np.sum(m1_cm, axis=0)[1]\n",
    "print('정밀도 :', np.round(prec1,2))\n",
    "\n",
    "# F1-score\n",
    "f1_1 = 2*prec1*sens1 / (prec1+sens1)\n",
    "print('F1-score :', np.round(f1_1,2))"
   ]
  },
  {
   "cell_type": "code",
   "execution_count": null,
   "metadata": {},
   "outputs": [],
   "source": []
  },
  {
   "cell_type": "code",
   "execution_count": null,
   "metadata": {},
   "outputs": [],
   "source": []
  }
 ],
 "metadata": {
  "kernelspec": {
   "display_name": "Python 3",
   "language": "python",
   "name": "python3"
  },
  "language_info": {
   "codemirror_mode": {
    "name": "ipython",
    "version": 3
   },
   "file_extension": ".py",
   "mimetype": "text/x-python",
   "name": "python",
   "nbconvert_exporter": "python",
   "pygments_lexer": "ipython3",
   "version": "3.8.5"
  },
  "toc": {
   "base_numbering": 1,
   "nav_menu": {},
   "number_sections": true,
   "sideBar": true,
   "skip_h1_title": false,
   "title_cell": "Table of Contents",
   "title_sidebar": "Contents",
   "toc_cell": false,
   "toc_position": {},
   "toc_section_display": true,
   "toc_window_display": false
  },
  "varInspector": {
   "cols": {
    "lenName": 16,
    "lenType": 16,
    "lenVar": 40
   },
   "kernels_config": {
    "python": {
     "delete_cmd_postfix": "",
     "delete_cmd_prefix": "del ",
     "library": "var_list.py",
     "varRefreshCmd": "print(var_dic_list())"
    },
    "r": {
     "delete_cmd_postfix": ") ",
     "delete_cmd_prefix": "rm(",
     "library": "var_list.r",
     "varRefreshCmd": "cat(var_dic_list()) "
    }
   },
   "types_to_exclude": [
    "module",
    "function",
    "builtin_function_or_method",
    "instance",
    "_Feature"
   ],
   "window_display": false
  }
 },
 "nbformat": 4,
 "nbformat_minor": 4
}
