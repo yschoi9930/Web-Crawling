{
 "cells": [
  {
   "cell_type": "markdown",
   "metadata": {},
   "source": [
    "# 회귀모형 예측성능 비교"
   ]
  },
  {
   "cell_type": "code",
   "execution_count": 1,
   "metadata": {
    "ExecuteTime": {
     "end_time": "2021-03-22T15:27:06.853533Z",
     "start_time": "2021-03-22T15:27:05.123954Z"
    }
   },
   "outputs": [],
   "source": [
    "import pandas as pd\n",
    "import numpy as np\n",
    "import matplotlib.pyplot as plt\n",
    "import seaborn as sns"
   ]
  },
  {
   "cell_type": "code",
   "execution_count": 2,
   "metadata": {
    "ExecuteTime": {
     "end_time": "2021-03-22T15:27:08.494264Z",
     "start_time": "2021-03-22T15:27:08.448475Z"
    }
   },
   "outputs": [],
   "source": [
    "df=pd.read_csv('copdcat.csv' ,header=0)\n",
    "X=df.drop([\"CATScore\"],axis=1)\n",
    "y=df[\"CATScore\"]"
   ]
  },
  {
   "cell_type": "markdown",
   "metadata": {},
   "source": [
    "## 데이터 구분 : 학습 데이터와 검증데이터"
   ]
  },
  {
   "cell_type": "code",
   "execution_count": 3,
   "metadata": {
    "ExecuteTime": {
     "end_time": "2021-03-22T15:27:19.197157Z",
     "start_time": "2021-03-22T15:27:18.423931Z"
    }
   },
   "outputs": [],
   "source": [
    "from sklearn.model_selection import train_test_split\n",
    "X_train, X_test, y_train, y_test = train_test_split(X, y, test_size=0.5, random_state=0)"
   ]
  },
  {
   "cell_type": "markdown",
   "metadata": {},
   "source": [
    "### 선형 회귀분석"
   ]
  },
  {
   "cell_type": "code",
   "execution_count": 4,
   "metadata": {
    "ExecuteTime": {
     "end_time": "2021-03-22T15:27:46.308524Z",
     "start_time": "2021-03-22T15:27:46.172669Z"
    }
   },
   "outputs": [],
   "source": [
    "from sklearn.linear_model import LinearRegression\n",
    "r_linear = LinearRegression(fit_intercept = True)\n",
    "r_linear.fit(X_train ,y_train)\n",
    "linear_pred= r_linear.predict(X_test)"
   ]
  },
  {
   "cell_type": "markdown",
   "metadata": {},
   "source": [
    "### Test 데이터 실제 y값과 예측 y값"
   ]
  },
  {
   "cell_type": "code",
   "execution_count": null,
   "metadata": {},
   "outputs": [],
   "source": [
    "sns.scatterplot(y=linear_pred, x=y_test, alpha=0.5)\n",
    "plt.plot([0, 30], [0, 30], color='red')\n",
    "plt.xlabel(\"Predicted y values\")\n",
    "plt.ylabel(\"Actual y values\")\n",
    "plt.show()"
   ]
  },
  {
   "cell_type": "markdown",
   "metadata": {},
   "source": [
    "### Alpha=0.0, min_impurity_decrease=0.007,  min_samples_split=2  트리"
   ]
  },
  {
   "cell_type": "code",
   "execution_count": null,
   "metadata": {},
   "outputs": [],
   "source": [
    "from sklearn.tree import DecisionTreeRegressor\n",
    "r_tree = DecisionTreeRegressor(ccp_alpha=0.0,min_impurity_decrease=0.007,min_samples_split=2,random_state=0)\n",
    "r_tree.fit(X_train, y_train)\n",
    "tree_pred= r_tree.predict(X_test)"
   ]
  },
  {
   "cell_type": "markdown",
   "metadata": {},
   "source": [
    "### Test 데이터 실제 y값과 예측 y값"
   ]
  },
  {
   "cell_type": "code",
   "execution_count": null,
   "metadata": {},
   "outputs": [],
   "source": [
    "sns.scatterplot(y=tree_pred, x=y_test, alpha=0.5)\n",
    "plt.plot([0, 30], [0, 30], color='red')\n",
    "plt.xlabel(\"Predicted y values\")\n",
    "plt.ylabel(\"Actual y values\")\n",
    "plt.show()"
   ]
  },
  {
   "cell_type": "markdown",
   "metadata": {},
   "source": [
    "## 예측 $R^2$"
   ]
  },
  {
   "cell_type": "code",
   "execution_count": null,
   "metadata": {},
   "outputs": [],
   "source": [
    "from sklearn.metrics import r2_score\n",
    "print('linear regression :',np.round(r2_score(y_test, linear_pred),3))\n",
    "print('regression tree :',np.round(r2_score(y_test, tree_pred),3))"
   ]
  },
  {
   "cell_type": "markdown",
   "metadata": {},
   "source": [
    "## MAE"
   ]
  },
  {
   "cell_type": "code",
   "execution_count": null,
   "metadata": {},
   "outputs": [],
   "source": [
    "from sklearn.metrics import mean_absolute_error\n",
    "print('linear regression :',np.round(mean_absolute_error(y_test, linear_pred),3))\n",
    "print('regression tree :',np.round(mean_absolute_error(y_test, tree_pred),3))"
   ]
  },
  {
   "cell_type": "markdown",
   "metadata": {},
   "source": [
    "## MAPE"
   ]
  },
  {
   "cell_type": "code",
   "execution_count": null,
   "metadata": {},
   "outputs": [],
   "source": [
    "from sklearn.metrics import mean_absolute_percentage_error\n",
    "print('linear regression :',np.round(mean_absolute_percentage_error(y_test, linear_pred),3))\n",
    "print('regression tree :',np.round(mean_absolute_percentage_error(y_test, tree_pred),3))"
   ]
  },
  {
   "cell_type": "markdown",
   "metadata": {},
   "source": [
    "## MSE"
   ]
  },
  {
   "cell_type": "code",
   "execution_count": null,
   "metadata": {},
   "outputs": [],
   "source": [
    "from sklearn.metrics import mean_squared_error\n",
    "print('linear regression :',np.round(mean_squared_error(y_test, linear_pred),3))\n",
    "print('regression tree :',np.round(mean_squared_error(y_test, tree_pred),3))"
   ]
  },
  {
   "cell_type": "markdown",
   "metadata": {},
   "source": [
    "# 모든 회귀모형 예측력 비교"
   ]
  },
  {
   "cell_type": "markdown",
   "metadata": {},
   "source": [
    "### 신경망분석"
   ]
  },
  {
   "cell_type": "code",
   "execution_count": null,
   "metadata": {},
   "outputs": [],
   "source": [
    "from sklearn.neural_network import MLPRegressor\n",
    "from sklearn.preprocessing import StandardScaler\n",
    "scaler = StandardScaler()\n",
    "X_train_scaled = scaler.fit_transform(X_train)\n",
    "X_test_scaled = scaler.transform(X_test)\n",
    "r_nn = MLPRegressor(hidden_layer_sizes=(5), random_state=0, max_iter = 1000)\n",
    "r_nn.fit(X_train_scaled, y_train)"
   ]
  },
  {
   "cell_type": "markdown",
   "metadata": {},
   "source": [
    "### SVR"
   ]
  },
  {
   "cell_type": "code",
   "execution_count": null,
   "metadata": {},
   "outputs": [],
   "source": [
    "from sklearn.svm import SVR, SVC\n",
    "r_svr = SVR(kernel='rbf') \n",
    "r_svr.fit(X_train_scaled, y_train)"
   ]
  },
  {
   "cell_type": "markdown",
   "metadata": {},
   "source": [
    "### 랜덤포레스트"
   ]
  },
  {
   "cell_type": "code",
   "execution_count": null,
   "metadata": {},
   "outputs": [],
   "source": [
    "from sklearn.ensemble import RandomForestRegressor\n",
    "r_rf = RandomForestRegressor(random_state=0)\n",
    "r_rf.fit(X_train,y_train)"
   ]
  },
  {
   "cell_type": "markdown",
   "metadata": {},
   "source": [
    "## 예측 $R^2$"
   ]
  },
  {
   "cell_type": "code",
   "execution_count": null,
   "metadata": {},
   "outputs": [],
   "source": [
    "from sklearn.metrics import r2_score as r2\n",
    "print('Linear Regression:',np.round(r2(y_test,r_linear.predict(X_test)),2))\n",
    "print('Pruned Tree      :',np.round(r2(y_test,r_tree.predict(X_test)),2))\n",
    "print('Neural Nerwork   :',np.round(r2(y_test,r_nn.predict(X_test_scaled)),2))\n",
    "print('SV Regression    :',np.round(r2(y_test,r_svr.predict(X_test_scaled)),2))\n",
    "print('Random Forest    :',np.round(r2(y_test,r_rf.predict(X_test)),2))"
   ]
  },
  {
   "cell_type": "markdown",
   "metadata": {},
   "source": [
    "## MAE"
   ]
  },
  {
   "cell_type": "code",
   "execution_count": null,
   "metadata": {},
   "outputs": [],
   "source": [
    "from sklearn.metrics import mean_absolute_error as mae\n",
    "print('Linear Regression:',np.round(mae(y_test,r_linear.predict(X_test)),2))\n",
    "print('Pruned Tree      :',np.round(mae(y_test,r_tree.predict(X_test)),2))\n",
    "print('Neural Nerwork   :',np.round(mae(y_test,r_nn.predict(X_test_scaled)),2))\n",
    "print('SV Regression    :',np.round(mae(y_test,r_svr.predict(X_test_scaled)),2))\n",
    "print('Random Forest    :',np.round(mae(y_test,r_rf.predict(X_test)),2))"
   ]
  },
  {
   "cell_type": "markdown",
   "metadata": {},
   "source": [
    "## MAPE"
   ]
  },
  {
   "cell_type": "code",
   "execution_count": null,
   "metadata": {},
   "outputs": [],
   "source": [
    "from sklearn.metrics import mean_absolute_percentage_error as mape\n",
    "print('Linear Regression:',np.round(mape(y_test,r_linear.predict(X_test)),2))\n",
    "print('Pruned Tree      :',np.round(mape(y_test,r_tree.predict(X_test)),2))\n",
    "print('Neural Nerwork   :',np.round(mape(y_test,r_nn.predict(X_test_scaled)),2))\n",
    "print('SV Regression    :',np.round(mape(y_test,r_svr.predict(X_test_scaled)),2))\n",
    "print('Random Forest    :',np.round(mape(y_test,r_rf.predict(X_test)),2))"
   ]
  },
  {
   "cell_type": "markdown",
   "metadata": {},
   "source": [
    "## MSE"
   ]
  },
  {
   "cell_type": "code",
   "execution_count": null,
   "metadata": {},
   "outputs": [],
   "source": [
    "from sklearn.metrics import mean_squared_error as mse\n",
    "print('Linear Regression:',np.round(mse(y_test,r_linear.predict(X_test)),2))\n",
    "print('Pruned Tree      :',np.round(mse(y_test,r_tree.predict(X_test)),2))\n",
    "print('Neural Nerwork   :',np.round(mse(y_test,r_nn.predict(X_test_scaled)),2))\n",
    "print('SV Regression    :',np.round(mse(y_test,r_svr.predict(X_test_scaled)),2))\n",
    "print('Random Forest    :',np.round(mse(y_test,r_rf.predict(X_test)),2))"
   ]
  },
  {
   "cell_type": "code",
   "execution_count": null,
   "metadata": {},
   "outputs": [],
   "source": []
  }
 ],
 "metadata": {
  "kernelspec": {
   "display_name": "Python 3",
   "language": "python",
   "name": "python3"
  },
  "language_info": {
   "codemirror_mode": {
    "name": "ipython",
    "version": 3
   },
   "file_extension": ".py",
   "mimetype": "text/x-python",
   "name": "python",
   "nbconvert_exporter": "python",
   "pygments_lexer": "ipython3",
   "version": "3.8.5"
  },
  "toc": {
   "base_numbering": 1,
   "nav_menu": {},
   "number_sections": true,
   "sideBar": true,
   "skip_h1_title": false,
   "title_cell": "Table of Contents",
   "title_sidebar": "Contents",
   "toc_cell": false,
   "toc_position": {},
   "toc_section_display": true,
   "toc_window_display": false
  },
  "varInspector": {
   "cols": {
    "lenName": 16,
    "lenType": 16,
    "lenVar": 40
   },
   "kernels_config": {
    "python": {
     "delete_cmd_postfix": "",
     "delete_cmd_prefix": "del ",
     "library": "var_list.py",
     "varRefreshCmd": "print(var_dic_list())"
    },
    "r": {
     "delete_cmd_postfix": ") ",
     "delete_cmd_prefix": "rm(",
     "library": "var_list.r",
     "varRefreshCmd": "cat(var_dic_list()) "
    }
   },
   "types_to_exclude": [
    "module",
    "function",
    "builtin_function_or_method",
    "instance",
    "_Feature"
   ],
   "window_display": false
  }
 },
 "nbformat": 4,
 "nbformat_minor": 4
}
