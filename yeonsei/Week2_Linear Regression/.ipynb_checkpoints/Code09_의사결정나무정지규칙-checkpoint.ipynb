{
 "cells": [
  {
   "cell_type": "markdown",
   "metadata": {},
   "source": [
    "# Loan 데이터 분류나무"
   ]
  },
  {
   "cell_type": "code",
   "execution_count": 1,
   "metadata": {
    "ExecuteTime": {
     "end_time": "2021-03-21T05:40:45.965301Z",
     "start_time": "2021-03-21T05:40:43.148916Z"
    }
   },
   "outputs": [],
   "source": [
    "import pandas as pd\n",
    "import numpy as np\n",
    "import matplotlib.pyplot as plt\n",
    "import seaborn as sns"
   ]
  },
  {
   "cell_type": "code",
   "execution_count": 2,
   "metadata": {
    "ExecuteTime": {
     "end_time": "2021-03-21T05:40:46.013401Z",
     "start_time": "2021-03-21T05:40:45.976926Z"
    }
   },
   "outputs": [],
   "source": [
    "df = pd.read_csv('loan.csv')"
   ]
  },
  {
   "cell_type": "code",
   "execution_count": 3,
   "metadata": {
    "ExecuteTime": {
     "end_time": "2021-03-21T05:40:47.615851Z",
     "start_time": "2021-03-21T05:40:47.596634Z"
    }
   },
   "outputs": [
    {
     "data": {
      "text/plain": [
       "0"
      ]
     },
     "execution_count": 3,
     "metadata": {},
     "output_type": "execute_result"
    }
   ],
   "source": [
    "df.isnull().sum().sum()"
   ]
  },
  {
   "cell_type": "code",
   "execution_count": 4,
   "metadata": {
    "ExecuteTime": {
     "end_time": "2021-03-21T05:40:50.728433Z",
     "start_time": "2021-03-21T05:40:50.684225Z"
    }
   },
   "outputs": [
    {
     "data": {
      "text/html": [
       "<div>\n",
       "<style scoped>\n",
       "    .dataframe tbody tr th:only-of-type {\n",
       "        vertical-align: middle;\n",
       "    }\n",
       "\n",
       "    .dataframe tbody tr th {\n",
       "        vertical-align: top;\n",
       "    }\n",
       "\n",
       "    .dataframe thead th {\n",
       "        text-align: right;\n",
       "    }\n",
       "</style>\n",
       "<table border=\"1\" class=\"dataframe\">\n",
       "  <thead>\n",
       "    <tr style=\"text-align: right;\">\n",
       "      <th></th>\n",
       "      <th>y</th>\n",
       "      <th>loan</th>\n",
       "      <th>mortgage</th>\n",
       "      <th>workyear</th>\n",
       "      <th>delinquency</th>\n",
       "      <th>period</th>\n",
       "      <th>inquire</th>\n",
       "      <th>transact</th>\n",
       "      <th>DTI</th>\n",
       "    </tr>\n",
       "    <tr>\n",
       "      <th>job</th>\n",
       "      <th></th>\n",
       "      <th></th>\n",
       "      <th></th>\n",
       "      <th></th>\n",
       "      <th></th>\n",
       "      <th></th>\n",
       "      <th></th>\n",
       "      <th></th>\n",
       "      <th></th>\n",
       "    </tr>\n",
       "  </thead>\n",
       "  <tbody>\n",
       "    <tr>\n",
       "      <th>0</th>\n",
       "      <td>0.180909</td>\n",
       "      <td>18104.440000</td>\n",
       "      <td>67958.616364</td>\n",
       "      <td>8.399091</td>\n",
       "      <td>0.436364</td>\n",
       "      <td>177.157945</td>\n",
       "      <td>1.017273</td>\n",
       "      <td>21.200909</td>\n",
       "      <td>34.772091</td>\n",
       "    </tr>\n",
       "    <tr>\n",
       "      <th>1</th>\n",
       "      <td>0.204577</td>\n",
       "      <td>18883.011096</td>\n",
       "      <td>92253.009709</td>\n",
       "      <td>8.751040</td>\n",
       "      <td>0.417476</td>\n",
       "      <td>194.267684</td>\n",
       "      <td>1.044383</td>\n",
       "      <td>24.070042</td>\n",
       "      <td>33.676685</td>\n",
       "    </tr>\n",
       "    <tr>\n",
       "      <th>2</th>\n",
       "      <td>0.232263</td>\n",
       "      <td>17911.422167</td>\n",
       "      <td>62103.232616</td>\n",
       "      <td>9.272503</td>\n",
       "      <td>0.374162</td>\n",
       "      <td>172.503607</td>\n",
       "      <td>1.288740</td>\n",
       "      <td>19.263678</td>\n",
       "      <td>34.464261</td>\n",
       "    </tr>\n",
       "    <tr>\n",
       "      <th>3</th>\n",
       "      <td>0.279412</td>\n",
       "      <td>18947.905462</td>\n",
       "      <td>80028.710084</td>\n",
       "      <td>9.172269</td>\n",
       "      <td>0.558824</td>\n",
       "      <td>173.443193</td>\n",
       "      <td>1.477941</td>\n",
       "      <td>22.580882</td>\n",
       "      <td>36.054979</td>\n",
       "    </tr>\n",
       "    <tr>\n",
       "      <th>4</th>\n",
       "      <td>0.403226</td>\n",
       "      <td>23403.201613</td>\n",
       "      <td>85134.940860</td>\n",
       "      <td>7.793011</td>\n",
       "      <td>0.534946</td>\n",
       "      <td>172.465457</td>\n",
       "      <td>1.411290</td>\n",
       "      <td>22.432796</td>\n",
       "      <td>36.581478</td>\n",
       "    </tr>\n",
       "    <tr>\n",
       "      <th>5</th>\n",
       "      <td>0.414384</td>\n",
       "      <td>16926.616438</td>\n",
       "      <td>76520.465753</td>\n",
       "      <td>8.065068</td>\n",
       "      <td>0.400685</td>\n",
       "      <td>178.711438</td>\n",
       "      <td>1.184932</td>\n",
       "      <td>22.595890</td>\n",
       "      <td>36.410377</td>\n",
       "    </tr>\n",
       "  </tbody>\n",
       "</table>\n",
       "</div>"
      ],
      "text/plain": [
       "            y          loan      mortgage  workyear  delinquency      period  \\\n",
       "job                                                                            \n",
       "0    0.180909  18104.440000  67958.616364  8.399091     0.436364  177.157945   \n",
       "1    0.204577  18883.011096  92253.009709  8.751040     0.417476  194.267684   \n",
       "2    0.232263  17911.422167  62103.232616  9.272503     0.374162  172.503607   \n",
       "3    0.279412  18947.905462  80028.710084  9.172269     0.558824  173.443193   \n",
       "4    0.403226  23403.201613  85134.940860  7.793011     0.534946  172.465457   \n",
       "5    0.414384  16926.616438  76520.465753  8.065068     0.400685  178.711438   \n",
       "\n",
       "      inquire   transact        DTI  \n",
       "job                                  \n",
       "0    1.017273  21.200909  34.772091  \n",
       "1    1.044383  24.070042  33.676685  \n",
       "2    1.288740  19.263678  34.464261  \n",
       "3    1.477941  22.580882  36.054979  \n",
       "4    1.411290  22.432796  36.581478  \n",
       "5    1.184932  22.595890  36.410377  "
      ]
     },
     "execution_count": 4,
     "metadata": {},
     "output_type": "execute_result"
    }
   ],
   "source": [
    "df['job'] = df['job'].replace({'Office':0, 'ProfExe':1, 'Other':2, 'Mgr':3, 'Self':4, 'Sales':5})\n",
    "df.groupby('job').mean()"
   ]
  },
  {
   "cell_type": "markdown",
   "metadata": {},
   "source": [
    "### 나무 모형"
   ]
  },
  {
   "cell_type": "code",
   "execution_count": 5,
   "metadata": {
    "ExecuteTime": {
     "end_time": "2021-03-21T05:41:09.123896Z",
     "start_time": "2021-03-21T05:41:07.885105Z"
    }
   },
   "outputs": [],
   "source": [
    "from sklearn.tree import DecisionTreeClassifier\n",
    "from sklearn.tree import plot_tree\n",
    "X = df.drop(['y'], axis=1)\n",
    "y = df['y']\n",
    "xname = X.columns\n",
    "yname = ['Normal','Bad']"
   ]
  },
  {
   "cell_type": "markdown",
   "metadata": {},
   "source": [
    "### Default 트리"
   ]
  },
  {
   "cell_type": "code",
   "execution_count": null,
   "metadata": {
    "ExecuteTime": {
     "start_time": "2021-03-21T05:41:55.208Z"
    }
   },
   "outputs": [],
   "source": [
    "c_tree = DecisionTreeClassifier(random_state=0) \n",
    "c_tree.fit(X, y)\n",
    "plt.figure(figsize=(20,15))\n",
    "plot_tree(c_tree, filled=True) \n",
    "plt.show()"
   ]
  },
  {
   "cell_type": "markdown",
   "metadata": {},
   "source": [
    "### max_depth=1 트리"
   ]
  },
  {
   "cell_type": "code",
   "execution_count": null,
   "metadata": {},
   "outputs": [],
   "source": [
    "c_tree = DecisionTreeClassifier(max_depth=1,random_state=0) \n",
    "c_tree.fit(X, y)\n",
    "plt.figure(figsize=(10,5))\n",
    "plot_tree(c_tree, feature_names=xname, class_names=yname, filled=True, fontsize=12) \n",
    "plt.show()"
   ]
  },
  {
   "cell_type": "markdown",
   "metadata": {},
   "source": [
    "### max_depth=2 트리"
   ]
  },
  {
   "cell_type": "code",
   "execution_count": null,
   "metadata": {},
   "outputs": [],
   "source": [
    "c_tree = DecisionTreeClassifier(max_depth=2,random_state=0) \n",
    "c_tree.fit(X, y)\n",
    "plt.figure(figsize=(10,8))\n",
    "plot_tree(c_tree, feature_names=xname, class_names=yname, filled=True, fontsize=12) \n",
    "plt.show()"
   ]
  },
  {
   "cell_type": "markdown",
   "metadata": {},
   "source": [
    "### max_depth=4 트리"
   ]
  },
  {
   "cell_type": "code",
   "execution_count": null,
   "metadata": {},
   "outputs": [],
   "source": [
    "c_tree = DecisionTreeClassifier(max_depth=4,random_state=0) \n",
    "c_tree.fit(X, y)\n",
    "plt.figure(figsize=(20,8))\n",
    "plot_tree(c_tree, feature_names=xname, class_names=yname, filled=True, fontsize=6) \n",
    "plt.show()"
   ]
  },
  {
   "cell_type": "markdown",
   "metadata": {},
   "source": [
    "### min_samples_split=6000 트리"
   ]
  },
  {
   "cell_type": "code",
   "execution_count": null,
   "metadata": {},
   "outputs": [],
   "source": [
    "c_tree = DecisionTreeClassifier(min_samples_split=6000,random_state=0)\n",
    "c_tree.fit(X, y)\n",
    "plt.figure(figsize=(10,5))\n",
    "plot_tree(c_tree, feature_names=xname, class_names=yname, filled=True, fontsize=12) \n",
    "plt.show()"
   ]
  },
  {
   "cell_type": "markdown",
   "metadata": {},
   "source": [
    "### min_samples_split=4000 트리"
   ]
  },
  {
   "cell_type": "code",
   "execution_count": null,
   "metadata": {},
   "outputs": [],
   "source": [
    "c_tree = DecisionTreeClassifier(min_samples_split=4000,random_state=0)\n",
    "c_tree.fit(X, y)\n",
    "plt.figure(figsize=(10,8))\n",
    "plot_tree(c_tree, feature_names=xname, class_names=yname, filled=True, fontsize=10) \n",
    "plt.show()"
   ]
  },
  {
   "cell_type": "markdown",
   "metadata": {},
   "source": [
    "### min_samples_split=2000 트리"
   ]
  },
  {
   "cell_type": "code",
   "execution_count": null,
   "metadata": {},
   "outputs": [],
   "source": [
    "c_tree = DecisionTreeClassifier(min_samples_split=2000,random_state=0)\n",
    "c_tree.fit(X, y)\n",
    "plt.figure(figsize=(20,10))\n",
    "plot_tree(c_tree, feature_names=xname, class_names=yname, filled=True, fontsize=8) \n",
    "plt.show()"
   ]
  },
  {
   "cell_type": "markdown",
   "metadata": {},
   "source": [
    "### min_impurity_decrease=0.01 트리"
   ]
  },
  {
   "cell_type": "code",
   "execution_count": null,
   "metadata": {},
   "outputs": [],
   "source": [
    "c_tree = DecisionTreeClassifier(min_impurity_decrease=0.01,random_state=0) \n",
    "c_tree.fit(X, y)\n",
    "plt.figure(figsize=(10,8))\n",
    "plot_tree(c_tree, feature_names=xname, class_names=yname, filled=True, fontsize=12) \n",
    "plt.show()"
   ]
  },
  {
   "cell_type": "markdown",
   "metadata": {},
   "source": [
    "### min_impurity_decrease=0.005 트리"
   ]
  },
  {
   "cell_type": "code",
   "execution_count": null,
   "metadata": {},
   "outputs": [],
   "source": [
    "c_tree = DecisionTreeClassifier(min_impurity_decrease=0.005,random_state=0) \n",
    "c_tree.fit(X, y)\n",
    "plt.figure(figsize=(10,10))\n",
    "plot_tree(c_tree, feature_names=xname, class_names=yname, filled=True, fontsize=12) \n",
    "plt.show()"
   ]
  },
  {
   "cell_type": "markdown",
   "metadata": {},
   "source": [
    "### min_impurity_decrease=0.001 트리"
   ]
  },
  {
   "cell_type": "code",
   "execution_count": null,
   "metadata": {
    "scrolled": true
   },
   "outputs": [],
   "source": [
    "c_tree = DecisionTreeClassifier(min_impurity_decrease=0.001,random_state=0) \n",
    "c_tree.fit(X, y)\n",
    "plt.figure(figsize=(20,15))\n",
    "plot_tree(c_tree, feature_names=xname, class_names=yname, filled=True, fontsize=7) \n",
    "plt.show()"
   ]
  },
  {
   "cell_type": "markdown",
   "metadata": {},
   "source": [
    "### Alpha=0.5 트리"
   ]
  },
  {
   "cell_type": "code",
   "execution_count": null,
   "metadata": {},
   "outputs": [],
   "source": [
    "c_tree = DecisionTreeClassifier(ccp_alpha=0.5,random_state=0) \n",
    "c_tree.fit(X, y)\n",
    "plt.figure(figsize=(5,2))\n",
    "plot_tree(c_tree, feature_names=xname, class_names=yname, filled=True, fontsize=12) \n",
    "plt.show()"
   ]
  },
  {
   "cell_type": "code",
   "execution_count": null,
   "metadata": {},
   "outputs": [],
   "source": [
    "!pip install --upgrade scikit-learn"
   ]
  },
  {
   "cell_type": "markdown",
   "metadata": {},
   "source": [
    "### Alpha=0.005 트리"
   ]
  },
  {
   "cell_type": "code",
   "execution_count": null,
   "metadata": {},
   "outputs": [],
   "source": [
    "c_tree = DecisionTreeClassifier(ccp_alpha=0.005,random_state=0) \n",
    "c_tree.fit(X, y)\n",
    "plt.figure(figsize=(15,10))\n",
    "plot_tree(c_tree, feature_names=xname, class_names=yname, filled=True, fontsize=12) \n",
    "plt.show()"
   ]
  },
  {
   "cell_type": "markdown",
   "metadata": {},
   "source": [
    "### Alpha=0.001 트리"
   ]
  },
  {
   "cell_type": "code",
   "execution_count": null,
   "metadata": {
    "scrolled": false
   },
   "outputs": [],
   "source": [
    "c_tree = DecisionTreeClassifier(ccp_alpha=0.001,random_state=0) \n",
    "c_tree.fit(X, y)\n",
    "plt.figure(figsize=(20,10))\n",
    "plot_tree(c_tree, feature_names=xname, class_names=yname, filled=True, fontsize=6) \n",
    "plt.show()"
   ]
  },
  {
   "cell_type": "code",
   "execution_count": null,
   "metadata": {},
   "outputs": [],
   "source": []
  }
 ],
 "metadata": {
  "kernelspec": {
   "display_name": "Python 3",
   "language": "python",
   "name": "python3"
  },
  "language_info": {
   "codemirror_mode": {
    "name": "ipython",
    "version": 3
   },
   "file_extension": ".py",
   "mimetype": "text/x-python",
   "name": "python",
   "nbconvert_exporter": "python",
   "pygments_lexer": "ipython3",
   "version": "3.8.5"
  },
  "toc": {
   "base_numbering": 1,
   "nav_menu": {},
   "number_sections": true,
   "sideBar": true,
   "skip_h1_title": false,
   "title_cell": "Table of Contents",
   "title_sidebar": "Contents",
   "toc_cell": false,
   "toc_position": {},
   "toc_section_display": true,
   "toc_window_display": false
  },
  "varInspector": {
   "cols": {
    "lenName": 16,
    "lenType": 16,
    "lenVar": 40
   },
   "kernels_config": {
    "python": {
     "delete_cmd_postfix": "",
     "delete_cmd_prefix": "del ",
     "library": "var_list.py",
     "varRefreshCmd": "print(var_dic_list())"
    },
    "r": {
     "delete_cmd_postfix": ") ",
     "delete_cmd_prefix": "rm(",
     "library": "var_list.r",
     "varRefreshCmd": "cat(var_dic_list()) "
    }
   },
   "types_to_exclude": [
    "module",
    "function",
    "builtin_function_or_method",
    "instance",
    "_Feature"
   ],
   "window_display": false
  }
 },
 "nbformat": 4,
 "nbformat_minor": 4
}
