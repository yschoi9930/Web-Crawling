{
 "cells": [
  {
   "cell_type": "code",
   "execution_count": 49,
   "metadata": {
    "ExecuteTime": {
     "end_time": "2021-03-24T07:04:59.137140Z",
     "start_time": "2021-03-24T07:04:59.130296Z"
    }
   },
   "outputs": [],
   "source": [
    "import pandas as pd\n",
    "import numpy as np\n",
    "from urllib.request import urlopen\n",
    "from urllib.request import Request\n",
    "from urllib.parse import urljoin, quote\n",
    "from bs4 import BeautifulSoup\n",
    "import urllib\n",
    "from tqdm import tqdm_notebook"
   ]
  },
  {
   "cell_type": "code",
   "execution_count": 5,
   "metadata": {
    "ExecuteTime": {
     "end_time": "2021-03-24T06:16:28.005884Z",
     "start_time": "2021-03-24T06:16:28.000906Z"
    }
   },
   "outputs": [],
   "source": [
    "url_base = 'https://movie.naver.com/'\n",
    "url_sub = '/movie/sdb/rank/rmovie.nhn?sel=cur&date=20210324'\n",
    "url = urljoin(url_base,url_sub)"
   ]
  },
  {
   "cell_type": "code",
   "execution_count": 6,
   "metadata": {
    "ExecuteTime": {
     "end_time": "2021-03-24T06:16:29.317164Z",
     "start_time": "2021-03-24T06:16:29.127650Z"
    }
   },
   "outputs": [
    {
     "name": "stderr",
     "output_type": "stream",
     "text": [
      "C:\\Users\\choi yeseul\\anaconda3\\lib\\site-packages\\bs4\\__init__.py:177: UserWarning: No parser was explicitly specified, so I'm using the best available HTML parser for this system (\"lxml\"). This usually isn't a problem, but if you run this code on another system, or in a different virtual environment, it may use a different parser and behave differently.\n",
      "\n",
      "The code that caused this warning is on line 194 of the file C:\\Users\\choi yeseul\\anaconda3\\lib\\runpy.py. To get rid of this warning, change code that looks like this:\n",
      "\n",
      " BeautifulSoup(YOUR_MARKUP})\n",
      "\n",
      "to this:\n",
      "\n",
      " BeautifulSoup(YOUR_MARKUP, \"lxml\")\n",
      "\n",
      "  warnings.warn(self.NO_PARSER_SPECIFIED_WARNING % dict(\n"
     ]
    }
   ],
   "source": [
    "# 페이지 요청 \n",
    "html = urlopen(url)\n",
    "\n",
    "# 데이터 파서에 저장\n",
    "soup = BeautifulSoup(html)\n"
   ]
  },
  {
   "cell_type": "code",
   "execution_count": 21,
   "metadata": {
    "ExecuteTime": {
     "end_time": "2021-03-24T06:26:49.297364Z",
     "start_time": "2021-03-24T06:26:49.250462Z"
    }
   },
   "outputs": [
    {
     "data": {
      "text/plain": [
       "50"
      ]
     },
     "execution_count": 21,
     "metadata": {},
     "output_type": "execute_result"
    }
   ],
   "source": [
    "# 50위까지 영화 title 추출\n",
    "soup.find_all('div','tit5')\n",
    "soup.find_all('div','tit5')[0]\n",
    "soup.find_all('div','tit5')[0].a.string\n",
    "soup.find_all('div','tit5')[0].a.text\n",
    "soup.find_all('div','tit5')[0].a.get_text()\n",
    "\n",
    "len(soup.find_all('div','tit5'))"
   ]
  },
  {
   "cell_type": "code",
   "execution_count": 28,
   "metadata": {
    "ExecuteTime": {
     "end_time": "2021-03-24T06:30:32.706290Z",
     "start_time": "2021-03-24T06:30:32.435674Z"
    },
    "collapsed": true
   },
   "outputs": [
    {
     "data": {
      "text/plain": [
       "['극장판 바이올렛 에버가든',\n",
       " '반지의 제왕: 왕의 귀환',\n",
       " '동주',\n",
       " '반지의 제왕: 두 개의 탑',\n",
       " '부활: 그 증거',\n",
       " '극장판 귀멸의 칼날: 무한열차편',\n",
       " '소울',\n",
       " '반지의 제왕: 반지 원정대',\n",
       " '나, 다니엘 블레이크',\n",
       " '똥파리',\n",
       " '러빙 빈센트',\n",
       " '해피 투게더',\n",
       " '라야와 마지막 드래곤',\n",
       " '러브레터',\n",
       " '극장판 쿠로코의 농구 라스트 게임',\n",
       " '타오르는 여인의 초상',\n",
       " '더 헌트',\n",
       " '극장판 소드 아트 온라인 -오디널 스케일-',\n",
       " '남매의 여름밤',\n",
       " '러브 액츄얼리',\n",
       " '중경삼림',\n",
       " '아이',\n",
       " '달라스 바이어스 클럽',\n",
       " '너의 이름은.',\n",
       " '화양연화',\n",
       " '소공녀',\n",
       " '더 포스트',\n",
       " '찬실이는 복도 많지',\n",
       " '당신, 거기 있어줄래요',\n",
       " '세자매',\n",
       " '분노',\n",
       " '빅쇼트',\n",
       " '러브 라이브! 더 스쿨 아이돌 무비',\n",
       " '아비정전',\n",
       " '허트 로커',\n",
       " '콜드 워',\n",
       " '클로저',\n",
       " '국가부도의 날',\n",
       " '하나와 앨리스',\n",
       " '해리 포터와 불의 잔',\n",
       " '날씨의 아이',\n",
       " '미나리',\n",
       " '마진 콜: 24시간, 조작된 진실',\n",
       " '철벽선생',\n",
       " '톰과 제리',\n",
       " '미션 파서블',\n",
       " '은혼',\n",
       " '펭귄 하이웨이',\n",
       " '쏘아올린 불꽃, 밑에서 볼까? 옆에서 볼까?',\n",
       " '불한당: 나쁜 놈들의 세상']"
      ]
     },
     "execution_count": 28,
     "metadata": {},
     "output_type": "execute_result"
    }
   ],
   "source": [
    "# title 50개 추출해서 list로 구성\n",
    "movie_name = [soup.find_all('div','tit5')[n].a.get_text() for n in range(0,50)]\n",
    "movie_name"
   ]
  },
  {
   "cell_type": "code",
   "execution_count": 22,
   "metadata": {
    "ExecuteTime": {
     "end_time": "2021-03-24T06:27:43.170096Z",
     "start_time": "2021-03-24T06:27:43.147232Z"
    }
   },
   "outputs": [
    {
     "data": {
      "text/plain": [
       "50"
      ]
     },
     "execution_count": 22,
     "metadata": {},
     "output_type": "execute_result"
    }
   ],
   "source": [
    "# 50위까지 영화 평점 추출\n",
    "soup.find_all('td','point')[0].text\n",
    "len(soup.find_all('div','tit5'))"
   ]
  },
  {
   "cell_type": "code",
   "execution_count": 35,
   "metadata": {
    "ExecuteTime": {
     "end_time": "2021-03-24T06:38:49.264665Z",
     "start_time": "2021-03-24T06:38:48.598002Z"
    },
    "collapsed": true
   },
   "outputs": [
    {
     "data": {
      "text/plain": [
       "['9.49',\n",
       " '9.38',\n",
       " '9.37',\n",
       " '9.36',\n",
       " '9.34',\n",
       " '9.31',\n",
       " '9.30',\n",
       " '9.29',\n",
       " '9.28',\n",
       " '9.22',\n",
       " '9.22',\n",
       " '9.20',\n",
       " '9.14',\n",
       " '9.12',\n",
       " '9.09',\n",
       " '9.05',\n",
       " '8.97',\n",
       " '8.94',\n",
       " '8.94',\n",
       " '8.93',\n",
       " '8.93',\n",
       " '8.83',\n",
       " '8.79',\n",
       " '8.79',\n",
       " '8.79',\n",
       " '8.78',\n",
       " '8.76',\n",
       " '8.74',\n",
       " '8.71',\n",
       " '8.56',\n",
       " '8.55',\n",
       " '8.52',\n",
       " '8.51',\n",
       " '8.48',\n",
       " '8.44',\n",
       " '8.26',\n",
       " '8.19',\n",
       " '8.13',\n",
       " '8.11',\n",
       " '8.03',\n",
       " '7.95',\n",
       " '7.83',\n",
       " '7.79',\n",
       " '7.77',\n",
       " '7.64',\n",
       " '7.38',\n",
       " '7.20',\n",
       " '6.72',\n",
       " '6.55',\n",
       " '6.43']"
      ]
     },
     "execution_count": 35,
     "metadata": {},
     "output_type": "execute_result"
    }
   ],
   "source": [
    "# point 50개 추출해서 list로 구성\n",
    "movie_point = [soup.find_all('td','point')[n].get_text() for n in range(0,50)]\n",
    "# movie_point = [soup.find_all('td','point')[n].text() for n in range(0,50)] 둘 다 가능\n",
    "movie_point"
   ]
  },
  {
   "cell_type": "code",
   "execution_count": null,
   "metadata": {},
   "outputs": [],
   "source": [
    "# 영화정보 크롤링 코드 정리"
   ]
  },
  {
   "cell_type": "code",
   "execution_count": null,
   "metadata": {},
   "outputs": [],
   "source": [
    "url_base = 'https://movie.naver.com/'\n",
    "url_sub = '/movie/sdb/rank/rmovie.nhn?sel=cur&date=20210324'\n",
    "url = urljoin(url_base,url_sub)\n",
    "# 페이지 요청 \n",
    "html = urlopen(url)\n",
    "\n",
    "# 데이터 파서에 저장\n",
    "soup = BeautifulSoup(html)\n",
    "\n",
    "# 날짜별로 랭킹 수가 상이할 수 있으므로 end를 추출해서 결정\n",
    "end = len(soup.find_all('td','point'))\n",
    "# title 50개 추출해서 list로 구성\n",
    "movie_name = [soup.find_all('div','tit5')[n].a.get_text() for n in range(0,end)]\n",
    "movie_name\n",
    "\n",
    "# point 50개 추출해서 list로 구성\n",
    "movie_point = [soup.find_all('td','point')[n].text for n in range(0,end)]\n",
    "movie_point"
   ]
  },
  {
   "cell_type": "code",
   "execution_count": 34,
   "metadata": {
    "ExecuteTime": {
     "end_time": "2021-03-24T06:38:33.618413Z",
     "start_time": "2021-03-24T06:38:33.607287Z"
    },
    "collapsed": true
   },
   "outputs": [
    {
     "data": {
      "text/plain": [
       "(['극장판 바이올렛 에버가든',\n",
       "  '반지의 제왕: 왕의 귀환',\n",
       "  '동주',\n",
       "  '반지의 제왕: 두 개의 탑',\n",
       "  '부활: 그 증거',\n",
       "  '극장판 귀멸의 칼날: 무한열차편',\n",
       "  '소울',\n",
       "  '반지의 제왕: 반지 원정대',\n",
       "  '나, 다니엘 블레이크',\n",
       "  '똥파리',\n",
       "  '러빙 빈센트',\n",
       "  '해피 투게더',\n",
       "  '라야와 마지막 드래곤',\n",
       "  '러브레터',\n",
       "  '극장판 쿠로코의 농구 라스트 게임',\n",
       "  '타오르는 여인의 초상',\n",
       "  '더 헌트',\n",
       "  '극장판 소드 아트 온라인 -오디널 스케일-',\n",
       "  '남매의 여름밤',\n",
       "  '러브 액츄얼리',\n",
       "  '중경삼림',\n",
       "  '아이',\n",
       "  '달라스 바이어스 클럽',\n",
       "  '너의 이름은.',\n",
       "  '화양연화',\n",
       "  '소공녀',\n",
       "  '더 포스트',\n",
       "  '찬실이는 복도 많지',\n",
       "  '당신, 거기 있어줄래요',\n",
       "  '세자매',\n",
       "  '분노',\n",
       "  '빅쇼트',\n",
       "  '러브 라이브! 더 스쿨 아이돌 무비',\n",
       "  '아비정전',\n",
       "  '허트 로커',\n",
       "  '콜드 워',\n",
       "  '클로저',\n",
       "  '국가부도의 날',\n",
       "  '하나와 앨리스',\n",
       "  '해리 포터와 불의 잔',\n",
       "  '날씨의 아이',\n",
       "  '미나리',\n",
       "  '마진 콜: 24시간, 조작된 진실',\n",
       "  '철벽선생',\n",
       "  '톰과 제리',\n",
       "  '미션 파서블',\n",
       "  '은혼',\n",
       "  '펭귄 하이웨이',\n",
       "  '쏘아올린 불꽃, 밑에서 볼까? 옆에서 볼까?',\n",
       "  '불한당: 나쁜 놈들의 세상'],\n",
       " ['9.49',\n",
       "  '9.38',\n",
       "  '9.37',\n",
       "  '9.36',\n",
       "  '9.34',\n",
       "  '9.31',\n",
       "  '9.30',\n",
       "  '9.29',\n",
       "  '9.28',\n",
       "  '9.22',\n",
       "  '9.22',\n",
       "  '9.20',\n",
       "  '9.14',\n",
       "  '9.12',\n",
       "  '9.09',\n",
       "  '9.05',\n",
       "  '8.97',\n",
       "  '8.94',\n",
       "  '8.94',\n",
       "  '8.93',\n",
       "  '8.93',\n",
       "  '8.83',\n",
       "  '8.79',\n",
       "  '8.79',\n",
       "  '8.79',\n",
       "  '8.78',\n",
       "  '8.76',\n",
       "  '8.74',\n",
       "  '8.71',\n",
       "  '8.56',\n",
       "  '8.55',\n",
       "  '8.52',\n",
       "  '8.51',\n",
       "  '8.48',\n",
       "  '8.44',\n",
       "  '8.26',\n",
       "  '8.19',\n",
       "  '8.13',\n",
       "  '8.11',\n",
       "  '8.03',\n",
       "  '7.95',\n",
       "  '7.83',\n",
       "  '7.79',\n",
       "  '7.77',\n",
       "  '7.64',\n",
       "  '7.38',\n",
       "  '7.20',\n",
       "  '6.72',\n",
       "  '6.55',\n",
       "  '6.43'])"
      ]
     },
     "execution_count": 34,
     "metadata": {},
     "output_type": "execute_result"
    }
   ],
   "source": [
    "movie_name, movie_point"
   ]
  },
  {
   "cell_type": "code",
   "execution_count": 37,
   "metadata": {
    "ExecuteTime": {
     "end_time": "2021-03-24T06:42:29.144078Z",
     "start_time": "2021-03-24T06:42:29.131980Z"
    },
    "collapsed": true
   },
   "outputs": [
    {
     "data": {
      "text/plain": [
       "DatetimeIndex(['2020-12-18', '2020-12-19', '2020-12-20', '2020-12-21',\n",
       "               '2020-12-22', '2020-12-23', '2020-12-24', '2020-12-25',\n",
       "               '2020-12-26', '2020-12-27', '2020-12-28', '2020-12-29',\n",
       "               '2020-12-30', '2020-12-31', '2021-01-01', '2021-01-02',\n",
       "               '2021-01-03', '2021-01-04', '2021-01-05', '2021-01-06',\n",
       "               '2021-01-07', '2021-01-08', '2021-01-09', '2021-01-10',\n",
       "               '2021-01-11', '2021-01-12', '2021-01-13', '2021-01-14',\n",
       "               '2021-01-15', '2021-01-16', '2021-01-17', '2021-01-18',\n",
       "               '2021-01-19', '2021-01-20', '2021-01-21', '2021-01-22',\n",
       "               '2021-01-23', '2021-01-24', '2021-01-25', '2021-01-26',\n",
       "               '2021-01-27', '2021-01-28', '2021-01-29', '2021-01-30',\n",
       "               '2021-01-31', '2021-02-01', '2021-02-02', '2021-02-03',\n",
       "               '2021-02-04', '2021-02-05', '2021-02-06', '2021-02-07',\n",
       "               '2021-02-08', '2021-02-09', '2021-02-10', '2021-02-11',\n",
       "               '2021-02-12', '2021-02-13', '2021-02-14', '2021-02-15',\n",
       "               '2021-02-16', '2021-02-17', '2021-02-18', '2021-02-19',\n",
       "               '2021-02-20', '2021-02-21', '2021-02-22', '2021-02-23',\n",
       "               '2021-02-24', '2021-02-25', '2021-02-26', '2021-02-27',\n",
       "               '2021-02-28', '2021-03-01', '2021-03-02', '2021-03-03',\n",
       "               '2021-03-04', '2021-03-05', '2021-03-06', '2021-03-07',\n",
       "               '2021-03-08', '2021-03-09', '2021-03-10', '2021-03-11',\n",
       "               '2021-03-12', '2021-03-13', '2021-03-14', '2021-03-15',\n",
       "               '2021-03-16', '2021-03-17', '2021-03-18', '2021-03-19',\n",
       "               '2021-03-20', '2021-03-21', '2021-03-22', '2021-03-23'],\n",
       "              dtype='datetime64[ns]', freq='D')"
      ]
     },
     "execution_count": 37,
     "metadata": {},
     "output_type": "execute_result"
    }
   ],
   "source": [
    "# 수집 날짜 data 생성\n",
    "# pd.date_range('시작일',periods=생성날짜개수, fred ='D')\n",
    "date=pd.date_range('20201218',periods=96,freq='D')\n",
    "date"
   ]
  },
  {
   "cell_type": "code",
   "execution_count": null,
   "metadata": {},
   "outputs": [],
   "source": [
    "# 날짜 변경 가능하게 url 구성"
   ]
  },
  {
   "cell_type": "code",
   "execution_count": 47,
   "metadata": {
    "ExecuteTime": {
     "end_time": "2021-03-24T07:02:33.611627Z",
     "start_time": "2021-03-24T07:02:33.600107Z"
    }
   },
   "outputs": [
    {
     "data": {
      "text/plain": [
       "'https://movie.naver.com/movie/sdb/rank/rmovie.nhn?sel=cur&date=20210104'"
      ]
     },
     "execution_count": 47,
     "metadata": {},
     "output_type": "execute_result"
    }
   ],
   "source": [
    "url_base = 'https://movie.naver.com/'\n",
    "url_sub = '/movie/sdb/rank/rmovie.nhn?sel=cur&date={date}' # 문자열에 {변수명} 사용할 시 변수로 적용 가능\n",
    "url = urljoin(url_base,url_sub)\n",
    "\n",
    "today = date[17]\n",
    "url.format(date=quote(today.strftime('%Y%m%d')))"
   ]
  },
  {
   "cell_type": "code",
   "execution_count": 64,
   "metadata": {
    "ExecuteTime": {
     "end_time": "2021-03-24T07:21:29.399587Z",
     "start_time": "2021-03-24T07:21:29.393607Z"
    }
   },
   "outputs": [],
   "source": [
    "# 저장할 초기 변수 생성\n",
    "movie_date = []\n",
    "movie_name = []\n",
    "movie_point = []"
   ]
  },
  {
   "cell_type": "code",
   "execution_count": 65,
   "metadata": {
    "ExecuteTime": {
     "end_time": "2021-03-24T07:23:43.541449Z",
     "start_time": "2021-03-24T07:21:31.368318Z"
    }
   },
   "outputs": [
    {
     "name": "stderr",
     "output_type": "stream",
     "text": [
      "<ipython-input-65-079edae04eb4>:2: TqdmDeprecationWarning: This function will be removed in tqdm==5.0.0\n",
      "Please use `tqdm.notebook.tqdm` instead of `tqdm.tqdm_notebook`\n",
      "  for today in tqdm_notebook(date) :\n"
     ]
    },
    {
     "data": {
      "application/vnd.jupyter.widget-view+json": {
       "model_id": "a8fb4aee0a4247a888c2261e9b0b0326",
       "version_major": 2,
       "version_minor": 0
      },
      "text/plain": [
       "HBox(children=(HTML(value=''), FloatProgress(value=0.0, max=96.0), HTML(value='')))"
      ]
     },
     "metadata": {},
     "output_type": "display_data"
    },
    {
     "name": "stderr",
     "output_type": "stream",
     "text": [
      "C:\\Users\\choi yeseul\\anaconda3\\lib\\site-packages\\bs4\\__init__.py:177: UserWarning: No parser was explicitly specified, so I'm using the best available HTML parser for this system (\"lxml\"). This usually isn't a problem, but if you run this code on another system, or in a different virtual environment, it may use a different parser and behave differently.\n",
      "\n",
      "The code that caused this warning is on line 194 of the file C:\\Users\\choi yeseul\\anaconda3\\lib\\runpy.py. To get rid of this warning, change code that looks like this:\n",
      "\n",
      " BeautifulSoup(YOUR_MARKUP})\n",
      "\n",
      "to this:\n",
      "\n",
      " BeautifulSoup(YOUR_MARKUP, \"lxml\")\n",
      "\n",
      "  warnings.warn(self.NO_PARSER_SPECIFIED_WARNING % dict(\n"
     ]
    },
    {
     "name": "stdout",
     "output_type": "stream",
     "text": [
      "\n"
     ]
    }
   ],
   "source": [
    "num = 0\n",
    "for today in tqdm_notebook(date) :\n",
    "    result = urlopen(url.format(date=quote(today.strftime('%Y%m%d'))))\n",
    "    soup = BeautifulSoup(result)\n",
    "    end = len(soup.find_all('td','point'))\n",
    "    # 랭킹 날짜 추출\n",
    "    movie_date.extend([today for n in range(0,end)])\n",
    "    # title 50개 추출해서 list로 구성\n",
    "    movie_name.extend([soup.find_all('div','tit5')[n].a.get_text() for n in range(0,end)])\n",
    "    # movie_name에 list 형태가 아닌 text 형태로 들어가도록 extend 함수를 사용!! 중요 append는 list안 list 구조가 됨\n",
    "    # point 50개 추출해서 list로 구성\n",
    "    movie_point.extend([soup.find_all('td','point')[n].text for n in range(0,end)])\n",
    "    num+=end "
   ]
  },
  {
   "cell_type": "code",
   "execution_count": 66,
   "metadata": {
    "ExecuteTime": {
     "end_time": "2021-03-24T07:23:46.340657Z",
     "start_time": "2021-03-24T07:23:46.331549Z"
    }
   },
   "outputs": [
    {
     "data": {
      "text/plain": [
       "(4568, 4568, 4568, 4568)"
      ]
     },
     "execution_count": 66,
     "metadata": {},
     "output_type": "execute_result"
    }
   ],
   "source": [
    "num, len(movie_name), len(movie_point), len(movie_date)"
   ]
  },
  {
   "cell_type": "code",
   "execution_count": 70,
   "metadata": {
    "ExecuteTime": {
     "end_time": "2021-03-24T07:26:34.614637Z",
     "start_time": "2021-03-24T07:26:34.573313Z"
    }
   },
   "outputs": [
    {
     "data": {
      "text/html": [
       "<div>\n",
       "<style scoped>\n",
       "    .dataframe tbody tr th:only-of-type {\n",
       "        vertical-align: middle;\n",
       "    }\n",
       "\n",
       "    .dataframe tbody tr th {\n",
       "        vertical-align: top;\n",
       "    }\n",
       "\n",
       "    .dataframe thead th {\n",
       "        text-align: right;\n",
       "    }\n",
       "</style>\n",
       "<table border=\"1\" class=\"dataframe\">\n",
       "  <thead>\n",
       "    <tr style=\"text-align: right;\">\n",
       "      <th></th>\n",
       "      <th>date</th>\n",
       "      <th>title</th>\n",
       "      <th>point</th>\n",
       "    </tr>\n",
       "  </thead>\n",
       "  <tbody>\n",
       "    <tr>\n",
       "      <th>0</th>\n",
       "      <td>2020-12-18</td>\n",
       "      <td>언플랜드</td>\n",
       "      <td>9.88</td>\n",
       "    </tr>\n",
       "    <tr>\n",
       "      <th>1</th>\n",
       "      <td>2020-12-18</td>\n",
       "      <td>극장판 바이올렛 에버가든</td>\n",
       "      <td>9.50</td>\n",
       "    </tr>\n",
       "    <tr>\n",
       "      <th>2</th>\n",
       "      <td>2020-12-18</td>\n",
       "      <td>부활: 그 증거</td>\n",
       "      <td>9.41</td>\n",
       "    </tr>\n",
       "    <tr>\n",
       "      <th>3</th>\n",
       "      <td>2020-12-18</td>\n",
       "      <td>소년시절의 너</td>\n",
       "      <td>9.40</td>\n",
       "    </tr>\n",
       "    <tr>\n",
       "      <th>4</th>\n",
       "      <td>2020-12-18</td>\n",
       "      <td>동주</td>\n",
       "      <td>9.37</td>\n",
       "    </tr>\n",
       "  </tbody>\n",
       "</table>\n",
       "</div>"
      ],
      "text/plain": [
       "        date          title point\n",
       "0 2020-12-18           언플랜드  9.88\n",
       "1 2020-12-18  극장판 바이올렛 에버가든  9.50\n",
       "2 2020-12-18       부활: 그 증거  9.41\n",
       "3 2020-12-18        소년시절의 너  9.40\n",
       "4 2020-12-18             동주  9.37"
      ]
     },
     "execution_count": 70,
     "metadata": {},
     "output_type": "execute_result"
    }
   ],
   "source": [
    "movie = pd.DataFrame({'date':movie_date,'title':movie_name,'point':movie_point})\n",
    "movie.head()"
   ]
  },
  {
   "cell_type": "code",
   "execution_count": null,
   "metadata": {},
   "outputs": [],
   "source": [
    "# 수집된 데이터 분석\n",
    "# 영화별 평점의 합을 계산(평점의 합이 높은 영화를 추출)\n",
    "# 추출된 영화에 대해서 평점의 추이를 확인할 수 있는 그래프로 시각화"
   ]
  },
  {
   "cell_type": "code",
   "execution_count": 75,
   "metadata": {
    "ExecuteTime": {
     "end_time": "2021-03-24T07:27:56.113412Z",
     "start_time": "2021-03-24T07:27:56.091831Z"
    }
   },
   "outputs": [
    {
     "name": "stdout",
     "output_type": "stream",
     "text": [
      "<class 'pandas.core.frame.DataFrame'>\n",
      "RangeIndex: 4568 entries, 0 to 4567\n",
      "Data columns (total 3 columns):\n",
      " #   Column  Non-Null Count  Dtype         \n",
      "---  ------  --------------  -----         \n",
      " 0   date    4568 non-null   datetime64[ns]\n",
      " 1   title   4568 non-null   object        \n",
      " 2   point   4568 non-null   object        \n",
      "dtypes: datetime64[ns](1), object(2)\n",
      "memory usage: 107.2+ KB\n"
     ]
    }
   ],
   "source": [
    "# 데이터 확인\n",
    "movie.info()\n",
    "# 포인트가 캐릭터 형이기에 형변환 필요 (astype(float))\n",
    "movie['point']=movie['point'].astype(float)"
   ]
  },
  {
   "cell_type": "code",
   "execution_count": 76,
   "metadata": {
    "ExecuteTime": {
     "end_time": "2021-03-24T07:27:58.953511Z",
     "start_time": "2021-03-24T07:27:58.937132Z"
    }
   },
   "outputs": [
    {
     "name": "stdout",
     "output_type": "stream",
     "text": [
      "<class 'pandas.core.frame.DataFrame'>\n",
      "RangeIndex: 4568 entries, 0 to 4567\n",
      "Data columns (total 3 columns):\n",
      " #   Column  Non-Null Count  Dtype         \n",
      "---  ------  --------------  -----         \n",
      " 0   date    4568 non-null   datetime64[ns]\n",
      " 1   title   4568 non-null   object        \n",
      " 2   point   4568 non-null   float64       \n",
      "dtypes: datetime64[ns](1), float64(1), object(1)\n",
      "memory usage: 107.2+ KB\n"
     ]
    }
   ],
   "source": [
    "movie.info()"
   ]
  },
  {
   "cell_type": "code",
   "execution_count": 77,
   "metadata": {
    "ExecuteTime": {
     "end_time": "2021-03-24T07:28:04.713494Z",
     "start_time": "2021-03-24T07:28:04.670100Z"
    }
   },
   "outputs": [
    {
     "data": {
      "text/html": [
       "<div>\n",
       "<style scoped>\n",
       "    .dataframe tbody tr th:only-of-type {\n",
       "        vertical-align: middle;\n",
       "    }\n",
       "\n",
       "    .dataframe tbody tr th {\n",
       "        vertical-align: top;\n",
       "    }\n",
       "\n",
       "    .dataframe thead th {\n",
       "        text-align: right;\n",
       "    }\n",
       "</style>\n",
       "<table border=\"1\" class=\"dataframe\">\n",
       "  <thead>\n",
       "    <tr style=\"text-align: right;\">\n",
       "      <th></th>\n",
       "      <th>point</th>\n",
       "    </tr>\n",
       "    <tr>\n",
       "      <th>title</th>\n",
       "      <th></th>\n",
       "    </tr>\n",
       "  </thead>\n",
       "  <tbody>\n",
       "    <tr>\n",
       "      <th>120BPM</th>\n",
       "      <td>2.76</td>\n",
       "    </tr>\n",
       "    <tr>\n",
       "      <th>1917</th>\n",
       "      <td>62.09</td>\n",
       "    </tr>\n",
       "    <tr>\n",
       "      <th>69세</th>\n",
       "      <td>25.89</td>\n",
       "    </tr>\n",
       "    <tr>\n",
       "      <th>800</th>\n",
       "      <td>50.55</td>\n",
       "    </tr>\n",
       "    <tr>\n",
       "      <th>가나의 혼인잔치: 언약</th>\n",
       "      <td>379.81</td>\n",
       "    </tr>\n",
       "  </tbody>\n",
       "</table>\n",
       "</div>"
      ],
      "text/plain": [
       "               point\n",
       "title               \n",
       "120BPM          2.76\n",
       "1917           62.09\n",
       "69세            25.89\n",
       "800            50.55\n",
       "가나의 혼인잔치: 언약  379.81"
      ]
     },
     "execution_count": 77,
     "metadata": {},
     "output_type": "execute_result"
    }
   ],
   "source": [
    "# 영화별 point의 합\n",
    "movie_unique = pd.pivot_table(movie, index=['title'], aggfunc=np.sum)\n",
    "movie_unique.head()"
   ]
  },
  {
   "cell_type": "code",
   "execution_count": 78,
   "metadata": {
    "ExecuteTime": {
     "end_time": "2021-03-24T07:29:03.290526Z",
     "start_time": "2021-03-24T07:29:03.283489Z"
    }
   },
   "outputs": [],
   "source": [
    "# 평점이 높은 순으로 정렬\n",
    "movie_top = movie_unique.sort_values(by='point', ascending=False)"
   ]
  },
  {
   "cell_type": "code",
   "execution_count": 79,
   "metadata": {
    "ExecuteTime": {
     "end_time": "2021-03-24T07:29:13.153856Z",
     "start_time": "2021-03-24T07:29:13.135105Z"
    }
   },
   "outputs": [
    {
     "data": {
      "text/html": [
       "<div>\n",
       "<style scoped>\n",
       "    .dataframe tbody tr th:only-of-type {\n",
       "        vertical-align: middle;\n",
       "    }\n",
       "\n",
       "    .dataframe tbody tr th {\n",
       "        vertical-align: top;\n",
       "    }\n",
       "\n",
       "    .dataframe thead th {\n",
       "        text-align: right;\n",
       "    }\n",
       "</style>\n",
       "<table border=\"1\" class=\"dataframe\">\n",
       "  <thead>\n",
       "    <tr style=\"text-align: right;\">\n",
       "      <th></th>\n",
       "      <th>point</th>\n",
       "    </tr>\n",
       "    <tr>\n",
       "      <th>title</th>\n",
       "      <th></th>\n",
       "    </tr>\n",
       "  </thead>\n",
       "  <tbody>\n",
       "    <tr>\n",
       "      <th>극장판 바이올렛 에버가든</th>\n",
       "      <td>912.27</td>\n",
       "    </tr>\n",
       "    <tr>\n",
       "      <th>부활: 그 증거</th>\n",
       "      <td>900.02</td>\n",
       "    </tr>\n",
       "    <tr>\n",
       "      <th>러브 액츄얼리</th>\n",
       "      <td>857.42</td>\n",
       "    </tr>\n",
       "    <tr>\n",
       "      <th>너의 췌장을 먹고 싶어</th>\n",
       "      <td>846.33</td>\n",
       "    </tr>\n",
       "    <tr>\n",
       "      <th>타오르는 여인의 초상</th>\n",
       "      <td>833.57</td>\n",
       "    </tr>\n",
       "  </tbody>\n",
       "</table>\n",
       "</div>"
      ],
      "text/plain": [
       "                point\n",
       "title                \n",
       "극장판 바이올렛 에버가든  912.27\n",
       "부활: 그 증거       900.02\n",
       "러브 액츄얼리        857.42\n",
       "너의 췌장을 먹고 싶어   846.33\n",
       "타오르는 여인의 초상    833.57"
      ]
     },
     "execution_count": 79,
     "metadata": {},
     "output_type": "execute_result"
    }
   ],
   "source": [
    "movie_top.head()"
   ]
  },
  {
   "cell_type": "code",
   "execution_count": 81,
   "metadata": {
    "ExecuteTime": {
     "end_time": "2021-03-24T07:32:49.115482Z",
     "start_time": "2021-03-24T07:32:49.074592Z"
    }
   },
   "outputs": [
    {
     "data": {
      "text/html": [
       "<div>\n",
       "<style scoped>\n",
       "    .dataframe tbody tr th:only-of-type {\n",
       "        vertical-align: middle;\n",
       "    }\n",
       "\n",
       "    .dataframe tbody tr th {\n",
       "        vertical-align: top;\n",
       "    }\n",
       "\n",
       "    .dataframe thead th {\n",
       "        text-align: right;\n",
       "    }\n",
       "</style>\n",
       "<table border=\"1\" class=\"dataframe\">\n",
       "  <thead>\n",
       "    <tr style=\"text-align: right;\">\n",
       "      <th></th>\n",
       "      <th>date</th>\n",
       "      <th>title</th>\n",
       "      <th>point</th>\n",
       "    </tr>\n",
       "  </thead>\n",
       "  <tbody>\n",
       "    <tr>\n",
       "      <th>1</th>\n",
       "      <td>2020-12-18</td>\n",
       "      <td>극장판 바이올렛 에버가든</td>\n",
       "      <td>9.50</td>\n",
       "    </tr>\n",
       "    <tr>\n",
       "      <th>51</th>\n",
       "      <td>2020-12-19</td>\n",
       "      <td>극장판 바이올렛 에버가든</td>\n",
       "      <td>9.50</td>\n",
       "    </tr>\n",
       "    <tr>\n",
       "      <th>101</th>\n",
       "      <td>2020-12-20</td>\n",
       "      <td>극장판 바이올렛 에버가든</td>\n",
       "      <td>9.51</td>\n",
       "    </tr>\n",
       "    <tr>\n",
       "      <th>151</th>\n",
       "      <td>2020-12-21</td>\n",
       "      <td>극장판 바이올렛 에버가든</td>\n",
       "      <td>9.51</td>\n",
       "    </tr>\n",
       "    <tr>\n",
       "      <th>201</th>\n",
       "      <td>2020-12-22</td>\n",
       "      <td>극장판 바이올렛 에버가든</td>\n",
       "      <td>9.50</td>\n",
       "    </tr>\n",
       "  </tbody>\n",
       "</table>\n",
       "</div>"
      ],
      "text/plain": [
       "          date          title  point\n",
       "1   2020-12-18  극장판 바이올렛 에버가든   9.50\n",
       "51  2020-12-19  극장판 바이올렛 에버가든   9.50\n",
       "101 2020-12-20  극장판 바이올렛 에버가든   9.51\n",
       "151 2020-12-21  극장판 바이올렛 에버가든   9.51\n",
       "201 2020-12-22  극장판 바이올렛 에버가든   9.50"
      ]
     },
     "execution_count": 81,
     "metadata": {},
     "output_type": "execute_result"
    }
   ],
   "source": [
    "# top 1의 평점 변화 확인\n",
    "# query 함수 : 조건에 맞는 행을 필터링 해주는 함수\n",
    "tmp = movie.query('title==[\"극장판 바이올렛 에버가든\"]')\n",
    "tmp.head()"
   ]
  },
  {
   "cell_type": "code",
   "execution_count": 84,
   "metadata": {
    "ExecuteTime": {
     "end_time": "2021-03-24T07:36:47.456165Z",
     "start_time": "2021-03-24T07:36:46.972059Z"
    }
   },
   "outputs": [
    {
     "data": {
      "image/png": "[encoded data removed]",
      "text/plain": [
       "<Figure size 864x576 with 1 Axes>"
      ]
     },
     "metadata": {
      "needs_background": "light"
     },
     "output_type": "display_data"
    }
   ],
   "source": [
    "import matplotlib.pyplot as plt\n",
    "%matplotlib inline\n",
    "\n",
    "plt.figure(figsize=(12,8))\n",
    "plt.plot(tmp['date'],tmp['point'])\n",
    "#plt.legend(loc='극장판 바이올렛 에버가든')\n",
    "plt.grid()\n",
    "plt.show()"
   ]
  },
  {
   "cell_type": "code",
   "execution_count": 85,
   "metadata": {
    "ExecuteTime": {
     "end_time": "2021-03-24T07:39:00.977065Z",
     "start_time": "2021-03-24T07:39:00.963286Z"
    }
   },
   "outputs": [],
   "source": [
    "# 그래프 한글 처리하는 코드\n",
    "import platform\n",
    "\n",
    "from matplotlib import font_manager, rc\n",
    "plt.rcParams['axes.unicode_minus'] = False\n",
    "\n",
    "if platform.system() == 'Darwin':  # 맥OS \n",
    "    rc('font', family='AppleGothic')\n",
    "elif platform.system() == 'Windows': \n",
    "    # 윈도우   \n",
    "    path = \"c:/Windows/Fonts/malgun.ttf\"\n",
    "    font_name = font_manager.FontProperties(fname=path).get_name()\n",
    "    rc('font', family=font_name)\n",
    "else:\n",
    "    print('Unknown system...  sorry~~~')"
   ]
  },
  {
   "cell_type": "code",
   "execution_count": 86,
   "metadata": {
    "ExecuteTime": {
     "end_time": "2021-03-24T07:43:15.901714Z",
     "start_time": "2021-03-24T07:43:15.797414Z"
    }
   },
   "outputs": [
    {
     "data": {
      "text/html": [
       "<div>\n",
       "<style scoped>\n",
       "    .dataframe tbody tr th:only-of-type {\n",
       "        vertical-align: middle;\n",
       "    }\n",
       "\n",
       "    .dataframe tbody tr th {\n",
       "        vertical-align: top;\n",
       "    }\n",
       "\n",
       "    .dataframe thead tr th {\n",
       "        text-align: left;\n",
       "    }\n",
       "\n",
       "    .dataframe thead tr:last-of-type th {\n",
       "        text-align: right;\n",
       "    }\n",
       "</style>\n",
       "<table border=\"1\" class=\"dataframe\">\n",
       "  <thead>\n",
       "    <tr>\n",
       "      <th></th>\n",
       "      <th colspan=\"21\" halign=\"left\">point</th>\n",
       "    </tr>\n",
       "    <tr>\n",
       "      <th>title</th>\n",
       "      <th>120BPM</th>\n",
       "      <th>1917</th>\n",
       "      <th>69세</th>\n",
       "      <th>800</th>\n",
       "      <th>가나의 혼인잔치: 언약</th>\n",
       "      <th>가장 따뜻한 색, 블루</th>\n",
       "      <th>경계선</th>\n",
       "      <th>국가부도의 날</th>\n",
       "      <th>굿바이</th>\n",
       "      <th>귀여운 여인</th>\n",
       "      <th>...</th>\n",
       "      <th>피아노</th>\n",
       "      <th>피아니스트의 전설</th>\n",
       "      <th>하나와 앨리스</th>\n",
       "      <th>해리 포터와 불의 잔</th>\n",
       "      <th>해리가 샐리를 만났을 때</th>\n",
       "      <th>해피 투게더</th>\n",
       "      <th>허트 로커</th>\n",
       "      <th>현기증</th>\n",
       "      <th>협상</th>\n",
       "      <th>화양연화</th>\n",
       "    </tr>\n",
       "    <tr>\n",
       "      <th>date</th>\n",
       "      <th></th>\n",
       "      <th></th>\n",
       "      <th></th>\n",
       "      <th></th>\n",
       "      <th></th>\n",
       "      <th></th>\n",
       "      <th></th>\n",
       "      <th></th>\n",
       "      <th></th>\n",
       "      <th></th>\n",
       "      <th></th>\n",
       "      <th></th>\n",
       "      <th></th>\n",
       "      <th></th>\n",
       "      <th></th>\n",
       "      <th></th>\n",
       "      <th></th>\n",
       "      <th></th>\n",
       "      <th></th>\n",
       "      <th></th>\n",
       "      <th></th>\n",
       "    </tr>\n",
       "  </thead>\n",
       "  <tbody>\n",
       "    <tr>\n",
       "      <th>2020-12-18</th>\n",
       "      <td>NaN</td>\n",
       "      <td>NaN</td>\n",
       "      <td>8.63</td>\n",
       "      <td>NaN</td>\n",
       "      <td>NaN</td>\n",
       "      <td>8.77</td>\n",
       "      <td>8.18</td>\n",
       "      <td>NaN</td>\n",
       "      <td>NaN</td>\n",
       "      <td>8.7</td>\n",
       "      <td>...</td>\n",
       "      <td>NaN</td>\n",
       "      <td>NaN</td>\n",
       "      <td>NaN</td>\n",
       "      <td>NaN</td>\n",
       "      <td>8.89</td>\n",
       "      <td>NaN</td>\n",
       "      <td>NaN</td>\n",
       "      <td>NaN</td>\n",
       "      <td>NaN</td>\n",
       "      <td>NaN</td>\n",
       "    </tr>\n",
       "    <tr>\n",
       "      <th>2020-12-19</th>\n",
       "      <td>NaN</td>\n",
       "      <td>NaN</td>\n",
       "      <td>8.63</td>\n",
       "      <td>NaN</td>\n",
       "      <td>NaN</td>\n",
       "      <td>8.77</td>\n",
       "      <td>8.18</td>\n",
       "      <td>NaN</td>\n",
       "      <td>NaN</td>\n",
       "      <td>8.7</td>\n",
       "      <td>...</td>\n",
       "      <td>NaN</td>\n",
       "      <td>NaN</td>\n",
       "      <td>8.11</td>\n",
       "      <td>NaN</td>\n",
       "      <td>8.89</td>\n",
       "      <td>NaN</td>\n",
       "      <td>NaN</td>\n",
       "      <td>NaN</td>\n",
       "      <td>NaN</td>\n",
       "      <td>NaN</td>\n",
       "    </tr>\n",
       "    <tr>\n",
       "      <th>2020-12-20</th>\n",
       "      <td>NaN</td>\n",
       "      <td>NaN</td>\n",
       "      <td>8.63</td>\n",
       "      <td>NaN</td>\n",
       "      <td>NaN</td>\n",
       "      <td>8.77</td>\n",
       "      <td>8.18</td>\n",
       "      <td>NaN</td>\n",
       "      <td>NaN</td>\n",
       "      <td>8.7</td>\n",
       "      <td>...</td>\n",
       "      <td>NaN</td>\n",
       "      <td>NaN</td>\n",
       "      <td>8.11</td>\n",
       "      <td>NaN</td>\n",
       "      <td>8.89</td>\n",
       "      <td>NaN</td>\n",
       "      <td>NaN</td>\n",
       "      <td>NaN</td>\n",
       "      <td>NaN</td>\n",
       "      <td>NaN</td>\n",
       "    </tr>\n",
       "    <tr>\n",
       "      <th>2020-12-21</th>\n",
       "      <td>NaN</td>\n",
       "      <td>NaN</td>\n",
       "      <td>NaN</td>\n",
       "      <td>NaN</td>\n",
       "      <td>NaN</td>\n",
       "      <td>8.77</td>\n",
       "      <td>8.18</td>\n",
       "      <td>NaN</td>\n",
       "      <td>NaN</td>\n",
       "      <td>8.7</td>\n",
       "      <td>...</td>\n",
       "      <td>NaN</td>\n",
       "      <td>NaN</td>\n",
       "      <td>8.11</td>\n",
       "      <td>NaN</td>\n",
       "      <td>8.89</td>\n",
       "      <td>NaN</td>\n",
       "      <td>NaN</td>\n",
       "      <td>NaN</td>\n",
       "      <td>NaN</td>\n",
       "      <td>NaN</td>\n",
       "    </tr>\n",
       "    <tr>\n",
       "      <th>2020-12-22</th>\n",
       "      <td>NaN</td>\n",
       "      <td>NaN</td>\n",
       "      <td>NaN</td>\n",
       "      <td>NaN</td>\n",
       "      <td>NaN</td>\n",
       "      <td>8.77</td>\n",
       "      <td>8.18</td>\n",
       "      <td>NaN</td>\n",
       "      <td>NaN</td>\n",
       "      <td>8.7</td>\n",
       "      <td>...</td>\n",
       "      <td>NaN</td>\n",
       "      <td>NaN</td>\n",
       "      <td>8.11</td>\n",
       "      <td>NaN</td>\n",
       "      <td>8.89</td>\n",
       "      <td>NaN</td>\n",
       "      <td>NaN</td>\n",
       "      <td>NaN</td>\n",
       "      <td>NaN</td>\n",
       "      <td>NaN</td>\n",
       "    </tr>\n",
       "  </tbody>\n",
       "</table>\n",
       "<p>5 rows × 178 columns</p>\n",
       "</div>"
      ],
      "text/plain": [
       "            point                                                             \\\n",
       "title      120BPM 1917   69세 800 가나의 혼인잔치: 언약 가장 따뜻한 색, 블루   경계선 국가부도의 날 굿바이   \n",
       "date                                                                           \n",
       "2020-12-18    NaN  NaN  8.63 NaN          NaN         8.77  8.18     NaN NaN   \n",
       "2020-12-19    NaN  NaN  8.63 NaN          NaN         8.77  8.18     NaN NaN   \n",
       "2020-12-20    NaN  NaN  8.63 NaN          NaN         8.77  8.18     NaN NaN   \n",
       "2020-12-21    NaN  NaN   NaN NaN          NaN         8.77  8.18     NaN NaN   \n",
       "2020-12-22    NaN  NaN   NaN NaN          NaN         8.77  8.18     NaN NaN   \n",
       "\n",
       "                   ...                                                         \\\n",
       "title      귀여운 여인  ... 피아노 피아니스트의 전설 하나와 앨리스 해리 포터와 불의 잔 해리가 샐리를 만났을 때 해피 투게더   \n",
       "date               ...                                                          \n",
       "2020-12-18    8.7  ... NaN       NaN     NaN         NaN          8.89    NaN   \n",
       "2020-12-19    8.7  ... NaN       NaN    8.11         NaN          8.89    NaN   \n",
       "2020-12-20    8.7  ... NaN       NaN    8.11         NaN          8.89    NaN   \n",
       "2020-12-21    8.7  ... NaN       NaN    8.11         NaN          8.89    NaN   \n",
       "2020-12-22    8.7  ... NaN       NaN    8.11         NaN          8.89    NaN   \n",
       "\n",
       "                               \n",
       "title      허트 로커 현기증  협상 화양연화  \n",
       "date                           \n",
       "2020-12-18   NaN NaN NaN  NaN  \n",
       "2020-12-19   NaN NaN NaN  NaN  \n",
       "2020-12-20   NaN NaN NaN  NaN  \n",
       "2020-12-21   NaN NaN NaN  NaN  \n",
       "2020-12-22   NaN NaN NaN  NaN  \n",
       "\n",
       "[5 rows x 178 columns]"
      ]
     },
     "execution_count": 86,
     "metadata": {},
     "output_type": "execute_result"
    }
   ],
   "source": [
    "# 데이터 재배치 - 피봇테이블 이용\n",
    "# 날짜별 영화의 point 확인\n",
    "# index = 날짜\n",
    "# column = movie\n",
    "# values = point\n",
    "\n",
    "movie_pivot = pd.pivot_table(movie, index=['date'],\n",
    "                            columns=['title'],\n",
    "                            values = ['point'])\n",
    "\n",
    "movie_pivot.head()"
   ]
  },
  {
   "cell_type": "code",
   "execution_count": 87,
   "metadata": {
    "ExecuteTime": {
     "end_time": "2021-03-24T07:46:32.502096Z",
     "start_time": "2021-03-24T07:46:32.495070Z"
    }
   },
   "outputs": [],
   "source": [
    "# 컬럼 멀티인덱스 레벨제거\n",
    "movie_pivot.columns=movie_pivot.columns.droplevel()"
   ]
  },
  {
   "cell_type": "code",
   "execution_count": 88,
   "metadata": {
    "ExecuteTime": {
     "end_time": "2021-03-24T07:46:43.693137Z",
     "start_time": "2021-03-24T07:46:43.640380Z"
    }
   },
   "outputs": [
    {
     "data": {
      "text/html": [
       "<div>\n",
       "<style scoped>\n",
       "    .dataframe tbody tr th:only-of-type {\n",
       "        vertical-align: middle;\n",
       "    }\n",
       "\n",
       "    .dataframe tbody tr th {\n",
       "        vertical-align: top;\n",
       "    }\n",
       "\n",
       "    .dataframe thead th {\n",
       "        text-align: right;\n",
       "    }\n",
       "</style>\n",
       "<table border=\"1\" class=\"dataframe\">\n",
       "  <thead>\n",
       "    <tr style=\"text-align: right;\">\n",
       "      <th>title</th>\n",
       "      <th>120BPM</th>\n",
       "      <th>1917</th>\n",
       "      <th>69세</th>\n",
       "      <th>800</th>\n",
       "      <th>가나의 혼인잔치: 언약</th>\n",
       "      <th>가장 따뜻한 색, 블루</th>\n",
       "      <th>경계선</th>\n",
       "      <th>국가부도의 날</th>\n",
       "      <th>굿바이</th>\n",
       "      <th>귀여운 여인</th>\n",
       "      <th>...</th>\n",
       "      <th>피아노</th>\n",
       "      <th>피아니스트의 전설</th>\n",
       "      <th>하나와 앨리스</th>\n",
       "      <th>해리 포터와 불의 잔</th>\n",
       "      <th>해리가 샐리를 만났을 때</th>\n",
       "      <th>해피 투게더</th>\n",
       "      <th>허트 로커</th>\n",
       "      <th>현기증</th>\n",
       "      <th>협상</th>\n",
       "      <th>화양연화</th>\n",
       "    </tr>\n",
       "    <tr>\n",
       "      <th>date</th>\n",
       "      <th></th>\n",
       "      <th></th>\n",
       "      <th></th>\n",
       "      <th></th>\n",
       "      <th></th>\n",
       "      <th></th>\n",
       "      <th></th>\n",
       "      <th></th>\n",
       "      <th></th>\n",
       "      <th></th>\n",
       "      <th></th>\n",
       "      <th></th>\n",
       "      <th></th>\n",
       "      <th></th>\n",
       "      <th></th>\n",
       "      <th></th>\n",
       "      <th></th>\n",
       "      <th></th>\n",
       "      <th></th>\n",
       "      <th></th>\n",
       "      <th></th>\n",
       "    </tr>\n",
       "  </thead>\n",
       "  <tbody>\n",
       "    <tr>\n",
       "      <th>2020-12-18</th>\n",
       "      <td>NaN</td>\n",
       "      <td>NaN</td>\n",
       "      <td>8.63</td>\n",
       "      <td>NaN</td>\n",
       "      <td>NaN</td>\n",
       "      <td>8.77</td>\n",
       "      <td>8.18</td>\n",
       "      <td>NaN</td>\n",
       "      <td>NaN</td>\n",
       "      <td>8.7</td>\n",
       "      <td>...</td>\n",
       "      <td>NaN</td>\n",
       "      <td>NaN</td>\n",
       "      <td>NaN</td>\n",
       "      <td>NaN</td>\n",
       "      <td>8.89</td>\n",
       "      <td>NaN</td>\n",
       "      <td>NaN</td>\n",
       "      <td>NaN</td>\n",
       "      <td>NaN</td>\n",
       "      <td>NaN</td>\n",
       "    </tr>\n",
       "    <tr>\n",
       "      <th>2020-12-19</th>\n",
       "      <td>NaN</td>\n",
       "      <td>NaN</td>\n",
       "      <td>8.63</td>\n",
       "      <td>NaN</td>\n",
       "      <td>NaN</td>\n",
       "      <td>8.77</td>\n",
       "      <td>8.18</td>\n",
       "      <td>NaN</td>\n",
       "      <td>NaN</td>\n",
       "      <td>8.7</td>\n",
       "      <td>...</td>\n",
       "      <td>NaN</td>\n",
       "      <td>NaN</td>\n",
       "      <td>8.11</td>\n",
       "      <td>NaN</td>\n",
       "      <td>8.89</td>\n",
       "      <td>NaN</td>\n",
       "      <td>NaN</td>\n",
       "      <td>NaN</td>\n",
       "      <td>NaN</td>\n",
       "      <td>NaN</td>\n",
       "    </tr>\n",
       "    <tr>\n",
       "      <th>2020-12-20</th>\n",
       "      <td>NaN</td>\n",
       "      <td>NaN</td>\n",
       "      <td>8.63</td>\n",
       "      <td>NaN</td>\n",
       "      <td>NaN</td>\n",
       "      <td>8.77</td>\n",
       "      <td>8.18</td>\n",
       "      <td>NaN</td>\n",
       "      <td>NaN</td>\n",
       "      <td>8.7</td>\n",
       "      <td>...</td>\n",
       "      <td>NaN</td>\n",
       "      <td>NaN</td>\n",
       "      <td>8.11</td>\n",
       "      <td>NaN</td>\n",
       "      <td>8.89</td>\n",
       "      <td>NaN</td>\n",
       "      <td>NaN</td>\n",
       "      <td>NaN</td>\n",
       "      <td>NaN</td>\n",
       "      <td>NaN</td>\n",
       "    </tr>\n",
       "    <tr>\n",
       "      <th>2020-12-21</th>\n",
       "      <td>NaN</td>\n",
       "      <td>NaN</td>\n",
       "      <td>NaN</td>\n",
       "      <td>NaN</td>\n",
       "      <td>NaN</td>\n",
       "      <td>8.77</td>\n",
       "      <td>8.18</td>\n",
       "      <td>NaN</td>\n",
       "      <td>NaN</td>\n",
       "      <td>8.7</td>\n",
       "      <td>...</td>\n",
       "      <td>NaN</td>\n",
       "      <td>NaN</td>\n",
       "      <td>8.11</td>\n",
       "      <td>NaN</td>\n",
       "      <td>8.89</td>\n",
       "      <td>NaN</td>\n",
       "      <td>NaN</td>\n",
       "      <td>NaN</td>\n",
       "      <td>NaN</td>\n",
       "      <td>NaN</td>\n",
       "    </tr>\n",
       "    <tr>\n",
       "      <th>2020-12-22</th>\n",
       "      <td>NaN</td>\n",
       "      <td>NaN</td>\n",
       "      <td>NaN</td>\n",
       "      <td>NaN</td>\n",
       "      <td>NaN</td>\n",
       "      <td>8.77</td>\n",
       "      <td>8.18</td>\n",
       "      <td>NaN</td>\n",
       "      <td>NaN</td>\n",
       "      <td>8.7</td>\n",
       "      <td>...</td>\n",
       "      <td>NaN</td>\n",
       "      <td>NaN</td>\n",
       "      <td>8.11</td>\n",
       "      <td>NaN</td>\n",
       "      <td>8.89</td>\n",
       "      <td>NaN</td>\n",
       "      <td>NaN</td>\n",
       "      <td>NaN</td>\n",
       "      <td>NaN</td>\n",
       "      <td>NaN</td>\n",
       "    </tr>\n",
       "  </tbody>\n",
       "</table>\n",
       "<p>5 rows × 178 columns</p>\n",
       "</div>"
      ],
      "text/plain": [
       "title       120BPM  1917   69세  800  가나의 혼인잔치: 언약  가장 따뜻한 색, 블루   경계선  \\\n",
       "date                                                                    \n",
       "2020-12-18     NaN   NaN  8.63  NaN           NaN          8.77  8.18   \n",
       "2020-12-19     NaN   NaN  8.63  NaN           NaN          8.77  8.18   \n",
       "2020-12-20     NaN   NaN  8.63  NaN           NaN          8.77  8.18   \n",
       "2020-12-21     NaN   NaN   NaN  NaN           NaN          8.77  8.18   \n",
       "2020-12-22     NaN   NaN   NaN  NaN           NaN          8.77  8.18   \n",
       "\n",
       "title       국가부도의 날  굿바이  귀여운 여인  ...  피아노  피아니스트의 전설  하나와 앨리스  해리 포터와 불의 잔  \\\n",
       "date                              ...                                         \n",
       "2020-12-18      NaN  NaN     8.7  ...  NaN        NaN      NaN          NaN   \n",
       "2020-12-19      NaN  NaN     8.7  ...  NaN        NaN     8.11          NaN   \n",
       "2020-12-20      NaN  NaN     8.7  ...  NaN        NaN     8.11          NaN   \n",
       "2020-12-21      NaN  NaN     8.7  ...  NaN        NaN     8.11          NaN   \n",
       "2020-12-22      NaN  NaN     8.7  ...  NaN        NaN     8.11          NaN   \n",
       "\n",
       "title       해리가 샐리를 만났을 때  해피 투게더  허트 로커  현기증  협상  화양연화  \n",
       "date                                                     \n",
       "2020-12-18           8.89     NaN    NaN  NaN NaN   NaN  \n",
       "2020-12-19           8.89     NaN    NaN  NaN NaN   NaN  \n",
       "2020-12-20           8.89     NaN    NaN  NaN NaN   NaN  \n",
       "2020-12-21           8.89     NaN    NaN  NaN NaN   NaN  \n",
       "2020-12-22           8.89     NaN    NaN  NaN NaN   NaN  \n",
       "\n",
       "[5 rows x 178 columns]"
      ]
     },
     "execution_count": 88,
     "metadata": {},
     "output_type": "execute_result"
    }
   ],
   "source": [
    "movie_pivot.head()"
   ]
  },
  {
   "cell_type": "code",
   "execution_count": 89,
   "metadata": {
    "ExecuteTime": {
     "end_time": "2021-03-24T08:06:54.162222Z",
     "start_time": "2021-03-24T08:06:54.154584Z"
    }
   },
   "outputs": [],
   "source": [
    "sel_col=['킹덤 오브 헤븐','판소리 복서','열혈남아','부활: 그 증거','러브레터','아비정전']"
   ]
  },
  {
   "cell_type": "code",
   "execution_count": 90,
   "metadata": {
    "ExecuteTime": {
     "end_time": "2021-03-24T08:08:49.378046Z",
     "start_time": "2021-03-24T08:08:48.704609Z"
    }
   },
   "outputs": [
    {
     "data": {
      "image/png": "[encoded data removed]",
      "text/plain": [
       "<Figure size 864x432 with 1 Axes>"
      ]
     },
     "metadata": {
      "needs_background": "light"
     },
     "output_type": "display_data"
    }
   ],
   "source": [
    "plt.figure(figsize=(12,6))\n",
    "plt.plot(movie_pivot[sel_col])\n",
    "plt.legend(sel_col,loc = 'best')\n",
    "plt.grid()\n",
    "plt.show()"
   ]
  },
  {
   "cell_type": "code",
   "execution_count": null,
   "metadata": {},
   "outputs": [],
   "source": []
  },
  {
   "cell_type": "code",
   "execution_count": null,
   "metadata": {},
   "outputs": [],
   "source": []
  },
  {
   "cell_type": "code",
   "execution_count": null,
   "metadata": {},
   "outputs": [],
   "source": []
  }
 ],
 "metadata": {
  "kernelspec": {
   "display_name": "Python 3",
   "language": "python",
   "name": "python3"
  },
  "language_info": {
   "codemirror_mode": {
    "name": "ipython",
    "version": 3
   },
   "file_extension": ".py",
   "mimetype": "text/x-python",
   "name": "python",
   "nbconvert_exporter": "python",
   "pygments_lexer": "ipython3",
   "version": "3.8.5"
  },
  "toc": {
   "base_numbering": 1,
   "nav_menu": {},
   "number_sections": true,
   "sideBar": true,
   "skip_h1_title": false,
   "title_cell": "Table of Contents",
   "title_sidebar": "Contents",
   "toc_cell": false,
   "toc_position": {},
   "toc_section_display": true,
   "toc_window_display": false
  },
  "varInspector": {
   "cols": {
    "lenName": 16,
    "lenType": 16,
    "lenVar": 40
   },
   "kernels_config": {
    "python": {
     "delete_cmd_postfix": "",
     "delete_cmd_prefix": "del ",
     "library": "var_list.py",
     "varRefreshCmd": "print(var_dic_list())"
    },
    "r": {
     "delete_cmd_postfix": ") ",
     "delete_cmd_prefix": "rm(",
     "library": "var_list.r",
     "varRefreshCmd": "cat(var_dic_list()) "
    }
   },
   "types_to_exclude": [
    "module",
    "function",
    "builtin_function_or_method",
    "instance",
    "_Feature"
   ],
   "window_display": false
  }
 },
 "nbformat": 4,
 "nbformat_minor": 4
}
