{
 "cells": [
  {
   "cell_type": "code",
   "execution_count": null,
   "metadata": {},
   "outputs": [],
   "source": [
    "# selenium 패키지 모듈 이용한 자동 크롤링\n",
    "# webdriver라는 API를 통해 운영체제에 설치된 웹 브라우저를 제어하는 함수를 포함한 패키지\n",
    "# 써드파티라이브러리이기 때문에 설치해줘야함\n",
    "# prompt 에서 설치\n",
    "# pip install selenium"
   ]
  },
  {
   "cell_type": "code",
   "execution_count": 26,
   "metadata": {
    "ExecuteTime": {
     "end_time": "2021-03-25T05:43:25.229289Z",
     "start_time": "2021-03-25T05:43:25.097281Z"
    }
   },
   "outputs": [
    {
     "ename": "TypeError",
     "evalue": "'str' object is not callable",
     "output_type": "error",
     "traceback": [
      "\u001b[1;31m---------------------------------------------------------------------------\u001b[0m",
      "\u001b[1;31mTypeError\u001b[0m                                 Traceback (most recent call last)",
      "\u001b[1;32m<ipython-input-26-ab5d35b86a15>\u001b[0m in \u001b[0;36m<module>\u001b[1;34m\u001b[0m\n\u001b[0;32m     15\u001b[0m \u001b[1;33m\u001b[0m\u001b[0m\n\u001b[0;32m     16\u001b[0m \u001b[1;31m# 접근한 페이지 source 추출\u001b[0m\u001b[1;33m\u001b[0m\u001b[1;33m\u001b[0m\u001b[1;33m\u001b[0m\u001b[0m\n\u001b[1;32m---> 17\u001b[1;33m \u001b[0mhtml\u001b[0m \u001b[1;33m=\u001b[0m \u001b[0mdriver\u001b[0m\u001b[1;33m.\u001b[0m\u001b[0mpage_source\u001b[0m\u001b[1;33m(\u001b[0m\u001b[1;33m)\u001b[0m\u001b[1;33m\u001b[0m\u001b[1;33m\u001b[0m\u001b[0m\n\u001b[0m",
      "\u001b[1;31mTypeError\u001b[0m: 'str' object is not callable"
     ]
    }
   ],
   "source": [
    "# 관련 메서드\n",
    "# get(url) : url에 접근하는 메서드\n",
    "# 페이지 단일 element에 접근하는 메서드\n",
    "# find_element_by_name('html_name')\n",
    "# find_element_by_id('html_id')\n",
    "# find_element_by_xpath('패스경로') : 스크립트 실행 경로를 찾아 접근\n",
    "\n",
    "# 페이지의 여러 element에 접근하는 메서드\n",
    "# find_element_by_class_selector('html selector')\n",
    "# find_element_by_class_name('html class')\n",
    "# find_element_by_tag_name('html tag')\n",
    "\n",
    "# webdriver 객체 생성\n",
    "# driver = webdriver.Chrome(드라이버경로)\n",
    "\n",
    "# 접근한 페이지 source 추출\n",
    "# html = driver.page_source"
   ]
  },
  {
   "cell_type": "code",
   "execution_count": 2,
   "metadata": {
    "ExecuteTime": {
     "end_time": "2021-03-25T05:15:35.825005Z",
     "start_time": "2021-03-25T05:15:34.344884Z"
    }
   },
   "outputs": [],
   "source": [
    "import selenium\n",
    "from selenium import webdriver\n",
    "from urllib.parse import quote\n",
    "import requests\n",
    "from bs4 import BeautifulSoup\n",
    "import pandas as pd\n",
    "import numpy as np\n",
    "import string\n",
    "import matplotlib.pyplot as plt\n",
    "%matplotlib inline"
   ]
  },
  {
   "cell_type": "code",
   "execution_count": 7,
   "metadata": {
    "ExecuteTime": {
     "end_time": "2021-03-25T05:20:17.607921Z",
     "start_time": "2021-03-25T05:20:16.073949Z"
    }
   },
   "outputs": [],
   "source": [
    "# webdriver 객체 생성\n",
    "driver = webdriver.Chrome('./driver/chromedriver')"
   ]
  },
  {
   "cell_type": "code",
   "execution_count": 8,
   "metadata": {
    "ExecuteTime": {
     "end_time": "2021-03-25T05:20:21.916175Z",
     "start_time": "2021-03-25T05:20:21.009500Z"
    }
   },
   "outputs": [],
   "source": [
    "# 페이지 접근\n",
    "url = 'https://nid.naver.com/nidlogin.login'\n",
    "driver.get(url)"
   ]
  },
  {
   "cell_type": "code",
   "execution_count": 9,
   "metadata": {
    "ExecuteTime": {
     "end_time": "2021-03-25T05:20:27.677355Z",
     "start_time": "2021-03-25T05:20:27.187319Z"
    }
   },
   "outputs": [
    {
     "data": {
      "text/plain": [
       "True"
      ]
     },
     "execution_count": 9,
     "metadata": {},
     "output_type": "execute_result"
    }
   ],
   "source": [
    "# 화면캡쳐\n",
    "driver.save_screenshot('./ssot.png')"
   ]
  },
  {
   "cell_type": "code",
   "execution_count": 10,
   "metadata": {
    "ExecuteTime": {
     "end_time": "2021-03-25T05:24:43.332566Z",
     "start_time": "2021-03-25T05:24:43.192925Z"
    }
   },
   "outputs": [],
   "source": [
    "# 로그인 진행\n",
    "# id값 전달\n",
    "id_elem = driver.find_element_by_id('id')\n",
    "# 인풋박스 기존 값 지우기\n",
    "id_elem.clear()\n",
    "# 값 전달\n",
    "id_elem.send_keys('dptmfdl3306')"
   ]
  },
  {
   "cell_type": "code",
   "execution_count": 11,
   "metadata": {
    "ExecuteTime": {
     "end_time": "2021-03-25T05:26:04.706706Z",
     "start_time": "2021-03-25T05:26:04.559448Z"
    }
   },
   "outputs": [],
   "source": [
    "# 비밀번호값 진행\n",
    "# id값 전달\n",
    "pw_elem = driver.find_element_by_id('pw')\n",
    "# 인풋박스 기존 값 지우기\n",
    "pw_elem.clear()\n",
    "# 값 전달\n",
    "pw_elem.send_keys('비번')"
   ]
  },
  {
   "cell_type": "code",
   "execution_count": 12,
   "metadata": {
    "ExecuteTime": {
     "end_time": "2021-03-25T05:27:14.401693Z",
     "start_time": "2021-03-25T05:27:13.513169Z"
    }
   },
   "outputs": [],
   "source": [
    "# 로그인 버튼 클릭\n",
    "xpath ='//*[@id=\"log.login\"]' # find_element_by_id('log.login')로 찾아도됨\n",
    "driver.find_element_by_xpath(xpath).click()\n",
    "# 자동입력 방지 문자가 나타남\n",
    "# semd_keys() - 붓으로 인식"
   ]
  },
  {
   "cell_type": "code",
   "execution_count": 21,
   "metadata": {
    "ExecuteTime": {
     "end_time": "2021-03-25T05:41:17.840256Z",
     "start_time": "2021-03-25T05:41:16.015904Z"
    }
   },
   "outputs": [],
   "source": [
    "# 자동입력 방지 문자 우회하기\n",
    "# send_keys 함수 대신에 직접 script코드를 작성 후 실행\n",
    "driver = webdriver.Chrome('./driver/chromedriver.exe')"
   ]
  },
  {
   "cell_type": "code",
   "execution_count": 22,
   "metadata": {
    "ExecuteTime": {
     "end_time": "2021-03-25T05:41:19.582255Z",
     "start_time": "2021-03-25T05:41:17.869258Z"
    }
   },
   "outputs": [],
   "source": [
    "url = 'https://nid.naver.com/nidlogin.login'\n",
    "driver.get(url)"
   ]
  },
  {
   "cell_type": "code",
   "execution_count": 17,
   "metadata": {
    "ExecuteTime": {
     "end_time": "2021-03-25T05:37:24.618805Z",
     "start_time": "2021-03-25T05:37:24.615806Z"
    }
   },
   "outputs": [],
   "source": [
    "id_input = 'dptmfdl3306'\n",
    "pw_input = 'adbloo:d26'"
   ]
  },
  {
   "cell_type": "code",
   "execution_count": 23,
   "metadata": {
    "ExecuteTime": {
     "end_time": "2021-03-25T05:41:22.107890Z",
     "start_time": "2021-03-25T05:41:22.067846Z"
    }
   },
   "outputs": [],
   "source": [
    "# key 전달하지 않는 script 소스 직접 실행되게 설정\n",
    "# driver로 script 실행시킬 때 : driver.execute_script()\n",
    "# id전달\n",
    "driver.execute_script(\"document.getElementsByName('id')[0].value=\\'\"+id_input+\"\\'\")\n",
    "# pw 전달\n",
    "driver.execute_script(\"document.getElementsByName('pw')[0].value=\\'\"+pw_input+\"\\'\")"
   ]
  },
  {
   "cell_type": "code",
   "execution_count": 24,
   "metadata": {
    "ExecuteTime": {
     "end_time": "2021-03-25T05:41:24.210220Z",
     "start_time": "2021-03-25T05:41:24.120282Z"
    }
   },
   "outputs": [],
   "source": [
    "# 로그인 버튼 클릭\n",
    "xpath ='//*[@id=\"log.login\"]' # find_element_by_id('log.login')로 찾아도됨\n",
    "driver.find_element_by_xpath(xpath).click()"
   ]
  },
  {
   "cell_type": "code",
   "execution_count": 25,
   "metadata": {
    "ExecuteTime": {
     "end_time": "2021-03-25T05:42:13.290906Z",
     "start_time": "2021-03-25T05:42:11.879865Z"
    }
   },
   "outputs": [],
   "source": [
    "# 메일페이지로 접근\n",
    "driver.get('http://mail.naver.com')"
   ]
  },
  {
   "cell_type": "code",
   "execution_count": 27,
   "metadata": {
    "ExecuteTime": {
     "end_time": "2021-03-25T05:44:17.101732Z",
     "start_time": "2021-03-25T05:44:12.255682Z"
    }
   },
   "outputs": [],
   "source": [
    "# 코드 추출\n",
    "html = driver.page_source\n",
    "soup = BeautifulSoup(html, 'html.parser')"
   ]
  },
  {
   "cell_type": "code",
   "execution_count": null,
   "metadata": {},
   "outputs": [],
   "source": [
    "<div class=\"name _ccr(lst.from) \"><span class=\"blind\">보낸 이:</span><a title=\"&quot;Facebook&quot; <notification@facebookmail.com>\" class=\"_c1(myContextMenu|showSenderContextLayer|list|19904) _stopDefault\" href=\"#\">Facebook</a></div>"
   ]
  },
  {
   "cell_type": "code",
   "execution_count": 29,
   "metadata": {
    "ExecuteTime": {
     "end_time": "2021-03-25T05:48:10.636734Z",
     "start_time": "2021-03-25T05:48:10.575729Z"
    }
   },
   "outputs": [
    {
     "data": {
      "text/plain": [
       "[<div class=\"name _ccr(lst.from) \"><span class=\"blind\">보낸 이:</span><a class=\"_c1(myContextMenu|showSenderContextLayer|list|19910) _stopDefault\" href=\"#\" title='\"네이버\" &lt;account_noreply@navercorp.com&gt;'>네이버</a></div>,\n",
       " <div class=\"name _ccr(lst.from) \"><span class=\"blind\">보낸 이:</span><a class=\"_c1(myContextMenu|showSenderContextLayer|list|19909) _stopDefault\" href=\"#\" title='\"네이버\" &lt;account_noreply@navercorp.com&gt;'>네이버</a></div>,\n",
       " <div class=\"name _ccr(lst.from) \"><span class=\"blind\">보낸 이:</span><a class=\"_c1(myContextMenu|showSenderContextLayer|list|19908) _stopDefault\" href=\"#\" title='\"네이버\" &lt;account_noreply@navercorp.com&gt;'>네이버</a></div>,\n",
       " <div class=\"name _ccr(lst.from) \"><span class=\"blind\">보낸 이:</span><a class=\"_c1(myContextMenu|showSenderContextLayer|list|19907) _stopDefault\" href=\"#\" title='\"이벤트안내\" &lt;sigamdata@gmail.com&gt;'>이벤트안내</a></div>,\n",
       " <div class=\"name _ccr(lst.from) \"><span class=\"blind\">보낸 이:</span><a class=\"_c1(myContextMenu|showSenderContextLayer|list|19905) _stopDefault\" href=\"#\" title='\"크라우드픽\" &lt;crowdpic@crowdpic.net&gt;'>크라우드픽</a></div>,\n",
       " <div class=\"name _ccr(lst.from) \"><span class=\"blind\">보낸 이:</span><a class=\"_c1(myContextMenu|showSenderContextLayer|list|19904) _stopDefault\" href=\"#\" title='\"Facebook\" &lt;notification@facebookmail.com&gt;'>Facebook</a></div>,\n",
       " <div class=\"name _ccr(lst.from) \"><span class=\"blind\">보낸 이:</span><a class=\"_c1(myContextMenu|showSenderContextLayer|list|19901) _stopDefault\" href=\"#\" title='\"Facebook\" &lt;groupupdates@facebookmail.com&gt;'>Facebook</a></div>,\n",
       " <div class=\"name _ccr(lst.from) \"><span class=\"blind\">보낸 이:</span><a class=\"_c1(myContextMenu|showSenderContextLayer|list|19898) _stopDefault\" href=\"#\" title='\"이벤트안내\" &lt;sigamdata@gmail.com&gt;'>이벤트안내</a></div>,\n",
       " <div class=\"name _ccr(lst.from) \"><span class=\"blind\">보낸 이:</span><a class=\"_c1(myContextMenu|showSenderContextLayer|list|19897) _stopDefault\" href=\"#\" title='\"A-RT.COM\" &lt;customer@a-rt.com&gt;'>A-RT.COM</a></div>,\n",
       " <div class=\"name _ccr(lst.from) \"><span class=\"blind\">보낸 이:</span><a class=\"_c1(myContextMenu|showSenderContextLayer|list|19896) _stopDefault\" href=\"#\" title='\"Facebook\" &lt;notification@facebookmail.com&gt;'>Facebook</a></div>,\n",
       " <div class=\"name _ccr(lst.from) \"><span class=\"blind\">보낸 이:</span><a class=\"_c1(myContextMenu|showSenderContextLayer|list|19894) _stopDefault\" href=\"#\" title='\"이벤트안내\" &lt;sigamdata@gmail.com&gt;'>이벤트안내</a></div>,\n",
       " <div class=\"name _ccr(lst.from) \"><span class=\"blind\">보낸 이:</span><a class=\"_c1(myContextMenu|showSenderContextLayer|list|19893) _stopDefault\" href=\"#\" title='\"Facebook\" &lt;notification@facebookmail.com&gt;'>Facebook</a></div>,\n",
       " <div class=\"name _ccr(lst.from) \"><span class=\"blind\">보낸 이:</span><a class=\"_c1(myContextMenu|showSenderContextLayer|list|19892) _stopDefault\" href=\"#\" title='\"Facebook\" &lt;friendupdates@facebookmail.com&gt;'>Facebook</a></div>,\n",
       " <div class=\"name _ccr(lst.from) \"><span class=\"blind\">보낸 이:</span><a class=\"_c1(myContextMenu|showSenderContextLayer|list|19891) _stopDefault\" href=\"#\" title='\"Apple\" &lt;no_reply@email.apple.com&gt;'>Apple</a></div>,\n",
       " <div class=\"name _ccr(lst.from) \"><span class=\"blind\">보낸 이:</span><a class=\"_c1(myContextMenu|showSenderContextLayer|list|19888) _stopDefault\" href=\"#\" title='\"BCM Uphone\" &lt;uphone@bcm.co.kr&gt;'>BCM Uphone</a></div>,\n",
       " <div class=\"name _ccr(lst.from) \"><span class=\"blind\">보낸 이:</span><a class=\"_c1(myContextMenu|showSenderContextLayer|list|19887) _stopDefault\" href=\"#\" title='\"Facebook\" &lt;friendupdates@facebookmail.com&gt;'>Facebook</a></div>,\n",
       " <div class=\"name _ccr(lst.from) \"><span class=\"blind\">보낸 이:</span><a class=\"_c1(myContextMenu|showSenderContextLayer|list|19885) _stopDefault\" href=\"#\" title='\"줌줌투어\" &lt;noreply@zoomzoomtour.com&gt;'>줌줌투어</a></div>,\n",
       " <div class=\"name _ccr(lst.from) \"><span class=\"blind\">보낸 이:</span><a class=\"_c1(myContextMenu|showSenderContextLayer|list|19884) _stopDefault\" href=\"#\" title='\"이벤트안내\" &lt;sigamdata@gmail.com&gt;'>이벤트안내</a></div>,\n",
       " <div class=\"name _ccr(lst.from) \"><span class=\"blind\">보낸 이:</span><a class=\"_c1(myContextMenu|showSenderContextLayer|list|19882) _stopDefault\" href=\"#\" title='\"네이버\" &lt;account_noreply@navercorp.com&gt;'>네이버</a></div>,\n",
       " <div class=\"name _ccr(lst.from) \"><span class=\"blind\">보낸 이:</span><a class=\"_c1(myContextMenu|showSenderContextLayer|list|19881) _stopDefault\" href=\"#\" title='\"Uber South Korea\" &lt;uber.south.korea@uber.com&gt;'>Uber South Korea</a></div>,\n",
       " <div class=\"name _ccr(lst.from) \"><span class=\"blind\">보낸 이:</span><a class=\"_c1(myContextMenu|showSenderContextLayer|list|19879) _stopDefault\" href=\"#\" title='\"Facebook\" &lt;friendupdates@facebookmail.com&gt;'>Facebook</a></div>,\n",
       " <div class=\"name _ccr(lst.from) \"><span class=\"blind\">보낸 이:</span><a class=\"_c1(myContextMenu|showSenderContextLayer|list|19875) _stopDefault\" href=\"#\" title='\"Facebook\" &lt;friendupdates@facebookmail.com&gt;'>Facebook</a></div>,\n",
       " <div class=\"name _ccr(lst.from) \"><span class=\"blind\">보낸 이:</span><a class=\"_c1(myContextMenu|showSenderContextLayer|list|19874) _stopDefault\" href=\"#\" title='\"이벤트안내\" &lt;sigamdata@gmail.com&gt;'>이벤트안내</a></div>,\n",
       " <div class=\"name _ccr(lst.from) \"><span class=\"blind\">보낸 이:</span><a class=\"_c1(myContextMenu|showSenderContextLayer|list|19873) _stopDefault\" href=\"#\" title='\"진로취업지원센터\" &lt;danielkim@hufs.ac.kr&gt;'>진로취업지원센터</a></div>,\n",
       " <div class=\"name _ccr(lst.from) \"><span class=\"blind\">보낸 이:</span><a class=\"_c1(myContextMenu|showSenderContextLayer|list|19871) _stopDefault\" href=\"#\" title='\"Facebook\" &lt;notification@facebookmail.com&gt;'>Facebook</a></div>,\n",
       " <div class=\"name _ccr(lst.from) \"><span class=\"blind\">보낸 이:</span><a class=\"_c1(myContextMenu|showSenderContextLayer|list|19867) _stopDefault\" href=\"#\" title='\"이벤트안내\" &lt;sigamdata@gmail.com&gt;'>이벤트안내</a></div>,\n",
       " <div class=\"name _ccr(lst.from) \"><span class=\"blind\">보낸 이:</span><a class=\"_c1(myContextMenu|showSenderContextLayer|list|19861) _stopDefault\" href=\"#\" title='\"Apple\" &lt;no_reply@email.apple.com&gt;'>Apple</a></div>,\n",
       " <div class=\"name _ccr(lst.from) \"><span class=\"blind\">보낸 이:</span><a class=\"_c1(myContextMenu|showSenderContextLayer|list|19859) _stopDefault\" href=\"#\" title='\"이벤트안내\" &lt;sigamdata@gmail.com&gt;'>이벤트안내</a></div>,\n",
       " <div class=\"name _ccr(lst.from) \"><span class=\"blind\">보낸 이:</span><a class=\"_c1(myContextMenu|showSenderContextLayer|list|19855) _stopDefault\" href=\"#\" title='\"DANO\" &lt;info@dietnote.net&gt;'>DANO</a></div>,\n",
       " <div class=\"name _ccr(lst.from) \"><span class=\"blind\">보낸 이:</span><a class=\"_c1(myContextMenu|showSenderContextLayer|list|19854) _stopDefault\" href=\"#\" title='\"이벤트안내\" &lt;sigamdata@gmail.com&gt;'>이벤트안내</a></div>,\n",
       " <div class=\"name _ccr(lst.from) \"><span class=\"blind\">보낸 이:</span><a class=\"_c1(myContextMenu|showSenderContextLayer|list|19853) _stopDefault\" href=\"#\" title='\"교보문고\" &lt;order@kyobobook.co.kr&gt;'>교보문고</a></div>,\n",
       " <div class=\"name _ccr(lst.from) \"><span class=\"blind\">보낸 이:</span><a class=\"_c1(myContextMenu|showSenderContextLayer|list|19852) _stopDefault\" href=\"#\" title='\"KB국민은행\" &lt;kbmail@kbmail.kbstar.com&gt;'>KB국민은행</a></div>,\n",
       " <div class=\"name _ccr(lst.from) \"><span class=\"blind\">보낸 이:</span><a class=\"_c1(myContextMenu|showSenderContextLayer|list|19847) _stopDefault\" href=\"#\" title='\"Facebook\" &lt;notification@facebookmail.com&gt;'>Facebook</a></div>,\n",
       " <div class=\"name _ccr(lst.from) \"><span class=\"blind\">보낸 이:</span><a class=\"_c1(myContextMenu|showSenderContextLayer|list|19846) _stopDefault\" href=\"#\" title='\"이벤트안내\" &lt;sigamdata@gmail.com&gt;'>이벤트안내</a></div>,\n",
       " <div class=\"name _ccr(lst.from) \"><span class=\"blind\">보낸 이:</span><a class=\"_c1(myContextMenu|showSenderContextLayer|list|19839) _stopDefault\" href=\"#\" title='\"줌줌투어\" &lt;noreply@zoomzoomtour.com&gt;'>줌줌투어</a></div>,\n",
       " <div class=\"name _ccr(lst.from) \"><span class=\"blind\">보낸 이:</span><a class=\"_c1(myContextMenu|showSenderContextLayer|list|19838) _stopDefault\" href=\"#\" title='\"이벤트안내\" &lt;sigamdata@gmail.com&gt;'>이벤트안내</a></div>,\n",
       " <div class=\"name _ccr(lst.from) \"><span class=\"blind\">보낸 이:</span><a class=\"_c1(myContextMenu|showSenderContextLayer|list|19835) _stopDefault\" href=\"#\" title='\"로지아이\" &lt;event@parcelmedia.com&gt;'>로지아이</a></div>,\n",
       " <div class=\"name _ccr(lst.from) \"><span class=\"blind\">보낸 이:</span><a class=\"_c1(myContextMenu|showSenderContextLayer|list|19833) _stopDefault\" href=\"#\" title='\"Facebook\" &lt;notification@facebookmail.com&gt;'>Facebook</a></div>,\n",
       " <div class=\"name _ccr(lst.from) \"><span class=\"blind\">보낸 이:</span><a class=\"_c1(myContextMenu|showSenderContextLayer|list|19830) _stopDefault\" href=\"#\" title='\"Facebook\" &lt;notification@facebookmail.com&gt;'>Facebook</a></div>,\n",
       " <div class=\"name _ccr(lst.from) \"><span class=\"blind\">보낸 이:</span><a class=\"_c1(myContextMenu|showSenderContextLayer|list|19828) _stopDefault\" href=\"#\" title='\"이벤트안내\" &lt;sigamdata@gmail.com&gt;'>이벤트안내</a></div>,\n",
       " <div class=\"name _ccr(lst.from) \"><span class=\"blind\">보낸 이:</span><a class=\"_c1(myContextMenu|showSenderContextLayer|list|19825) _stopDefault\" href=\"#\" title='\"카카오헤어샵\" &lt;noreply_hairshop@kakaocorp.com&gt;'>카카오헤어샵</a></div>,\n",
       " <div class=\"name _ccr(lst.from) \"><span class=\"blind\">보낸 이:</span><a class=\"_c1(myContextMenu|showSenderContextLayer|list|19824) _stopDefault\" href=\"#\" title='\"네이버\" &lt;account_noreply@navercorp.com&gt;'>네이버</a></div>,\n",
       " <div class=\"name _ccr(lst.from) \"><span class=\"blind\">보낸 이:</span><a class=\"_c1(myContextMenu|showSenderContextLayer|list|19823) _stopDefault\" href=\"#\" title='\"네이버\" &lt;account_noreply@navercorp.com&gt;'>네이버</a></div>,\n",
       " <div class=\"name _ccr(lst.from) \"><span class=\"blind\">보낸 이:</span><a class=\"_c1(myContextMenu|showSenderContextLayer|list|19821) _stopDefault\" href=\"#\" title='\"네이버\" &lt;account_noreply@navercorp.com&gt;'>네이버</a></div>,\n",
       " <div class=\"name _ccr(lst.from) \"><span class=\"blind\">보낸 이:</span><a class=\"_c1(myContextMenu|showSenderContextLayer|list|19820) _stopDefault\" href=\"#\" title='\"A-RT.COM\" &lt;customer@a-rt.com&gt;'>A-RT.COM</a></div>,\n",
       " <div class=\"name _ccr(lst.from) \"><span class=\"blind\">보낸 이:</span><a class=\"_c1(myContextMenu|showSenderContextLayer|list|19814) _stopDefault\" href=\"#\" title='\"BCM Uphone\" &lt;uphone@bcm.co.kr&gt;'>BCM Uphone</a></div>,\n",
       " <div class=\"name _ccr(lst.from) \"><span class=\"blind\">보낸 이:</span><a class=\"_c1(myContextMenu|showSenderContextLayer|list|19813) _stopDefault\" href=\"#\" title='\"네이버\" &lt;account_noreply@navercorp.com&gt;'>네이버</a></div>,\n",
       " <div class=\"name _ccr(lst.from) \"><span class=\"blind\">보낸 이:</span><a class=\"_c1(myContextMenu|showSenderContextLayer|list|19812) _stopDefault\" href=\"#\" title='\"이벤트안내\" &lt;sigamdata@gmail.com&gt;'>이벤트안내</a></div>,\n",
       " <div class=\"name _ccr(lst.from) \"><span class=\"blind\">보낸 이:</span><a class=\"_c1(myContextMenu|showSenderContextLayer|list|19810) _stopDefault\" href=\"#\" title='\"Uber South Korea\" &lt;uber.south.korea@uber.com&gt;'>Uber South Korea</a></div>,\n",
       " <div class=\"name _ccr(lst.from) \"><span class=\"blind\">보낸 이:</span><a class=\"_c1(myContextMenu|showSenderContextLayer|list|19809) _stopDefault\" href=\"#\" title='\"리멤버\" &lt;no-reply@rememberapp.co.kr&gt;'>리멤버</a></div>,\n",
       " <div class=\"name _ccr(lst.from) \"><span class=\"blind\">보낸 이:</span><a class=\"_c1(myContextMenu|showSenderContextLayer|list|19808) _stopDefault\" href=\"#\" title='\"Facebook\" &lt;notification@facebookmail.com&gt;'>Facebook</a></div>,\n",
       " <div class=\"name _ccr(lst.from) \"><span class=\"blind\">보낸 이:</span><a class=\"_c1(myContextMenu|showSenderContextLayer|list|19807) _stopDefault\" href=\"#\" title='\"이벤트안내\" &lt;sigamdata@gmail.com&gt;'>이벤트안내</a></div>,\n",
       " <div class=\"name _ccr(lst.from) \"><span class=\"blind\">보낸 이:</span><a class=\"_c1(myContextMenu|showSenderContextLayer|list|19806) _stopDefault\" href=\"#\" title='\"네이버\" &lt;account_noreply@navercorp.com&gt;'>네이버</a></div>,\n",
       " <div class=\"name _ccr(lst.from) \"><span class=\"blind\">보낸 이:</span><a class=\"_c1(myContextMenu|showSenderContextLayer|list|19805) _stopDefault\" href=\"#\" title='\"네이버\" &lt;account_noreply@navercorp.com&gt;'>네이버</a></div>,\n",
       " <div class=\"name _ccr(lst.from) \"><span class=\"blind\">보낸 이:</span><a class=\"_c1(myContextMenu|showSenderContextLayer|list|19801) _stopDefault\" href=\"#\" title='\"KB국민은행\" &lt;kbmail@kbmail.kbstar.com&gt;'>KB국민은행</a></div>,\n",
       " <div class=\"name _ccr(lst.from) \"><span class=\"blind\">보낸 이:</span><a class=\"_c1(myContextMenu|showSenderContextLayer|list|19800) _stopDefault\" href=\"#\" title='\"로지아이\" &lt;event@parcelmedia.com&gt;'>로지아이</a></div>,\n",
       " <div class=\"name _ccr(lst.from) \"><span class=\"blind\">보낸 이:</span><a class=\"_c1(myContextMenu|showSenderContextLayer|list|19798) _stopDefault\" href=\"#\" title='\"Facebook\" &lt;notification@facebookmail.com&gt;'>Facebook</a></div>,\n",
       " <div class=\"name _ccr(lst.from) \"><span class=\"blind\">보낸 이:</span><a class=\"_c1(myContextMenu|showSenderContextLayer|list|19797) _stopDefault\" href=\"#\" title='\"이벤트안내\" &lt;sigamdata@gmail.com&gt;'>이벤트안내</a></div>,\n",
       " <div class=\"name _ccr(lst.from) \"><span class=\"blind\">보낸 이:</span><a class=\"_c1(myContextMenu|showSenderContextLayer|list|19794) _stopDefault\" href=\"#\" title='\"이벤트안내\" &lt;sigamdata@gmail.com&gt;'>이벤트안내</a></div>,\n",
       " <div class=\"name _ccr(lst.from) \"><span class=\"blind\">보낸 이:</span><a class=\"_c1(myContextMenu|showSenderContextLayer|list|19792) _stopDefault\" href=\"#\" title='\"Facebook\" &lt;notification@facebookmail.com&gt;'>Facebook</a></div>,\n",
       " <div class=\"name _ccr(lst.from) \"><span class=\"blind\">보낸 이:</span><a class=\"_c1(myContextMenu|showSenderContextLayer|list|19791) _stopDefault\" href=\"#\" title='\"Facebook\" &lt;reminders@facebookmail.com&gt;'>Facebook</a></div>,\n",
       " <div class=\"name _ccr(lst.from) \"><span class=\"blind\">보낸 이:</span><a class=\"_c1(myContextMenu|showSenderContextLayer|list|19790) _stopDefault\" href=\"#\" title='\"Facebook\" &lt;reminders@facebookmail.com&gt;'>Facebook</a></div>,\n",
       " <div class=\"name _ccr(lst.from) \"><span class=\"blind\">보낸 이:</span><a class=\"_c1(myContextMenu|showSenderContextLayer|list|19785) _stopDefault\" href=\"#\" title='\"매경닷컴\" &lt;noreply@mk.co.kr&gt;'>매경닷컴</a></div>,\n",
       " <div class=\"name _ccr(lst.from) \"><span class=\"blind\">보낸 이:</span><a class=\"_c1(myContextMenu|showSenderContextLayer|list|19782) _stopDefault\" href=\"#\" title='\"SSF SHOP\" &lt;webmaster@ssfshop.com&gt;'>SSF SHOP</a></div>,\n",
       " <div class=\"name _ccr(lst.from) \"><span class=\"blind\">보낸 이:</span><a class=\"_c1(myContextMenu|showSenderContextLayer|list|19781) _stopDefault\" href=\"#\" title='\"Facebook\" &lt;reminders@facebookmail.com&gt;'>Facebook</a></div>,\n",
       " <div class=\"name _ccr(lst.from) \"><span class=\"blind\">보낸 이:</span><a class=\"_c1(myContextMenu|showSenderContextLayer|list|19779) _stopDefault\" href=\"#\" title='\"이벤트안내\" &lt;sigamdata@gmail.com&gt;'>이벤트안내</a></div>,\n",
       " <div class=\"name _ccr(lst.from) \"><span class=\"blind\">보낸 이:</span><a class=\"_c1(myContextMenu|showSenderContextLayer|list|19778) _stopDefault\" href=\"#\" title='\"Facebook\" &lt;notification@facebookmail.com&gt;'>Facebook</a></div>,\n",
       " <div class=\"name _ccr(lst.from) \"><span class=\"blind\">보낸 이:</span><a class=\"_c1(myContextMenu|showSenderContextLayer|list|19776) _stopDefault\" href=\"#\" title='\"Facebook\" &lt;reminders@facebookmail.com&gt;'>Facebook</a></div>,\n",
       " <div class=\"name _ccr(lst.from) \"><span class=\"blind\">보낸 이:</span><a class=\"_c1(myContextMenu|showSenderContextLayer|list|19775) _stopDefault\" href=\"#\" title='\"SSF SHOP\" &lt;webmaster@ssfshop.com&gt;'>SSF SHOP</a></div>,\n",
       " <div class=\"name _ccr(lst.from) \"><span class=\"blind\">보낸 이:</span><a class=\"_c1(myContextMenu|showSenderContextLayer|list|19774) _stopDefault\" href=\"#\" title='\"SSF SHOP\" &lt;webmaster@ssfshop.com&gt;'>SSF SHOP</a></div>,\n",
       " <div class=\"name _ccr(lst.from) \"><span class=\"blind\">보낸 이:</span><a class=\"_c1(myContextMenu|showSenderContextLayer|list|19773) _stopDefault\" href=\"#\" title='\"해커스어학원\" &lt;help@hackers.com&gt;'>해커스어학원</a></div>,\n",
       " <div class=\"name _ccr(lst.from) \"><span class=\"blind\">보낸 이:</span><a class=\"_c1(myContextMenu|showSenderContextLayer|list|19772) _stopDefault\" href=\"#\" title='\"네이버\" &lt;account_noreply@navercorp.com&gt;'>네이버</a></div>,\n",
       " <div class=\"name _ccr(lst.from) \"><span class=\"blind\">보낸 이:</span><a class=\"_c1(myContextMenu|showSenderContextLayer|list|19770) _stopDefault\" href=\"#\" title='\"Facebook\" &lt;notification@facebookmail.com&gt;'>Facebook</a></div>,\n",
       " <div class=\"name _ccr(lst.from) \"><span class=\"blind\">보낸 이:</span><a class=\"_c1(myContextMenu|showSenderContextLayer|list|19768) _stopDefault\" href=\"#\" title='\"네이버\" &lt;account_noreply@navercorp.com&gt;'>네이버</a></div>,\n",
       " <div class=\"name _ccr(lst.from) \"><span class=\"blind\">보낸 이:</span><a class=\"_c1(myContextMenu|showSenderContextLayer|list|19767) _stopDefault\" href=\"#\" title='\"Facebook\" &lt;reminders@facebookmail.com&gt;'>Facebook</a></div>,\n",
       " <div class=\"name _ccr(lst.from) \"><span class=\"blind\">보낸 이:</span><a class=\"_c1(myContextMenu|showSenderContextLayer|list|19763) _stopDefault\" href=\"#\" title='\"이벤트안내\" &lt;sigamdata@gmail.com&gt;'>이벤트안내</a></div>,\n",
       " <div class=\"name _ccr(lst.from) \"><span class=\"blind\">보낸 이:</span><a class=\"_c1(myContextMenu|showSenderContextLayer|list|19762) _stopDefault\" href=\"#\" title='\"Facebook\" &lt;notification@facebookmail.com&gt;'>Facebook</a></div>,\n",
       " <div class=\"name _ccr(lst.from) \"><span class=\"blind\">보낸 이:</span><a class=\"_c1(myContextMenu|showSenderContextLayer|list|19761) _stopDefault\" href=\"#\" title='\"케이펫페어 사무국\" &lt;kpet_news@esgroup.net&gt;'>케이펫페어 사무국</a></div>,\n",
       " <div class=\"name _ccr(lst.from) \"><span class=\"blind\">보낸 이:</span><a class=\"_c1(myContextMenu|showSenderContextLayer|list|19760) _stopDefault\" href=\"#\" title='\"줌줌투어\" &lt;noreply@zoomzoomtour.com&gt;'>줌줌투어</a></div>,\n",
       " <div class=\"name _ccr(lst.from) \"><span class=\"blind\">보낸 이:</span><a class=\"_c1(myContextMenu|showSenderContextLayer|list|19759) _stopDefault\" href=\"#\" title='\"네이버\" &lt;account_noreply@navercorp.com&gt;'>네이버</a></div>,\n",
       " <div class=\"name _ccr(lst.from) \"><span class=\"blind\">보낸 이:</span><a class=\"_c1(myContextMenu|showSenderContextLayer|list|19758) _stopDefault\" href=\"#\" title='\"리멤버 커뮤니티\" &lt;no-reply@rememberapp.co.kr&gt;'>리멤버 커뮤니티</a></div>,\n",
       " <div class=\"name _ccr(lst.from) \"><span class=\"blind\">보낸 이:</span><a class=\"_c1(myContextMenu|showSenderContextLayer|list|19754) _stopDefault\" href=\"#\" title='\"크라우드픽\" &lt;crowdpic@crowdpic.net&gt;'>크라우드픽</a></div>,\n",
       " <div class=\"name _ccr(lst.from) \"><span class=\"blind\">보낸 이:</span><a class=\"_c1(myContextMenu|showSenderContextLayer|list|19748) _stopDefault\" href=\"#\" title='\"JAM\" &lt;jamlive_noreply@navercorp.com&gt;'>JAM</a></div>,\n",
       " <div class=\"name _ccr(lst.from) \"><span class=\"blind\">보낸 이:</span><a class=\"_c1(myContextMenu|showSenderContextLayer|list|19747) _stopDefault\" href=\"#\" title='\"Apple Support\" &lt;AppleSupport@email.apple.com&gt;'>Apple Support</a></div>,\n",
       " <div class=\"name _ccr(lst.from) \"><span class=\"blind\">보낸 이:</span><a class=\"_c1(myContextMenu|showSenderContextLayer|list|19746) _stopDefault\" href=\"#\" title='\"A-RT.COM\" &lt;customer@a-rt.com&gt;'>A-RT.COM</a></div>,\n",
       " <div class=\"name _ccr(lst.from) \"><span class=\"blind\">보낸 이:</span><a class=\"_c1(myContextMenu|showSenderContextLayer|list|19745) _stopDefault\" href=\"#\" title='\"Facebook\" &lt;notification@facebookmail.com&gt;'>Facebook</a></div>,\n",
       " <div class=\"name _ccr(lst.from) \"><span class=\"blind\">보낸 이:</span><a class=\"_c1(myContextMenu|showSenderContextLayer|list|19744) _stopDefault\" href=\"#\" title='\"대한법률구조공단\" &lt;admin@klac.or.kr&gt;'>대한법률구조공단</a></div>,\n",
       " <div class=\"name _ccr(lst.from) \"><span class=\"blind\">보낸 이:</span><a class=\"_c1(myContextMenu|showSenderContextLayer|list|19740) _stopDefault\" href=\"#\" title='\"Facebook\" &lt;reminders@facebookmail.com&gt;'>Facebook</a></div>,\n",
       " <div class=\"name _ccr(lst.from) \"><span class=\"blind\">보낸 이:</span><a class=\"_c1(myContextMenu|showSenderContextLayer|list|19739) _stopDefault\" href=\"#\" title='\"케이펫페어 사무국\" &lt;kpet_news@esgroup.net&gt;'>케이펫페어 사무국</a></div>,\n",
       " <div class=\"name _ccr(lst.from) \"><span class=\"blind\">보낸 이:</span><a class=\"_c1(myContextMenu|showSenderContextLayer|list|19737) _stopDefault\" href=\"#\" title='\"Uber South Korea\" &lt;uber.south.korea@uber.com&gt;'>Uber South Korea</a></div>,\n",
       " <div class=\"name _ccr(lst.from) \"><span class=\"blind\">보낸 이:</span><a class=\"_c1(myContextMenu|showSenderContextLayer|list|19732) _stopDefault\" href=\"#\" title='\"Facebook\" &lt;groupupdates@facebookmail.com&gt;'>Facebook</a></div>,\n",
       " <div class=\"name _ccr(lst.from) \"><span class=\"blind\">보낸 이:</span><a class=\"_c1(myContextMenu|showSenderContextLayer|list|19731) _stopDefault\" href=\"#\" title='\"BCM Uphone\" &lt;uphone@bcm.co.kr&gt;'>BCM Uphone</a></div>,\n",
       " <div class=\"name _ccr(lst.from) \"><span class=\"blind\">보낸 이:</span><a class=\"_c1(myContextMenu|showSenderContextLayer|list|19730) _stopDefault\" href=\"#\" title='\"Facebook\" &lt;notification@facebookmail.com&gt;'>Facebook</a></div>,\n",
       " <div class=\"name _ccr(lst.from) \"><span class=\"blind\">보낸 이:</span><a class=\"_c1(myContextMenu|showSenderContextLayer|list|19729) _stopDefault\" href=\"#\" title='\"BCM Uphone\" &lt;uphone@uphone.co.kr&gt;'>BCM Uphone</a></div>,\n",
       " <div class=\"name _ccr(lst.from) \"><span class=\"blind\">보낸 이:</span><a class=\"_c1(myContextMenu|showSenderContextLayer|list|19728) _stopDefault\" href=\"#\" title=\"&lt;BCMUphone@uphone.co.kr&gt;\">BCMUphone@uphon..</a></div>,\n",
       " <div class=\"name _ccr(lst.from) \"><span class=\"blind\">보낸 이:</span><a class=\"_c1(myContextMenu|showSenderContextLayer|list|19727) _stopDefault\" href=\"#\" title='\"네이버\" &lt;account_noreply@navercorp.com&gt;'>네이버</a></div>,\n",
       " <div class=\"name _ccr(lst.from) \"><span class=\"blind\">보낸 이:</span><a class=\"_c1(myContextMenu|showSenderContextLayer|list|19726) _stopDefault\" href=\"#\" title='\"BCM Uphone\" &lt;uphone@bcm.co.kr&gt;'>BCM Uphone</a></div>,\n",
       " <div class=\"name _ccr(lst.from) \"><span class=\"blind\">보낸 이:</span><a class=\"_c1(myContextMenu|showSenderContextLayer|list|19724) _stopDefault\" href=\"#\" title='\"Facebook\" &lt;notification@facebookmail.com&gt;'>Facebook</a></div>,\n",
       " <div class=\"name _ccr(lst.from) \"><span class=\"blind\">보낸 이:</span><a class=\"_c1(myContextMenu|showSenderContextLayer|list|19723) _stopDefault\" href=\"#\" title='\"Apple\" &lt;News_Korea@InsideApple.Apple.com&gt;'>Apple</a></div>,\n",
       " <div class=\"name _ccr(lst.from) \"><span class=\"blind\">보낸 이:</span><a class=\"_c1(myContextMenu|showSenderContextLayer|list|19721) _stopDefault\" href=\"#\" title='\"Facebook\" &lt;notification@facebookmail.com&gt;'>Facebook</a></div>]"
      ]
     },
     "execution_count": 29,
     "metadata": {},
     "output_type": "execute_result"
    }
   ],
   "source": [
    "raw_list = soup.find_all('div',\"name _ccr(lst.from) \")\n",
    "# or raw_list = soup.find_all('div',{'class' : \"name _ccr(lst.from)\")\n",
    "raw_list"
   ]
  },
  {
   "cell_type": "code",
   "execution_count": 31,
   "metadata": {
    "ExecuteTime": {
     "end_time": "2021-03-25T05:50:29.052420Z",
     "start_time": "2021-03-25T05:50:29.038908Z"
    }
   },
   "outputs": [
    {
     "data": {
      "text/plain": [
       "['네이버',\n",
       " '네이버',\n",
       " '네이버',\n",
       " '이벤트안내',\n",
       " '크라우드픽',\n",
       " 'Facebook',\n",
       " 'Facebook',\n",
       " '이벤트안내',\n",
       " 'A-RT.COM',\n",
       " 'Facebook',\n",
       " '이벤트안내',\n",
       " 'Facebook',\n",
       " 'Facebook',\n",
       " 'Apple',\n",
       " 'BCM Uphone',\n",
       " 'Facebook',\n",
       " '줌줌투어',\n",
       " '이벤트안내',\n",
       " '네이버',\n",
       " 'Uber South Korea',\n",
       " 'Facebook',\n",
       " 'Facebook',\n",
       " '이벤트안내',\n",
       " '진로취업지원센터',\n",
       " 'Facebook',\n",
       " '이벤트안내',\n",
       " 'Apple',\n",
       " '이벤트안내',\n",
       " 'DANO',\n",
       " '이벤트안내',\n",
       " '교보문고',\n",
       " 'KB국민은행',\n",
       " 'Facebook',\n",
       " '이벤트안내',\n",
       " '줌줌투어',\n",
       " '이벤트안내',\n",
       " '로지아이',\n",
       " 'Facebook',\n",
       " 'Facebook',\n",
       " '이벤트안내',\n",
       " '카카오헤어샵',\n",
       " '네이버',\n",
       " '네이버',\n",
       " '네이버',\n",
       " 'A-RT.COM',\n",
       " 'BCM Uphone',\n",
       " '네이버',\n",
       " '이벤트안내',\n",
       " 'Uber South Korea',\n",
       " '리멤버',\n",
       " 'Facebook',\n",
       " '이벤트안내',\n",
       " '네이버',\n",
       " '네이버',\n",
       " 'KB국민은행',\n",
       " '로지아이',\n",
       " 'Facebook',\n",
       " '이벤트안내',\n",
       " '이벤트안내',\n",
       " 'Facebook',\n",
       " 'Facebook',\n",
       " 'Facebook',\n",
       " '매경닷컴',\n",
       " 'SSF SHOP',\n",
       " 'Facebook',\n",
       " '이벤트안내',\n",
       " 'Facebook',\n",
       " 'Facebook',\n",
       " 'SSF SHOP',\n",
       " 'SSF SHOP',\n",
       " '해커스어학원',\n",
       " '네이버',\n",
       " 'Facebook',\n",
       " '네이버',\n",
       " 'Facebook',\n",
       " '이벤트안내',\n",
       " 'Facebook',\n",
       " '케이펫페어 사무국',\n",
       " '줌줌투어',\n",
       " '네이버',\n",
       " '리멤버 커뮤니티',\n",
       " '크라우드픽',\n",
       " 'JAM',\n",
       " 'Apple Support',\n",
       " 'A-RT.COM',\n",
       " 'Facebook',\n",
       " '대한법률구조공단',\n",
       " 'Facebook',\n",
       " '케이펫페어 사무국',\n",
       " 'Uber South Korea',\n",
       " 'Facebook',\n",
       " 'BCM Uphone',\n",
       " 'Facebook',\n",
       " 'BCM Uphone',\n",
       " 'BCMUphone@uphon..',\n",
       " '네이버',\n",
       " 'BCM Uphone',\n",
       " 'Facebook',\n",
       " 'Apple',\n",
       " 'Facebook']"
      ]
     },
     "execution_count": 31,
     "metadata": {},
     "output_type": "execute_result"
    }
   ],
   "source": [
    "send_list = [raw_list[n].find('a').get_text() for n in range(0,len(raw_list))]\n",
    "send_list"
   ]
  },
  {
   "cell_type": "code",
   "execution_count": null,
   "metadata": {},
   "outputs": [],
   "source": []
  },
  {
   "cell_type": "code",
   "execution_count": null,
   "metadata": {},
   "outputs": [],
   "source": []
  }
 ],
 "metadata": {
  "kernelspec": {
   "display_name": "Python 3",
   "language": "python",
   "name": "python3"
  },
  "language_info": {
   "codemirror_mode": {
    "name": "ipython",
    "version": 3
   },
   "file_extension": ".py",
   "mimetype": "text/x-python",
   "name": "python",
   "nbconvert_exporter": "python",
   "pygments_lexer": "ipython3",
   "version": "3.8.5"
  },
  "toc": {
   "base_numbering": 1,
   "nav_menu": {},
   "number_sections": true,
   "sideBar": true,
   "skip_h1_title": false,
   "title_cell": "Table of Contents",
   "title_sidebar": "Contents",
   "toc_cell": false,
   "toc_position": {},
   "toc_section_display": true,
   "toc_window_display": false
  },
  "varInspector": {
   "cols": {
    "lenName": 16,
    "lenType": 16,
    "lenVar": 40
   },
   "kernels_config": {
    "python": {
     "delete_cmd_postfix": "",
     "delete_cmd_prefix": "del ",
     "library": "var_list.py",
     "varRefreshCmd": "print(var_dic_list())"
    },
    "r": {
     "delete_cmd_postfix": ") ",
     "delete_cmd_prefix": "rm(",
     "library": "var_list.r",
     "varRefreshCmd": "cat(var_dic_list()) "
    }
   },
   "types_to_exclude": [
    "module",
    "function",
    "builtin_function_or_method",
    "instance",
    "_Feature"
   ],
   "window_display": false
  }
 },
 "nbformat": 4,
 "nbformat_minor": 4
}
