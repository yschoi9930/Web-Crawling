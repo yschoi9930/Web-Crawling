{
 "cells": [
  {
   "cell_type": "code",
   "execution_count": 6,
   "metadata": {
    "collapsed": true
   },
   "outputs": [],
   "source": [
    "from bs4 import BeautifulSoup\n",
    "from urllib.request import urlopen\n",
    "from urllib.request import Request\n",
    "import pandas as pd\n",
    "import numpy as np"
   ]
  },
  {
   "cell_type": "code",
   "execution_count": 8,
   "metadata": {},
   "outputs": [
    {
     "data": {
      "text/plain": [
       "<!DOCTYPE html>\n",
       "\n",
       "<html lang=\"en-US\">\n",
       "<head>\n",
       "<meta charset=\"utf-8\"/>\n",
       "<meta content=\"IE=edge\" http-equiv=\"X-UA-Compatible\">\n",
       "<link href=\"https://gmpg.org/xfn/11\" rel=\"profile\"/>\n",
       "<title>The 50 Best Sandwiches in Chicago – Chicago Magazine</title>\n",
       "<style type=\"text/css\">\t\t\t.heateorSssInstagramBackground{background:radial-gradient(circle at 30% 107%,#fdf497 0,#fdf497 5%,#fd5949 45%,#d6249f 60%,#285aeb 90%)}\n",
       "\t\t\t\t\t\tdiv.heateor_sss_horizontal_sharing i.heateorSssInstagramBackground{background:#000!important;}div.heateor_sss_standard_follow_icons_container i.heateorSssInstagramBackground{background:#000;}\n",
       "\t\t\t\t\t\t\t\t\t\t.heateor_sss_horizontal_sharing .heateorSssSharing,.heateor_sss_standard_follow_icons_container .heateorSssSharing{\n",
       "\t\t\t\t\t\t\tbackground-color: #000;\n",
       "\t\t\t\t\t\t\tcolor: #fff;\n",
       "\t\t\t\t\t\tborder-width: 0px;\n",
       "\t\t\tborder-style: solid;\n",
       "\t\t\tborder-color: transparent;\n",
       "\t\t}\n",
       "\t\t\t\t.heateor_sss_horizontal_sharing .heateorSssTCBackground{\n",
       "\t\t\tcolor:#666;\n",
       "\t\t}\n",
       "\t\t\t\t.heateor_sss_horizontal_sharing .heateorSssSharing:hover,.heateor_sss_standard_follow_icons_container .heateorSssSharing:hover{\n",
       "\t\t\t\t\t\tborder-color: transparent;\n",
       "\t\t}\n",
       "\t\t.heateor_sss_vertical_sharing .heateorSssSharing,.heateor_sss_floating_follow_icons_container .heateorSssSharing{\n",
       "\t\t\t\t\t\t\tcolor: #fff;\n",
       "\t\t\t\t\t\tborder-width: 0px;\n",
       "\t\t\tborder-style: solid;\n",
       "\t\t\tborder-color: transparent;\n",
       "\t\t}\n",
       "\t\t\t\t.heateor_sss_vertical_sharing .heateorSssTCBackground{\n",
       "\t\t\tcolor:#666;\n",
       "\t\t}\n",
       "\t\t\t\t.heateor_sss_vertical_sharing .heateorSssSharing:hover,.heateor_sss_floating_follow_icons_container .heateorSssSharing:hover{\n",
       "\t\t\t\t\t\tborder-color: transparent;\n",
       "\t\t}\n",
       "\t\t\n",
       "\t\t@media screen and (max-width:783px) {.heateor_sss_vertical_sharing{display:none!important}}@media screen and (max-width:783px) {.heateor_sss_floating_follow_icons_container{display:none!important}}</style><link href=\"//use.fontawesome.com\" rel=\"dns-prefetch\">\n",
       "<link href=\"//s.w.org\" rel=\"dns-prefetch\"/>\n",
       "<link href=\"https://www.chicagomag.com/feed/\" rel=\"alternate\" title=\"Chicago Magazine » Feed\" type=\"application/rss+xml\"/>\n",
       "<link href=\"https://www.chicagomag.com/comments/feed/\" rel=\"alternate\" title=\"Chicago Magazine » Comments Feed\" type=\"application/rss+xml\"/>\n",
       "<link href=\"https://www.chicagomag.com/chicago-magazine/november-2012/best-sandwiches-chicago/feed/\" rel=\"alternate\" title=\"Chicago Magazine » The 50 Best Sandwiches in Chicago Comments Feed\" type=\"application/rss+xml\"/>\n",
       "<script>\n",
       "\t\t\twindow._wpemojiSettings = {\"baseUrl\":\"https:\\/\\/s.w.org\\/images\\/core\\/emoji\\/13.0.1\\/72x72\\/\",\"ext\":\".png\",\"svgUrl\":\"https:\\/\\/s.w.org\\/images\\/core\\/emoji\\/13.0.1\\/svg\\/\",\"svgExt\":\".svg\",\"source\":{\"concatemoji\":\"https:\\/\\/www.chicagomag.com\\/wp-includes\\/js\\/wp-emoji-release.min.js?ver=5.6\"}};\n",
       "\t\t\t!function(e,a,t){var r,n,o,i,p=a.createElement(\"canvas\"),s=p.getContext&&p.getContext(\"2d\");function c(e,t){var a=String.fromCharCode;s.clearRect(0,0,p.width,p.height),s.fillText(a.apply(this,e),0,0);var r=p.toDataURL();return s.clearRect(0,0,p.width,p.height),s.fillText(a.apply(this,t),0,0),r===p.toDataURL()}function l(e){if(!s||!s.fillText)return!1;switch(s.textBaseline=\"top\",s.font=\"600 32px Arial\",e){case\"flag\":return!c([127987,65039,8205,9895,65039],[127987,65039,8203,9895,65039])&&(!c([55356,56826,55356,56819],[55356,56826,8203,55356,56819])&&!c([55356,57332,56128,56423,56128,56418,56128,56421,56128,56430,56128,56423,56128,56447],[55356,57332,8203,56128,56423,8203,56128,56418,8203,56128,56421,8203,56128,56430,8203,56128,56423,8203,56128,56447]));case\"emoji\":return!c([55357,56424,8205,55356,57212],[55357,56424,8203,55356,57212])}return!1}function d(e){var t=a.createElement(\"script\");t.src=e,t.defer=t.type=\"text/javascript\",a.getElementsByTagName(\"head\")[0].appendChild(t)}for(i=Array(\"flag\",\"emoji\"),t.supports={everything:!0,everythingExceptFlag:!0},o=0;o<i.length;o++)t.supports[i[o]]=l(i[o]),t.supports.everything=t.supports.everything&&t.supports[i[o]],\"flag\"!==i[o]&&(t.supports.everythingExceptFlag=t.supports.everythingExceptFlag&&t.supports[i[o]]);t.supports.everythingExceptFlag=t.supports.everythingExceptFlag&&!t.supports.flag,t.DOMReady=!1,t.readyCallback=function(){t.DOMReady=!0},t.supports.everything||(n=function(){t.readyCallback()},a.addEventListener?(a.addEventListener(\"DOMContentLoaded\",n,!1),e.addEventListener(\"load\",n,!1)):(e.attachEvent(\"onload\",n),a.attachEvent(\"onreadystatechange\",function(){\"complete\"===a.readyState&&t.readyCallback()})),(r=t.source||{}).concatemoji?d(r.concatemoji):r.wpemoji&&r.twemoji&&(d(r.twemoji),d(r.wpemoji)))}(window,document,window._wpemojiSettings);\n",
       "\t\t</script>\n",
       "<style>\n",
       "img.wp-smiley,\n",
       "img.emoji {\n",
       "\tdisplay: inline !important;\n",
       "\tborder: none !important;\n",
       "\tbox-shadow: none !important;\n",
       "\theight: 1em !important;\n",
       "\twidth: 1em !important;\n",
       "\tmargin: 0 .07em !important;\n",
       "\tvertical-align: -0.1em !important;\n",
       "\tbackground: none !important;\n",
       "\tpadding: 0 !important;\n",
       "}\n",
       "</style>\n",
       "<link href=\"https://www.chicagomag.com/wp-includes/css/dist/block-library/style.min.css?ver=5.6\" id=\"wp-block-library-css\" media=\"all\" rel=\"stylesheet\"/>\n",
       "<link href=\"https://www.chicagomag.com/wp-content/plugins/wordpress-popular-posts/assets/css/wpp.css?ver=5.2.4\" id=\"wordpress-popular-posts-css-css\" media=\"all\" rel=\"stylesheet\"/>\n",
       "<link href=\"//use.fontawesome.com/releases/v5.13.0/css/all.css?ver=5.6\" id=\"font-awesome-free-css\" media=\"all\" rel=\"stylesheet\"/>\n",
       "<link href=\"https://www.chicagomag.com/wp-content/themes/generatepress/assets/css/unsemantic-grid.min.css?ver=3.0.2\" id=\"generate-style-grid-css\" media=\"all\" rel=\"stylesheet\"/>\n",
       "<link href=\"https://www.chicagomag.com/wp-content/themes/generatepress/assets/css/style.min.css?ver=3.0.2\" id=\"generate-style-css\" media=\"all\" rel=\"stylesheet\"/>\n",
       "<style id=\"generate-style-inline-css\">\n",
       "body{background-color:#efefef;color:#3a3a3a;}a{color:#1e73be;}a:hover, a:focus, a:active{color:#000000;}body .grid-container{max-width:1100px;}.wp-block-group__inner-container{max-width:1100px;margin-left:auto;margin-right:auto;}body, button, input, select, textarea{font-family:-apple-system, system-ui, BlinkMacSystemFont, \"Segoe UI\", Helvetica, Arial, sans-serif, \"Apple Color Emoji\", \"Segoe UI Emoji\", \"Segoe UI Symbol\";}body{line-height:1.5;}.entry-content > [class*=\"wp-block-\"]:not(:last-child){margin-bottom:1.5em;}.main-title{font-size:45px;}.main-navigation .main-nav ul ul li a{font-size:14px;}.sidebar .widget, .footer-widgets .widget{font-size:17px;}h1{font-weight:300;font-size:40px;}h2{font-weight:300;font-size:30px;}h3{font-size:20px;}h4{font-size:inherit;}h5{font-size:inherit;}@media (max-width:768px){.main-title{font-size:30px;}h1{font-size:30px;}h2{font-size:25px;}}.top-bar{background-color:#636363;color:#ffffff;}.top-bar a{color:#ffffff;}.top-bar a:hover{color:#303030;}.site-header{background-color:#ffffff;color:#3a3a3a;}.site-header a{color:#3a3a3a;}.main-title a,.main-title a:hover{color:#222222;}.site-description{color:#757575;}.main-navigation,.main-navigation ul ul{background-color:#222222;}.main-navigation .main-nav ul li a,.menu-toggle, .main-navigation .menu-bar-items{color:#ffffff;}.main-navigation .main-nav ul li:hover > a,.main-navigation .main-nav ul li:focus > a, .main-navigation .main-nav ul li.sfHover > a, .main-navigation .menu-bar-item:hover > a, .main-navigation .menu-bar-item.sfHover > a{color:#ffffff;background-color:#3f3f3f;}button.menu-toggle:hover,button.menu-toggle:focus,.main-navigation .mobile-bar-items a,.main-navigation .mobile-bar-items a:hover,.main-navigation .mobile-bar-items a:focus{color:#ffffff;}.main-navigation .main-nav ul li[class*=\"current-menu-\"] > a{color:#ffffff;background-color:#3f3f3f;}.main-navigation .main-nav ul li[class*=\"current-menu-\"] > a:hover,.main-navigation .main-nav ul li[class*=\"current-menu-\"].sfHover > a{color:#ffffff;background-color:#3f3f3f;}.navigation-search input[type=\"search\"],.navigation-search input[type=\"search\"]:active, .navigation-search input[type=\"search\"]:focus, .main-navigation .main-nav ul li.search-item.active > a, .main-navigation .menu-bar-items .search-item.active > a{color:#ffffff;background-color:#3f3f3f;}.main-navigation ul ul{background-color:#3f3f3f;}.main-navigation .main-nav ul ul li a{color:#ffffff;}.main-navigation .main-nav ul ul li:hover > a,.main-navigation .main-nav ul ul li:focus > a,.main-navigation .main-nav ul ul li.sfHover > a{color:#ffffff;background-color:#4f4f4f;}.main-navigation .main-nav ul ul li[class*=\"current-menu-\"] > a{color:#ffffff;background-color:#4f4f4f;}.main-navigation .main-nav ul ul li[class*=\"current-menu-\"] > a:hover,.main-navigation .main-nav ul ul li[class*=\"current-menu-\"].sfHover > a{color:#ffffff;background-color:#4f4f4f;}.separate-containers .inside-article, .separate-containers .comments-area, .separate-containers .page-header, .one-container .container, .separate-containers .paging-navigation, .inside-page-header{background-color:#ffffff;}.entry-meta{color:#595959;}.entry-meta a{color:#595959;}.entry-meta a:hover{color:#1e73be;}.sidebar .widget{background-color:#ffffff;}.sidebar .widget .widget-title{color:#000000;}.footer-widgets{background-color:#ffffff;}.footer-widgets .widget-title{color:#000000;}.site-info{color:#ffffff;background-color:#222222;}.site-info a{color:#ffffff;}.site-info a:hover{color:#606060;}.footer-bar .widget_nav_menu .current-menu-item a{color:#606060;}input[type=\"text\"],input[type=\"email\"],input[type=\"url\"],input[type=\"password\"],input[type=\"search\"],input[type=\"tel\"],input[type=\"number\"],textarea,select{color:#666666;background-color:#fafafa;border-color:#cccccc;}input[type=\"text\"]:focus,input[type=\"email\"]:focus,input[type=\"url\"]:focus,input[type=\"password\"]:focus,input[type=\"search\"]:focus,input[type=\"tel\"]:focus,input[type=\"number\"]:focus,textarea:focus,select:focus{color:#666666;background-color:#ffffff;border-color:#bfbfbf;}button,html input[type=\"button\"],input[type=\"reset\"],input[type=\"submit\"],a.button,a.wp-block-button__link:not(.has-background){color:#ffffff;background-color:#666666;}button:hover,html input[type=\"button\"]:hover,input[type=\"reset\"]:hover,input[type=\"submit\"]:hover,a.button:hover,button:focus,html input[type=\"button\"]:focus,input[type=\"reset\"]:focus,input[type=\"submit\"]:focus,a.button:focus,a.wp-block-button__link:not(.has-background):active,a.wp-block-button__link:not(.has-background):focus,a.wp-block-button__link:not(.has-background):hover{color:#ffffff;background-color:#3f3f3f;}a.generate-back-to-top{background-color:rgba( 0,0,0,0.4 );color:#ffffff;}a.generate-back-to-top:hover,a.generate-back-to-top:focus{background-color:rgba( 0,0,0,0.6 );color:#ffffff;}@media (max-width:768px){.main-navigation .menu-bar-item:hover > a, .main-navigation .menu-bar-item.sfHover > a{background:none;color:#ffffff;}}.inside-top-bar{padding:10px;}.inside-header{padding:40px;}.entry-content .alignwide, body:not(.no-sidebar) .entry-content .alignfull{margin-left:-40px;width:calc(100% + 80px);max-width:calc(100% + 80px);}.rtl .menu-item-has-children .dropdown-menu-toggle{padding-left:20px;}.rtl .main-navigation .main-nav ul li.menu-item-has-children > a{padding-right:20px;}.site-info{padding:20px;}@media (max-width:768px){.separate-containers .inside-article, .separate-containers .comments-area, .separate-containers .page-header, .separate-containers .paging-navigation, .one-container .site-content, .inside-page-header, .wp-block-group__inner-container{padding:30px;}.site-info{padding-right:10px;padding-left:10px;}.entry-content .alignwide, body:not(.no-sidebar) .entry-content .alignfull{margin-left:-30px;width:calc(100% + 60px);max-width:calc(100% + 60px);}}.one-container .sidebar .widget{padding:0px;}@media (max-width:768px){.main-navigation .menu-toggle,.main-navigation .mobile-bar-items,.sidebar-nav-mobile:not(#sticky-placeholder){display:block;}.main-navigation ul,.gen-sidebar-nav{display:none;}[class*=\"nav-float-\"] .site-header .inside-header > *{float:none;clear:both;}}\n",
       "</style>\n",
       "<link href=\"https://www.chicagomag.com/wp-content/themes/generatepress/assets/css/mobile.min.css?ver=3.0.2\" id=\"generate-mobile-style-css\" media=\"all\" rel=\"stylesheet\"/>\n",
       "<link href=\"https://www.chicagomag.com/wp-content/themes/generatepress/assets/css/components/font-icons.min.css?ver=3.0.2\" id=\"generate-font-icons-css\" media=\"all\" rel=\"stylesheet\"/>\n",
       "<link href=\"https://www.chicagomag.com/wp-content/themes/Chicago%20Magazine/style.css?ver=1616449890\" id=\"generate-child-css\" media=\"all\" rel=\"stylesheet\"/>\n",
       "<link href=\"https://www.chicagomag.com/wp-content/plugins/sassy-social-share/public/css/sassy-social-share-public.css?ver=3.3.20\" id=\"heateor_sss_frontend_css-css\" media=\"all\" rel=\"stylesheet\"/>\n",
       "<link href=\"https://www.chicagomag.com/wp-content/plugins/sassy-social-share/admin/css/sassy-social-share-svg.css?ver=3.3.20\" id=\"heateor_sss_sharing_default_svg-css\" media=\"all\" rel=\"stylesheet\"/>\n",
       "<link href=\"https://www.chicagomag.com/wp-content/plugins/youtube-embed-plus-pro/styles/ytprefs.min.css?ver=13.4.2\" id=\"__EPYT__style-css\" media=\"all\" rel=\"stylesheet\"/>\n",
       "<style id=\"__EPYT__style-inline-css\">\n",
       "\n",
       "                .epyt-gallery-thumb {\n",
       "                        width: 33.333%;\n",
       "                }\n",
       "                \n",
       "                         @media (min-width:0px) and (max-width: 767px) {\n",
       "                            .epyt-gallery-rowbreak {\n",
       "                                display: none;\n",
       "                            }\n",
       "                            .epyt-gallery-allthumbs[class*=\"epyt-cols\"] .epyt-gallery-thumb {\n",
       "                                width: 100% !important;\n",
       "                            }\n",
       "                          }\n",
       "</style>\n",
       "<link href=\"https://www.chicagomag.com/wp-content/plugins/youtube-embed-plus-pro/scripts/lity.min.css?ver=13.4.2\" id=\"__disptype__-css\" media=\"all\" rel=\"stylesheet\"/>\n",
       "<script id=\"wpp-json\" type=\"application/json\">\n",
       "{\"sampling_active\":0,\"sampling_rate\":100,\"ajax_url\":\"https:\\/\\/www.chicagomag.com\\/wp-json\\/wordpress-popular-posts\\/v1\\/popular-posts\",\"ID\":11772,\"token\":\"32275cb6f3\",\"lang\":0,\"debug\":0}\n",
       "</script>\n",
       "<script id=\"wpp-js-js\" src=\"https://www.chicagomag.com/wp-content/plugins/wordpress-popular-posts/assets/js/wpp.min.js?ver=5.2.4\"></script>\n",
       "<script id=\"jquery-core-js\" src=\"https://www.chicagomag.com/wp-includes/js/jquery/jquery.min.js?ver=3.5.1\"></script>\n",
       "<script id=\"jquery-migrate-js\" src=\"https://www.chicagomag.com/wp-includes/js/jquery/jquery-migrate.min.js?ver=3.3.2\"></script>\n",
       "<script id=\"__dispload__-js\" src=\"https://www.chicagomag.com/wp-content/plugins/youtube-embed-plus-pro/scripts/lity.min.js?ver=13.4.2\"></script>\n",
       "<script id=\"__ytprefs__-js-extra\">\n",
       "var _EPYT_ = {\"ajaxurl\":\"https:\\/\\/www.chicagomag.com\\/wp-admin\\/admin-ajax.php\",\"security\":\"9944cd831f\",\"gallery_scrolloffset\":\"20\",\"eppathtoscripts\":\"https:\\/\\/www.chicagomag.com\\/wp-content\\/plugins\\/youtube-embed-plus-pro\\/scripts\\/\",\"eppath\":\"https:\\/\\/www.chicagomag.com\\/wp-content\\/plugins\\/youtube-embed-plus-pro\\/\",\"epresponsiveselector\":\"[\\\"iframe.__youtube_prefs_widget__\\\"]\",\"epdovol\":\"1\",\"version\":\"13.4.2\",\"evselector\":\"iframe.__youtube_prefs__[src], iframe[src*=\\\"youtube.com\\/embed\\/\\\"], iframe[src*=\\\"youtube-nocookie.com\\/embed\\/\\\"]\",\"ajax_compat\":\"\",\"ytapi_load\":\"light\",\"pause_others\":\"\",\"stopMobileBuffer\":\"1\",\"vi_active\":\"\",\"vi_js_posttypes\":[]};\n",
       "</script>\n",
       "<script id=\"__ytprefs__-js\" src=\"https://www.chicagomag.com/wp-content/plugins/youtube-embed-plus-pro/scripts/ytprefs.min.js?ver=13.4.2\"></script>\n",
       "<link href=\"https://www.chicagomag.com/wp-json/\" rel=\"https://api.w.org/\"/><link href=\"https://www.chicagomag.com/wp-json/wp/v2/posts/11772\" rel=\"alternate\" type=\"application/json\"/><link href=\"https://www.chicagomag.com/xmlrpc.php?rsd\" rel=\"EditURI\" title=\"RSD\" type=\"application/rsd+xml\"/>\n",
       "<link href=\"https://www.chicagomag.com/wp-includes/wlwmanifest.xml\" rel=\"wlwmanifest\" type=\"application/wlwmanifest+xml\"/>\n",
       "<link href=\"https://www.chicagomag.com/chicago-magazine/november-2012/best-sandwiches-chicago/\" rel=\"canonical\"/>\n",
       "<link href=\"https://www.chicagomag.com/?p=11772\" rel=\"shortlink\"/>\n",
       "<link href=\"https://www.chicagomag.com/wp-json/oembed/1.0/embed?url=https%3A%2F%2Fwww.chicagomag.com%2Fchicago-magazine%2Fnovember-2012%2Fbest-sandwiches-chicago%2F\" rel=\"alternate\" type=\"application/json+oembed\"/>\n",
       "<link href=\"https://www.chicagomag.com/wp-json/oembed/1.0/embed?url=https%3A%2F%2Fwww.chicagomag.com%2Fchicago-magazine%2Fnovember-2012%2Fbest-sandwiches-chicago%2F&amp;format=xml\" rel=\"alternate\" type=\"text/xml+oembed\"/>\n",
       "<link href=\"https://www.chicagomag.com/xmlrpc.php\" rel=\"pingback\"/>\n",
       "<meta content=\"width=device-width, initial-scale=1\" name=\"viewport\"/><link href=\"https://www.chicagomag.com/wp-content/uploads/2021/02/favicon.png\" rel=\"icon\" sizes=\"32x32\">\n",
       "<link href=\"https://www.chicagomag.com/wp-content/uploads/2021/02/favicon.png\" rel=\"icon\" sizes=\"192x192\"/>\n",
       "<link href=\"https://www.chicagomag.com/wp-content/uploads/2021/02/favicon.png\" rel=\"apple-touch-icon\"/>\n",
       "<meta content=\"https://www.chicagomag.com/wp-content/uploads/2021/02/favicon.png\" name=\"msapplication-TileImage\">\n",
       "<!-- BEGIN Typekit Fonts for WordPress -->\n",
       "<link href=\"https://use.typekit.net/ukb3erh.css\" rel=\"stylesheet\"/>\n",
       "<!-- END Typekit Fonts for WordPress -->\n",
       "<!-- start seo fields -->\n",
       "<meta content=\"Our list of Chicago’s 50 best sandwiches, ranked in order of deliciousness\" name=\"description\"/>\n",
       "<meta content=\"sandwiches, dining\" name=\"keywords\"/>\n",
       "<meta content=\"en_US\" property=\"og:locale\"/>\n",
       "<meta content=\"article\" property=\"og:type\"/>\n",
       "<meta content=\"The 50 Best Sandwiches in Chicago\" property=\"og:title\"/>\n",
       "<meta content=\"https://www.chicagomag.com/wp-content/archive/Chicago-Magazine/November-2012/Best-Sandwiches-Chicago/sandwich-old-oak.jpg\" property=\"og:image\"/>\n",
       "<link href=\"https://www.chicagomag.com/Chicago-Magazine/November-2012/Best-Sandwiches-Chicago/\" rel=\"canonical\">\n",
       "<meta content=\"https://www.chicagomag.com/Chicago-Magazine/November-2012/Best-Sandwiches-Chicago/\" property=\"og:url\"/>\n",
       "<meta content=\"Chicago Magazine\" property=\"og:site_name\"/>\n",
       "<!--<meta property=\"article:tag\" content=\"\" />-->\n",
       "<meta content=\"Chicago Magazine\" property=\"article:section\"/>\n",
       "<!--\n",
       "<meta property=\"article:published_time\" content=\"\" />\n",
       "<meta property=\"article:modified_time\" content=\"\" />\n",
       "<meta property=\"og:updated_time\" content=\"\" />\n",
       "-->\n",
       "<meta content=\"summary_large_image\" name=\"twitter:card\"/>\n",
       "<meta content=\"https://www.chicagomag.com/wp-content/archive/Chicago-Magazine/November-2012/Best-Sandwiches-Chicago/sandwich-old-oak.jpg\" name=\"twitter:image\"/>\n",
       "<meta content=\"Our list of Chicago’s 50 best sandwiches, ranked in order of deliciousness\" name=\"twitter:description\"/>\n",
       "<meta content=\"The 50 Best Sandwiches in Chicago\" name=\"twitter:title\"/>\n",
       "<!-- end seo fields -->\n",
       "<!-- GA Google Analytics @ https://m0n.co/ga -->\n",
       "<script async=\"\" src=\"https://www.googletagmanager.com/gtag/js?id=UA-297666-1\"></script>\n",
       "<script>\n",
       "\twindow.dataLayer = window.dataLayer || [];\n",
       "\tfunction gtag(){dataLayer.push(arguments);}\n",
       "\tgtag('js', new Date());\n",
       "\tgtag('config', 'UA-297666-1');\n",
       "</script>\n",
       "<!-- start chartbeat code -->\n",
       "<script type=\"text/javascript\">\n",
       " (function() {\n",
       " /** CONFIGURATION START **/\n",
       " var _sf_async_config = window._sf_async_config = (window._sf_async_config || {});\n",
       " _sf_async_config.uid = 25745;\n",
       " _sf_async_config.domain = 'chicagomag.com';\n",
       " _sf_async_config.flickerControl = false;\n",
       " _sf_async_config.useCanonical = true;\n",
       " _sf_async_config.useCanonicalDomain = true;\n",
       " _sf_async_config.sections = 'Chicago Magazine';\n",
       " _sf_async_config.authors = 'Chicago Magazine';\n",
       " /** CONFIGURATION END **/\n",
       " function loadChartbeat() {\n",
       " var e = document.createElement('script');\n",
       " var n = document.getElementsByTagName('script')[0];\n",
       " e.type = 'text/javascript';\n",
       " e.async = true;\n",
       " e.src = '//static.chartbeat.com/js/chartbeat.js';\n",
       " n.parentNode.insertBefore(e, n);\n",
       " }\n",
       " loadChartbeat();\n",
       " })();\n",
       "</script>\n",
       "<script async=\"\" src=\"//static.chartbeat.com/js/chartbeat_mab.js\"></script>\n",
       "<!-- end chartbeat code -->\n",
       "<!-- Start GPT Tag -->\n",
       "<script async=\"\" src=\"https://securepubads.g.doubleclick.net/tag/js/gpt.js\"></script>\n",
       "<!-- noodle nirvana -->\n",
       "<script>\n",
       "\twindow.googletag = window.googletag || {cmd: []};\n",
       "\tgoogletag.cmd.push(function() {\n",
       "\t\tgoogletag.defineSlot('/4011/trb.chicagomag/hp', [[728,90]], 'div-gpt-ad-2789321-1')\n",
       "\t\t\t.setTargeting('pos', ['1'])\n",
       "\t\t\t.addService(googletag.pubads());\n",
       "\t\tgoogletag.defineSlot('/4011/trb.chicagomag/hp', [[728,90]], 'div-gpt-ad-2789321-2')\n",
       "\t\t\t.setTargeting('pos', ['2'])\n",
       "\t\t\t.addService(googletag.pubads());\n",
       "\t\tgoogletag.defineSlot('/4011/trb.chicagomag/hp', [[728,90]], 'div-gpt-ad-2789321-3')\n",
       "\t\t\t.setTargeting('pos', ['3'])\n",
       "\t\t\t.addService(googletag.pubads());\n",
       "\t\tgoogletag.defineSlot('/4011/trb.chicagomag/hp', [[728,90]], 'div-gpt-ad-2789321-4')\n",
       "\t\t\t.setTargeting('pos', ['4'])\n",
       "\t\t\t.addService(googletag.pubads());\n",
       "\t\tgoogletag.defineSlot('/4011/trb.chicagomag/hp', [[728,90]], 'div-gpt-ad-2789321-5')\n",
       "\t\t\t.setTargeting('pos', ['5'])\n",
       "\t\t\t.addService(googletag.pubads());\n",
       "\t\tgoogletag.defineSlot('/4011/trb.chicagomag/hp', [[320,50]], 'div-gpt-ad-2789321-6')\n",
       "\t\t\t.setTargeting('pos', ['1'])\n",
       "\t\t\t.addService(googletag.pubads());\n",
       "\t\tgoogletag.defineSlot('/4011/trb.chicagomag/hp', [[320,50]], 'div-gpt-ad-2789321-7')\n",
       "\t\t\t.setTargeting('pos', ['2'])\n",
       "\t\t\t.addService(googletag.pubads());\n",
       "\t\tgoogletag.defineSlot('/4011/trb.chicagomag/hp', [[320,50]], 'div-gpt-ad-2789321-8')\n",
       "\t\t\t.setTargeting('pos', ['3'])\n",
       "\t\t\t.addService(googletag.pubads());\n",
       "\t\tgoogletag.defineSlot('/4011/trb.chicagomag/hp', [[320,50]], 'div-gpt-ad-2789321-9')\n",
       "\t\t\t.setTargeting('pos', ['4'])\n",
       "\t\t\t.addService(googletag.pubads());\n",
       "\t\tgoogletag.defineSlot('/4011/trb.chicagomag/hp', [[320,50]], 'div-gpt-ad-2789321-10')\n",
       "\t\t\t.setTargeting('pos', ['5'])\n",
       "\t\t\t.addService(googletag.pubads());\n",
       "\t\tgoogletag.defineSlot('/4011/trb.chicagomag/hp', [[300,250]], 'div-gpt-ad-2789321-11')\n",
       "\t\t\t.setTargeting('pos', ['1'])\n",
       "\t\t\t.addService(googletag.pubads());\n",
       "\t\tgoogletag.defineSlot('/4011/trb.chicagomag/hp', [[300,250],[300,600]], 'div-gpt-ad-2789321-12')\n",
       "\t\t\t.setTargeting('pos', ['2'])\n",
       "\t\t\t.addService(googletag.pubads());\n",
       "\t\tgoogletag.defineSlot('/4011/trb.chicagomag/hp', [[300,250]], 'div-gpt-ad-2789321-13')\n",
       "\t\t\t.setTargeting('pos', ['3'])\n",
       "\t\t\t.addService(googletag.pubads());\n",
       "\t\tgoogletag.defineSlot('/4011/trb.chicagomag/hp', [[300,250]], 'div-gpt-ad-2789321-14')\n",
       "\t\t\t.setTargeting('pos', ['4'])\n",
       "\t\t\t.addService(googletag.pubads());\n",
       "\t\tgoogletag.defineSlot('/4011/trb.chicagomag/hp', [[300,250]], 'div-gpt-ad-2789321-15')\n",
       "\t\t\t.setTargeting('pos', ['2'])\n",
       "\t\t\t.addService(googletag.pubads());\t\n",
       "\n",
       "\t\tgoogletag.pubads().setTargeting('adcat', ['dining-drinking']);\t\t\t\t\n",
       "\t\tgoogletag.enableServices();\n",
       "\t});\n",
       "</script>\n",
       "<!-- End GPT Tag -->\n",
       "<!-- below is header style for all pages besides home -->\n",
       "<style>\n",
       "\n",
       "\t/* logo / nav\n",
       "\t-------------------------------------------------------------- */\n",
       "\t.site-header {\n",
       "\t\twidth: 18% !important;\n",
       "\t\tdisplay: table !important;\n",
       "\t\tfloat: left !important;\n",
       "\t\theight: 90px;\n",
       "\t}\n",
       "\n",
       "\t.inside-header {\n",
       "\t\tdisplay: table-cell !important;\n",
       "\t\tvertical-align: bottom !important;\n",
       "\t\tpadding: 0 !important;\n",
       "\t\tpadding-left: 5vw !important;\n",
       "\t}\n",
       "\n",
       "\t.main-navigation {\n",
       "\t\twidth: 82% !important;\n",
       "\t\tdisplay: table !important;\n",
       "\t\tposition: relative !important;\n",
       "\t\tfloat: left !important;\n",
       "\t\tclear: inherit !important;\n",
       "\t\theight: 90px;\n",
       "\t}\n",
       "\n",
       "\t.inside-navigation {\n",
       "\t\tdisplay: table-cell !important;\n",
       "\t\tvertical-align: bottom !important;\n",
       "\t\tpadding-right: 5vw !important;\n",
       "\t\ttext-align: right !important;\n",
       "\t}\n",
       "\n",
       "\t.main-navigation ul {\n",
       "\t\tborder: 0 !important;\n",
       "\t\tline-height: 1em !important;\n",
       "\t}\n",
       "\n",
       "\t.main-navigation .main-nav ul li a {\n",
       "\t\tpadding-left: 15px !important;\n",
       "\t\tpadding-right: 15px !important;\n",
       "\t\tline-height: 1em !important;\n",
       "\t}\n",
       "\n",
       "\t.main-navigation .main-nav ul li:last-of-type a {\n",
       "\t\tpadding-right: 0 !important;\n",
       "\t}\n",
       "\n",
       "\t/* layout\n",
       "\t-------------------------------------------------------------- */\n",
       "\t.separate-containers .site-main {\n",
       "\t\tmargin-top: 0 !important;\n",
       "\t}\n",
       "\t\n",
       ".post-template-single-package-child.separate-containers .site-main {\n",
       "\tmargin-top: 3.05555vw !important;\n",
       "}\n",
       "\n",
       "\t@media only screen and (max-width: 1024px) {\n",
       "\t\t\n",
       "\t\t.site-header {\n",
       "\t\t\twidth: 100% !important;\n",
       "\t\t\tdisplay: block !important;\n",
       "\t\t\tfloat: none !important;\n",
       "\t\t\theight: inherit !important;\n",
       "\t}\n",
       "\n",
       "\t\t.main-navigation ul {\n",
       "\t\t\tborder: 0 !important;\n",
       "\t\t\tline-height: 1em !important;\n",
       "\t\t}\n",
       "\n",
       "\t\t.main-navigation .main-nav ul li a {\n",
       "\t\t\tpadding-left: 10px !important;\n",
       "\t\t\tpadding-right: 10px !important;\n",
       "\t\t\tline-height: 1em !important;\n",
       "\t\t}\n",
       "\t\t\n",
       "\t\t.inside-header {\n",
       "\t\t\tdisplay: block !important;\n",
       "\t\t\tvertical-align: inherit !important;\n",
       "\t\t\tpadding: 3.75vw 0 0 0 !important;\n",
       "\t\t}\n",
       "\t\n",
       "\t\t.site-logo {\n",
       "\t\t\tdisplay: inline-block;\n",
       "\t\t}\n",
       "\n",
       "\t\t.nav-aligned-center .main-navigation {\n",
       "\t\t\ttext-align: center;\n",
       "\t\t}\n",
       "\n",
       "\t\t.main-navigation {\n",
       "\t\t\twidth: 100% !important;\n",
       "\t\t\tdisplay: inline-block !important;\n",
       "\t\t\tposition: relative !important;\n",
       "\t\t\tfloat: none !important;\n",
       "\t\t\tclear: inherit !important;\n",
       "\t\t\theight: inherit !important;\n",
       "\t\t}\n",
       "\n",
       "\t\t.inside-navigation {\n",
       "\t\t\tdisplay: inline-block !important;\n",
       "\t\t\tvertical-align: inherit !important;\n",
       "\t\t\tpadding-right: 0 !important;\n",
       "\t\t\ttext-align: center !important;\n",
       "\t\t\tmargin: 0 auto !important;\n",
       "\t\t\tmargin-top: 3.75vw !important;\n",
       "\t\t}\n",
       "\n",
       "\t}\n",
       "\n",
       "\t@media only screen and (max-width: 768px) {\n",
       "\n",
       "\t\t.site-header {\n",
       "\t\t\twidth: 100% !important;\n",
       "\t\t\tdisplay: table !important;\n",
       "\t\t\tfloat: left !important;\n",
       "\t\t\theight: 90px;\n",
       "\t\t}\n",
       "\n",
       "\t\t.main-navigation, .inside-navigation {\n",
       "\t\t\tdisplay: none !important;\n",
       "\t\t}\n",
       "\n",
       "\t}\n",
       "\n",
       "</style>\n",
       "<style></style></link></meta></link></link></meta></head>\n",
       "<body class=\"post-template-default single single-post postid-11772 single-format-standard wp-custom-logo wp-embed-responsive no-sidebar nav-below-header separate-containers fluid-header active-footer-widgets-3 nav-aligned-center header-aligned-center dropdown-hover\" itemscope=\"\" itemtype=\"https://schema.org/Blog\">\n",
       "<div class=\"grid-toggle-wrap\"><a class=\"grid-toggle\">.</a></div>\n",
       "<div class=\"grid-guide\">\n",
       "<div class=\"grid-guide-col\"><span>1</span></div>\n",
       "<div class=\"grid-guide-col\"><span>2</span></div>\n",
       "<div class=\"grid-guide-col\"><span>3</span></div>\n",
       "<div class=\"grid-guide-col\"><span>4</span></div>\n",
       "<div class=\"grid-guide-col\"><span>5</span></div>\n",
       "<div class=\"grid-guide-col\"><span>6</span></div>\n",
       "<div class=\"grid-guide-col\"><span>7</span></div>\n",
       "<div class=\"grid-guide-col\"><span>8</span></div>\n",
       "<div class=\"grid-guide-col\"><span>9</span></div>\n",
       "<div class=\"grid-guide-col\"><span>10</span></div>\n",
       "<div class=\"grid-guide-col\"><span>11</span></div>\n",
       "<div class=\"grid-guide-col\"><span>12</span></div>\n",
       "<div class=\"grid-guide-col\"><span>13</span></div>\n",
       "<div class=\"grid-guide-col\"><span>14</span></div>\n",
       "<div class=\"grid-guide-col\"><span>15</span></div>\n",
       "<div class=\"grid-guide-col\"><span>16</span></div>\n",
       "<div class=\"grid-guide-col\"><span>17</span></div>\n",
       "<div class=\"grid-guide-col\"><span>18</span></div>\n",
       "<div class=\"grid-guide-col\"><span>19</span></div>\n",
       "<div class=\"grid-guide-col\"><span>20</span></div>\n",
       "<div class=\"grid-guide-col\"><span>21</span></div>\n",
       "<div class=\"grid-guide-col\"><span>22</span></div>\n",
       "<div class=\"grid-guide-col\"><span>23</span></div>\n",
       "<div class=\"grid-guide-col\"><span>24</span></div>\n",
       "</div>\n",
       "<div class=\"ad-space ad-space-leader top-ad-space hide-on-mobile\">\n",
       "<!-- GPT AdSlot 1 for Ad unit 'trb.chicagomag/hp' ### Size: [[728,90]] -->\n",
       "<div id=\"div-gpt-ad-2789321-1\">\n",
       "<script>\n",
       "\t\t\tgoogletag.cmd.push(function() { googletag.display('div-gpt-ad-2789321-1'); });\n",
       "\t\t</script>\n",
       "</div>\n",
       "<!-- End AdSlot 1 -->\n",
       "</div>\n",
       "<div class=\"ad-space ad-space-leader top-ad-space hide-on-desktop hide-on-tablet\">\n",
       "<!-- GPT AdSlot 6 for Ad unit 'trb.chicagomag/hp' ### Size: [[320,50]] -->\n",
       "<div id=\"div-gpt-ad-2789321-6\">\n",
       "<script>\n",
       "\t\t\tgoogletag.cmd.push(function() { googletag.display('div-gpt-ad-2789321-6'); });\n",
       "\t\t</script>\n",
       "</div>\n",
       "<!-- End AdSlot 6 -->\n",
       "</div>\n",
       "<div id=\"nav2-open\">\n",
       "<a class=\"nav2-toggle\"><i class=\"fa fa-bars\"></i></a>\n",
       "</div>\n",
       "<div id=\"nav2-close\">\n",
       "<a class=\"nav2-toggle\"><i class=\"fa fa-times\"></i></a>\n",
       "</div>\n",
       "<div id=\"nav2-overlay\"></div>\n",
       "<div id=\"nav2-overlay-top\"></div>\n",
       "<div id=\"nav2-overlay-btm\"></div>\n",
       "<div id=\"nav2-inner-overlay\">\n",
       "<div id=\"nav2-inner\">\n",
       "<div class=\"grid-container grid-parent\">\n",
       "<div class=\"grid-5 prefix-1 suffix-1 nav2-cover hide-on-mobile\">\n",
       "<img src=\"/wp-content/uploads/2020/12/logo-alt.jpg\"/>\n",
       "<img src=\"\"/>\n",
       "<a href=\"https://cma.pcdfusion.com/pcd/Order?iKey=I**D7B\" target=\"_blank\">Subscribe</a>\n",
       "<a href=\"\">Newsletters</a>\n",
       "<a class=\"nav-social\" href=\"https://www.facebook.com/ChicagoMagazine\" target=\"_blank\"><i class=\"fab fa-facebook-f\"></i></a>\n",
       "<a class=\"nav-social\" href=\"http://www.twitter.com/chicagomag/\" target=\"_blank\"><i class=\"fab fa-twitter\"></i></a>\n",
       "<a class=\"nav-social\" href=\"http://instagram.com/chicagomag\" target=\"_blank\"><i class=\"fab fa-instagram\"></i></a>\n",
       "<a class=\"nav-social\" href=\"https://www.youtube.com/channel/UCOkRC6Y4LUyvglGmyC52KPw\" target=\"_blank\"><i class=\"fab fa-youtube\"></i></a>\n",
       "</div>\n",
       "<div class=\"grid-100 nav2-cover hide-on-desktop\">\n",
       "<img src=\"/wp-content/uploads/2020/12/logo-alt.jpg\"/>\n",
       "<form action=\"https://www.chicagomag.com/\" class=\"search-form\" method=\"get\">\n",
       "<label>\n",
       "<span class=\"screen-reader-text\">Search for:</span>\n",
       "<input class=\"search-field\" name=\"s\" placeholder=\"Search …\" title=\"Search for:\" type=\"search\" value=\"\"/>\n",
       "</label>\n",
       "<input class=\"search-submit\" type=\"submit\" value=\"Search\"/></form>\n",
       "</div>\n",
       "<div class=\"grid-7 prefix-1 suffix-1 mobile-grid-100 mobile-prefix-0 mobile-suffix-0\">\n",
       "<div class=\"section-header\">\n",
       "<div class=\"section-divide\"></div>\n",
       "<h2>Sections</h2>\n",
       "</div>\n",
       "<a href=\"https://www.chicagomag.com/news/\">News &amp; Politics</a>\n",
       "<a href=\"https://www.chicagomag.com/dining-drinking/\">Dining &amp; Drinking</a>\n",
       "<a href=\"https://www.chicagomag.com/city-life/\">City Life</a>\n",
       "<a href=\"https://www.chicagomag.com/arts-culture/\">Culture</a>\n",
       "<a href=\"https://www.chicagomag.com/real-estate/\">Real Estate</a>\n",
       "<a href=\"https://www.chicagomag.com/style-shopping/\">Style</a>\n",
       "<div class=\"section-header\">\n",
       "<div class=\"section-divide\"></div>\n",
       "<h2>Featured</h2>\n",
       "</div>\n",
       "<a href=\"https://www.chicagomag.com/video/\">Video</a>\n",
       "<a href=\"https://www.chicagomag.com/long-reads/\">Long Reads</a>\n",
       "<a href=\"https://www.chicagomag.com/chicago-magazine/april-2020/best-new-restaurants-11/\">Best New Restaurants</a>\n",
       "<a href=\"https://www.chicagomag.com/top-doctors/\">Top Doctors</a>\n",
       "</div>\n",
       "<div class=\"grid-7 suffix-1 mobile-grid-100 mobile-suffix-1\">\n",
       "<div class=\"section-header\">\n",
       "<div class=\"section-divide\"></div>\n",
       "<h2>Magazine</h2>\n",
       "</div>\n",
       "<a href=\"https://www.chicagomag.com/issue-archive/\">All Issues</a>\n",
       "<a href=\"https://cma.pcdfusion.com/pcd/Order?iKey=I**D7B\">Subscribe</a>\n",
       "<a href=\"https://cma.pcdfusion.com/pcd/CustomerSupport/Account/Login?ReturnUrl=%2fpcd%2fCustomerSupport%2fApp%2f3141\">Manage Subscription</a>\n",
       "<a href=\"https://www.chicagomag.com/advertise/\">Advertise</a>\n",
       "<div class=\"section-header\">\n",
       "<div class=\"section-divide\"></div>\n",
       "<h2>More</h2>\n",
       "</div>\n",
       "<a href=\"https://www.chicagomag.com/events/\">Events</a>\n",
       "<a href=\"https://www.chicagomag.com/about-the-magazine/\">About Us</a>\n",
       "<a href=\"https://www.chicagomag.com/contact-us/\">Contact Us</a>\n",
       "<a href=\"https://www.chicagomag.com/follow-us/\">Follow Us</a>\n",
       "<a href=\"https://www.chicagomag.com/resource-guide/\">Resource Guide</a>\n",
       "</div>\n",
       "<div class=\"mobile-grid-100 hide-on-desktop\" style=\"margin-bottom: 10vw;\">\n",
       "<img src=\"/wp-content/archive/Chicago-Magazine/December-2020/CMAG1220.jpg\" style=\"margin-top: 5vw;\"/>\n",
       "<a href=\"https://cma.pcdfusion.com/pcd/Order?iKey=I**D7B\">Subscribe</a>\n",
       "<a href=\"\">Newsletters</a>\n",
       "<a class=\"nav-social\" href=\"https://www.facebook.com/ChicagoMagazine\" target=\"_blank\"><i class=\"fab fa-facebook-f\"></i></a>\n",
       "<a class=\"nav-social\" href=\"http://www.twitter.com/chicagomag/\" target=\"_blank\"><i class=\"fab fa-twitter\"></i></a>\n",
       "<a class=\"nav-social\" href=\"http://instagram.com/chicagomag\" target=\"_blank\"><i class=\"fab fa-instagram\"></i></a>\n",
       "<a class=\"nav-social\" href=\"https://www.youtube.com/channel/UCOkRC6Y4LUyvglGmyC52KPw\" target=\"_blank\"><i class=\"fab fa-youtube\"></i></a>\n",
       "</div>\n",
       "</div>\n",
       "</div>\n",
       "</div>\n",
       "<div id=\"top-right-nav\">\n",
       "<div id=\"search-overlay\">\n",
       "<div id=\"search-close\">\n",
       "<a class=\"search-close-btn\">\n",
       "<i class=\"fas fa-times\"></i>\n",
       "</a>\n",
       "</div>\n",
       "<form action=\"https://www.chicagomag.com/\" class=\"search-form\" method=\"get\">\n",
       "<label>\n",
       "<span class=\"screen-reader-text\">Search for:</span>\n",
       "<input class=\"search-field\" name=\"s\" placeholder=\"Search …\" title=\"Search for:\" type=\"search\" value=\"\"/>\n",
       "</label>\n",
       "<input class=\"search-submit\" type=\"submit\" value=\"Search\"/></form>\n",
       "</div>\n",
       "<div class=\"top-right-nav-links\">\n",
       "<a class=\"search-open\"><i class=\"fa fa-search\"></i></a>\n",
       "<a href=\"/events/\">Events</a>\n",
       "<a href=\"https://cma.pcdfusion.com/pcd/Order?iKey=I**D7B\">Subscribe</a>\n",
       "</div>\n",
       "</div>\n",
       "<div id=\"navbar\">\n",
       "<div id=\"nav2-open\">\n",
       "<a class=\"nav2-toggle\"><i class=\"fa fa-bars\"></i></a>\n",
       "</div>\n",
       "<a href=\"/\"><img class=\"navbar-logo\" src=\"/wp-content/uploads/2020/10/logo.png\"/></a>\n",
       "</div>\n",
       "<a class=\"screen-reader-text skip-link\" href=\"#content\" title=\"Skip to content\">Skip to content</a> <header class=\"site-header\" id=\"masthead\" itemscope=\"\" itemtype=\"https://schema.org/WPHeader\">\n",
       "<div class=\"inside-header grid-container grid-parent\">\n",
       "<div class=\"site-logo\">\n",
       "<a href=\"https://www.chicagomag.com/\" rel=\"home\" title=\"Chicago Magazine\">\n",
       "<img alt=\"Chicago Magazine\" class=\"header-image is-logo-image\" src=\"https://www.chicagomag.com/wp-content/uploads/2020/10/logo.png\" title=\"Chicago Magazine\">\n",
       "</img></a>\n",
       "</div> </div>\n",
       "</header>\n",
       "<nav class=\"main-navigation sub-menu-right\" id=\"site-navigation\" itemscope=\"\" itemtype=\"https://schema.org/SiteNavigationElement\">\n",
       "<div class=\"inside-navigation grid-container grid-parent\">\n",
       "<button aria-controls=\"primary-menu\" aria-expanded=\"false\" class=\"menu-toggle\">\n",
       "<span class=\"mobile-menu\">Menu</span> </button>\n",
       "<div class=\"main-nav\" id=\"primary-menu\"><ul class=\"menu sf-menu\" id=\"menu-main\"><li class=\"menu-item menu-item-type-taxonomy menu-item-object-category menu-item-32855\" id=\"menu-item-32855\"><a href=\"https://www.chicagomag.com/news/\">News &amp; Politics</a></li>\n",
       "<li class=\"menu-item menu-item-type-taxonomy menu-item-object-category menu-item-32856\" id=\"menu-item-32856\"><a href=\"https://www.chicagomag.com/dining-drinking/\">Dining &amp; Drinking</a></li>\n",
       "<li class=\"menu-item menu-item-type-taxonomy menu-item-object-category menu-item-33687\" id=\"menu-item-33687\"><a href=\"https://www.chicagomag.com/city-life/\">City Life</a></li>\n",
       "<li class=\"menu-item menu-item-type-taxonomy menu-item-object-category menu-item-32857\" id=\"menu-item-32857\"><a href=\"https://www.chicagomag.com/arts-culture/\">Culture</a></li>\n",
       "<li class=\"menu-item menu-item-type-taxonomy menu-item-object-category menu-item-32858\" id=\"menu-item-32858\"><a href=\"https://www.chicagomag.com/real-estate/\">Real Estate</a></li>\n",
       "<li class=\"menu-item menu-item-type-taxonomy menu-item-object-category menu-item-32859\" id=\"menu-item-32859\"><a href=\"https://www.chicagomag.com/style-shopping/\">Style</a></li>\n",
       "<li class=\"menu-item menu-item-type-post_type menu-item-object-page menu-item-29785\" id=\"menu-item-29785\"><a href=\"https://www.chicagomag.com/top-doctors/\">Top Docs</a></li>\n",
       "</ul></div> </div>\n",
       "</nav>\n",
       "<div class=\"hfeed site grid-container container grid-parent\" id=\"page\">\n",
       "<div class=\"site-content\" id=\"content\">\n",
       "<div id=\"page-title\"></div>\n",
       "<!-- start external content -->\n",
       "<!-- end external content -->\n",
       "<div class=\"content-area grid-parent mobile-grid-100 grid-100 tablet-grid-100\" id=\"primary\">\n",
       "<main class=\"site-main\" id=\"main\">\n",
       "<style>\n",
       "\t\n",
       "  .article-wrap {\n",
       "\t\tmargin-top: 2.22222vw !important;\n",
       "\t}\n",
       "\t\n",
       "\t.single .article-img {\n",
       "\t\ttext-align: left;\n",
       "\t}\n",
       "  \n",
       "  @media only screen and (max-width: 1024px) {\n",
       "   \n",
       "\t\t.container.grid-container {\n",
       "      width: 100%;\n",
       "    }\n",
       "    \n",
       "    .article-wrap .grid-10:first-of-type {\n",
       "      display: none;\n",
       "    }\n",
       "\t\t\n",
       "    .article-side {\n",
       "      padding-left: 0 !important;\n",
       "    }\n",
       "    \n",
       "    .article-img {\n",
       "      max-width: 100%;\n",
       "    }\n",
       "    \n",
       "  }\n",
       "\n",
       "  @media only screen and (max-width: 480px) {\n",
       "    \n",
       "    .site-header {\n",
       "\t\t\twidth: 100% !important;\n",
       "      height: 70px;\n",
       "    }\n",
       "    \n",
       "    .main-navigation {\n",
       "      display: none !important;\n",
       "    }\n",
       "    \n",
       "    .article-body p, .article-body li {\n",
       "      font-size: 18px;\n",
       "    }\n",
       "    \n",
       "    .drop-cap {\n",
       "      width: 70px;\n",
       "      height: 70px;\n",
       "      font-size: 60px;\n",
       "      line-height: 70px;\n",
       "    }\n",
       "    \n",
       "    .drop-cap-secondary {\n",
       "      font-size: 60px;\n",
       "      height: 45px;\n",
       "    }\n",
       "    \n",
       "  }\n",
       "  \n",
       "</style>\n",
       "<!-- start featured -->\n",
       "<!-- start super article featured image -->\n",
       "<!-- end super article featured image -->\n",
       "<!-- start head and deck -->\n",
       "<div class=\"grid-container grid-parent art-head-deck\">\n",
       "<div class=\"grid-12 prefix-5 tablet-grid-14 tablet-prefix-0 mobile-grid-100 mobile-prefix-0\">\n",
       "<div class=\"art-head h60\">The 50 Best Sandwiches in Chicago</div>\n",
       "<div class=\"art-deck\"><p>Our list of Chicago’s 50 best sandwiches, ranked in order of deliciousness</p>\n",
       "</div>\n",
       "<div class=\"art-byline-wrap\">\n",
       "</div>\n",
       "<div class=\"art-timestamp\">October 9, 2012, 6:12 pm</div>\n",
       "<div class=\"heateor_sss_sharing_container heateor_sss_horizontal_sharing\" heateor-sss-data-href=\"https://www.chicagomag.com/chicago-magazine/november-2012/best-sandwiches-chicago/\" ss-offset=\"0\"><ul class=\"heateor_sss_sharing_ul\"><li class=\"heateorSssSharingRound\"><i alt=\"Facebook\" class=\"heateorSssSharing heateorSssFacebookBackground\" onclick='heateorSssPopup(\"https://www.facebook.com/sharer/sharer.php?u=https%3A%2F%2Fwww.chicagomag.com%2Fchicago-magazine%2Fnovember-2012%2Fbest-sandwiches-chicago%2F\")' style=\"width:24px;height:24px;border-radius:999px;\" title=\"Facebook\"><ss class=\"heateorSssSharingSvg heateorSssFacebookSvg\" style=\"display:block;border-radius:999px;\"></ss></i></li><li class=\"heateorSssSharingRound\"><i alt=\"Twitter\" class=\"heateorSssSharing heateorSssTwitterBackground\" onclick='heateorSssPopup(\"http://twitter.com/intent/tweet?text=The%2050%20Best%20Sandwiches%20in%20Chicago&amp;url=https%3A%2F%2Fwww.chicagomag.com%2Fchicago-magazine%2Fnovember-2012%2Fbest-sandwiches-chicago%2F\")' style=\"width:24px;height:24px;border-radius:999px;\" title=\"Twitter\"><ss class=\"heateorSssSharingSvg heateorSssTwitterSvg\" style=\"display:block;border-radius:999px;\"></ss></i></li><li class=\"heateorSssSharingRound\"><i alt=\"Email\" class=\"heateorSssSharing heateorSssEmailBackground\" onclick=\"window.open('mailto:?subject=' + decodeURIComponent('The%2050%20Best%20Sandwiches%20in%20Chicago' ).replace('&amp;', '%26') + '&amp;body=' + decodeURIComponent('https%3A%2F%2Fwww.chicagomag.com%2Fchicago-magazine%2Fnovember-2012%2Fbest-sandwiches-chicago%2F' ), '_blank')\" style=\"width:24px;height:24px;border-radius:999px;\" title=\"Email\"><ss class=\"heateorSssSharingSvg heateorSssEmailSvg\" style=\"display:block\"></ss></i></li><li class=\"heateorSssSharingRound\"><i alt=\"Copy Link\" class=\"heateorSssSharing heateorSssCopyLinkBackground\" style=\"width:24px;height:24px;border-radius:999px;\" title=\"Copy Link\"><ss class=\"heateorSssSharingSvg heateorSssCopyLinkSvg\" style=\"display:block;border-radius:999px;\"></ss></i></li><li class=\"heateorSssSharingRound\"><i alt=\"Comment\" class=\"heateorSssSharing heateorSssCommentBackground\" style=\"width:24px;height:24px;border-radius:999px;\" title=\"Comment\"><a href=\"https://www.chicagomag.com/chicago-magazine/november-2012/best-sandwiches-chicago/#respond\" rel=\"nofollow\"><ss class=\"heateorSssSharingSvg heateorSssCommentSvg\" style=\"display:block\"></ss></a></i></li></ul><div class=\"heateorSssClear\"></div></div>\n",
       "</div>\n",
       "</div>\n",
       "<!-- end head and deck -->\n",
       "<!-- start featured image below meta data -->\n",
       "<div class=\"grid-container grid-parent featured-img\">\n",
       "<div class=\"grid-12 prefix-5 tablet-grid-14 tablet-prefix-0 mobile-grid-100 mobile-prefix-0\">\n",
       "<div class=\"article-img\">\n",
       "<figure>\n",
       "<img src=\"/wp-content/archive/Chicago-Magazine/November-2012/Best-Sandwiches-Chicago/sandwich-old-oak.jpg\"/>\n",
       "<figcaption>BLT at Old Oak Tap, the No. 1 sandwich in Chicago. <span class=\"photo-credit\">Photograph: Anna Knott; Food Stylist: Lisa Kuehl</span></figcaption>\n",
       "</figure>\n",
       "</div>\n",
       "</div>\n",
       "</div>\n",
       "<!-- end featured image below meta data -->\n",
       "<!-- end featured -->\n",
       "<!-- start article wrap -->\n",
       "<div class=\"grid-container grid-parent article-wrap\">\n",
       "<div class=\"grid-4 hide-on-tablet hide-on-mobile\"> </div>\n",
       "<div class=\"grid-12 prefix-1 tablet-grid-14 tablet-prefix-0 suffix-1 mobile-grid-100 mobile-prefix-0 mobile-suffix-0\">\n",
       "<div class=\"article-body\">\n",
       "<p><span class=\"dropcap\">F</span>or generations, sandwiches were the ultimate guilty pleasure of subcultures that had no patience for guilt: hungry bachelors, school kids, working stiffs, old men in delis. To fridge-foraging rubes like Dagwood, quality wasn’t half as important as quantity. The sandwich was one of the only snacks you were allowed to pile as high as you wanted with anything you desired and cram into your face with both hands—a meal so inelegant and blithely proud of its inelegance that it came in six-foot segments for parties. And we ate it. Standing up.</p>\n",
       "<section class=\"related-content pull-right\">\n",
       "<h3>Related Content</h3>\n",
       "<ul>\n",
       "<li><a href=\"http://www.chicagomag.com/Chicago-Magazine/November-2012/Best-Sandwiches-in-\n",
       "Chicago-The-Best-Sliders-in-Town\">The Best Sliders in Town</a></li>\n",
       "<li><a href=\"http://www.chicagomag.com/Chicago-Magazine/November-2012/Best-Sandwiches-in-\n",
       "Chicago-Where-to-Get-Your-Fix-Around-the-Clock\">Where to Get Your Fix Around the Clock</a></li>\n",
       "</ul>\n",
       "</section>\n",
       "<p>Now we’ve got French dips made with shaved prime rib, po’ boys with organic shrimp, and grilled cheese with fancy pimiento cheese. Hell, you can get a buttered ciabatta layered with local eggs, house-cured speck, and fontina for breakfast at Balsan if the idea of spending $19 for a ham and egg sandwich does not scandalize you. What in the name of John Montagu is going on here?</p>\n",
       "<p>The sandwich pendulum has always swung erratically from the treat of the nobility to the fuel of the proletariat. But what we’re witnessing now is the sharpest swerve yet toward the land of fine dining—a shift that overlaps, not coincidentally, with the great democratization of Chicago’s restaurants. Ground zero for the boom is Publican Quality Meats, where Paul Kahan regards sandwiches as serious dishes. So does Acadia’s Ryan McCaskey, who makes a mean lobster roll, and Rick Bayless, who offers up a vegetarian stunner at Xoco.</p>\n",
       "<p>To guide you through the bustling sandscape, we fanned out across the city and suburbs, hitting spots high and low in search of anything delicious between two slices of bread. For the purposes of this story, we defined “sandwich” in the strictest of terms: no wraps, dumplings, or open-faced pretenders. Hamburgers and hot dogs didn’t qualify. Italian beef sandwiches did, but not one made this list. (Face facts: Chicago’s spongy grease bomb is not among the better contributions to the genre.) We gave points to the well crafted, the fresh, and the robust, anchored by bread with enough distinct character to bolster the proceedings without overshadowing or interfering.</p>\n",
       "<p>The result: our list of Chicago’s 50 best sandwiches, ranked in order of deliciousness. Some are ingenious, such as Scofflaw’s layered masterpiece of braised brisket, pork belly, and pork loin. Others are blunt and glorious classics, done simply and done right. (Meatball sub from Bari, take a bow.)</p>\n",
       "<p>In our research, we learned that the sandwich is a wily chameleon, soaking up and synthesizing every trend, be it the resurgence of house-cured charcuterie or the sudden ubiquity of arugula. We learned to ask for extra napkins ahead of time. And we learned, above all, that quality and quantity can intersect in restaurants, and there’s no shame in that. Only joy.</p>\n",
       "<div class=\"sammy\" style=\"position: relative;\">\n",
       "<div class=\"sammyRank\">1</div>\n",
       "<div class=\"sammyListing\"><a href=\"/Chicago-Magazine/November-2012/Best-Sandwiches-in-Chicago-Old-Oak-Tap-BLT/\"><b>BLT</b><br/>\n",
       "Old Oak Tap<br/>\n",
       "<em>Read more</em> </a></div>\n",
       "</div>\n",
       "<div class=\"sammy\" style=\"position: relative;\">\n",
       "<div class=\"sammyRank\">2</div>\n",
       "<div class=\"sammyListing\"><a href=\"/Chicago-Magazine/November-2012/Best-Sandwiches-in-Chicago-Au-Cheval-Fried-Bologna/\"><b>Fried Bologna</b><br/>\n",
       "Au Cheval<br/>\n",
       "<em>Read more</em> </a></div>\n",
       "</div>\n",
       "<div class=\"sammy\" style=\"position: relative;\">\n",
       "<div class=\"sammyRank\">3</div>\n",
       "<div class=\"sammyListing\"><a href=\"/Chicago-Magazine/November-2012/Best-Sandwiches-in-Chicago-Xoco-Woodland-Mushroom/\"><b>Woodland Mushroom</b><br/>\n",
       "Xoco<br/>\n",
       "<em>Read more</em> </a></div>\n",
       "</div>\n",
       "<div class=\"sammy\" style=\"position: relative;\">\n",
       "<div class=\"sammyRank\">4</div>\n",
       "<div class=\"sammyListing\"><a href=\"/Chicago-Magazine/November-2012/Best-Sandwiches-in-Chicago-Als-Deli-Roast-Beef/\"><b>Roast Beef</b><br/>\n",
       "Al’s Deli<br/>\n",
       "<em>Read more</em> </a></div>\n",
       "</div>\n",
       "<div class=\"sammy\" style=\"position: relative;\">\n",
       "<div class=\"sammyRank\">5</div>\n",
       "<div class=\"sammyListing\"><a href=\"/Chicago-Magazine/November-2012/Best-Sandwiches-in-Chicago-Publican-Quality-Meats-PB-L/\"><b>PB&amp;L</b><br/>\n",
       "Publican Quality Meats<br/>\n",
       "<em>Read more</em> </a></div>\n",
       "</div>\n",
       "<div class=\"sammy\" style=\"position: relative;\">\n",
       "<div class=\"sammyRank\">6</div>\n",
       "<div class=\"sammyListing\"><a href=\"http://www.chicagomag.com/Chicago-Magazine/November-2012/Best-Sandwiches-in-Chicago-Hendrickx-Belgian-Bread-Crafter-Belgian-Chicken-Curry-Salad/\"><b>Belgian Chicken Curry Salad</b><br/>\n",
       "Hendrickx Belgian Bread Crafter<br/>\n",
       "<em>Read more</em> </a></div>\n",
       "</div>\n",
       "<div class=\"sammy\" style=\"position: relative;\">\n",
       "<div class=\"sammyRank\">7</div>\n",
       "<div class=\"sammyListing\"><a href=\"/Chicago-Magazine/November-2012/Best-Sandwiches-in-Chicago-Acadia-Lobster-Roll/\"><b>Lobster Roll</b><br/>\n",
       "Acadia<br/>\n",
       "<em>Read more</em> </a></div>\n",
       "</div>\n",
       "<div class=\"sammy\" style=\"position: relative;\">\n",
       "<div class=\"sammyRank\">8</div>\n",
       "<div class=\"sammyListing\"><a href=\"/Chicago-Magazine/November-2012/Best-Sandwiches-in-Chicago-Birchwood-Kitchen-Smoked-Salmon-Salad/\"><b>Smoked Salmon Salad</b><br/>\n",
       "Birchwood Kitchen<br/>\n",
       "<em>Read more</em> </a></div>\n",
       "</div>\n",
       "<div class=\"sammy\" style=\"position: relative;\">\n",
       "<div class=\"sammyRank\">9</div>\n",
       "<div class=\"sammyListing\"><a href=\"/Chicago-Magazine/November-2012/Best-Sandwiches-in-Chicago-Cemitas-Puebla-Atomica-Cemitas/\"><b>Atomica Cemitas</b><br/>\n",
       "Cemitas Puebla<br/>\n",
       "<em>Read more</em> </a></div>\n",
       "</div>\n",
       "<div class=\"sammy\" style=\"position: relative;\">\n",
       "<div class=\"sammyRank\">10</div>\n",
       "<div class=\"sammyListing\"><a href=\"/Chicago-Magazine/November-2012/Best-Sandwiches-in-Chicago-Nana-Grilled-Laughing-Bird-Shrimp-and-Fried-Oyster-Po-Boy/\"><b>Grilled Laughing Bird Shrimp and Fried Po’ Boy</b><br/>\n",
       "Nana<br/>\n",
       "<em>Read more</em> </a></div>\n",
       "</div>\n",
       "<div class=\"sammy\" style=\"position: relative;\">\n",
       "<div class=\"sammyRank\">11</div>\n",
       "<div class=\"sammyListing\"><a href=\"http://www.chicagomag.com/Chicago-Magazine/November-2012/Best-Sandwiches-in-Chicago-Lula-Cafe-Ham-and-Raclette-Panino/\"><b>Ham and Raclette Panino</b><br/>\n",
       "Lula Cafe<br/>\n",
       "<em>Read more</em> </a></div>\n",
       "</div>\n",
       "<div class=\"sammy\" style=\"position: relative;\">\n",
       "<div class=\"sammyRank\">12</div>\n",
       "<div class=\"sammyListing\"><a href=\"http://www.chicagomag.com/Chicago-Magazine/November-2012/Best-Sandwiches-in-Chicago-Ricobenes-Breaded-Steak/\"><b>Breaded Steak</b><br/>\n",
       "Ricobene’s<br/>\n",
       "<em>Read more</em> </a></div>\n",
       "</div>\n",
       "<div class=\"sammy\" style=\"position: relative;\">\n",
       "<div class=\"sammyRank\">13</div>\n",
       "<div class=\"sammyListing\"><a href=\"http://www.chicagomag.com/Chicago-Magazine/November-2012/Best-Sandwiches-in-Chicago-Frog-n-Snail-The-Hawkeye/\"><b>The Hawkeye</b><br/>\n",
       "Frog n Snail<br/>\n",
       "<em>Read more</em> </a></div>\n",
       "</div>\n",
       "<div class=\"sammy\" style=\"position: relative;\">\n",
       "<div class=\"sammyRank\">14</div>\n",
       "<div class=\"sammyListing\"><a href=\"http://www.chicagomag.com/Chicago-Magazine/November-2012/Best-Sandwiches-in-Chicago-Crosbys-Kitchen-Chicken-Dip/\"><b>Chicken Dip</b><br/>\n",
       "Crosby’s Kitchen<br/>\n",
       "<em>Read more</em> </a></div>\n",
       "</div>\n",
       "<div class=\"sammy\" style=\"position: relative;\">\n",
       "<div class=\"sammyRank\">15</div>\n",
       "<div class=\"sammyListing\"><a href=\"http://www.chicagomag.com/Chicago-Magazine/November-2012/Best-Sandwiches-in-Chicago-Longman-and-Eagle-Wild-Boar-Sloppy-Joe/\"><b>Wild Boar Sloppy Joe</b><br/>\n",
       "Longman &amp; Eagle<br/>\n",
       "<em>Read more</em> </a></div>\n",
       "</div>\n",
       "<div class=\"sammy\" style=\"position: relative;\">\n",
       "<div class=\"sammyRank\">16</div>\n",
       "<div class=\"sammyListing\"><a href=\"http://www.chicagomag.com/Chicago-Magazine/November-2012/Best-Sandwiches-in-Chicago-Bari-Meatball-Sub/\"><b>Meatball Sub</b><br/>\n",
       "Bari<br/>\n",
       "<em>Read more</em> </a></div>\n",
       "</div>\n",
       "<div class=\"sammy\" style=\"position: relative;\">\n",
       "<div class=\"sammyRank\">17</div>\n",
       "<div class=\"sammyListing\"><a href=\"http://www.chicagomag.com/Chicago-Magazine/November-2012/Best-Sandwiches-in-Chicago-Mannys-Corned-Beef/\"><b>Corned Beef</b><br/>\n",
       "Manny’s<br/>\n",
       "<em>Read more</em> </a></div>\n",
       "</div>\n",
       "<div class=\"sammy\" style=\"position: relative;\">\n",
       "<div class=\"sammyRank\">18</div>\n",
       "<div class=\"sammyListing\"><a href=\"http://www.chicagomag.com/Chicago-Magazine/November-2012/Best-Sandwiches-in-Chicago-Eggys-Turkey-Club/\"><b>Turkey Club</b><br/>\n",
       "Eggy’s<br/>\n",
       "<em>Read more</em> </a></div>\n",
       "</div>\n",
       "<div class=\"sammy\" style=\"position: relative;\">\n",
       "<div class=\"sammyRank\">19</div>\n",
       "<div class=\"sammyListing\"><a href=\"http://www.chicagomag.com/Chicago-Magazine/November-2012/Best-Sandwiches-in-Chicago-Old-Jerusalem-Falafel/\"><b>Falafel</b><br/>\n",
       "Old Jerusalem<br/>\n",
       "<em>Read more</em> </a></div>\n",
       "</div>\n",
       "<div class=\"sammy\" style=\"position: relative;\">\n",
       "<div class=\"sammyRank\">20</div>\n",
       "<div class=\"sammyListing\"><a href=\"http://www.chicagomag.com/Chicago-Magazine/November-2012/Best-Sandwiches-in-Chicago-Mindys-HotChocolate-Crab-Cake/\"><b>Crab Cake</b><br/>\n",
       "Mindy’s HotChocolate<br/>\n",
       "<em>Read more</em> </a></div>\n",
       "</div>\n",
       "<div class=\"sammy\" style=\"position: relative;\">\n",
       "<div class=\"sammyRank\">21</div>\n",
       "<div class=\"sammyListing\"><a href=\"http://www.chicagomag.com/Chicago-Magazine/November-2012/Best-Sandwiches-in-Chicago-Olgas-Delicatessen-Chicken-Schnitzel/\"><b>Chicken Schnitzel</b><br/>\n",
       "Olga’s Delicatessen<br/>\n",
       "<em>Read more</em> </a></div>\n",
       "</div>\n",
       "<div class=\"sammy\" style=\"position: relative;\">\n",
       "<div class=\"sammyRank\">22</div>\n",
       "<div class=\"sammyListing\"><a href=\"http://www.chicagomag.com/Chicago-Magazine/November-2012/Best-Sandwiches-in-Chicago-Dawali-Mediterranean-Kitchen-Shawarma/\"><b>Shawarma</b><br/>\n",
       "Dawali Mediterranean Kitchen<br/>\n",
       "<em>Read more</em> </a></div>\n",
       "</div>\n",
       "<div class=\"sammy\" style=\"position: relative;\">\n",
       "<div class=\"sammyRank\">23</div>\n",
       "<div class=\"sammyListing\"><a href=\"http://www.chicagomag.com/Chicago-Magazine/November-2012/Best-Sandwiches-in-Chicago-Big-Jones-Toasted-Pimiento-Cheese/\"><b>Toasted Pimiento Cheese</b><br/>\n",
       "Big Jones<br/>\n",
       "<em>Read more</em> </a></div>\n",
       "</div>\n",
       "<div class=\"sammy\" style=\"position: relative;\">\n",
       "<div class=\"sammyRank\">24</div>\n",
       "<div class=\"sammyListing\"><a href=\"http://www.chicagomag.com/Chicago-Magazine/November-2012/Best-Sandwiches-in-Chicago-La-Pane-Vegetarian-Panino/\"><b>Vegetarian Panino</b><br/>\n",
       "La Pane<br/>\n",
       "<em>Read more</em> </a></div>\n",
       "</div>\n",
       "<div class=\"sammy\" style=\"position: relative;\">\n",
       "<div class=\"sammyRank\">25</div>\n",
       "<div class=\"sammyListing\"><a href=\"/Chicago-Magazine/November-2012/Best-Sandwiches-in-Chicago-Pastoral-Cali-Chevre/\"><b>Cali Chèvre</b><br/>\n",
       "Pastoral<br/>\n",
       "<em>Read more</em> </a></div>\n",
       "</div>\n",
       "<div class=\"sammy\" style=\"position: relative;\">\n",
       "<div class=\"sammyRank\">26</div>\n",
       "<div class=\"sammyListing\"><a href=\"http://www.chicagomag.com/Chicago-Magazine/November-2012/Best-Sandwiches-in-Chicago-Maxs-Deli-Pastrami/\"><b>Pastrami</b><br/>\n",
       "Max’s Deli<br/>\n",
       "<em>Read more</em> </a></div>\n",
       "</div>\n",
       "<div class=\"sammy\" style=\"position: relative;\">\n",
       "<div class=\"sammyRank\">27</div>\n",
       "<div class=\"sammyListing\"><a href=\"http://www.chicagomag.com/Chicago-Magazine/November-2012/Best-Sandwiches-in-Chicago-Luckys-Sandwich-Co-The-Fredo/\"><b>The Fredo</b><br/>\n",
       "Lucky’s Sandwich Co.<br/>\n",
       "<em>Read more</em> </a></div>\n",
       "</div>\n",
       "<div class=\"sammy\" style=\"position: relative;\">\n",
       "<div class=\"sammyRank\">28</div>\n",
       "<div class=\"sammyListing\"><a href=\"http://www.chicagomag.com/Chicago-Magazine/November-2012/Best-Sandwiches-in-Chicago-City-Provisions-Smoked-Ham/\"><b>Smoked Ham</b><br/>\n",
       "City Provisions<br/>\n",
       "<em>Read more</em> </a></div>\n",
       "</div>\n",
       "<div class=\"sammy\" style=\"position: relative;\">\n",
       "<div class=\"sammyRank\">29</div>\n",
       "<div class=\"sammyListing\"><a href=\"http://www.chicagomag.com/Chicago-Magazine/November-2012/Best-Sandwiches-in-Chicago-Papas-Cache-Sabroso-Jibarito/\"><b>Jibarito</b><br/>\n",
       "Papa’s Cache Sabroso<br/>\n",
       "<em>Read more</em> </a></div>\n",
       "</div>\n",
       "<div class=\"sammy\" style=\"position: relative;\">\n",
       "<div class=\"sammyRank\">30</div>\n",
       "<div class=\"sammyListing\"><a href=\"http://www.chicagomag.com/Chicago-Magazine/November-2012/Best-Sandwiches-in-Chicago-Bavettes-Bar-and-Boeuf-Shaved-Prime-Rib/\"><b>Shaved Prime Rib</b><br/>\n",
       "Bavette’s Bar &amp; Boeuf<br/>\n",
       "<em>Read more</em> </a></div>\n",
       "</div>\n",
       "<div class=\"sammy\" style=\"position: relative;\">\n",
       "<div class=\"sammyRank\">31</div>\n",
       "<div class=\"sammyListing\"><a href=\"http://www.chicagomag.com/Chicago-Magazine/November-2012/Best-Sandwiches-in-Chicago-Hannahs-Bretzel-Serrano-Ham-and-Manchego-Cheese/\"><b>Serrano Ham and Manchego Cheese</b><br/>\n",
       "Hannah’s Bretzel<br/>\n",
       "<em>Read more</em> </a></div>\n",
       "</div>\n",
       "<div class=\"sammy\" style=\"position: relative;\">\n",
       "<div class=\"sammyRank\">32</div>\n",
       "<div class=\"sammyListing\"><a href=\"http://www.chicagomag.com/Chicago-Magazine/November-2012/Best-Sandwiches-in-Chicago-La-Fournette-Tuna-Salad/\"><b>Tuna Salad</b><br/>\n",
       "La Fournette<br/>\n",
       "<em>Read more</em> </a></div>\n",
       "</div>\n",
       "<div class=\"sammy\" style=\"position: relative;\">\n",
       "<div class=\"sammyRank\">33</div>\n",
       "<div class=\"sammyListing\"><a href=\"http://www.chicagomag.com/Chicago-Magazine/November-2012/Best-Sandwiches-in-Chicago-Paramount-Room-Paramount-Reuben/\"><b>Paramount Reuben</b><br/>\n",
       "Paramount Room<br/>\n",
       "<em>Read more</em> </a></div>\n",
       "</div>\n",
       "<div class=\"sammy\" style=\"position: relative;\">\n",
       "<div class=\"sammyRank\">34</div>\n",
       "<div class=\"sammyListing\"><a href=\"http://www.chicagomag.com/Chicago-Magazine/November-2012/Best-Sandwiches-in-Chicago-Melt-Sandwich-Shoppe-The-Istanbul/\"><b>The Istanbul</b><br/>\n",
       "Melt Sandwich Shoppe<br/>\n",
       "<em>Read more</em> </a></div>\n",
       "</div>\n",
       "<div class=\"sammy\" style=\"position: relative;\">\n",
       "<div class=\"sammyRank\">35</div>\n",
       "<div class=\"sammyListing\"><a href=\"http://www.chicagomag.com/Chicago-Magazine/November-2012/Best-Sandwiches-in-Chicago-Floriole-Cafe-and-Bakery-BAD/\"><b>B.A.D.</b><br/>\n",
       "Floriole Cafe &amp; Bakery<br/>\n",
       "<em>Read more</em> </a></div>\n",
       "</div>\n",
       "<div class=\"sammy\" style=\"position: relative;\">\n",
       "<div class=\"sammyRank\">36</div>\n",
       "<div class=\"sammyListing\"><a href=\"http://www.chicagomag.com/Chicago-Magazine/November-2012/Best-Sandwiches-in-Chicago-First-Slice-Pie-Cafe-Duck-Confit-and-Mozzarella/\"><b>Duck Confit and Mozzarella</b><br/>\n",
       "First Slice Pie Café<br/>\n",
       "<em>Read more</em> </a></div>\n",
       "</div>\n",
       "<div class=\"sammy\" style=\"position: relative;\">\n",
       "<div class=\"sammyRank\">37</div>\n",
       "<div class=\"sammyListing\"><a href=\"http://www.chicagomag.com/Chicago-Magazine/November-2012/Best-Sandwiches-in-Chicago-Troquet-Croque-Monsieur/\"><b>Croque Monsieur</b><br/>\n",
       "Troquet<br/>\n",
       "<em>Read more</em> </a></div>\n",
       "</div>\n",
       "<div class=\"sammy\" style=\"position: relative;\">\n",
       "<div class=\"sammyRank\">38</div>\n",
       "<div class=\"sammyListing\"><a href=\"http://www.chicagomag.com/Chicago-Magazine/November-2012/Best-Sandwiches-in-Chicago-Grahamwich-Green-Garbanzo/\"><b>Green Garbanzo</b><br/>\n",
       "Grahamwich<br/>\n",
       "<em>Read more</em> </a></div>\n",
       "</div>\n",
       "<div class=\"sammy\" style=\"position: relative;\">\n",
       "<div class=\"sammyRank\">39</div>\n",
       "<div class=\"sammyListing\"><a href=\"http://www.chicagomag.com/Chicago-Magazine/November-2012/Best-Sandwiches-in-Chicago-Saigon-Sisters-The-Hen-House/\"><b>The Hen House</b><br/>\n",
       "Saigon Sisters<br/>\n",
       "<em>Read more</em> </a></div>\n",
       "</div>\n",
       "<div class=\"sammy\" style=\"position: relative;\">\n",
       "<div class=\"sammyRank\">40</div>\n",
       "<div class=\"sammyListing\"><a href=\"http://www.chicagomag.com/Chicago-Magazine/November-2012/Best-Sandwiches-in-Chicago-Rosalias-Deli-Tuscan-Chicken/\"><b>Tuscan Chicken</b><br/>\n",
       "Rosalia’s Deli<br/>\n",
       "<em>Read more</em> </a></div>\n",
       "</div>\n",
       "<div class=\"sammy\" style=\"position: relative;\">\n",
       "<div class=\"sammyRank\">41</div>\n",
       "<div class=\"sammyListing\"><a href=\"http://www.chicagomag.com/Chicago-Magazine/November-2012/Best-Sandwiches-in-Chicago-Z-and-H-MarketCafe-The-Marty/\"><b>The Marty </b><br/>\n",
       "Z&amp;H MarketCafe<br/>\n",
       "<em>Read more</em> </a></div>\n",
       "</div>\n",
       "<div class=\"sammy\" style=\"position: relative;\">\n",
       "<div class=\"sammyRank\">42</div>\n",
       "<div class=\"sammyListing\"><a href=\"http://www.chicagomag.com/Chicago-Magazine/November-2012/Best-Sandwiches-in-Chicago-Market-House-on-the-Square-Whitefish/\"><b>Whitefish</b><br/>\n",
       "Market House on the Square<br/>\n",
       "<em>Read more</em> </a></div>\n",
       "</div>\n",
       "<div class=\"sammy\" style=\"position: relative;\">\n",
       "<div class=\"sammyRank\">43</div>\n",
       "<div class=\"sammyListing\"><a href=\"http://www.chicagomag.com/Chicago-Magazine/November-2012/Best-Sandwiches-in-Chicago-Elaines-Coffee-Call-Oat-Bread-Pecan-Butter-and-Fruit-Jam/\"><b>Oat Bread, Pecan Butter, and Fruit Jam</b><br/>\n",
       "Elaine’s Coffee Call<br/>\n",
       "<em>Read more</em> </a></div>\n",
       "</div>\n",
       "<div class=\"sammy\" style=\"position: relative;\">\n",
       "<div class=\"sammyRank\">44</div>\n",
       "<div class=\"sammyListing\"><a href=\"http://www.chicagomag.com/Chicago-Magazine/November-2012/Best-Sandwiches-in-Chicago-Marion-Street-Cheese-Market-Cauliflower-Melt/\"><b>Cauliflower Melt</b><br/>\n",
       "Marion Street Cheese Market<br/>\n",
       "<em>Read more</em> </a></div>\n",
       "</div>\n",
       "<div class=\"sammy\" style=\"position: relative;\">\n",
       "<div class=\"sammyRank\">45</div>\n",
       "<div class=\"sammyListing\"><a href=\"http://www.chicagomag.com/Chicago-Magazine/November-2012/Best-Sandwiches-in-Chicago-Cafecito-Cubano/\"><b>Cubana</b><br/>\n",
       "Cafecito<br/>\n",
       "<em>Read more</em> </a></div>\n",
       "</div>\n",
       "<div class=\"sammy\" style=\"position: relative;\">\n",
       "<div class=\"sammyRank\">46</div>\n",
       "<div class=\"sammyListing\"><a href=\"http://www.chicagomag.com/Chicago-Magazine/November-2012/Best-Sandwiches-in-Chicago-Chickpea-Kufta/\"><b>Kufta</b><br/>\n",
       "Chickpea<br/>\n",
       "<em>Read more</em> </a></div>\n",
       "</div>\n",
       "<div class=\"sammy\" style=\"position: relative;\">\n",
       "<div class=\"sammyRank\">47</div>\n",
       "<div class=\"sammyListing\"><a href=\"http://www.chicagomag.com/Chicago-Magazine/November-2012/Best-Sandwiches-in-Chicago-The-Goddess-and-Grocer-Debbies-Egg-Salad/\"><b>Debbie’s Egg Salad</b><br/>\n",
       "The Goddess and Grocer<br/>\n",
       "<em>Read more</em> </a></div>\n",
       "</div>\n",
       "<div class=\"sammy\" style=\"position: relative;\">\n",
       "<div class=\"sammyRank\">48</div>\n",
       "<div class=\"sammyListing\"><a href=\"http://www.chicagomag.com/Chicago-Magazine/November-2012/Best-Sandwiches-in-Chicago-Zenwich-Beef-Curry/\"><b>Beef Curry</b><br/>\n",
       "Zenwich<br/>\n",
       "<em>Read more</em> </a></div>\n",
       "</div>\n",
       "<div class=\"sammy\" style=\"position: relative;\">\n",
       "<div class=\"sammyRank\">49</div>\n",
       "<div class=\"sammyListing\"><a href=\"http://www.chicagomag.com/Chicago-Magazine/November-2012/Best-Sandwiches-in-Chicago-Toni-Patisserie-Le-Vegetarien/\"><b>Le Végétarien</b><br/>\n",
       "Toni Patisserie<br/>\n",
       "<em>Read more</em> </a></div>\n",
       "</div>\n",
       "<div class=\"sammy\" style=\"position: relative; border-bottom: 0\">\n",
       "<div class=\"sammyRank\">50</div>\n",
       "<div class=\"sammyListing\"><a href=\"http://www.chicagomag.com/Chicago-Magazine/November-2012/Best-Sandwiches-in-Chicago-Phoebes-Bakery-The-Gatsby/\"><b>The Gatsby</b><br/>\n",
       "Phoebe’s Bakery<br/>\n",
       "<em>Read more</em> </a></div>\n",
       "</div>\n",
       "<p><!-- /#sandwichFront --></p>\n",
       "<footer>Edited by Carly Boers, Penny Pollack, and Jeff Ruby; Contributors: Cassie Walker Burke, Elly Fishman, Peter Gianopulos, Noah Isackson, Maryanne Johnson, Esther Kang, Megan Lovejoy, Graham Meyer, Matt Schur, Lena Singer, Emmet Sullivan, Jennifer Tanaka, Joanne Trestrail</footer>\n",
       "</div>\n",
       "<div class=\"article-tags\">\n",
       "<p>Tags: <a href=\"https://www.chicagomag.com/tag/best-of-chicago/\" rel=\"tag\">Best of Chicago</a>, <a href=\"https://www.chicagomag.com/tag/dining-drinking/\" rel=\"tag\">Dining &amp; Drinking</a>, <a href=\"https://www.chicagomag.com/tag/print-specific-tags-cover-story/\" rel=\"tag\">Print-Specific Tags - Cover Story</a></p> </div>\n",
       "</div>\n",
       "<div class=\"article-side grid-6 tablet-grid-9 mobile-grid-100 most-pop\">\n",
       "<div class=\"ad-space\">\n",
       "<!-- GPT AdSlot 12 for Ad unit 'trb.chicagomag/hp' ### Size: [[300,250],[300,600]] -->\n",
       "<div class=\"hide-on-mobile\" id=\"div-gpt-ad-2789321-12\">\n",
       "<script>\n",
       "\t\t\t\t\tgoogletag.cmd.push(function() { googletag.display('div-gpt-ad-2789321-12'); });\n",
       "\t\t\t\t</script>\n",
       "</div>\n",
       "<!-- End AdSlot 12 -->\n",
       "<!-- GPT AdSlot 15 for Ad unit 'trb.chicagomag/hp' ### Size: [[300,250] -->\n",
       "<div class=\"hide-on-desktop hide-on-tablet\" id=\"div-gpt-ad-2789321-15\">\n",
       "<script>\n",
       "\t\t\t\t\tgoogletag.cmd.push(function() { googletag.display('div-gpt-ad-2789321-15'); });\n",
       "\t\t\t\t</script>\n",
       "</div>\n",
       "<!-- End AdSlot 15 -->\n",
       "<!-- GPT AdSlot 11 for Ad unit 'trb.chicagomag/hp' ### Size: [[300,250]] -->\n",
       "<div id=\"div-gpt-ad-2789321-11\">\n",
       "<script>\n",
       "\t\t\t\t\tgoogletag.cmd.push(function() { googletag.display('div-gpt-ad-2789321-11'); });\n",
       "\t\t\t\t</script>\n",
       "</div>\n",
       "<!-- End AdSlot 11 -->\n",
       "</div>\n",
       "</div>\n",
       "</div>\n",
       "<!-- end article wrap -->\n",
       "<!-- start ad -->\n",
       "<div class=\"grid-container grid-parent ad-space ad-space-leader hide-on-mobile mb-0\">\n",
       "<!-- GPT AdSlot 5 for Ad unit 'trb.chicagomag/hp' ### Size: [[728,90]] -->\n",
       "<div id=\"div-gpt-ad-2789321-5\">\n",
       "<script>\n",
       "\t\t\tgoogletag.cmd.push(function() { googletag.display('div-gpt-ad-2789321-5'); });\n",
       "\t\t</script>\n",
       "</div>\n",
       "<!-- End AdSlot 5 -->\n",
       "</div>\n",
       "<div class=\"grid-container grid-parent ad-space ad-space-leader hide-on-desktop hide-on-tablet\">\n",
       "<!-- GPT AdSlot 10 for Ad unit 'trb.chicagomag/hp' ### Size: [[320,50]] -->\n",
       "<div id=\"div-gpt-ad-2789321-10\">\n",
       "<script>\n",
       "\t\t\tgoogletag.cmd.push(function() { googletag.display('div-gpt-ad-2789321-10'); });\n",
       "\t\t</script>\n",
       "</div>\n",
       "<!-- End AdSlot 10 -->\n",
       "</div>\n",
       "<!-- end ad -->\n",
       "<div class=\"comments-area grid-container grid-parent\">\n",
       "<div class=\"grid-12 prefix-5 mobile-grid-100 mobile-prefix-0\">\n",
       "<div id=\"comments\">\n",
       "<div class=\"comment-respond\" id=\"respond\">\n",
       "<h3 class=\"comment-reply-title\" id=\"reply-title\">Leave a Comment <small><a href=\"/Chicago-Magazine/November-2012/Best-Sandwiches-Chicago/#respond\" id=\"cancel-comment-reply-link\" rel=\"nofollow\" style=\"display:none;\">Cancel reply</a></small></h3><form action=\"https://www.chicagomag.com/wp-comments-post.php?wpe-comment-post=chicagomag\" class=\"comment-form\" id=\"commentform\" method=\"post\" novalidate=\"\"><p class=\"comment-form-comment\"><label class=\"screen-reader-text\" for=\"comment\">Comment</label><textarea aria-required=\"true\" autocomplete=\"new-password\" cols=\"45\" id=\"c2cc66bfa4\" name=\"c2cc66bfa4\" required=\"\" rows=\"8\"></textarea><textarea aria-hidden=\"true\" autocomplete=\"new-password\" id=\"comment\" name=\"comment\" style=\"padding:0 !important;clip:rect(1px, 1px, 1px, 1px) !important;position:absolute !important;white-space:nowrap !important;height:1px !important;width:1px !important;overflow:hidden !important;\" tabindex=\"-1\"></textarea><script data-noptimize=\"\" type=\"text/javascript\">document.getElementById(\"comment\").setAttribute( \"id\", \"ad4e10e03cac1d4a9ed362a4e152c30c\" );document.getElementById(\"c2cc66bfa4\").setAttribute( \"id\", \"comment\" );</script></p><label class=\"screen-reader-text\" for=\"author\">Name</label><input id=\"author\" name=\"author\" placeholder=\"Name *\" size=\"30\" type=\"text\" value=\"\">\n",
       "<label class=\"screen-reader-text\" for=\"email\">Email</label><input id=\"email\" name=\"email\" placeholder=\"Email *\" size=\"30\" type=\"email\" value=\"\">\n",
       "<label class=\"screen-reader-text\" for=\"url\">Website</label><input id=\"url\" name=\"url\" placeholder=\"Website\" size=\"30\" type=\"url\" value=\"\">\n",
       "<p class=\"comment-form-cookies-consent\"><input id=\"wp-comment-cookies-consent\" name=\"wp-comment-cookies-consent\" type=\"checkbox\" value=\"yes\"> <label for=\"wp-comment-cookies-consent\">Save my name, email, and website in this browser for the next time I comment.</label></input></p>\n",
       "<p class=\"form-submit\"><input class=\"submit\" id=\"submit\" name=\"submit\" type=\"submit\" value=\"Post Comment\"/> <input id=\"comment_post_ID\" name=\"comment_post_ID\" type=\"hidden\" value=\"11772\"/>\n",
       "<input id=\"comment_parent\" name=\"comment_parent\" type=\"hidden\" value=\"0\"/>\n",
       "</p></input></input></input></form> </div><!-- #respond -->\n",
       "</div><!-- #comments -->\n",
       "</div>\n",
       "</div>\n",
       "</main><!-- #main -->\n",
       "</div><!-- #primary -->\n",
       "</div><!-- #content -->\n",
       "</div><!-- #page -->\n",
       "<!-- start footer -->\n",
       "<div id=\"footer\">\n",
       "<div class=\"grid-container\">\n",
       "<div class=\"grid-5 suffix-1 mobile-grid-12 mobile-suffix-0 grid-parent-mobile left\">\n",
       "<div class=\"wrap\">\n",
       "<a href=\"https://cma.pcdfusion.com/pcd/Order?iKey=I**D7B\">Subscribe</a>\n",
       "<a href=\"https://cma.pcdfusion.com/pcd/CustomerSupport/Account/Login?ReturnUrl=%2fpcd%2fCustomerSupport%2fApp%2f3141\">Manage Subscription</a>\n",
       "<a href=\"https://www.chicagomag.com/issue-archive/\">Issue Archive</a>\n",
       "<a href=\"http://www.tronc.com/privacy-policy/\">Privacy Policy</a>\n",
       "<a href=\"http://www.tronc.com/central-terms-of-service/\">Terms of Service</a>\n",
       "</div>\n",
       "</div>\n",
       "<div class=\"grid-10 prefix-1 suffix-1 mobile-grid-100 mobile-prefix-0 grid-parent-mobile middle hide-on-mobile\">\n",
       "<div class=\"wrap\">\n",
       "<h2>Follow Us</h2>\n",
       "<div class=\"footer-social\">\n",
       "<a href=\"https://www.facebook.com/ChicagoMagazine\" target=\"_blank\"><i class=\"fab fa-facebook-f\"></i></a>\n",
       "<a href=\"http://www.twitter.com/chicagomag/\" target=\"_blank\"><i class=\"fab fa-twitter\"></i></a>\n",
       "<a href=\"http://instagram.com/chicagomag\" target=\"_blank\"><i class=\"fab fa-instagram\"></i></a>\n",
       "<a href=\"https://www.youtube.com/channel/UCOkRC6Y4LUyvglGmyC52KPw\" target=\"_blank\"><i class=\"fab fa-youtube\"></i></a>\n",
       "</div>\n",
       "<h2>Get Our Newsletters</h2>\n",
       "<p>Subscribe to one or more of our free e-mail newsletters to get instant updates on local news, events, and opportunities in Chicago.</p>\n",
       "<div class=\"footer-form\" style=\"display:flex; margin-top:60px;\">\n",
       "<table>\n",
       "<tr>\n",
       "<td><input type=\"text\"/></td>\n",
       "<td><button style=\"background:#d2232a; color:#fff;\">Sign Up</button></td>\n",
       "</tr>\n",
       "</table>\n",
       "</div>\n",
       "<div class=\"copyright\">©2020 Chicago magazine / A Chicago Tribune Media Group website</div>\n",
       "</div>\n",
       "</div>\n",
       "<div class=\"grid-5 prefix-1 mobile-grid-12 mobile-prefix-0 mobile-suffix-0 grid-parent-mobile right\">\n",
       "<div class=\"wrap\">\n",
       "<a href=\"https://www.chicagomag.com/about-the-magazine/\">About the Magazine</a>\n",
       "<a href=\"https://www.chicagomag.com/contact-us/\">Contact Us</a>\n",
       "<a href=\"https://www.chicagomag.com/advertise/\">Advertise</a>\n",
       "<a href=\"https://www.chicagomag.com/resource-guide/\">Resource Guide</a>\n",
       "<a href=\"https://www.chicagomag.com/events/\">Events</a>\n",
       "</div>\n",
       "</div>\n",
       "<div class=\"mobile-grid-100 mobile-prefix-0 mobile-suffix-1 grid-parent-mobile middle hide-on-desktop hide-on-tablet\">\n",
       "<div class=\"wrap\">\n",
       "<h2>Follow Us</h2>\n",
       "<div class=\"footer-social\">\n",
       "<a href=\"https://www.facebook.com/ChicagoMagazine\" target=\"_blank\"><i class=\"fab fa-facebook-f\"></i></a>\n",
       "<a href=\"http://www.twitter.com/chicagomag/\" target=\"_blank\"><i class=\"fab fa-twitter\"></i></a>\n",
       "<a href=\"http://instagram.com/chicagomag\" target=\"_blank\"><i class=\"fab fa-instagram\"></i></a>\n",
       "<a href=\"https://www.youtube.com/channel/UCOkRC6Y4LUyvglGmyC52KPw\" target=\"_blank\"><i class=\"fab fa-youtube\"></i></a>\n",
       "</div>\n",
       "<h2>Get Our Newsletters</h2>\n",
       "<p>Subscribe to one or more of our free e-mail newsletters to get instant updates on local news, events, and opportunities in Chicago.</p>\n",
       "<div class=\"footer-form\" style=\"display:flex; margin-top:60px;\">\n",
       "<input style=\"width:80%;\" type=\"text\"/>\n",
       "<button style=\"width:20%; background:#d2232a; color:#fff;\">Sign Up</button>\n",
       "</div>\n",
       "<div class=\"copyright\">©2020 Chicago magazine / A Chicago Tribune Media Group website</div>\n",
       "</div>\n",
       "</div>\n",
       "</div>\n",
       "</div>\n",
       "<!-- end footer -->\n",
       "<script src=\"https://ajax.googleapis.com/ajax/libs/jquery/3.4.1/jquery.min.js\"></script>\n",
       "<script>\n",
       "\n",
       "\tjQuery(document).ready(function($) {\n",
       "\n",
       "\t\t$(\".grid-toggle\").click(function(){\n",
       "\t\t\t$(\".grid-guide\").toggle();\n",
       "\t\t});\n",
       "\n",
       "\t\t$(\".nav2-toggle\").click(function(){\n",
       "\t\t\t$(\"#nav2-overlay\").toggle();\n",
       "\t\t\t$(\"#nav2-overlay-top\").toggle();\n",
       "\t\t\t$(\"#nav2-overlay-btm\").toggle();\n",
       "\t\t\t$(\"#nav2-inner-overlay\").toggle();\n",
       "\t\t\t$(\"#nav2-inner\").toggle();\n",
       "\t\t\t$(\"#nav2-open\").toggle();\n",
       "\t\t\t$(\"#nav2-close\").toggle();\n",
       "\t\t});\n",
       "\n",
       "\t\t$(\".search-open\").click(function(){\n",
       "\t\t\t$('#search-overlay').fadeIn().css('display', 'inline-block');\n",
       "\t\t\t$('.search-field').focus();\n",
       "\t\t\t//$('#search-close').fadeIn().css('display', 'block');\n",
       "\t\t});\n",
       "\n",
       "\t\t$(\".search-close-btn\").click(function(){\n",
       "\t\t\t$(\"#search-overlay\").fadeOut().toggle();\n",
       "\t\t\t$(\"#search-close\").fadeOut().toggle();\n",
       "\t\t});\n",
       "  \n",
       "\t});\n",
       "\n",
       "</script>\n",
       "<script>\n",
       "\n",
       "\tjQuery(document).ready(function($) {\n",
       "\n",
       "\t\t$(\".toggle-rock\").click(function(){\n",
       "\t\t\t$('.indie-rock').fadeOut().css('display', 'none');\n",
       "\t\t\t$('.new-music').fadeOut().css('display', 'none');\n",
       "\t\t\t$('.rock').fadeIn().css('display', 'block');\n",
       "\t\t});\n",
       "\n",
       "\t\t$(\".toggle-indie-rock\").click(function(){\n",
       "\t\t\t$('.rock').fadeOut().css('display', 'none');\n",
       "\t\t\t$('.new-music').fadeOut().css('display', 'none');\n",
       "\t\t\t$('.indie-rock').fadeIn().css('display', 'block');\n",
       "\t\t});\n",
       "\n",
       "\t\t$(\".toggle-new-music\").click(function(){\n",
       "\t\t\t$('.indie-rock').fadeOut().css('display', 'none');\n",
       "\t\t\t$('.rock').fadeOut().css('display', 'none');\n",
       "\t\t\t$('.new-music').fadeIn().css('display', 'block');\n",
       "\t\t});\n",
       "\n",
       "\t\t$(\".toggle-all-genre\").click(function(){\n",
       "\t\t\t$('.indie-rock').fadeIn().css('display', 'block');\n",
       "\t\t\t$('.rock').fadeIn().css('display', 'block');\n",
       "\t\t\t$('.new-music').fadeIn().css('display', 'block');\n",
       "\t\t});\n",
       "  \n",
       "\t});\n",
       "\n",
       "</script>\n",
       "<div class=\"site-footer\">\n",
       "<footer class=\"site-info\" itemscope=\"\" itemtype=\"https://schema.org/WPFooter\">\n",
       "<div class=\"inside-site-info grid-container grid-parent\">\n",
       "<div class=\"copyright-bar\">\n",
       "<span class=\"copyright\">© 2021 Chicago Magazine</span> • Built with <a href=\"https://generatepress.com\" itemprop=\"url\">GeneratePress</a> </div>\n",
       "</div>\n",
       "</footer>\n",
       "</div><!-- .site-footer -->\n",
       "<!--[if lte IE 11]>\n",
       "<script src='https://www.chicagomag.com/wp-content/themes/generatepress/assets/js/classList.min.js?ver=3.0.2' id='generate-classlist-js'></script>\n",
       "<![endif]-->\n",
       "<script id=\"generate-main-js-extra\">\n",
       "var generatepressMenu = {\"toggleOpenedSubMenus\":\"1\",\"openSubMenuLabel\":\"Open Sub-Menu\",\"closeSubMenuLabel\":\"Close Sub-Menu\"};\n",
       "</script>\n",
       "<script id=\"generate-main-js\" src=\"https://www.chicagomag.com/wp-content/themes/generatepress/assets/js/main.min.js?ver=3.0.2\"></script>\n",
       "<script id=\"comment-reply-js\" src=\"https://www.chicagomag.com/wp-includes/js/comment-reply.min.js?ver=5.6\"></script>\n",
       "<script id=\"heateor_sss_sharing_js-js-before\">\n",
       "function heateorSssLoadEvent(e) {var t=window.onload;if (typeof window.onload!=\"function\") {window.onload=e}else{window.onload=function() {t();e()}}};\tvar heateorSssSharingAjaxUrl = 'https://www.chicagomag.com/wp-admin/admin-ajax.php', heateorSssCloseIconPath = 'https://www.chicagomag.com/wp-content/plugins/sassy-social-share/public/../images/close.png', heateorSssPluginIconPath = 'https://www.chicagomag.com/wp-content/plugins/sassy-social-share/public/../images/logo.png', heateorSssHorizontalSharingCountEnable = 0, heateorSssVerticalSharingCountEnable = 0, heateorSssSharingOffset = -10; var heateorSssMobileStickySharingEnabled = 0;var heateorSssCopyLinkMessage = \"Link copied.\";var heateorSssUrlCountFetched = [], heateorSssSharesText = 'Shares', heateorSssShareText = 'Share';function heateorSssPopup(e) {window.open(e,\"popUpWindow\",\"height=400,width=600,left=400,top=100,resizable,scrollbars,toolbar=0,personalbar=0,menubar=no,location=no,directories=no,status\")};var heateorSssWhatsappShareAPI = \"web\";\n",
       "</script>\n",
       "<script id=\"heateor_sss_sharing_js-js\" src=\"https://www.chicagomag.com/wp-content/plugins/sassy-social-share/public/js/sassy-social-share-public.js?ver=3.3.20\"></script>\n",
       "<script id=\"__ytprefsfitvids__-js\" src=\"https://www.chicagomag.com/wp-content/plugins/youtube-embed-plus-pro/scripts/fitvids.min.js?ver=13.4.2\"></script>\n",
       "<script id=\"wp-embed-js\" src=\"https://www.chicagomag.com/wp-includes/js/wp-embed.min.js?ver=5.6\"></script>\n",
       "<script>\n",
       "// When the user scrolls down 20px from the top of the document, slide down the navbar\n",
       "window.onscroll = function() {scrollFunction()};\n",
       "\n",
       "function scrollFunction() {\n",
       "  if (document.body.scrollTop > 240 || document.documentElement.scrollTop > 240) {\n",
       "    document.getElementById(\"navbar\").style.top = \"0\";\n",
       "  } else {\n",
       "    document.getElementById(\"navbar\").style.top = \"-45px\";\n",
       "  }\n",
       "}\n",
       "</script>\n",
       "</body>\n",
       "</html>"
      ]
     },
     "execution_count": 8,
     "metadata": {},
     "output_type": "execute_result"
    }
   ],
   "source": [
    "url_base = 'https://www.chicagomag.com/'\n",
    "url_sub =  'Chicago-Magazine/November-2012/Best-Sandwiches-Chicago/'\n",
    "url = url_base + url_sub\n",
    "# url\n",
    "\n",
    "# html = urlopen(url) #403번 에러 발생(부정접근으로 차단-알려진 agent를 헤더에 추가해서 전달하면 됨)\n",
    "# 헤더를 추가하려면 일반적으로 Request(get_url,headers={key:value})\n",
    "req = Request(url,headers={'User-Agent':'Mozilla/5.0'})\n",
    "html=urlopen(req)\n",
    "\n",
    "soup = BeautifulSoup(html,'html.parser')\n",
    "\n",
    "soup\n",
    "\n"
   ]
  },
  {
   "cell_type": "code",
   "execution_count": 11,
   "metadata": {
    "collapsed": true
   },
   "outputs": [
    {
     "data": {
      "text/plain": [
       "50"
      ]
     },
     "execution_count": 11,
     "metadata": {},
     "output_type": "execute_result"
    }
   ],
   "source": [
    "## 랭킹되어 있는 샌드위치가게 목록 찾아오기\n",
    "## div class:sammy\n",
    "soup.find_all('div',{'class':'sammy'}) #리스트로 반환\n",
    "\n",
    "## 표기방법 2\n",
    "soup.find_all('div','sammy') #태그이름과 속성값만 전달해도 가능\n",
    "\n",
    "## 개수 확인\n",
    "len(soup.find_all('div','sammy'))"
   ]
  },
  {
   "cell_type": "code",
   "execution_count": 12,
   "metadata": {
    "collapsed": true
   },
   "outputs": [
    {
     "data": {
      "text/plain": [
       "<div class=\"sammy\" style=\"position: relative;\">\n",
       "<div class=\"sammyRank\">1</div>\n",
       "<div class=\"sammyListing\"><a href=\"/Chicago-Magazine/November-2012/Best-Sandwiches-in-Chicago-Old-Oak-Tap-BLT/\"><b>BLT</b><br/>\n",
       "Old Oak Tap<br/>\n",
       "<em>Read more</em> </a></div>\n",
       "</div>"
      ]
     },
     "execution_count": 12,
     "metadata": {},
     "output_type": "execute_result"
    }
   ],
   "source": [
    "# 각 원소 접근\n",
    "soup.find_all('div','sammy')[0]"
   ]
  },
  {
   "cell_type": "code",
   "execution_count": 16,
   "metadata": {
    "collapsed": true
   },
   "outputs": [
    {
     "data": {
      "text/plain": [
       "bs4.element.ResultSet"
      ]
     },
     "execution_count": 16,
     "metadata": {},
     "output_type": "execute_result"
    }
   ],
   "source": [
    "## 변수 활용\n",
    "temp_all = soup.find_all('div','sammy')\n",
    "type(temp_all)"
   ]
  },
  {
   "cell_type": "code",
   "execution_count": 15,
   "metadata": {
    "collapsed": true
   },
   "outputs": [
    {
     "data": {
      "text/plain": [
       "bs4.element.Tag"
      ]
     },
     "execution_count": 15,
     "metadata": {},
     "output_type": "execute_result"
    }
   ],
   "source": [
    "temp_one = temp_all[0]\n",
    "type(temp_one) #bs4.element.Tag(bs4 함수를 사용할 수 있음)"
   ]
  },
  {
   "cell_type": "code",
   "execution_count": 18,
   "metadata": {
    "collapsed": true
   },
   "outputs": [
    {
     "data": {
      "text/plain": [
       "<div class=\"sammyRank\">1</div>"
      ]
     },
     "execution_count": 18,
     "metadata": {},
     "output_type": "execute_result"
    }
   ],
   "source": [
    "temp_one.find(class_='sammyRank') #class 속성나타내는 함수 인수 class_를 사용해야 함"
   ]
  },
  {
   "cell_type": "code",
   "execution_count": 20,
   "metadata": {
    "collapsed": true
   },
   "outputs": [
    {
     "data": {
      "text/plain": [
       "'1'"
      ]
     },
     "execution_count": 20,
     "metadata": {},
     "output_type": "execute_result"
    }
   ],
   "source": [
    "temp_one.find(class_='sammyRank').get_text()"
   ]
  },
  {
   "cell_type": "code",
   "execution_count": 23,
   "metadata": {
    "collapsed": true
   },
   "outputs": [
    {
     "data": {
      "text/plain": [
       "'BLT\\nOld Oak Tap\\nRead more '"
      ]
     },
     "execution_count": 23,
     "metadata": {},
     "output_type": "execute_result"
    }
   ],
   "source": [
    "temp_one.find(class_='sammyListing').get_text()"
   ]
  },
  {
   "cell_type": "code",
   "execution_count": 24,
   "metadata": {
    "collapsed": true
   },
   "outputs": [
    {
     "data": {
      "text/plain": [
       "'/Chicago-Magazine/November-2012/Best-Sandwiches-in-Chicago-Old-Oak-Tap-BLT/'"
      ]
     },
     "execution_count": 24,
     "metadata": {},
     "output_type": "execute_result"
    }
   ],
   "source": [
    "temp_one.find('a')['href']"
   ]
  },
  {
   "cell_type": "code",
   "execution_count": 28,
   "metadata": {
    "collapsed": true
   },
   "outputs": [],
   "source": [
    "# 불용어 정제\n",
    "tmp_string = temp_one.find(class_='sammyListing').get_text()"
   ]
  },
  {
   "cell_type": "code",
   "execution_count": 26,
   "metadata": {
    "collapsed": true
   },
   "outputs": [],
   "source": [
    "# 정규식 패키지정규식 패키지\n",
    "import re"
   ]
  },
  {
   "cell_type": "code",
   "execution_count": 31,
   "metadata": {
    "collapsed": true
   },
   "outputs": [
    {
     "data": {
      "text/plain": [
       "['BLT', 'Old Oak Tap', 'Read more ']"
      ]
     },
     "execution_count": 31,
     "metadata": {},
     "output_type": "execute_result"
    }
   ],
   "source": [
    "## 상점 이름 추출 후 정리\n",
    "re.split(('\\n|\\r\\n'),tmp_string)"
   ]
  },
  {
   "cell_type": "code",
   "execution_count": 33,
   "metadata": {
    "collapsed": true
   },
   "outputs": [],
   "source": [
    "from urllib.parse  import urljoin  #문자열을 결합해서 url을 생성, url 형식 체크"
   ]
  },
  {
   "cell_type": "code",
   "execution_count": 34,
   "metadata": {
    "collapsed": true
   },
   "outputs": [
    {
     "data": {
      "text/plain": [
       "'https://www.chicagomag.com/Chicago-Magazine/November-2012/Best-Sandwiches-in-Chicago-Old-Oak-Tap-BLT/'"
      ]
     },
     "execution_count": 34,
     "metadata": {},
     "output_type": "execute_result"
    }
   ],
   "source": [
    "urljoin(url_base,temp_one.find('a')['href'])"
   ]
  },
  {
   "cell_type": "code",
   "execution_count": 38,
   "metadata": {
    "collapsed": true
   },
   "outputs": [
    {
     "data": {
      "text/plain": [
       "'/Chicago-Magazine/November-2012/Best-Sandwiches-in-Chicago-Old-Oak-Tap-BLT/'"
      ]
     },
     "execution_count": 38,
     "metadata": {},
     "output_type": "execute_result"
    }
   ],
   "source": [
    "# url_base\n",
    "temp_one.find('a')['href']"
   ]
  },
  {
   "cell_type": "code",
   "execution_count": null,
   "metadata": {
    "collapsed": true
   },
   "outputs": [],
   "source": [
    "'https://www.chicagomag.com/ , /Chicago-Magazine/November-2012/Best-Sandwiches-in-Chicago-Old-Oak-Tap-BLT/"
   ]
  },
  {
   "cell_type": "code",
   "execution_count": null,
   "metadata": {
    "collapsed": true
   },
   "outputs": [],
   "source": [
    "###---- 코드 결합 --------------------\n",
    "## 전체 50개 추출 df 생성\n",
    "# 각 data를 list에 저장"
   ]
  },
  {
   "cell_type": "code",
   "execution_count": 39,
   "metadata": {
    "collapsed": true
   },
   "outputs": [],
   "source": [
    "rank =  []\n",
    "main_menu = []\n",
    "cafe_name = []\n",
    "url_link = []"
   ]
  },
  {
   "cell_type": "code",
   "execution_count": 41,
   "metadata": {
    "collapsed": true
   },
   "outputs": [],
   "source": [
    "url_base = 'https://www.chicagomag.com/'\n",
    "url_sub =  'Chicago-Magazine/November-2012/Best-Sandwiches-Chicago/'\n",
    "url = url_base + url_sub\n",
    "# url\n",
    "\n",
    "# html = urlopen(url) #403번 에러 발생(부정접근으로 차단-알려진 agent를 헤더에 추가해서 전달하면 됨)\n",
    "# 헤더를 추가하려면 일반적으로 Request(get_url,headers={key:value})\n",
    "req = Request(url,headers={'User-Agent':'Mozilla/5.0'})\n",
    "html=urlopen(req)\n",
    "\n",
    "soup = BeautifulSoup(html,'html.parser')\n",
    "soup_list = soup.find_all('div','sammy')\n"
   ]
  },
  {
   "cell_type": "code",
   "execution_count": 43,
   "metadata": {
    "collapsed": true
   },
   "outputs": [],
   "source": [
    "for item in soup_list :\n",
    "    rank.append(item.find(class_='sammyRank').get_text())\n",
    "    tmp_string = item.find(class_='sammyListing').get_text()\n",
    "    main_menu.append(re.split(('\\n|\\r\\n'),tmp_string)[0])\n",
    "    cafe_name.append(re.split(('\\n|\\r\\n'),tmp_string)[1])\n",
    "    url_link.append(urljoin(url_base,item.find('a')['href']))"
   ]
  },
  {
   "cell_type": "code",
   "execution_count": 47,
   "metadata": {
    "collapsed": true
   },
   "outputs": [
    {
     "data": {
      "text/plain": [
       "(50, 50, 50, 50)"
      ]
     },
     "execution_count": 47,
     "metadata": {},
     "output_type": "execute_result"
    }
   ],
   "source": [
    "len(rank),len(main_menu),len(cafe_name),len(url_link)"
   ]
  },
  {
   "cell_type": "code",
   "execution_count": 50,
   "metadata": {
    "collapsed": true
   },
   "outputs": [
    {
     "data": {
      "text/html": [
       "<div>\n",
       "<style scoped>\n",
       "    .dataframe tbody tr th:only-of-type {\n",
       "        vertical-align: middle;\n",
       "    }\n",
       "\n",
       "    .dataframe tbody tr th {\n",
       "        vertical-align: top;\n",
       "    }\n",
       "\n",
       "    .dataframe thead th {\n",
       "        text-align: right;\n",
       "    }\n",
       "</style>\n",
       "<table border=\"1\" class=\"dataframe\">\n",
       "  <thead>\n",
       "    <tr style=\"text-align: right;\">\n",
       "      <th></th>\n",
       "      <th>Rank</th>\n",
       "      <th>Cafe</th>\n",
       "      <th>Menu</th>\n",
       "      <th>URL</th>\n",
       "    </tr>\n",
       "  </thead>\n",
       "  <tbody>\n",
       "    <tr>\n",
       "      <th>45</th>\n",
       "      <td>46</td>\n",
       "      <td>Chickpea</td>\n",
       "      <td>Kufta</td>\n",
       "      <td>http://www.chicagomag.com/Chicago-Magazine/Nov...</td>\n",
       "    </tr>\n",
       "    <tr>\n",
       "      <th>46</th>\n",
       "      <td>47</td>\n",
       "      <td>The Goddess and Grocer</td>\n",
       "      <td>Debbie’s Egg Salad</td>\n",
       "      <td>http://www.chicagomag.com/Chicago-Magazine/Nov...</td>\n",
       "    </tr>\n",
       "    <tr>\n",
       "      <th>47</th>\n",
       "      <td>48</td>\n",
       "      <td>Zenwich</td>\n",
       "      <td>Beef Curry</td>\n",
       "      <td>http://www.chicagomag.com/Chicago-Magazine/Nov...</td>\n",
       "    </tr>\n",
       "    <tr>\n",
       "      <th>48</th>\n",
       "      <td>49</td>\n",
       "      <td>Toni Patisserie</td>\n",
       "      <td>Le Végétarien</td>\n",
       "      <td>http://www.chicagomag.com/Chicago-Magazine/Nov...</td>\n",
       "    </tr>\n",
       "    <tr>\n",
       "      <th>49</th>\n",
       "      <td>50</td>\n",
       "      <td>Phoebe’s Bakery</td>\n",
       "      <td>The Gatsby</td>\n",
       "      <td>http://www.chicagomag.com/Chicago-Magazine/Nov...</td>\n",
       "    </tr>\n",
       "  </tbody>\n",
       "</table>\n",
       "</div>"
      ],
      "text/plain": [
       "   Rank                    Cafe                Menu  \\\n",
       "45   46                Chickpea               Kufta   \n",
       "46   47  The Goddess and Grocer  Debbie’s Egg Salad   \n",
       "47   48                 Zenwich          Beef Curry   \n",
       "48   49         Toni Patisserie       Le Végétarien   \n",
       "49   50         Phoebe’s Bakery          The Gatsby   \n",
       "\n",
       "                                                  URL  \n",
       "45  http://www.chicagomag.com/Chicago-Magazine/Nov...  \n",
       "46  http://www.chicagomag.com/Chicago-Magazine/Nov...  \n",
       "47  http://www.chicagomag.com/Chicago-Magazine/Nov...  \n",
       "48  http://www.chicagomag.com/Chicago-Magazine/Nov...  \n",
       "49  http://www.chicagomag.com/Chicago-Magazine/Nov...  "
      ]
     },
     "execution_count": 50,
     "metadata": {},
     "output_type": "execute_result"
    }
   ],
   "source": [
    "## 수집한 자료를 df로 만들어서 csv 저장\n",
    "data = {'Rank':rank,'Cafe':cafe_name, 'Menu':main_menu, 'URL':url_link}\n",
    "\n",
    "df= pd.DataFrame(data)\n",
    "df.head()\n",
    "df.tail()"
   ]
  },
  {
   "cell_type": "code",
   "execution_count": 52,
   "metadata": {
    "collapsed": true
   },
   "outputs": [],
   "source": [
    "df.to_csv('./수집자료/시카고샌드위치가게.csv',sep=',',encoding='utf-8')"
   ]
  },
  {
   "cell_type": "code",
   "execution_count": null,
   "metadata": {
    "collapsed": true
   },
   "outputs": [],
   "source": [
    "###--- 데이터 읽어오기"
   ]
  },
  {
   "cell_type": "code",
   "execution_count": 53,
   "metadata": {
    "collapsed": true
   },
   "outputs": [],
   "source": [
    "df = pd.read_csv('./수집자료/시카고샌드위치가게.csv',index_col=0)"
   ]
  },
  {
   "cell_type": "code",
   "execution_count": 54,
   "metadata": {
    "collapsed": true
   },
   "outputs": [
    {
     "data": {
      "text/html": [
       "<div>\n",
       "<style scoped>\n",
       "    .dataframe tbody tr th:only-of-type {\n",
       "        vertical-align: middle;\n",
       "    }\n",
       "\n",
       "    .dataframe tbody tr th {\n",
       "        vertical-align: top;\n",
       "    }\n",
       "\n",
       "    .dataframe thead th {\n",
       "        text-align: right;\n",
       "    }\n",
       "</style>\n",
       "<table border=\"1\" class=\"dataframe\">\n",
       "  <thead>\n",
       "    <tr style=\"text-align: right;\">\n",
       "      <th></th>\n",
       "      <th>Rank</th>\n",
       "      <th>Cafe</th>\n",
       "      <th>Menu</th>\n",
       "      <th>URL</th>\n",
       "    </tr>\n",
       "  </thead>\n",
       "  <tbody>\n",
       "    <tr>\n",
       "      <th>0</th>\n",
       "      <td>1</td>\n",
       "      <td>Old Oak Tap</td>\n",
       "      <td>BLT</td>\n",
       "      <td>https://www.chicagomag.com/Chicago-Magazine/No...</td>\n",
       "    </tr>\n",
       "    <tr>\n",
       "      <th>1</th>\n",
       "      <td>2</td>\n",
       "      <td>Au Cheval</td>\n",
       "      <td>Fried Bologna</td>\n",
       "      <td>https://www.chicagomag.com/Chicago-Magazine/No...</td>\n",
       "    </tr>\n",
       "    <tr>\n",
       "      <th>2</th>\n",
       "      <td>3</td>\n",
       "      <td>Xoco</td>\n",
       "      <td>Woodland Mushroom</td>\n",
       "      <td>https://www.chicagomag.com/Chicago-Magazine/No...</td>\n",
       "    </tr>\n",
       "    <tr>\n",
       "      <th>3</th>\n",
       "      <td>4</td>\n",
       "      <td>Al’s Deli</td>\n",
       "      <td>Roast Beef</td>\n",
       "      <td>https://www.chicagomag.com/Chicago-Magazine/No...</td>\n",
       "    </tr>\n",
       "    <tr>\n",
       "      <th>4</th>\n",
       "      <td>5</td>\n",
       "      <td>Publican Quality Meats</td>\n",
       "      <td>PB&amp;L</td>\n",
       "      <td>https://www.chicagomag.com/Chicago-Magazine/No...</td>\n",
       "    </tr>\n",
       "  </tbody>\n",
       "</table>\n",
       "</div>"
      ],
      "text/plain": [
       "   Rank                    Cafe               Menu  \\\n",
       "0     1             Old Oak Tap                BLT   \n",
       "1     2               Au Cheval      Fried Bologna   \n",
       "2     3                    Xoco  Woodland Mushroom   \n",
       "3     4               Al’s Deli         Roast Beef   \n",
       "4     5  Publican Quality Meats               PB&L   \n",
       "\n",
       "                                                 URL  \n",
       "0  https://www.chicagomag.com/Chicago-Magazine/No...  \n",
       "1  https://www.chicagomag.com/Chicago-Magazine/No...  \n",
       "2  https://www.chicagomag.com/Chicago-Magazine/No...  \n",
       "3  https://www.chicagomag.com/Chicago-Magazine/No...  \n",
       "4  https://www.chicagomag.com/Chicago-Magazine/No...  "
      ]
     },
     "execution_count": 54,
     "metadata": {},
     "output_type": "execute_result"
    }
   ],
   "source": [
    "df.head()"
   ]
  },
  {
   "cell_type": "code",
   "execution_count": 56,
   "metadata": {
    "collapsed": true
   },
   "outputs": [
    {
     "data": {
      "text/plain": [
       "'\\n$10. 2109 W. Chicago Ave., 773-772-0406, theoldoaktap.com'"
      ]
     },
     "execution_count": 56,
     "metadata": {},
     "output_type": "execute_result"
    }
   ],
   "source": [
    "## df의 첫번째 원소의  url 컬럼값을 이용해서 데이터 가져오기\n",
    "req = Request(df['URL'][0],headers={'User-Agent':'Mozilla/5.0'})\n",
    "html = urlopen(req)\n",
    "soup_tmp = BeautifulSoup(html,'html.parser')\n",
    "\n",
    "temp_string = soup_tmp.find('p','addy').get_text()\n",
    "temp_string"
   ]
  },
  {
   "cell_type": "code",
   "execution_count": 60,
   "metadata": {
    "collapsed": true
   },
   "outputs": [
    {
     "data": {
      "text/plain": [
       "'$10'"
      ]
     },
     "execution_count": 60,
     "metadata": {},
     "output_type": "execute_result"
    }
   ],
   "source": [
    "## 가격 추출(가격 마지막에 . 을 제외)\n",
    "temp_string.split()[0][:-1]"
   ]
  },
  {
   "cell_type": "code",
   "execution_count": 61,
   "metadata": {
    "collapsed": true
   },
   "outputs": [
    {
     "data": {
      "text/plain": [
       "'2109 W. Chicago Ave.,'"
      ]
     },
     "execution_count": 61,
     "metadata": {},
     "output_type": "execute_result"
    }
   ],
   "source": [
    "## 주소 데이터 결합\n",
    "' '.join(temp_string.split()[1:-2])"
   ]
  },
  {
   "cell_type": "code",
   "execution_count": 62,
   "metadata": {
    "collapsed": true
   },
   "outputs": [
    {
     "data": {
      "text/plain": [
       "Int64Index([ 0,  1,  2,  3,  4,  5,  6,  7,  8,  9, 10, 11, 12, 13, 14, 15, 16,\n",
       "            17, 18, 19, 20, 21, 22, 23, 24, 25, 26, 27, 28, 29, 30, 31, 32, 33,\n",
       "            34, 35, 36, 37, 38, 39, 40, 41, 42, 43, 44, 45, 46, 47, 48, 49],\n",
       "           dtype='int64')"
      ]
     },
     "execution_count": 62,
     "metadata": {},
     "output_type": "execute_result"
    }
   ],
   "source": [
    "df.index"
   ]
  },
  {
   "cell_type": "code",
   "execution_count": 63,
   "metadata": {
    "collapsed": true
   },
   "outputs": [],
   "source": [
    "### 전체 데이터 추출\n",
    "price = []\n",
    "address = []\n",
    "\n",
    "for i in df.index[:3] :\n",
    "    req = Request(df['URL'][i],headers={'User-Agent':'Mozilla/5.0'})\n",
    "    html = urlopen(req)\n",
    "    soup_tmp = BeautifulSoup(html,'html.parser')\n",
    "    temp_string = soup_tmp.find('p','addy').get_text()\n",
    "    price.append(temp_string.split()[0][:-1])\n",
    "    address.append(' '.join(temp_string.split()[1:-2]))"
   ]
  },
  {
   "cell_type": "code",
   "execution_count": 65,
   "metadata": {
    "collapsed": true
   },
   "outputs": [
    {
     "data": {
      "text/plain": [
       "(['$10', '$9', '$9.50'],\n",
       " ['2109 W. Chicago Ave.,', '800 W. Randolph St.,', '445 N. Clark St.,'])"
      ]
     },
     "execution_count": 65,
     "metadata": {},
     "output_type": "execute_result"
    }
   ],
   "source": [
    "price,address"
   ]
  },
  {
   "cell_type": "code",
   "execution_count": null,
   "metadata": {
    "collapsed": true
   },
   "outputs": [],
   "source": [
    "## 50개  url에 자동접근해서 data 추출\n",
    "## 상태 진행바 추가"
   ]
  },
  {
   "cell_type": "code",
   "execution_count": 66,
   "metadata": {
    "collapsed": true
   },
   "outputs": [
    {
     "name": "stderr",
     "output_type": "stream",
     "text": [
      "<ipython-input-66-4e9bbc80156e>:6: TqdmDeprecationWarning: This function will be removed in tqdm==5.0.0\n",
      "Please use `tqdm.notebook.tqdm` instead of `tqdm.tqdm_notebook`\n",
      "  for i in tqdm_notebook(df.index) :\n"
     ]
    },
    {
     "data": {
      "application/vnd.jupyter.widget-view+json": {
       "model_id": "f43a10ac20e04deb8cdd6639edfc5d66",
       "version_major": 2,
       "version_minor": 0
      },
      "text/plain": [
       "HBox(children=(HTML(value=''), FloatProgress(value=0.0, max=50.0), HTML(value='')))"
      ]
     },
     "metadata": {},
     "output_type": "display_data"
    },
    {
     "name": "stdout",
     "output_type": "stream",
     "text": [
      "\n"
     ]
    }
   ],
   "source": [
    "from tqdm import tqdm_notebook\n",
    "\n",
    "price = []\n",
    "address = []\n",
    "\n",
    "for i in tqdm_notebook(df.index) :\n",
    "    req = Request(df['URL'][i],headers={'User-Agent':'Mozilla/5.0'})\n",
    "    html = urlopen(req)\n",
    "    soup_tmp = BeautifulSoup(html,'html.parser')\n",
    "    temp_string = soup_tmp.find('p','addy').get_text()\n",
    "    price.append(temp_string.split()[0][:-1])\n",
    "    address.append(' '.join(temp_string.split()[1:-2]))"
   ]
  },
  {
   "cell_type": "code",
   "execution_count": 67,
   "metadata": {
    "collapsed": true
   },
   "outputs": [],
   "source": [
    "## 수집 데이터 df에 추가\n",
    "df['price']=price\n",
    "df['address']=address"
   ]
  },
  {
   "cell_type": "code",
   "execution_count": 68,
   "metadata": {
    "collapsed": true
   },
   "outputs": [
    {
     "data": {
      "text/html": [
       "<div>\n",
       "<style scoped>\n",
       "    .dataframe tbody tr th:only-of-type {\n",
       "        vertical-align: middle;\n",
       "    }\n",
       "\n",
       "    .dataframe tbody tr th {\n",
       "        vertical-align: top;\n",
       "    }\n",
       "\n",
       "    .dataframe thead th {\n",
       "        text-align: right;\n",
       "    }\n",
       "</style>\n",
       "<table border=\"1\" class=\"dataframe\">\n",
       "  <thead>\n",
       "    <tr style=\"text-align: right;\">\n",
       "      <th></th>\n",
       "      <th>Rank</th>\n",
       "      <th>Cafe</th>\n",
       "      <th>Menu</th>\n",
       "      <th>URL</th>\n",
       "      <th>price</th>\n",
       "      <th>address</th>\n",
       "    </tr>\n",
       "  </thead>\n",
       "  <tbody>\n",
       "    <tr>\n",
       "      <th>0</th>\n",
       "      <td>1</td>\n",
       "      <td>Old Oak Tap</td>\n",
       "      <td>BLT</td>\n",
       "      <td>https://www.chicagomag.com/Chicago-Magazine/No...</td>\n",
       "      <td>$10</td>\n",
       "      <td>2109 W. Chicago Ave.,</td>\n",
       "    </tr>\n",
       "    <tr>\n",
       "      <th>1</th>\n",
       "      <td>2</td>\n",
       "      <td>Au Cheval</td>\n",
       "      <td>Fried Bologna</td>\n",
       "      <td>https://www.chicagomag.com/Chicago-Magazine/No...</td>\n",
       "      <td>$9</td>\n",
       "      <td>800 W. Randolph St.,</td>\n",
       "    </tr>\n",
       "    <tr>\n",
       "      <th>2</th>\n",
       "      <td>3</td>\n",
       "      <td>Xoco</td>\n",
       "      <td>Woodland Mushroom</td>\n",
       "      <td>https://www.chicagomag.com/Chicago-Magazine/No...</td>\n",
       "      <td>$9.50</td>\n",
       "      <td>445 N. Clark St.,</td>\n",
       "    </tr>\n",
       "    <tr>\n",
       "      <th>3</th>\n",
       "      <td>4</td>\n",
       "      <td>Al’s Deli</td>\n",
       "      <td>Roast Beef</td>\n",
       "      <td>https://www.chicagomag.com/Chicago-Magazine/No...</td>\n",
       "      <td>$9.40</td>\n",
       "      <td>914 Noyes St., Evanston,</td>\n",
       "    </tr>\n",
       "    <tr>\n",
       "      <th>4</th>\n",
       "      <td>5</td>\n",
       "      <td>Publican Quality Meats</td>\n",
       "      <td>PB&amp;L</td>\n",
       "      <td>https://www.chicagomag.com/Chicago-Magazine/No...</td>\n",
       "      <td>$10</td>\n",
       "      <td>825 W. Fulton Mkt.,</td>\n",
       "    </tr>\n",
       "  </tbody>\n",
       "</table>\n",
       "</div>"
      ],
      "text/plain": [
       "   Rank                    Cafe               Menu  \\\n",
       "0     1             Old Oak Tap                BLT   \n",
       "1     2               Au Cheval      Fried Bologna   \n",
       "2     3                    Xoco  Woodland Mushroom   \n",
       "3     4               Al’s Deli         Roast Beef   \n",
       "4     5  Publican Quality Meats               PB&L   \n",
       "\n",
       "                                                 URL  price  \\\n",
       "0  https://www.chicagomag.com/Chicago-Magazine/No...    $10   \n",
       "1  https://www.chicagomag.com/Chicago-Magazine/No...     $9   \n",
       "2  https://www.chicagomag.com/Chicago-Magazine/No...  $9.50   \n",
       "3  https://www.chicagomag.com/Chicago-Magazine/No...  $9.40   \n",
       "4  https://www.chicagomag.com/Chicago-Magazine/No...    $10   \n",
       "\n",
       "                    address  \n",
       "0     2109 W. Chicago Ave.,  \n",
       "1      800 W. Randolph St.,  \n",
       "2         445 N. Clark St.,  \n",
       "3  914 Noyes St., Evanston,  \n",
       "4       825 W. Fulton Mkt.,  "
      ]
     },
     "execution_count": 68,
     "metadata": {},
     "output_type": "execute_result"
    }
   ],
   "source": [
    "df.head()"
   ]
  },
  {
   "cell_type": "code",
   "execution_count": 69,
   "metadata": {
    "collapsed": true
   },
   "outputs": [
    {
     "data": {
      "text/html": [
       "<div>\n",
       "<style scoped>\n",
       "    .dataframe tbody tr th:only-of-type {\n",
       "        vertical-align: middle;\n",
       "    }\n",
       "\n",
       "    .dataframe tbody tr th {\n",
       "        vertical-align: top;\n",
       "    }\n",
       "\n",
       "    .dataframe thead th {\n",
       "        text-align: right;\n",
       "    }\n",
       "</style>\n",
       "<table border=\"1\" class=\"dataframe\">\n",
       "  <thead>\n",
       "    <tr style=\"text-align: right;\">\n",
       "      <th></th>\n",
       "      <th>Rank</th>\n",
       "      <th>Cafe</th>\n",
       "      <th>Menu</th>\n",
       "      <th>price</th>\n",
       "      <th>address</th>\n",
       "    </tr>\n",
       "  </thead>\n",
       "  <tbody>\n",
       "    <tr>\n",
       "      <th>0</th>\n",
       "      <td>1</td>\n",
       "      <td>Old Oak Tap</td>\n",
       "      <td>BLT</td>\n",
       "      <td>$10</td>\n",
       "      <td>2109 W. Chicago Ave.,</td>\n",
       "    </tr>\n",
       "    <tr>\n",
       "      <th>1</th>\n",
       "      <td>2</td>\n",
       "      <td>Au Cheval</td>\n",
       "      <td>Fried Bologna</td>\n",
       "      <td>$9</td>\n",
       "      <td>800 W. Randolph St.,</td>\n",
       "    </tr>\n",
       "    <tr>\n",
       "      <th>2</th>\n",
       "      <td>3</td>\n",
       "      <td>Xoco</td>\n",
       "      <td>Woodland Mushroom</td>\n",
       "      <td>$9.50</td>\n",
       "      <td>445 N. Clark St.,</td>\n",
       "    </tr>\n",
       "    <tr>\n",
       "      <th>3</th>\n",
       "      <td>4</td>\n",
       "      <td>Al’s Deli</td>\n",
       "      <td>Roast Beef</td>\n",
       "      <td>$9.40</td>\n",
       "      <td>914 Noyes St., Evanston,</td>\n",
       "    </tr>\n",
       "    <tr>\n",
       "      <th>4</th>\n",
       "      <td>5</td>\n",
       "      <td>Publican Quality Meats</td>\n",
       "      <td>PB&amp;L</td>\n",
       "      <td>$10</td>\n",
       "      <td>825 W. Fulton Mkt.,</td>\n",
       "    </tr>\n",
       "  </tbody>\n",
       "</table>\n",
       "</div>"
      ],
      "text/plain": [
       "   Rank                    Cafe               Menu  price  \\\n",
       "0     1             Old Oak Tap                BLT    $10   \n",
       "1     2               Au Cheval      Fried Bologna     $9   \n",
       "2     3                    Xoco  Woodland Mushroom  $9.50   \n",
       "3     4               Al’s Deli         Roast Beef  $9.40   \n",
       "4     5  Publican Quality Meats               PB&L    $10   \n",
       "\n",
       "                    address  \n",
       "0     2109 W. Chicago Ave.,  \n",
       "1      800 W. Randolph St.,  \n",
       "2         445 N. Clark St.,  \n",
       "3  914 Noyes St., Evanston,  \n",
       "4       825 W. Fulton Mkt.,  "
      ]
     },
     "execution_count": 69,
     "metadata": {},
     "output_type": "execute_result"
    }
   ],
   "source": [
    "df=df.loc[:,['Rank','Cafe','Menu','price','address']]\n",
    "df.head()"
   ]
  },
  {
   "cell_type": "code",
   "execution_count": 70,
   "metadata": {
    "collapsed": true
   },
   "outputs": [],
   "source": [
    "## Rank컬럼을 index 로 생성 _ inplace=True -  원본 수정\n",
    "df.set_index('Rank',inplace=True)"
   ]
  },
  {
   "cell_type": "code",
   "execution_count": 71,
   "metadata": {
    "collapsed": true
   },
   "outputs": [
    {
     "data": {
      "text/html": [
       "<div>\n",
       "<style scoped>\n",
       "    .dataframe tbody tr th:only-of-type {\n",
       "        vertical-align: middle;\n",
       "    }\n",
       "\n",
       "    .dataframe tbody tr th {\n",
       "        vertical-align: top;\n",
       "    }\n",
       "\n",
       "    .dataframe thead th {\n",
       "        text-align: right;\n",
       "    }\n",
       "</style>\n",
       "<table border=\"1\" class=\"dataframe\">\n",
       "  <thead>\n",
       "    <tr style=\"text-align: right;\">\n",
       "      <th></th>\n",
       "      <th>Cafe</th>\n",
       "      <th>Menu</th>\n",
       "      <th>price</th>\n",
       "      <th>address</th>\n",
       "    </tr>\n",
       "    <tr>\n",
       "      <th>Rank</th>\n",
       "      <th></th>\n",
       "      <th></th>\n",
       "      <th></th>\n",
       "      <th></th>\n",
       "    </tr>\n",
       "  </thead>\n",
       "  <tbody>\n",
       "    <tr>\n",
       "      <th>46</th>\n",
       "      <td>Chickpea</td>\n",
       "      <td>Kufta</td>\n",
       "      <td>$8</td>\n",
       "      <td>2018 W. Chicago Ave.,</td>\n",
       "    </tr>\n",
       "    <tr>\n",
       "      <th>47</th>\n",
       "      <td>The Goddess and Grocer</td>\n",
       "      <td>Debbie’s Egg Salad</td>\n",
       "      <td>$6.50</td>\n",
       "      <td>25 E. Delaware Pl.,</td>\n",
       "    </tr>\n",
       "    <tr>\n",
       "      <th>48</th>\n",
       "      <td>Zenwich</td>\n",
       "      <td>Beef Curry</td>\n",
       "      <td>$7.50</td>\n",
       "      <td>416 N. York St., Elmhurst,</td>\n",
       "    </tr>\n",
       "    <tr>\n",
       "      <th>49</th>\n",
       "      <td>Toni Patisserie</td>\n",
       "      <td>Le Végétarien</td>\n",
       "      <td>$8.75</td>\n",
       "      <td>65 E. Washington St.,</td>\n",
       "    </tr>\n",
       "    <tr>\n",
       "      <th>50</th>\n",
       "      <td>Phoebe’s Bakery</td>\n",
       "      <td>The Gatsby</td>\n",
       "      <td>$6.85</td>\n",
       "      <td>3351 N. Broadway,</td>\n",
       "    </tr>\n",
       "  </tbody>\n",
       "</table>\n",
       "</div>"
      ],
      "text/plain": [
       "                        Cafe                Menu  price  \\\n",
       "Rank                                                      \n",
       "46                  Chickpea               Kufta     $8   \n",
       "47    The Goddess and Grocer  Debbie’s Egg Salad  $6.50   \n",
       "48                   Zenwich          Beef Curry  $7.50   \n",
       "49           Toni Patisserie       Le Végétarien  $8.75   \n",
       "50           Phoebe’s Bakery          The Gatsby  $6.85   \n",
       "\n",
       "                         address  \n",
       "Rank                              \n",
       "46         2018 W. Chicago Ave.,  \n",
       "47           25 E. Delaware Pl.,  \n",
       "48    416 N. York St., Elmhurst,  \n",
       "49         65 E. Washington St.,  \n",
       "50             3351 N. Broadway,  "
      ]
     },
     "execution_count": 71,
     "metadata": {},
     "output_type": "execute_result"
    }
   ],
   "source": [
    "df.tail()"
   ]
  },
  {
   "cell_type": "code",
   "execution_count": 72,
   "metadata": {
    "collapsed": true
   },
   "outputs": [],
   "source": [
    "## 시카고샌드위치_주소.csv\n",
    "df.to_csv('./수집자료/시카고샌드위치_주소.csv',sep=',',encoding='utf-8')"
   ]
  },
  {
   "cell_type": "code",
   "execution_count": null,
   "metadata": {
    "collapsed": true
   },
   "outputs": [],
   "source": [
    "##-- 수집된 주소를 이용해서 각 상점의 위경도 찾기\n",
    "## 구글맵스틀 이용해서 기본 map  가져오고 위경도 찾기"
   ]
  },
  {
   "cell_type": "code",
   "execution_count": 75,
   "metadata": {
    "collapsed": true
   },
   "outputs": [],
   "source": [
    "# 필요패키지 import\n",
    "import googlemaps #install\n",
    "import folium\n",
    "import pandas as pd\n",
    "import numpy as np"
   ]
  },
  {
   "cell_type": "code",
   "execution_count": 77,
   "metadata": {
    "collapsed": true
   },
   "outputs": [],
   "source": [
    "# 구글 클라이언트 등록하는 과정\n",
    "gmapsKey='구글키'\n",
    "gmaps = googlemaps.Client(key=gmapsKey)"
   ]
  },
  {
   "cell_type": "code",
   "execution_count": 79,
   "metadata": {
    "collapsed": true
   },
   "outputs": [
    {
     "data": {
      "text/html": [
       "<div>\n",
       "<style scoped>\n",
       "    .dataframe tbody tr th:only-of-type {\n",
       "        vertical-align: middle;\n",
       "    }\n",
       "\n",
       "    .dataframe tbody tr th {\n",
       "        vertical-align: top;\n",
       "    }\n",
       "\n",
       "    .dataframe thead th {\n",
       "        text-align: right;\n",
       "    }\n",
       "</style>\n",
       "<table border=\"1\" class=\"dataframe\">\n",
       "  <thead>\n",
       "    <tr style=\"text-align: right;\">\n",
       "      <th></th>\n",
       "      <th>Cafe</th>\n",
       "      <th>Menu</th>\n",
       "      <th>price</th>\n",
       "      <th>address</th>\n",
       "    </tr>\n",
       "    <tr>\n",
       "      <th>Rank</th>\n",
       "      <th></th>\n",
       "      <th></th>\n",
       "      <th></th>\n",
       "      <th></th>\n",
       "    </tr>\n",
       "  </thead>\n",
       "  <tbody>\n",
       "    <tr>\n",
       "      <th>1</th>\n",
       "      <td>Old Oak Tap</td>\n",
       "      <td>BLT</td>\n",
       "      <td>$10</td>\n",
       "      <td>2109 W. Chicago Ave.,</td>\n",
       "    </tr>\n",
       "    <tr>\n",
       "      <th>2</th>\n",
       "      <td>Au Cheval</td>\n",
       "      <td>Fried Bologna</td>\n",
       "      <td>$9</td>\n",
       "      <td>800 W. Randolph St.,</td>\n",
       "    </tr>\n",
       "    <tr>\n",
       "      <th>3</th>\n",
       "      <td>Xoco</td>\n",
       "      <td>Woodland Mushroom</td>\n",
       "      <td>$9.50</td>\n",
       "      <td>445 N. Clark St.,</td>\n",
       "    </tr>\n",
       "    <tr>\n",
       "      <th>4</th>\n",
       "      <td>Al’s Deli</td>\n",
       "      <td>Roast Beef</td>\n",
       "      <td>$9.40</td>\n",
       "      <td>914 Noyes St., Evanston,</td>\n",
       "    </tr>\n",
       "    <tr>\n",
       "      <th>5</th>\n",
       "      <td>Publican Quality Meats</td>\n",
       "      <td>PB&amp;L</td>\n",
       "      <td>$10</td>\n",
       "      <td>825 W. Fulton Mkt.,</td>\n",
       "    </tr>\n",
       "  </tbody>\n",
       "</table>\n",
       "</div>"
      ],
      "text/plain": [
       "                        Cafe               Menu  price  \\\n",
       "Rank                                                     \n",
       "1                Old Oak Tap                BLT    $10   \n",
       "2                  Au Cheval      Fried Bologna     $9   \n",
       "3                       Xoco  Woodland Mushroom  $9.50   \n",
       "4                  Al’s Deli         Roast Beef  $9.40   \n",
       "5     Publican Quality Meats               PB&L    $10   \n",
       "\n",
       "                       address  \n",
       "Rank                            \n",
       "1        2109 W. Chicago Ave.,  \n",
       "2         800 W. Randolph St.,  \n",
       "3            445 N. Clark St.,  \n",
       "4     914 Noyes St., Evanston,  \n",
       "5          825 W. Fulton Mkt.,  "
      ]
     },
     "execution_count": 79,
     "metadata": {},
     "output_type": "execute_result"
    }
   ],
   "source": [
    "## 데이터 읽어오기\n",
    "df = pd.read_csv('./수집자료/시카고샌드위치_주소.csv',index_col=0)\n",
    "df.head()"
   ]
  },
  {
   "cell_type": "code",
   "execution_count": 81,
   "metadata": {
    "collapsed": true
   },
   "outputs": [
    {
     "data": {
      "text/plain": [
       "'2109 W. Chicago Ave.,,Chicago'"
      ]
     },
     "execution_count": 81,
     "metadata": {},
     "output_type": "execute_result"
    }
   ],
   "source": [
    "#  첫번째 상점의 위경도 찾기\n",
    "\n",
    "## 미국 주 이름 앞에는 , 가 와야 함(두번있어도 상관 없음. 단, 없으면 못찾는다)\n",
    "target_name = df['address'][1] +','+ 'Chicago'\n",
    "target_name"
   ]
  },
  {
   "cell_type": "code",
   "execution_count": 97,
   "metadata": {
    "collapsed": true
   },
   "outputs": [
    {
     "data": {
      "text/plain": [
       "41.8956049"
      ]
     },
     "execution_count": 97,
     "metadata": {},
     "output_type": "execute_result"
    }
   ],
   "source": [
    "# googlemaps 객체의  getcode() 위경도를 찾아옴\n",
    "g_info = gmaps.geocode(target_name)\n",
    "g_lo =g_info[0].get(\"geometry\")['location']\n",
    "g_lo['lat']\n",
    "# g_lo['lng']"
   ]
  },
  {
   "cell_type": "code",
   "execution_count": 100,
   "metadata": {
    "collapsed": true
   },
   "outputs": [],
   "source": [
    "# 50개 위경도 찾아오기\n",
    "lat=[]\n",
    "lng=[]"
   ]
  },
  {
   "cell_type": "code",
   "execution_count": 101,
   "metadata": {
    "collapsed": true
   },
   "outputs": [
    {
     "name": "stderr",
     "output_type": "stream",
     "text": [
      "<ipython-input-101-67e0aeb6ab97>:1: TqdmDeprecationWarning: This function will be removed in tqdm==5.0.0\n",
      "Please use `tqdm.notebook.tqdm` instead of `tqdm.tqdm_notebook`\n",
      "  for n in tqdm_notebook(df.index) :\n"
     ]
    },
    {
     "data": {
      "application/vnd.jupyter.widget-view+json": {
       "model_id": "5e78ed29815b4ea98d3996975cc80f90",
       "version_major": 2,
       "version_minor": 0
      },
      "text/plain": [
       "HBox(children=(HTML(value=''), FloatProgress(value=0.0, max=50.0), HTML(value='')))"
      ]
     },
     "metadata": {},
     "output_type": "display_data"
    },
    {
     "name": "stdout",
     "output_type": "stream",
     "text": [
      "\n"
     ]
    }
   ],
   "source": [
    "for n in tqdm_notebook(df.index) :\n",
    "    target_name = df['address'][n] +','+ 'Chicago'\n",
    "    g_info = gmaps.geocode(target_name)\n",
    "    g_lo =g_info[0].get(\"geometry\")['location']\n",
    "    lat.append(g_lo['lat'])\n",
    "    lng.append(g_lo['lng'])"
   ]
  },
  {
   "cell_type": "code",
   "execution_count": 102,
   "metadata": {
    "collapsed": true
   },
   "outputs": [
    {
     "data": {
      "text/plain": [
       "(50, 50)"
      ]
     },
     "execution_count": 102,
     "metadata": {},
     "output_type": "execute_result"
    }
   ],
   "source": [
    "len(lat),len(lng)"
   ]
  },
  {
   "cell_type": "code",
   "execution_count": 104,
   "metadata": {},
   "outputs": [
    {
     "data": {
      "text/plain": [
       "[-87.67996149999999,\n",
       " -87.6476668,\n",
       " -87.6307834,\n",
       " -87.6837479,\n",
       " -87.64853649999999,\n",
       " -87.6253366,\n",
       " -87.6252007,\n",
       " -87.68287529999999,\n",
       " -87.7176727,\n",
       " -87.6456492,\n",
       " -87.706792,\n",
       " -87.64928379999999,\n",
       " -87.64464369999999,\n",
       " -87.6636812,\n",
       " -87.7072408,\n",
       " -87.6555453,\n",
       " -87.6419289,\n",
       " -87.6184837,\n",
       " -87.6343113,\n",
       " -87.6771273,\n",
       " -87.7084498,\n",
       " -87.64928379999999,\n",
       " -87.66795719999999,\n",
       " -87.7027107,\n",
       " -87.64928379999999,\n",
       " -87.803618,\n",
       " -87.64928379999999,\n",
       " -87.67557959999999,\n",
       " -87.6902192,\n",
       " -87.6349487,\n",
       " -87.64928379999999,\n",
       " -87.6343775,\n",
       " -87.64484259999999,\n",
       " -87.6778047,\n",
       " -87.6592124,\n",
       " -87.66934409999999,\n",
       " -87.67581620000001,\n",
       " -87.6278214,\n",
       " -87.64928379999999,\n",
       " -87.9396459,\n",
       " -87.5938456,\n",
       " -87.8414998,\n",
       " -87.6343888,\n",
       " -87.8022297,\n",
       " -87.6264489,\n",
       " -87.677857,\n",
       " -87.6273926,\n",
       " -87.94048839999999,\n",
       " -87.6254381,\n",
       " -87.6445071]"
      ]
     },
     "execution_count": 104,
     "metadata": {},
     "output_type": "execute_result"
    }
   ],
   "source": [
    "lng"
   ]
  },
  {
   "cell_type": "code",
   "execution_count": 105,
   "metadata": {
    "collapsed": true
   },
   "outputs": [
    {
     "data": {
      "text/html": [
       "<div>\n",
       "<style scoped>\n",
       "    .dataframe tbody tr th:only-of-type {\n",
       "        vertical-align: middle;\n",
       "    }\n",
       "\n",
       "    .dataframe tbody tr th {\n",
       "        vertical-align: top;\n",
       "    }\n",
       "\n",
       "    .dataframe thead th {\n",
       "        text-align: right;\n",
       "    }\n",
       "</style>\n",
       "<table border=\"1\" class=\"dataframe\">\n",
       "  <thead>\n",
       "    <tr style=\"text-align: right;\">\n",
       "      <th></th>\n",
       "      <th>Cafe</th>\n",
       "      <th>Menu</th>\n",
       "      <th>price</th>\n",
       "      <th>address</th>\n",
       "      <th>lat</th>\n",
       "      <th>lng</th>\n",
       "    </tr>\n",
       "    <tr>\n",
       "      <th>Rank</th>\n",
       "      <th></th>\n",
       "      <th></th>\n",
       "      <th></th>\n",
       "      <th></th>\n",
       "      <th></th>\n",
       "      <th></th>\n",
       "    </tr>\n",
       "  </thead>\n",
       "  <tbody>\n",
       "    <tr>\n",
       "      <th>1</th>\n",
       "      <td>Old Oak Tap</td>\n",
       "      <td>BLT</td>\n",
       "      <td>$10</td>\n",
       "      <td>2109 W. Chicago Ave.,</td>\n",
       "      <td>41.895605</td>\n",
       "      <td>-87.679961</td>\n",
       "    </tr>\n",
       "    <tr>\n",
       "      <th>2</th>\n",
       "      <td>Au Cheval</td>\n",
       "      <td>Fried Bologna</td>\n",
       "      <td>$9</td>\n",
       "      <td>800 W. Randolph St.,</td>\n",
       "      <td>41.884658</td>\n",
       "      <td>-87.647667</td>\n",
       "    </tr>\n",
       "    <tr>\n",
       "      <th>3</th>\n",
       "      <td>Xoco</td>\n",
       "      <td>Woodland Mushroom</td>\n",
       "      <td>$9.50</td>\n",
       "      <td>445 N. Clark St.,</td>\n",
       "      <td>41.890523</td>\n",
       "      <td>-87.630783</td>\n",
       "    </tr>\n",
       "    <tr>\n",
       "      <th>4</th>\n",
       "      <td>Al’s Deli</td>\n",
       "      <td>Roast Beef</td>\n",
       "      <td>$9.40</td>\n",
       "      <td>914 Noyes St., Evanston,</td>\n",
       "      <td>42.058322</td>\n",
       "      <td>-87.683748</td>\n",
       "    </tr>\n",
       "    <tr>\n",
       "      <th>5</th>\n",
       "      <td>Publican Quality Meats</td>\n",
       "      <td>PB&amp;L</td>\n",
       "      <td>$10</td>\n",
       "      <td>825 W. Fulton Mkt.,</td>\n",
       "      <td>41.886604</td>\n",
       "      <td>-87.648536</td>\n",
       "    </tr>\n",
       "  </tbody>\n",
       "</table>\n",
       "</div>"
      ],
      "text/plain": [
       "                        Cafe               Menu  price  \\\n",
       "Rank                                                     \n",
       "1                Old Oak Tap                BLT    $10   \n",
       "2                  Au Cheval      Fried Bologna     $9   \n",
       "3                       Xoco  Woodland Mushroom  $9.50   \n",
       "4                  Al’s Deli         Roast Beef  $9.40   \n",
       "5     Publican Quality Meats               PB&L    $10   \n",
       "\n",
       "                       address        lat        lng  \n",
       "Rank                                                  \n",
       "1        2109 W. Chicago Ave.,  41.895605 -87.679961  \n",
       "2         800 W. Randolph St.,  41.884658 -87.647667  \n",
       "3            445 N. Clark St.,  41.890523 -87.630783  \n",
       "4     914 Noyes St., Evanston,  42.058322 -87.683748  \n",
       "5          825 W. Fulton Mkt.,  41.886604 -87.648536  "
      ]
     },
     "execution_count": 105,
     "metadata": {},
     "output_type": "execute_result"
    }
   ],
   "source": [
    "df['lat']=lat\n",
    "df['lng']=lng\n",
    "df.head()"
   ]
  },
  {
   "cell_type": "code",
   "execution_count": null,
   "metadata": {
    "collapsed": true
   },
   "outputs": [],
   "source": [
    "###--- 지도 시각화\n",
    "## folium map 사용\n",
    "# map=folium.Map(location='위경도리스트,중심좌표',zoom_start='초기확대정도')\n",
    "\n",
    "## 마커 표현\n",
    "# folium.Marker([위도,경도],popup='마커출력글자').add_to(map)"
   ]
  },
  {
   "cell_type": "code",
   "execution_count": 107,
   "metadata": {
    "collapsed": true
   },
   "outputs": [],
   "source": [
    "lat_c = df['lat'].mean()\n",
    "lng_c = df['lng'].mean()"
   ]
  },
  {
   "cell_type": "code",
   "execution_count": 109,
   "metadata": {},
   "outputs": [
    {
     "data": {
      "text/html": [
       "<div style=\"width:100%;\"><div style=\"position:relative;width:100%;height:0;padding-bottom:60%;\"><span style=\"color:#565656\">Make this Notebook Trusted to load map: File -> Trust Notebook</span><iframe src=\"about:blank\" style=\"position:absolute;width:100%;height:100%;left:0;top:0;border:none !important;\" data-html=%3C%21DOCTYPE%20html%3E%0A%3Chead%3E%20%20%20%20%0A%20%20%20%20%3Cmeta%20http-equiv%3D%22content-type%22%20content%3D%22text/html%3B%20charset%3DUTF-8%22%20/%3E%0A%20%20%20%20%0A%20%20%20%20%20%20%20%20%3Cscript%3E%0A%20%20%20%20%20%20%20%20%20%20%20%20L_NO_TOUCH%20%3D%20false%3B%0A%20%20%20%20%20%20%20%20%20%20%20%20L_DISABLE_3D%20%3D%20false%3B%0A%20%20%20%20%20%20%20%20%3C/script%3E%0A%20%20%20%20%0A%20%20%20%20%3Cstyle%3Ehtml%2C%20body%20%7Bwidth%3A%20100%25%3Bheight%3A%20100%25%3Bmargin%3A%200%3Bpadding%3A%200%3B%7D%3C/style%3E%0A%20%20%20%20%3Cstyle%3E%23map%20%7Bposition%3Aabsolute%3Btop%3A0%3Bbottom%3A0%3Bright%3A0%3Bleft%3A0%3B%7D%3C/style%3E%0A%20%20%20%20%3Cscript%20src%3D%22https%3A//cdn.jsdelivr.net/npm/leaflet%401.6.0/dist/leaflet.js%22%3E%3C/script%3E%0A%20%20%20%20%3Cscript%20src%3D%22https%3A//code.jquery.com/jquery-1.12.4.min.js%22%3E%3C/script%3E%0A%20%20%20%20%3Cscript%20src%3D%22https%3A//maxcdn.bootstrapcdn.com/bootstrap/3.2.0/js/bootstrap.min.js%22%3E%3C/script%3E%0A%20%20%20%20%3Cscript%20src%3D%22https%3A//cdnjs.cloudflare.com/ajax/libs/Leaflet.awesome-markers/2.0.2/leaflet.awesome-markers.js%22%3E%3C/script%3E%0A%20%20%20%20%3Clink%20rel%3D%22stylesheet%22%20href%3D%22https%3A//cdn.jsdelivr.net/npm/leaflet%401.6.0/dist/leaflet.css%22/%3E%0A%20%20%20%20%3Clink%20rel%3D%22stylesheet%22%20href%3D%22https%3A//maxcdn.bootstrapcdn.com/bootstrap/3.2.0/css/bootstrap.min.css%22/%3E%0A%20%20%20%20%3Clink%20rel%3D%22stylesheet%22%20href%3D%22https%3A//maxcdn.bootstrapcdn.com/bootstrap/3.2.0/css/bootstrap-theme.min.css%22/%3E%0A%20%20%20%20%3Clink%20rel%3D%22stylesheet%22%20href%3D%22https%3A//maxcdn.bootstrapcdn.com/font-awesome/4.6.3/css/font-awesome.min.css%22/%3E%0A%20%20%20%20%3Clink%20rel%3D%22stylesheet%22%20href%3D%22https%3A//cdnjs.cloudflare.com/ajax/libs/Leaflet.awesome-markers/2.0.2/leaflet.awesome-markers.css%22/%3E%0A%20%20%20%20%3Clink%20rel%3D%22stylesheet%22%20href%3D%22https%3A//cdn.jsdelivr.net/gh/python-visualization/folium/folium/templates/leaflet.awesome.rotate.min.css%22/%3E%0A%20%20%20%20%0A%20%20%20%20%20%20%20%20%20%20%20%20%3Cmeta%20name%3D%22viewport%22%20content%3D%22width%3Ddevice-width%2C%0A%20%20%20%20%20%20%20%20%20%20%20%20%20%20%20%20initial-scale%3D1.0%2C%20maximum-scale%3D1.0%2C%20user-scalable%3Dno%22%20/%3E%0A%20%20%20%20%20%20%20%20%20%20%20%20%3Cstyle%3E%0A%20%20%20%20%20%20%20%20%20%20%20%20%20%20%20%20%23map_f5b2fce52f57415da90ea9e12fb10031%20%7B%0A%20%20%20%20%20%20%20%20%20%20%20%20%20%20%20%20%20%20%20%20position%3A%20relative%3B%0A%20%20%20%20%20%20%20%20%20%20%20%20%20%20%20%20%20%20%20%20width%3A%20100.0%25%3B%0A%20%20%20%20%20%20%20%20%20%20%20%20%20%20%20%20%20%20%20%20height%3A%20100.0%25%3B%0A%20%20%20%20%20%20%20%20%20%20%20%20%20%20%20%20%20%20%20%20left%3A%200.0%25%3B%0A%20%20%20%20%20%20%20%20%20%20%20%20%20%20%20%20%20%20%20%20top%3A%200.0%25%3B%0A%20%20%20%20%20%20%20%20%20%20%20%20%20%20%20%20%7D%0A%20%20%20%20%20%20%20%20%20%20%20%20%3C/style%3E%0A%20%20%20%20%20%20%20%20%0A%3C/head%3E%0A%3Cbody%3E%20%20%20%20%0A%20%20%20%20%0A%20%20%20%20%20%20%20%20%20%20%20%20%3Cdiv%20class%3D%22folium-map%22%20id%3D%22map_f5b2fce52f57415da90ea9e12fb10031%22%20%3E%3C/div%3E%0A%20%20%20%20%20%20%20%20%0A%3C/body%3E%0A%3Cscript%3E%20%20%20%20%0A%20%20%20%20%0A%20%20%20%20%20%20%20%20%20%20%20%20var%20map_f5b2fce52f57415da90ea9e12fb10031%20%3D%20L.map%28%0A%20%20%20%20%20%20%20%20%20%20%20%20%20%20%20%20%22map_f5b2fce52f57415da90ea9e12fb10031%22%2C%0A%20%20%20%20%20%20%20%20%20%20%20%20%20%20%20%20%7B%0A%20%20%20%20%20%20%20%20%20%20%20%20%20%20%20%20%20%20%20%20center%3A%20%5B41.919281874%2C%20-87.67718663199997%5D%2C%0A%20%20%20%20%20%20%20%20%20%20%20%20%20%20%20%20%20%20%20%20crs%3A%20L.CRS.EPSG3857%2C%0A%20%20%20%20%20%20%20%20%20%20%20%20%20%20%20%20%20%20%20%20zoom%3A%2011%2C%0A%20%20%20%20%20%20%20%20%20%20%20%20%20%20%20%20%20%20%20%20zoomControl%3A%20true%2C%0A%20%20%20%20%20%20%20%20%20%20%20%20%20%20%20%20%20%20%20%20preferCanvas%3A%20false%2C%0A%20%20%20%20%20%20%20%20%20%20%20%20%20%20%20%20%7D%0A%20%20%20%20%20%20%20%20%20%20%20%20%29%3B%0A%0A%20%20%20%20%20%20%20%20%20%20%20%20%0A%0A%20%20%20%20%20%20%20%20%0A%20%20%20%20%0A%20%20%20%20%20%20%20%20%20%20%20%20var%20tile_layer_f9fd8e485ab84f09bf380a98272e9fd8%20%3D%20L.tileLayer%28%0A%20%20%20%20%20%20%20%20%20%20%20%20%20%20%20%20%22https%3A//%7Bs%7D.tile.openstreetmap.org/%7Bz%7D/%7Bx%7D/%7By%7D.png%22%2C%0A%20%20%20%20%20%20%20%20%20%20%20%20%20%20%20%20%7B%22attribution%22%3A%20%22Data%20by%20%5Cu0026copy%3B%20%5Cu003ca%20href%3D%5C%22http%3A//openstreetmap.org%5C%22%5Cu003eOpenStreetMap%5Cu003c/a%5Cu003e%2C%20under%20%5Cu003ca%20href%3D%5C%22http%3A//www.openstreetmap.org/copyright%5C%22%5Cu003eODbL%5Cu003c/a%5Cu003e.%22%2C%20%22detectRetina%22%3A%20false%2C%20%22maxNativeZoom%22%3A%2018%2C%20%22maxZoom%22%3A%2018%2C%20%22minZoom%22%3A%200%2C%20%22noWrap%22%3A%20false%2C%20%22opacity%22%3A%201%2C%20%22subdomains%22%3A%20%22abc%22%2C%20%22tms%22%3A%20false%7D%0A%20%20%20%20%20%20%20%20%20%20%20%20%29.addTo%28map_f5b2fce52f57415da90ea9e12fb10031%29%3B%0A%20%20%20%20%20%20%20%20%0A%20%20%20%20%0A%20%20%20%20%20%20%20%20%20%20%20%20var%20marker_b15c12e65e0a4a79a522ae780cff53ea%20%3D%20L.marker%28%0A%20%20%20%20%20%20%20%20%20%20%20%20%20%20%20%20%5B41.919281874%2C%20-87.67718663199997%5D%2C%0A%20%20%20%20%20%20%20%20%20%20%20%20%20%20%20%20%7B%7D%0A%20%20%20%20%20%20%20%20%20%20%20%20%29.addTo%28map_f5b2fce52f57415da90ea9e12fb10031%29%3B%0A%20%20%20%20%20%20%20%20%0A%20%20%20%20%0A%20%20%20%20%20%20%20%20var%20popup_033f196ce0f54a56b82f30d305ff3eef%20%3D%20L.popup%28%7B%22maxWidth%22%3A%20%22100%25%22%7D%29%3B%0A%0A%20%20%20%20%20%20%20%20%0A%20%20%20%20%20%20%20%20%20%20%20%20var%20html_b08c3a3c511a4c8cb481ec4ed92cd446%20%3D%20%24%28%60%3Cdiv%20id%3D%22html_b08c3a3c511a4c8cb481ec4ed92cd446%22%20style%3D%22width%3A%20100.0%25%3B%20height%3A%20100.0%25%3B%22%3ECenter%3C/div%3E%60%29%5B0%5D%3B%0A%20%20%20%20%20%20%20%20%20%20%20%20popup_033f196ce0f54a56b82f30d305ff3eef.setContent%28html_b08c3a3c511a4c8cb481ec4ed92cd446%29%3B%0A%20%20%20%20%20%20%20%20%0A%0A%20%20%20%20%20%20%20%20marker_b15c12e65e0a4a79a522ae780cff53ea.bindPopup%28popup_033f196ce0f54a56b82f30d305ff3eef%29%0A%20%20%20%20%20%20%20%20%3B%0A%0A%20%20%20%20%20%20%20%20%0A%20%20%20%20%0A%3C/script%3E onload=\"this.contentDocument.open();this.contentDocument.write(    decodeURIComponent(this.getAttribute('data-html')));this.contentDocument.close();\" allowfullscreen webkitallowfullscreen mozallowfullscreen></iframe></div></div>"
      ],
      "text/plain": [
       "<folium.folium.Map at 0x2ca2084cfd0>"
      ]
     },
     "execution_count": 109,
     "metadata": {},
     "output_type": "execute_result"
    }
   ],
   "source": [
    "map = folium.Map(location=[lat_c,lng_c],zoom_start=11)\n",
    "folium.Marker([lat_c,lng_c],popup='Center').add_to(map)\n",
    "map"
   ]
  },
  {
   "cell_type": "code",
   "execution_count": null,
   "metadata": {
    "collapsed": true
   },
   "outputs": [],
   "source": [
    "# 전체 cafe의 위치에 Marker 표시하기"
   ]
  },
  {
   "cell_type": "code",
   "execution_count": 111,
   "metadata": {
    "collapsed": true
   },
   "outputs": [],
   "source": [
    "map_fin = folium.Map(location=[lat_c,lng_c],zoom_start=11)"
   ]
  },
  {
   "cell_type": "code",
   "execution_count": 112,
   "metadata": {
    "collapsed": true
   },
   "outputs": [],
   "source": [
    "for n in df.index :\n",
    "    folium.Marker([df['lat'][n],df['lng'][n]],\n",
    "                  popup=df['Cafe'][n]).add_to(map_fin)"
   ]
  },
  {
   "cell_type": "code",
   "execution_count": 113,
   "metadata": {
    "collapsed": true
   },
   "outputs": [
    {
     "data": {
      "text/html": [
       "<div style=\"width:100%;\"><div style=\"position:relative;width:100%;height:0;padding-bottom:60%;\"><span style=\"color:#565656\">Make this Notebook Trusted to load map: File -> Trust Notebook</span><iframe src=\"about:blank\" style=\"position:absolute;width:100%;height:100%;left:0;top:0;border:none !important;\" data-html=%3C%21DOCTYPE%20html%3E%0A%3Chead%3E%20%20%20%20%0A%20%20%20%20%3Cmeta%20http-equiv%3D%22content-type%22%20content%3D%22text/html%3B%20charset%3DUTF-8%22%20/%3E%0A%20%20%20%20%0A%20%20%20%20%20%20%20%20%3Cscript%3E%0A%20%20%20%20%20%20%20%20%20%20%20%20L_NO_TOUCH%20%3D%20false%3B%0A%20%20%20%20%20%20%20%20%20%20%20%20L_DISABLE_3D%20%3D%20false%3B%0A%20%20%20%20%20%20%20%20%3C/script%3E%0A%20%20%20%20%0A%20%20%20%20%3Cstyle%3Ehtml%2C%20body%20%7Bwidth%3A%20100%25%3Bheight%3A%20100%25%3Bmargin%3A%200%3Bpadding%3A%200%3B%7D%3C/style%3E%0A%20%20%20%20%3Cstyle%3E%23map%20%7Bposition%3Aabsolute%3Btop%3A0%3Bbottom%3A0%3Bright%3A0%3Bleft%3A0%3B%7D%3C/style%3E%0A%20%20%20%20%3Cscript%20src%3D%22https%3A//cdn.jsdelivr.net/npm/leaflet%401.6.0/dist/leaflet.js%22%3E%3C/script%3E%0A%20%20%20%20%3Cscript%20src%3D%22https%3A//code.jquery.com/jquery-1.12.4.min.js%22%3E%3C/script%3E%0A%20%20%20%20%3Cscript%20src%3D%22https%3A//maxcdn.bootstrapcdn.com/bootstrap/3.2.0/js/bootstrap.min.js%22%3E%3C/script%3E%0A%20%20%20%20%3Cscript%20src%3D%22https%3A//cdnjs.cloudflare.com/ajax/libs/Leaflet.awesome-markers/2.0.2/leaflet.awesome-markers.js%22%3E%3C/script%3E%0A%20%20%20%20%3Clink%20rel%3D%22stylesheet%22%20href%3D%22https%3A//cdn.jsdelivr.net/npm/leaflet%401.6.0/dist/leaflet.css%22/%3E%0A%20%20%20%20%3Clink%20rel%3D%22stylesheet%22%20href%3D%22https%3A//maxcdn.bootstrapcdn.com/bootstrap/3.2.0/css/bootstrap.min.css%22/%3E%0A%20%20%20%20%3Clink%20rel%3D%22stylesheet%22%20href%3D%22https%3A//maxcdn.bootstrapcdn.com/bootstrap/3.2.0/css/bootstrap-theme.min.css%22/%3E%0A%20%20%20%20%3Clink%20rel%3D%22stylesheet%22%20href%3D%22https%3A//maxcdn.bootstrapcdn.com/font-awesome/4.6.3/css/font-awesome.min.css%22/%3E%0A%20%20%20%20%3Clink%20rel%3D%22stylesheet%22%20href%3D%22https%3A//cdnjs.cloudflare.com/ajax/libs/Leaflet.awesome-markers/2.0.2/leaflet.awesome-markers.css%22/%3E%0A%20%20%20%20%3Clink%20rel%3D%22stylesheet%22%20href%3D%22https%3A//cdn.jsdelivr.net/gh/python-visualization/folium/folium/templates/leaflet.awesome.rotate.min.css%22/%3E%0A%20%20%20%20%0A%20%20%20%20%20%20%20%20%20%20%20%20%3Cmeta%20name%3D%22viewport%22%20content%3D%22width%3Ddevice-width%2C%0A%20%20%20%20%20%20%20%20%20%20%20%20%20%20%20%20initial-scale%3D1.0%2C%20maximum-scale%3D1.0%2C%20user-scalable%3Dno%22%20/%3E%0A%20%20%20%20%20%20%20%20%20%20%20%20%3Cstyle%3E%0A%20%20%20%20%20%20%20%20%20%20%20%20%20%20%20%20%23map_1014390b9dec4629a0294fcd81976660%20%7B%0A%20%20%20%20%20%20%20%20%20%20%20%20%20%20%20%20%20%20%20%20position%3A%20relative%3B%0A%20%20%20%20%20%20%20%20%20%20%20%20%20%20%20%20%20%20%20%20width%3A%20100.0%25%3B%0A%20%20%20%20%20%20%20%20%20%20%20%20%20%20%20%20%20%20%20%20height%3A%20100.0%25%3B%0A%20%20%20%20%20%20%20%20%20%20%20%20%20%20%20%20%20%20%20%20left%3A%200.0%25%3B%0A%20%20%20%20%20%20%20%20%20%20%20%20%20%20%20%20%20%20%20%20top%3A%200.0%25%3B%0A%20%20%20%20%20%20%20%20%20%20%20%20%20%20%20%20%7D%0A%20%20%20%20%20%20%20%20%20%20%20%20%3C/style%3E%0A%20%20%20%20%20%20%20%20%0A%3C/head%3E%0A%3Cbody%3E%20%20%20%20%0A%20%20%20%20%0A%20%20%20%20%20%20%20%20%20%20%20%20%3Cdiv%20class%3D%22folium-map%22%20id%3D%22map_1014390b9dec4629a0294fcd81976660%22%20%3E%3C/div%3E%0A%20%20%20%20%20%20%20%20%0A%3C/body%3E%0A%3Cscript%3E%20%20%20%20%0A%20%20%20%20%0A%20%20%20%20%20%20%20%20%20%20%20%20var%20map_1014390b9dec4629a0294fcd81976660%20%3D%20L.map%28%0A%20%20%20%20%20%20%20%20%20%20%20%20%20%20%20%20%22map_1014390b9dec4629a0294fcd81976660%22%2C%0A%20%20%20%20%20%20%20%20%20%20%20%20%20%20%20%20%7B%0A%20%20%20%20%20%20%20%20%20%20%20%20%20%20%20%20%20%20%20%20center%3A%20%5B41.919281874%2C%20-87.67718663199997%5D%2C%0A%20%20%20%20%20%20%20%20%20%20%20%20%20%20%20%20%20%20%20%20crs%3A%20L.CRS.EPSG3857%2C%0A%20%20%20%20%20%20%20%20%20%20%20%20%20%20%20%20%20%20%20%20zoom%3A%2011%2C%0A%20%20%20%20%20%20%20%20%20%20%20%20%20%20%20%20%20%20%20%20zoomControl%3A%20true%2C%0A%20%20%20%20%20%20%20%20%20%20%20%20%20%20%20%20%20%20%20%20preferCanvas%3A%20false%2C%0A%20%20%20%20%20%20%20%20%20%20%20%20%20%20%20%20%7D%0A%20%20%20%20%20%20%20%20%20%20%20%20%29%3B%0A%0A%20%20%20%20%20%20%20%20%20%20%20%20%0A%0A%20%20%20%20%20%20%20%20%0A%20%20%20%20%0A%20%20%20%20%20%20%20%20%20%20%20%20var%20tile_layer_3c07245a8751488685a55c75bc3bb677%20%3D%20L.tileLayer%28%0A%20%20%20%20%20%20%20%20%20%20%20%20%20%20%20%20%22https%3A//%7Bs%7D.tile.openstreetmap.org/%7Bz%7D/%7Bx%7D/%7By%7D.png%22%2C%0A%20%20%20%20%20%20%20%20%20%20%20%20%20%20%20%20%7B%22attribution%22%3A%20%22Data%20by%20%5Cu0026copy%3B%20%5Cu003ca%20href%3D%5C%22http%3A//openstreetmap.org%5C%22%5Cu003eOpenStreetMap%5Cu003c/a%5Cu003e%2C%20under%20%5Cu003ca%20href%3D%5C%22http%3A//www.openstreetmap.org/copyright%5C%22%5Cu003eODbL%5Cu003c/a%5Cu003e.%22%2C%20%22detectRetina%22%3A%20false%2C%20%22maxNativeZoom%22%3A%2018%2C%20%22maxZoom%22%3A%2018%2C%20%22minZoom%22%3A%200%2C%20%22noWrap%22%3A%20false%2C%20%22opacity%22%3A%201%2C%20%22subdomains%22%3A%20%22abc%22%2C%20%22tms%22%3A%20false%7D%0A%20%20%20%20%20%20%20%20%20%20%20%20%29.addTo%28map_1014390b9dec4629a0294fcd81976660%29%3B%0A%20%20%20%20%20%20%20%20%0A%20%20%20%20%0A%20%20%20%20%20%20%20%20%20%20%20%20var%20marker_143f31a1a994496f99279fac50f27b5a%20%3D%20L.marker%28%0A%20%20%20%20%20%20%20%20%20%20%20%20%20%20%20%20%5B41.8956049%2C%20-87.67996149999999%5D%2C%0A%20%20%20%20%20%20%20%20%20%20%20%20%20%20%20%20%7B%7D%0A%20%20%20%20%20%20%20%20%20%20%20%20%29.addTo%28map_1014390b9dec4629a0294fcd81976660%29%3B%0A%20%20%20%20%20%20%20%20%0A%20%20%20%20%0A%20%20%20%20%20%20%20%20var%20popup_b874e062f05f47219ef4b9cdb44eeab0%20%3D%20L.popup%28%7B%22maxWidth%22%3A%20%22100%25%22%7D%29%3B%0A%0A%20%20%20%20%20%20%20%20%0A%20%20%20%20%20%20%20%20%20%20%20%20var%20html_b501509604e748d4b96f63722066425c%20%3D%20%24%28%60%3Cdiv%20id%3D%22html_b501509604e748d4b96f63722066425c%22%20style%3D%22width%3A%20100.0%25%3B%20height%3A%20100.0%25%3B%22%3EOld%20Oak%20Tap%3C/div%3E%60%29%5B0%5D%3B%0A%20%20%20%20%20%20%20%20%20%20%20%20popup_b874e062f05f47219ef4b9cdb44eeab0.setContent%28html_b501509604e748d4b96f63722066425c%29%3B%0A%20%20%20%20%20%20%20%20%0A%0A%20%20%20%20%20%20%20%20marker_143f31a1a994496f99279fac50f27b5a.bindPopup%28popup_b874e062f05f47219ef4b9cdb44eeab0%29%0A%20%20%20%20%20%20%20%20%3B%0A%0A%20%20%20%20%20%20%20%20%0A%20%20%20%20%0A%20%20%20%20%0A%20%20%20%20%20%20%20%20%20%20%20%20var%20marker_839aba4b1fdc440090c8287a9e5d1448%20%3D%20L.marker%28%0A%20%20%20%20%20%20%20%20%20%20%20%20%20%20%20%20%5B41.8846582%2C%20-87.6476668%5D%2C%0A%20%20%20%20%20%20%20%20%20%20%20%20%20%20%20%20%7B%7D%0A%20%20%20%20%20%20%20%20%20%20%20%20%29.addTo%28map_1014390b9dec4629a0294fcd81976660%29%3B%0A%20%20%20%20%20%20%20%20%0A%20%20%20%20%0A%20%20%20%20%20%20%20%20var%20popup_f8fe7b7830e149f48028bffab72de176%20%3D%20L.popup%28%7B%22maxWidth%22%3A%20%22100%25%22%7D%29%3B%0A%0A%20%20%20%20%20%20%20%20%0A%20%20%20%20%20%20%20%20%20%20%20%20var%20html_84e84cb37a494d03931ad60fc292fad6%20%3D%20%24%28%60%3Cdiv%20id%3D%22html_84e84cb37a494d03931ad60fc292fad6%22%20style%3D%22width%3A%20100.0%25%3B%20height%3A%20100.0%25%3B%22%3EAu%20Cheval%3C/div%3E%60%29%5B0%5D%3B%0A%20%20%20%20%20%20%20%20%20%20%20%20popup_f8fe7b7830e149f48028bffab72de176.setContent%28html_84e84cb37a494d03931ad60fc292fad6%29%3B%0A%20%20%20%20%20%20%20%20%0A%0A%20%20%20%20%20%20%20%20marker_839aba4b1fdc440090c8287a9e5d1448.bindPopup%28popup_f8fe7b7830e149f48028bffab72de176%29%0A%20%20%20%20%20%20%20%20%3B%0A%0A%20%20%20%20%20%20%20%20%0A%20%20%20%20%0A%20%20%20%20%0A%20%20%20%20%20%20%20%20%20%20%20%20var%20marker_d32b30401bbe4ee2a56b5463e211c457%20%3D%20L.marker%28%0A%20%20%20%20%20%20%20%20%20%20%20%20%20%20%20%20%5B41.8905226%2C%20-87.6307834%5D%2C%0A%20%20%20%20%20%20%20%20%20%20%20%20%20%20%20%20%7B%7D%0A%20%20%20%20%20%20%20%20%20%20%20%20%29.addTo%28map_1014390b9dec4629a0294fcd81976660%29%3B%0A%20%20%20%20%20%20%20%20%0A%20%20%20%20%0A%20%20%20%20%20%20%20%20var%20popup_5505b0ed0e674a1f8d75fec43737df80%20%3D%20L.popup%28%7B%22maxWidth%22%3A%20%22100%25%22%7D%29%3B%0A%0A%20%20%20%20%20%20%20%20%0A%20%20%20%20%20%20%20%20%20%20%20%20var%20html_e8217acb095b4f1c90851b334fb7618c%20%3D%20%24%28%60%3Cdiv%20id%3D%22html_e8217acb095b4f1c90851b334fb7618c%22%20style%3D%22width%3A%20100.0%25%3B%20height%3A%20100.0%25%3B%22%3EXoco%3C/div%3E%60%29%5B0%5D%3B%0A%20%20%20%20%20%20%20%20%20%20%20%20popup_5505b0ed0e674a1f8d75fec43737df80.setContent%28html_e8217acb095b4f1c90851b334fb7618c%29%3B%0A%20%20%20%20%20%20%20%20%0A%0A%20%20%20%20%20%20%20%20marker_d32b30401bbe4ee2a56b5463e211c457.bindPopup%28popup_5505b0ed0e674a1f8d75fec43737df80%29%0A%20%20%20%20%20%20%20%20%3B%0A%0A%20%20%20%20%20%20%20%20%0A%20%20%20%20%0A%20%20%20%20%0A%20%20%20%20%20%20%20%20%20%20%20%20var%20marker_c8ad13914cca4769bdcb2032da99e07c%20%3D%20L.marker%28%0A%20%20%20%20%20%20%20%20%20%20%20%20%20%20%20%20%5B42.0583217%2C%20-87.6837479%5D%2C%0A%20%20%20%20%20%20%20%20%20%20%20%20%20%20%20%20%7B%7D%0A%20%20%20%20%20%20%20%20%20%20%20%20%29.addTo%28map_1014390b9dec4629a0294fcd81976660%29%3B%0A%20%20%20%20%20%20%20%20%0A%20%20%20%20%0A%20%20%20%20%20%20%20%20var%20popup_0e038df896b04f0b99da6db964e7b736%20%3D%20L.popup%28%7B%22maxWidth%22%3A%20%22100%25%22%7D%29%3B%0A%0A%20%20%20%20%20%20%20%20%0A%20%20%20%20%20%20%20%20%20%20%20%20var%20html_d691d1500fc34b34972cb214eb50ce04%20%3D%20%24%28%60%3Cdiv%20id%3D%22html_d691d1500fc34b34972cb214eb50ce04%22%20style%3D%22width%3A%20100.0%25%3B%20height%3A%20100.0%25%3B%22%3EAl%E2%80%99s%20Deli%3C/div%3E%60%29%5B0%5D%3B%0A%20%20%20%20%20%20%20%20%20%20%20%20popup_0e038df896b04f0b99da6db964e7b736.setContent%28html_d691d1500fc34b34972cb214eb50ce04%29%3B%0A%20%20%20%20%20%20%20%20%0A%0A%20%20%20%20%20%20%20%20marker_c8ad13914cca4769bdcb2032da99e07c.bindPopup%28popup_0e038df896b04f0b99da6db964e7b736%29%0A%20%20%20%20%20%20%20%20%3B%0A%0A%20%20%20%20%20%20%20%20%0A%20%20%20%20%0A%20%20%20%20%0A%20%20%20%20%20%20%20%20%20%20%20%20var%20marker_26b50c7a0867440f9f8e064607e941a1%20%3D%20L.marker%28%0A%20%20%20%20%20%20%20%20%20%20%20%20%20%20%20%20%5B41.8866036%2C%20-87.64853649999999%5D%2C%0A%20%20%20%20%20%20%20%20%20%20%20%20%20%20%20%20%7B%7D%0A%20%20%20%20%20%20%20%20%20%20%20%20%29.addTo%28map_1014390b9dec4629a0294fcd81976660%29%3B%0A%20%20%20%20%20%20%20%20%0A%20%20%20%20%0A%20%20%20%20%20%20%20%20var%20popup_741873fd0cfd41dfb51b4c040ec15c16%20%3D%20L.popup%28%7B%22maxWidth%22%3A%20%22100%25%22%7D%29%3B%0A%0A%20%20%20%20%20%20%20%20%0A%20%20%20%20%20%20%20%20%20%20%20%20var%20html_cc5101cf988d419b93158b6d3c90fb55%20%3D%20%24%28%60%3Cdiv%20id%3D%22html_cc5101cf988d419b93158b6d3c90fb55%22%20style%3D%22width%3A%20100.0%25%3B%20height%3A%20100.0%25%3B%22%3EPublican%20Quality%20Meats%3C/div%3E%60%29%5B0%5D%3B%0A%20%20%20%20%20%20%20%20%20%20%20%20popup_741873fd0cfd41dfb51b4c040ec15c16.setContent%28html_cc5101cf988d419b93158b6d3c90fb55%29%3B%0A%20%20%20%20%20%20%20%20%0A%0A%20%20%20%20%20%20%20%20marker_26b50c7a0867440f9f8e064607e941a1.bindPopup%28popup_741873fd0cfd41dfb51b4c040ec15c16%29%0A%20%20%20%20%20%20%20%20%3B%0A%0A%20%20%20%20%20%20%20%20%0A%20%20%20%20%0A%20%20%20%20%0A%20%20%20%20%20%20%20%20%20%20%20%20var%20marker_5d91282481724bc18dc2df64c6c195f4%20%3D%20L.marker%28%0A%20%20%20%20%20%20%20%20%20%20%20%20%20%20%20%20%5B41.9000869%2C%20-87.6253366%5D%2C%0A%20%20%20%20%20%20%20%20%20%20%20%20%20%20%20%20%7B%7D%0A%20%20%20%20%20%20%20%20%20%20%20%20%29.addTo%28map_1014390b9dec4629a0294fcd81976660%29%3B%0A%20%20%20%20%20%20%20%20%0A%20%20%20%20%0A%20%20%20%20%20%20%20%20var%20popup_77c3a441ac4145568911dacd28cf90b4%20%3D%20L.popup%28%7B%22maxWidth%22%3A%20%22100%25%22%7D%29%3B%0A%0A%20%20%20%20%20%20%20%20%0A%20%20%20%20%20%20%20%20%20%20%20%20var%20html_e558e9403ed44e9db6691d9ee203b0ea%20%3D%20%24%28%60%3Cdiv%20id%3D%22html_e558e9403ed44e9db6691d9ee203b0ea%22%20style%3D%22width%3A%20100.0%25%3B%20height%3A%20100.0%25%3B%22%3EHendrickx%20Belgian%20Bread%20Crafter%3C/div%3E%60%29%5B0%5D%3B%0A%20%20%20%20%20%20%20%20%20%20%20%20popup_77c3a441ac4145568911dacd28cf90b4.setContent%28html_e558e9403ed44e9db6691d9ee203b0ea%29%3B%0A%20%20%20%20%20%20%20%20%0A%0A%20%20%20%20%20%20%20%20marker_5d91282481724bc18dc2df64c6c195f4.bindPopup%28popup_77c3a441ac4145568911dacd28cf90b4%29%0A%20%20%20%20%20%20%20%20%3B%0A%0A%20%20%20%20%20%20%20%20%0A%20%20%20%20%0A%20%20%20%20%0A%20%20%20%20%20%20%20%20%20%20%20%20var%20marker_7c7010e311b841ed93aedf2bc405e49b%20%3D%20L.marker%28%0A%20%20%20%20%20%20%20%20%20%20%20%20%20%20%20%20%5B41.8590541%2C%20-87.6252007%5D%2C%0A%20%20%20%20%20%20%20%20%20%20%20%20%20%20%20%20%7B%7D%0A%20%20%20%20%20%20%20%20%20%20%20%20%29.addTo%28map_1014390b9dec4629a0294fcd81976660%29%3B%0A%20%20%20%20%20%20%20%20%0A%20%20%20%20%0A%20%20%20%20%20%20%20%20var%20popup_233246b9695949d5ad8c6f1547b8cff3%20%3D%20L.popup%28%7B%22maxWidth%22%3A%20%22100%25%22%7D%29%3B%0A%0A%20%20%20%20%20%20%20%20%0A%20%20%20%20%20%20%20%20%20%20%20%20var%20html_ad2b8361d1ff4725a8b9c13bfb26c902%20%3D%20%24%28%60%3Cdiv%20id%3D%22html_ad2b8361d1ff4725a8b9c13bfb26c902%22%20style%3D%22width%3A%20100.0%25%3B%20height%3A%20100.0%25%3B%22%3EAcadia%3C/div%3E%60%29%5B0%5D%3B%0A%20%20%20%20%20%20%20%20%20%20%20%20popup_233246b9695949d5ad8c6f1547b8cff3.setContent%28html_ad2b8361d1ff4725a8b9c13bfb26c902%29%3B%0A%20%20%20%20%20%20%20%20%0A%0A%20%20%20%20%20%20%20%20marker_7c7010e311b841ed93aedf2bc405e49b.bindPopup%28popup_233246b9695949d5ad8c6f1547b8cff3%29%0A%20%20%20%20%20%20%20%20%3B%0A%0A%20%20%20%20%20%20%20%20%0A%20%20%20%20%0A%20%20%20%20%0A%20%20%20%20%20%20%20%20%20%20%20%20var%20marker_7d7f7a1ea07747109158c076ce05e1ec%20%3D%20L.marker%28%0A%20%20%20%20%20%20%20%20%20%20%20%20%20%20%20%20%5B41.9102031%2C%20-87.68287529999999%5D%2C%0A%20%20%20%20%20%20%20%20%20%20%20%20%20%20%20%20%7B%7D%0A%20%20%20%20%20%20%20%20%20%20%20%20%29.addTo%28map_1014390b9dec4629a0294fcd81976660%29%3B%0A%20%20%20%20%20%20%20%20%0A%20%20%20%20%0A%20%20%20%20%20%20%20%20var%20popup_beff050a93b641e7b11f02d4ce652dbc%20%3D%20L.popup%28%7B%22maxWidth%22%3A%20%22100%25%22%7D%29%3B%0A%0A%20%20%20%20%20%20%20%20%0A%20%20%20%20%20%20%20%20%20%20%20%20var%20html_1c25e80cbfe040d0a375f34c0dd8f239%20%3D%20%24%28%60%3Cdiv%20id%3D%22html_1c25e80cbfe040d0a375f34c0dd8f239%22%20style%3D%22width%3A%20100.0%25%3B%20height%3A%20100.0%25%3B%22%3EBirchwood%20Kitchen%3C/div%3E%60%29%5B0%5D%3B%0A%20%20%20%20%20%20%20%20%20%20%20%20popup_beff050a93b641e7b11f02d4ce652dbc.setContent%28html_1c25e80cbfe040d0a375f34c0dd8f239%29%3B%0A%20%20%20%20%20%20%20%20%0A%0A%20%20%20%20%20%20%20%20marker_7d7f7a1ea07747109158c076ce05e1ec.bindPopup%28popup_beff050a93b641e7b11f02d4ce652dbc%29%0A%20%20%20%20%20%20%20%20%3B%0A%0A%20%20%20%20%20%20%20%20%0A%20%20%20%20%0A%20%20%20%20%0A%20%20%20%20%20%20%20%20%20%20%20%20var%20marker_db89ab859ca34ef883aa187d1609cc46%20%3D%20L.marker%28%0A%20%20%20%20%20%20%20%20%20%20%20%20%20%20%20%20%5B41.9097558%2C%20-87.7176727%5D%2C%0A%20%20%20%20%20%20%20%20%20%20%20%20%20%20%20%20%7B%7D%0A%20%20%20%20%20%20%20%20%20%20%20%20%29.addTo%28map_1014390b9dec4629a0294fcd81976660%29%3B%0A%20%20%20%20%20%20%20%20%0A%20%20%20%20%0A%20%20%20%20%20%20%20%20var%20popup_757cb93e9c9349f5bdb2f6a5d2e7ddfd%20%3D%20L.popup%28%7B%22maxWidth%22%3A%20%22100%25%22%7D%29%3B%0A%0A%20%20%20%20%20%20%20%20%0A%20%20%20%20%20%20%20%20%20%20%20%20var%20html_4b78e23e0df946c68535f8159162398f%20%3D%20%24%28%60%3Cdiv%20id%3D%22html_4b78e23e0df946c68535f8159162398f%22%20style%3D%22width%3A%20100.0%25%3B%20height%3A%20100.0%25%3B%22%3ECemitas%20Puebla%3C/div%3E%60%29%5B0%5D%3B%0A%20%20%20%20%20%20%20%20%20%20%20%20popup_757cb93e9c9349f5bdb2f6a5d2e7ddfd.setContent%28html_4b78e23e0df946c68535f8159162398f%29%3B%0A%20%20%20%20%20%20%20%20%0A%0A%20%20%20%20%20%20%20%20marker_db89ab859ca34ef883aa187d1609cc46.bindPopup%28popup_757cb93e9c9349f5bdb2f6a5d2e7ddfd%29%0A%20%20%20%20%20%20%20%20%3B%0A%0A%20%20%20%20%20%20%20%20%0A%20%20%20%20%0A%20%20%20%20%0A%20%20%20%20%20%20%20%20%20%20%20%20var%20marker_5ba6fa07656d4b15920042bc8b8a6809%20%3D%20L.marker%28%0A%20%20%20%20%20%20%20%20%20%20%20%20%20%20%20%20%5B41.8345302%2C%20-87.6456492%5D%2C%0A%20%20%20%20%20%20%20%20%20%20%20%20%20%20%20%20%7B%7D%0A%20%20%20%20%20%20%20%20%20%20%20%20%29.addTo%28map_1014390b9dec4629a0294fcd81976660%29%3B%0A%20%20%20%20%20%20%20%20%0A%20%20%20%20%0A%20%20%20%20%20%20%20%20var%20popup_376f5e630a4245d681f3d2fe72837ed8%20%3D%20L.popup%28%7B%22maxWidth%22%3A%20%22100%25%22%7D%29%3B%0A%0A%20%20%20%20%20%20%20%20%0A%20%20%20%20%20%20%20%20%20%20%20%20var%20html_e5817ebb31a5404480a75164ab0781d7%20%3D%20%24%28%60%3Cdiv%20id%3D%22html_e5817ebb31a5404480a75164ab0781d7%22%20style%3D%22width%3A%20100.0%25%3B%20height%3A%20100.0%25%3B%22%3ENana%3C/div%3E%60%29%5B0%5D%3B%0A%20%20%20%20%20%20%20%20%20%20%20%20popup_376f5e630a4245d681f3d2fe72837ed8.setContent%28html_e5817ebb31a5404480a75164ab0781d7%29%3B%0A%20%20%20%20%20%20%20%20%0A%0A%20%20%20%20%20%20%20%20marker_5ba6fa07656d4b15920042bc8b8a6809.bindPopup%28popup_376f5e630a4245d681f3d2fe72837ed8%29%0A%20%20%20%20%20%20%20%20%3B%0A%0A%20%20%20%20%20%20%20%20%0A%20%20%20%20%0A%20%20%20%20%0A%20%20%20%20%20%20%20%20%20%20%20%20var%20marker_1edb0832f5e64f1f9feb79a938497bff%20%3D%20L.marker%28%0A%20%20%20%20%20%20%20%20%20%20%20%20%20%20%20%20%5B41.9276207%2C%20-87.706792%5D%2C%0A%20%20%20%20%20%20%20%20%20%20%20%20%20%20%20%20%7B%7D%0A%20%20%20%20%20%20%20%20%20%20%20%20%29.addTo%28map_1014390b9dec4629a0294fcd81976660%29%3B%0A%20%20%20%20%20%20%20%20%0A%20%20%20%20%0A%20%20%20%20%20%20%20%20var%20popup_f7e1ffc7f00148758243fdebc15e6225%20%3D%20L.popup%28%7B%22maxWidth%22%3A%20%22100%25%22%7D%29%3B%0A%0A%20%20%20%20%20%20%20%20%0A%20%20%20%20%20%20%20%20%20%20%20%20var%20html_5ae9d55c5b77415baff878c640f89122%20%3D%20%24%28%60%3Cdiv%20id%3D%22html_5ae9d55c5b77415baff878c640f89122%22%20style%3D%22width%3A%20100.0%25%3B%20height%3A%20100.0%25%3B%22%3ELula%20Cafe%3C/div%3E%60%29%5B0%5D%3B%0A%20%20%20%20%20%20%20%20%20%20%20%20popup_f7e1ffc7f00148758243fdebc15e6225.setContent%28html_5ae9d55c5b77415baff878c640f89122%29%3B%0A%20%20%20%20%20%20%20%20%0A%0A%20%20%20%20%20%20%20%20marker_1edb0832f5e64f1f9feb79a938497bff.bindPopup%28popup_f7e1ffc7f00148758243fdebc15e6225%29%0A%20%20%20%20%20%20%20%20%3B%0A%0A%20%20%20%20%20%20%20%20%0A%20%20%20%20%0A%20%20%20%20%0A%20%20%20%20%20%20%20%20%20%20%20%20var%20marker_b5417c9d3b964053a541deeada6f3166%20%3D%20L.marker%28%0A%20%20%20%20%20%20%20%20%20%20%20%20%20%20%20%20%5B41.8828658%2C%20-87.64928379999999%5D%2C%0A%20%20%20%20%20%20%20%20%20%20%20%20%20%20%20%20%7B%7D%0A%20%20%20%20%20%20%20%20%20%20%20%20%29.addTo%28map_1014390b9dec4629a0294fcd81976660%29%3B%0A%20%20%20%20%20%20%20%20%0A%20%20%20%20%0A%20%20%20%20%20%20%20%20var%20popup_ca151dd146864d838289066d4393d49d%20%3D%20L.popup%28%7B%22maxWidth%22%3A%20%22100%25%22%7D%29%3B%0A%0A%20%20%20%20%20%20%20%20%0A%20%20%20%20%20%20%20%20%20%20%20%20var%20html_5e9a239df4c74454b8f19c5ef3be865c%20%3D%20%24%28%60%3Cdiv%20id%3D%22html_5e9a239df4c74454b8f19c5ef3be865c%22%20style%3D%22width%3A%20100.0%25%3B%20height%3A%20100.0%25%3B%22%3ERicobene%E2%80%99s%3C/div%3E%60%29%5B0%5D%3B%0A%20%20%20%20%20%20%20%20%20%20%20%20popup_ca151dd146864d838289066d4393d49d.setContent%28html_5e9a239df4c74454b8f19c5ef3be865c%29%3B%0A%20%20%20%20%20%20%20%20%0A%0A%20%20%20%20%20%20%20%20marker_b5417c9d3b964053a541deeada6f3166.bindPopup%28popup_ca151dd146864d838289066d4393d49d%29%0A%20%20%20%20%20%20%20%20%3B%0A%0A%20%20%20%20%20%20%20%20%0A%20%20%20%20%0A%20%20%20%20%0A%20%20%20%20%20%20%20%20%20%20%20%20var%20marker_12005937549d4134a6b8655887510ede%20%3D%20L.marker%28%0A%20%20%20%20%20%20%20%20%20%20%20%20%20%20%20%20%5B41.9384419%2C%20-87.64464369999999%5D%2C%0A%20%20%20%20%20%20%20%20%20%20%20%20%20%20%20%20%7B%7D%0A%20%20%20%20%20%20%20%20%20%20%20%20%29.addTo%28map_1014390b9dec4629a0294fcd81976660%29%3B%0A%20%20%20%20%20%20%20%20%0A%20%20%20%20%0A%20%20%20%20%20%20%20%20var%20popup_281348394f8d4f8bb89431277162fe61%20%3D%20L.popup%28%7B%22maxWidth%22%3A%20%22100%25%22%7D%29%3B%0A%0A%20%20%20%20%20%20%20%20%0A%20%20%20%20%20%20%20%20%20%20%20%20var%20html_a02884548ff7450c96401b441bb092f4%20%3D%20%24%28%60%3Cdiv%20id%3D%22html_a02884548ff7450c96401b441bb092f4%22%20style%3D%22width%3A%20100.0%25%3B%20height%3A%20100.0%25%3B%22%3EFrog%20n%20Snail%3C/div%3E%60%29%5B0%5D%3B%0A%20%20%20%20%20%20%20%20%20%20%20%20popup_281348394f8d4f8bb89431277162fe61.setContent%28html_a02884548ff7450c96401b441bb092f4%29%3B%0A%20%20%20%20%20%20%20%20%0A%0A%20%20%20%20%20%20%20%20marker_12005937549d4134a6b8655887510ede.bindPopup%28popup_281348394f8d4f8bb89431277162fe61%29%0A%20%20%20%20%20%20%20%20%3B%0A%0A%20%20%20%20%20%20%20%20%0A%20%20%20%20%0A%20%20%20%20%0A%20%20%20%20%20%20%20%20%20%20%20%20var%20marker_502969225a664cb3809f10811bcb5024%20%3D%20L.marker%28%0A%20%20%20%20%20%20%20%20%20%20%20%20%20%20%20%20%5B41.9451044%2C%20-87.6636812%5D%2C%0A%20%20%20%20%20%20%20%20%20%20%20%20%20%20%20%20%7B%7D%0A%20%20%20%20%20%20%20%20%20%20%20%20%29.addTo%28map_1014390b9dec4629a0294fcd81976660%29%3B%0A%20%20%20%20%20%20%20%20%0A%20%20%20%20%0A%20%20%20%20%20%20%20%20var%20popup_9ccb2de4943a43e4b38b908a02e2ea9e%20%3D%20L.popup%28%7B%22maxWidth%22%3A%20%22100%25%22%7D%29%3B%0A%0A%20%20%20%20%20%20%20%20%0A%20%20%20%20%20%20%20%20%20%20%20%20var%20html_fc27e2f758be495e98616bab77c1f6f5%20%3D%20%24%28%60%3Cdiv%20id%3D%22html_fc27e2f758be495e98616bab77c1f6f5%22%20style%3D%22width%3A%20100.0%25%3B%20height%3A%20100.0%25%3B%22%3ECrosby%E2%80%99s%20Kitchen%3C/div%3E%60%29%5B0%5D%3B%0A%20%20%20%20%20%20%20%20%20%20%20%20popup_9ccb2de4943a43e4b38b908a02e2ea9e.setContent%28html_fc27e2f758be495e98616bab77c1f6f5%29%3B%0A%20%20%20%20%20%20%20%20%0A%0A%20%20%20%20%20%20%20%20marker_502969225a664cb3809f10811bcb5024.bindPopup%28popup_9ccb2de4943a43e4b38b908a02e2ea9e%29%0A%20%20%20%20%20%20%20%20%3B%0A%0A%20%20%20%20%20%20%20%20%0A%20%20%20%20%0A%20%20%20%20%0A%20%20%20%20%20%20%20%20%20%20%20%20var%20marker_509d9da531714de1947eaf80e93067d0%20%3D%20L.marker%28%0A%20%20%20%20%20%20%20%20%20%20%20%20%20%20%20%20%5B41.930109%2C%20-87.7072408%5D%2C%0A%20%20%20%20%20%20%20%20%20%20%20%20%20%20%20%20%7B%7D%0A%20%20%20%20%20%20%20%20%20%20%20%20%29.addTo%28map_1014390b9dec4629a0294fcd81976660%29%3B%0A%20%20%20%20%20%20%20%20%0A%20%20%20%20%0A%20%20%20%20%20%20%20%20var%20popup_2bc31e2c861f46909cc5fcbf0e5c1df9%20%3D%20L.popup%28%7B%22maxWidth%22%3A%20%22100%25%22%7D%29%3B%0A%0A%20%20%20%20%20%20%20%20%0A%20%20%20%20%20%20%20%20%20%20%20%20var%20html_8c8354b8c65842019fc919b153f08184%20%3D%20%24%28%60%3Cdiv%20id%3D%22html_8c8354b8c65842019fc919b153f08184%22%20style%3D%22width%3A%20100.0%25%3B%20height%3A%20100.0%25%3B%22%3ELongman%20%26%20Eagle%3C/div%3E%60%29%5B0%5D%3B%0A%20%20%20%20%20%20%20%20%20%20%20%20popup_2bc31e2c861f46909cc5fcbf0e5c1df9.setContent%28html_8c8354b8c65842019fc919b153f08184%29%3B%0A%20%20%20%20%20%20%20%20%0A%0A%20%20%20%20%20%20%20%20marker_509d9da531714de1947eaf80e93067d0.bindPopup%28popup_2bc31e2c861f46909cc5fcbf0e5c1df9%29%0A%20%20%20%20%20%20%20%20%3B%0A%0A%20%20%20%20%20%20%20%20%0A%20%20%20%20%0A%20%20%20%20%0A%20%20%20%20%20%20%20%20%20%20%20%20var%20marker_661e7548b697400b9a2fafd6475b249b%20%3D%20L.marker%28%0A%20%20%20%20%20%20%20%20%20%20%20%20%20%20%20%20%5B41.8912971%2C%20-87.6555453%5D%2C%0A%20%20%20%20%20%20%20%20%20%20%20%20%20%20%20%20%7B%7D%0A%20%20%20%20%20%20%20%20%20%20%20%20%29.addTo%28map_1014390b9dec4629a0294fcd81976660%29%3B%0A%20%20%20%20%20%20%20%20%0A%20%20%20%20%0A%20%20%20%20%20%20%20%20var%20popup_6eb920807ec44db5ba9460e59cf5390c%20%3D%20L.popup%28%7B%22maxWidth%22%3A%20%22100%25%22%7D%29%3B%0A%0A%20%20%20%20%20%20%20%20%0A%20%20%20%20%20%20%20%20%20%20%20%20var%20html_e7e3bb42acbf4e55a916c8a7d238f1fb%20%3D%20%24%28%60%3Cdiv%20id%3D%22html_e7e3bb42acbf4e55a916c8a7d238f1fb%22%20style%3D%22width%3A%20100.0%25%3B%20height%3A%20100.0%25%3B%22%3EBari%3C/div%3E%60%29%5B0%5D%3B%0A%20%20%20%20%20%20%20%20%20%20%20%20popup_6eb920807ec44db5ba9460e59cf5390c.setContent%28html_e7e3bb42acbf4e55a916c8a7d238f1fb%29%3B%0A%20%20%20%20%20%20%20%20%0A%0A%20%20%20%20%20%20%20%20marker_661e7548b697400b9a2fafd6475b249b.bindPopup%28popup_6eb920807ec44db5ba9460e59cf5390c%29%0A%20%20%20%20%20%20%20%20%3B%0A%0A%20%20%20%20%20%20%20%20%0A%20%20%20%20%0A%20%20%20%20%0A%20%20%20%20%20%20%20%20%20%20%20%20var%20marker_607bdd0ef2d3474099a88575d1b1cf5b%20%3D%20L.marker%28%0A%20%20%20%20%20%20%20%20%20%20%20%20%20%20%20%20%5B41.8678529%2C%20-87.6419289%5D%2C%0A%20%20%20%20%20%20%20%20%20%20%20%20%20%20%20%20%7B%7D%0A%20%20%20%20%20%20%20%20%20%20%20%20%29.addTo%28map_1014390b9dec4629a0294fcd81976660%29%3B%0A%20%20%20%20%20%20%20%20%0A%20%20%20%20%0A%20%20%20%20%20%20%20%20var%20popup_ef4f0ed435374a87a79e36b31bfcdf7a%20%3D%20L.popup%28%7B%22maxWidth%22%3A%20%22100%25%22%7D%29%3B%0A%0A%20%20%20%20%20%20%20%20%0A%20%20%20%20%20%20%20%20%20%20%20%20var%20html_47d6453655c14aa68975aaaba1f05e4e%20%3D%20%24%28%60%3Cdiv%20id%3D%22html_47d6453655c14aa68975aaaba1f05e4e%22%20style%3D%22width%3A%20100.0%25%3B%20height%3A%20100.0%25%3B%22%3EManny%E2%80%99s%3C/div%3E%60%29%5B0%5D%3B%0A%20%20%20%20%20%20%20%20%20%20%20%20popup_ef4f0ed435374a87a79e36b31bfcdf7a.setContent%28html_47d6453655c14aa68975aaaba1f05e4e%29%3B%0A%20%20%20%20%20%20%20%20%0A%0A%20%20%20%20%20%20%20%20marker_607bdd0ef2d3474099a88575d1b1cf5b.bindPopup%28popup_ef4f0ed435374a87a79e36b31bfcdf7a%29%0A%20%20%20%20%20%20%20%20%3B%0A%0A%20%20%20%20%20%20%20%20%0A%20%20%20%20%0A%20%20%20%20%0A%20%20%20%20%20%20%20%20%20%20%20%20var%20marker_de0681eb63404378a5329cdaaee33c71%20%3D%20L.marker%28%0A%20%20%20%20%20%20%20%20%20%20%20%20%20%20%20%20%5B41.8852691%2C%20-87.6184837%5D%2C%0A%20%20%20%20%20%20%20%20%20%20%20%20%20%20%20%20%7B%7D%0A%20%20%20%20%20%20%20%20%20%20%20%20%29.addTo%28map_1014390b9dec4629a0294fcd81976660%29%3B%0A%20%20%20%20%20%20%20%20%0A%20%20%20%20%0A%20%20%20%20%20%20%20%20var%20popup_3f57c57423b146d0bb2da9bf8f1fb29d%20%3D%20L.popup%28%7B%22maxWidth%22%3A%20%22100%25%22%7D%29%3B%0A%0A%20%20%20%20%20%20%20%20%0A%20%20%20%20%20%20%20%20%20%20%20%20var%20html_db54ee035dbb413b940480423807d68b%20%3D%20%24%28%60%3Cdiv%20id%3D%22html_db54ee035dbb413b940480423807d68b%22%20style%3D%22width%3A%20100.0%25%3B%20height%3A%20100.0%25%3B%22%3EEggy%E2%80%99s%3C/div%3E%60%29%5B0%5D%3B%0A%20%20%20%20%20%20%20%20%20%20%20%20popup_3f57c57423b146d0bb2da9bf8f1fb29d.setContent%28html_db54ee035dbb413b940480423807d68b%29%3B%0A%20%20%20%20%20%20%20%20%0A%0A%20%20%20%20%20%20%20%20marker_de0681eb63404378a5329cdaaee33c71.bindPopup%28popup_3f57c57423b146d0bb2da9bf8f1fb29d%29%0A%20%20%20%20%20%20%20%20%3B%0A%0A%20%20%20%20%20%20%20%20%0A%20%20%20%20%0A%20%20%20%20%0A%20%20%20%20%20%20%20%20%20%20%20%20var%20marker_0114250dd83f4fab88649a7aaafd41d5%20%3D%20L.marker%28%0A%20%20%20%20%20%20%20%20%20%20%20%20%20%20%20%20%5B41.9080539%2C%20-87.6343113%5D%2C%0A%20%20%20%20%20%20%20%20%20%20%20%20%20%20%20%20%7B%7D%0A%20%20%20%20%20%20%20%20%20%20%20%20%29.addTo%28map_1014390b9dec4629a0294fcd81976660%29%3B%0A%20%20%20%20%20%20%20%20%0A%20%20%20%20%0A%20%20%20%20%20%20%20%20var%20popup_e07ab90680434dcca0c98aa26072889e%20%3D%20L.popup%28%7B%22maxWidth%22%3A%20%22100%25%22%7D%29%3B%0A%0A%20%20%20%20%20%20%20%20%0A%20%20%20%20%20%20%20%20%20%20%20%20var%20html_884a3daf23494781a85d1c9c785acf62%20%3D%20%24%28%60%3Cdiv%20id%3D%22html_884a3daf23494781a85d1c9c785acf62%22%20style%3D%22width%3A%20100.0%25%3B%20height%3A%20100.0%25%3B%22%3EOld%20Jerusalem%3C/div%3E%60%29%5B0%5D%3B%0A%20%20%20%20%20%20%20%20%20%20%20%20popup_e07ab90680434dcca0c98aa26072889e.setContent%28html_884a3daf23494781a85d1c9c785acf62%29%3B%0A%20%20%20%20%20%20%20%20%0A%0A%20%20%20%20%20%20%20%20marker_0114250dd83f4fab88649a7aaafd41d5.bindPopup%28popup_e07ab90680434dcca0c98aa26072889e%29%0A%20%20%20%20%20%20%20%20%3B%0A%0A%20%20%20%20%20%20%20%20%0A%20%20%20%20%0A%20%20%20%20%0A%20%20%20%20%20%20%20%20%20%20%20%20var%20marker_7cbcddc5a6444efcb4ea4ba4025eecab%20%3D%20L.marker%28%0A%20%20%20%20%20%20%20%20%20%20%20%20%20%20%20%20%5B41.91369539999999%2C%20-87.6771273%5D%2C%0A%20%20%20%20%20%20%20%20%20%20%20%20%20%20%20%20%7B%7D%0A%20%20%20%20%20%20%20%20%20%20%20%20%29.addTo%28map_1014390b9dec4629a0294fcd81976660%29%3B%0A%20%20%20%20%20%20%20%20%0A%20%20%20%20%0A%20%20%20%20%20%20%20%20var%20popup_559518f6098743dfb624b74ee16bc312%20%3D%20L.popup%28%7B%22maxWidth%22%3A%20%22100%25%22%7D%29%3B%0A%0A%20%20%20%20%20%20%20%20%0A%20%20%20%20%20%20%20%20%20%20%20%20var%20html_355f30e050e14d70bd0a5ab176fcc2f4%20%3D%20%24%28%60%3Cdiv%20id%3D%22html_355f30e050e14d70bd0a5ab176fcc2f4%22%20style%3D%22width%3A%20100.0%25%3B%20height%3A%20100.0%25%3B%22%3EMindy%E2%80%99s%20HotChocolate%3C/div%3E%60%29%5B0%5D%3B%0A%20%20%20%20%20%20%20%20%20%20%20%20popup_559518f6098743dfb624b74ee16bc312.setContent%28html_355f30e050e14d70bd0a5ab176fcc2f4%29%3B%0A%20%20%20%20%20%20%20%20%0A%0A%20%20%20%20%20%20%20%20marker_7cbcddc5a6444efcb4ea4ba4025eecab.bindPopup%28popup_559518f6098743dfb624b74ee16bc312%29%0A%20%20%20%20%20%20%20%20%3B%0A%0A%20%20%20%20%20%20%20%20%0A%20%20%20%20%0A%20%20%20%20%0A%20%20%20%20%20%20%20%20%20%20%20%20var%20marker_a77cecf940254bf59918a9b972499ad3%20%3D%20L.marker%28%0A%20%20%20%20%20%20%20%20%20%20%20%20%20%20%20%20%5B41.9536887%2C%20-87.7084498%5D%2C%0A%20%20%20%20%20%20%20%20%20%20%20%20%20%20%20%20%7B%7D%0A%20%20%20%20%20%20%20%20%20%20%20%20%29.addTo%28map_1014390b9dec4629a0294fcd81976660%29%3B%0A%20%20%20%20%20%20%20%20%0A%20%20%20%20%0A%20%20%20%20%20%20%20%20var%20popup_04ab6939e4cb4b85ab21282818ced727%20%3D%20L.popup%28%7B%22maxWidth%22%3A%20%22100%25%22%7D%29%3B%0A%0A%20%20%20%20%20%20%20%20%0A%20%20%20%20%20%20%20%20%20%20%20%20var%20html_dab70ad3650d435999dc903191f95f65%20%3D%20%24%28%60%3Cdiv%20id%3D%22html_dab70ad3650d435999dc903191f95f65%22%20style%3D%22width%3A%20100.0%25%3B%20height%3A%20100.0%25%3B%22%3EOlga%E2%80%99s%20Delicatessen%3C/div%3E%60%29%5B0%5D%3B%0A%20%20%20%20%20%20%20%20%20%20%20%20popup_04ab6939e4cb4b85ab21282818ced727.setContent%28html_dab70ad3650d435999dc903191f95f65%29%3B%0A%20%20%20%20%20%20%20%20%0A%0A%20%20%20%20%20%20%20%20marker_a77cecf940254bf59918a9b972499ad3.bindPopup%28popup_04ab6939e4cb4b85ab21282818ced727%29%0A%20%20%20%20%20%20%20%20%3B%0A%0A%20%20%20%20%20%20%20%20%0A%20%20%20%20%0A%20%20%20%20%0A%20%20%20%20%20%20%20%20%20%20%20%20var%20marker_d6ce1e6f255546939abf8f475d722678%20%3D%20L.marker%28%0A%20%20%20%20%20%20%20%20%20%20%20%20%20%20%20%20%5B41.8828658%2C%20-87.64928379999999%5D%2C%0A%20%20%20%20%20%20%20%20%20%20%20%20%20%20%20%20%7B%7D%0A%20%20%20%20%20%20%20%20%20%20%20%20%29.addTo%28map_1014390b9dec4629a0294fcd81976660%29%3B%0A%20%20%20%20%20%20%20%20%0A%20%20%20%20%0A%20%20%20%20%20%20%20%20var%20popup_834716e907c545ff8399a5fe4992192f%20%3D%20L.popup%28%7B%22maxWidth%22%3A%20%22100%25%22%7D%29%3B%0A%0A%20%20%20%20%20%20%20%20%0A%20%20%20%20%20%20%20%20%20%20%20%20var%20html_5d0cc19a3be246b796f55c883697deb1%20%3D%20%24%28%60%3Cdiv%20id%3D%22html_5d0cc19a3be246b796f55c883697deb1%22%20style%3D%22width%3A%20100.0%25%3B%20height%3A%20100.0%25%3B%22%3EDawali%20Mediterranean%20Kitchen%3C/div%3E%60%29%5B0%5D%3B%0A%20%20%20%20%20%20%20%20%20%20%20%20popup_834716e907c545ff8399a5fe4992192f.setContent%28html_5d0cc19a3be246b796f55c883697deb1%29%3B%0A%20%20%20%20%20%20%20%20%0A%0A%20%20%20%20%20%20%20%20marker_d6ce1e6f255546939abf8f475d722678.bindPopup%28popup_834716e907c545ff8399a5fe4992192f%29%0A%20%20%20%20%20%20%20%20%3B%0A%0A%20%20%20%20%20%20%20%20%0A%20%20%20%20%0A%20%20%20%20%0A%20%20%20%20%20%20%20%20%20%20%20%20var%20marker_89d2f146ed1a4c0b8854a48cd164788f%20%3D%20L.marker%28%0A%20%20%20%20%20%20%20%20%20%20%20%20%20%20%20%20%5B41.9794496%2C%20-87.66795719999999%5D%2C%0A%20%20%20%20%20%20%20%20%20%20%20%20%20%20%20%20%7B%7D%0A%20%20%20%20%20%20%20%20%20%20%20%20%29.addTo%28map_1014390b9dec4629a0294fcd81976660%29%3B%0A%20%20%20%20%20%20%20%20%0A%20%20%20%20%0A%20%20%20%20%20%20%20%20var%20popup_ae7fdd0d77de450aaa68ac35479ba029%20%3D%20L.popup%28%7B%22maxWidth%22%3A%20%22100%25%22%7D%29%3B%0A%0A%20%20%20%20%20%20%20%20%0A%20%20%20%20%20%20%20%20%20%20%20%20var%20html_35b2904ba4954c9fb7a35ecd063b8e7b%20%3D%20%24%28%60%3Cdiv%20id%3D%22html_35b2904ba4954c9fb7a35ecd063b8e7b%22%20style%3D%22width%3A%20100.0%25%3B%20height%3A%20100.0%25%3B%22%3EBig%20Jones%3C/div%3E%60%29%5B0%5D%3B%0A%20%20%20%20%20%20%20%20%20%20%20%20popup_ae7fdd0d77de450aaa68ac35479ba029.setContent%28html_35b2904ba4954c9fb7a35ecd063b8e7b%29%3B%0A%20%20%20%20%20%20%20%20%0A%0A%20%20%20%20%20%20%20%20marker_89d2f146ed1a4c0b8854a48cd164788f.bindPopup%28popup_ae7fdd0d77de450aaa68ac35479ba029%29%0A%20%20%20%20%20%20%20%20%3B%0A%0A%20%20%20%20%20%20%20%20%0A%20%20%20%20%0A%20%20%20%20%0A%20%20%20%20%20%20%20%20%20%20%20%20var%20marker_b53a1d010d104ca58fb7c125b4749333%20%3D%20L.marker%28%0A%20%20%20%20%20%20%20%20%20%20%20%20%20%20%20%20%5B41.9541563%2C%20-87.7027107%5D%2C%0A%20%20%20%20%20%20%20%20%20%20%20%20%20%20%20%20%7B%7D%0A%20%20%20%20%20%20%20%20%20%20%20%20%29.addTo%28map_1014390b9dec4629a0294fcd81976660%29%3B%0A%20%20%20%20%20%20%20%20%0A%20%20%20%20%0A%20%20%20%20%20%20%20%20var%20popup_9d27b925c0564d8f97638e6d66f4b57c%20%3D%20L.popup%28%7B%22maxWidth%22%3A%20%22100%25%22%7D%29%3B%0A%0A%20%20%20%20%20%20%20%20%0A%20%20%20%20%20%20%20%20%20%20%20%20var%20html_26fbec6aa1bc4fb18efcda35acb550ed%20%3D%20%24%28%60%3Cdiv%20id%3D%22html_26fbec6aa1bc4fb18efcda35acb550ed%22%20style%3D%22width%3A%20100.0%25%3B%20height%3A%20100.0%25%3B%22%3ELa%20Pane%3C/div%3E%60%29%5B0%5D%3B%0A%20%20%20%20%20%20%20%20%20%20%20%20popup_9d27b925c0564d8f97638e6d66f4b57c.setContent%28html_26fbec6aa1bc4fb18efcda35acb550ed%29%3B%0A%20%20%20%20%20%20%20%20%0A%0A%20%20%20%20%20%20%20%20marker_b53a1d010d104ca58fb7c125b4749333.bindPopup%28popup_9d27b925c0564d8f97638e6d66f4b57c%29%0A%20%20%20%20%20%20%20%20%3B%0A%0A%20%20%20%20%20%20%20%20%0A%20%20%20%20%0A%20%20%20%20%0A%20%20%20%20%20%20%20%20%20%20%20%20var%20marker_809e8e2b34ce4ec18d37db33984eafd0%20%3D%20L.marker%28%0A%20%20%20%20%20%20%20%20%20%20%20%20%20%20%20%20%5B41.8828658%2C%20-87.64928379999999%5D%2C%0A%20%20%20%20%20%20%20%20%20%20%20%20%20%20%20%20%7B%7D%0A%20%20%20%20%20%20%20%20%20%20%20%20%29.addTo%28map_1014390b9dec4629a0294fcd81976660%29%3B%0A%20%20%20%20%20%20%20%20%0A%20%20%20%20%0A%20%20%20%20%20%20%20%20var%20popup_8bf103de465845bfbba8c482212cfde9%20%3D%20L.popup%28%7B%22maxWidth%22%3A%20%22100%25%22%7D%29%3B%0A%0A%20%20%20%20%20%20%20%20%0A%20%20%20%20%20%20%20%20%20%20%20%20var%20html_d01da540358a431f993cc1f16c546226%20%3D%20%24%28%60%3Cdiv%20id%3D%22html_d01da540358a431f993cc1f16c546226%22%20style%3D%22width%3A%20100.0%25%3B%20height%3A%20100.0%25%3B%22%3EPastoral%3C/div%3E%60%29%5B0%5D%3B%0A%20%20%20%20%20%20%20%20%20%20%20%20popup_8bf103de465845bfbba8c482212cfde9.setContent%28html_d01da540358a431f993cc1f16c546226%29%3B%0A%20%20%20%20%20%20%20%20%0A%0A%20%20%20%20%20%20%20%20marker_809e8e2b34ce4ec18d37db33984eafd0.bindPopup%28popup_8bf103de465845bfbba8c482212cfde9%29%0A%20%20%20%20%20%20%20%20%3B%0A%0A%20%20%20%20%20%20%20%20%0A%20%20%20%20%0A%20%20%20%20%0A%20%20%20%20%20%20%20%20%20%20%20%20var%20marker_474e677dcea6468199181eb1661740b6%20%3D%20L.marker%28%0A%20%20%20%20%20%20%20%20%20%20%20%20%20%20%20%20%5B42.156691%2C%20-87.803618%5D%2C%0A%20%20%20%20%20%20%20%20%20%20%20%20%20%20%20%20%7B%7D%0A%20%20%20%20%20%20%20%20%20%20%20%20%29.addTo%28map_1014390b9dec4629a0294fcd81976660%29%3B%0A%20%20%20%20%20%20%20%20%0A%20%20%20%20%0A%20%20%20%20%20%20%20%20var%20popup_b7db0a2aefd34385992ce7101ddaaebe%20%3D%20L.popup%28%7B%22maxWidth%22%3A%20%22100%25%22%7D%29%3B%0A%0A%20%20%20%20%20%20%20%20%0A%20%20%20%20%20%20%20%20%20%20%20%20var%20html_d61a049a4d5a484cb1a8091b1bd834e8%20%3D%20%24%28%60%3Cdiv%20id%3D%22html_d61a049a4d5a484cb1a8091b1bd834e8%22%20style%3D%22width%3A%20100.0%25%3B%20height%3A%20100.0%25%3B%22%3EMax%E2%80%99s%20Deli%3C/div%3E%60%29%5B0%5D%3B%0A%20%20%20%20%20%20%20%20%20%20%20%20popup_b7db0a2aefd34385992ce7101ddaaebe.setContent%28html_d61a049a4d5a484cb1a8091b1bd834e8%29%3B%0A%20%20%20%20%20%20%20%20%0A%0A%20%20%20%20%20%20%20%20marker_474e677dcea6468199181eb1661740b6.bindPopup%28popup_b7db0a2aefd34385992ce7101ddaaebe%29%0A%20%20%20%20%20%20%20%20%3B%0A%0A%20%20%20%20%20%20%20%20%0A%20%20%20%20%0A%20%20%20%20%0A%20%20%20%20%20%20%20%20%20%20%20%20var%20marker_834d693f13c045869bb70804be1923e8%20%3D%20L.marker%28%0A%20%20%20%20%20%20%20%20%20%20%20%20%20%20%20%20%5B41.8828658%2C%20-87.64928379999999%5D%2C%0A%20%20%20%20%20%20%20%20%20%20%20%20%20%20%20%20%7B%7D%0A%20%20%20%20%20%20%20%20%20%20%20%20%29.addTo%28map_1014390b9dec4629a0294fcd81976660%29%3B%0A%20%20%20%20%20%20%20%20%0A%20%20%20%20%0A%20%20%20%20%20%20%20%20var%20popup_985f806840474da2ac14342a12319c15%20%3D%20L.popup%28%7B%22maxWidth%22%3A%20%22100%25%22%7D%29%3B%0A%0A%20%20%20%20%20%20%20%20%0A%20%20%20%20%20%20%20%20%20%20%20%20var%20html_31b6cb0292e14771b10cc60ec07f907b%20%3D%20%24%28%60%3Cdiv%20id%3D%22html_31b6cb0292e14771b10cc60ec07f907b%22%20style%3D%22width%3A%20100.0%25%3B%20height%3A%20100.0%25%3B%22%3ELucky%E2%80%99s%20Sandwich%20Co.%3C/div%3E%60%29%5B0%5D%3B%0A%20%20%20%20%20%20%20%20%20%20%20%20popup_985f806840474da2ac14342a12319c15.setContent%28html_31b6cb0292e14771b10cc60ec07f907b%29%3B%0A%20%20%20%20%20%20%20%20%0A%0A%20%20%20%20%20%20%20%20marker_834d693f13c045869bb70804be1923e8.bindPopup%28popup_985f806840474da2ac14342a12319c15%29%0A%20%20%20%20%20%20%20%20%3B%0A%0A%20%20%20%20%20%20%20%20%0A%20%20%20%20%0A%20%20%20%20%0A%20%20%20%20%20%20%20%20%20%20%20%20var%20marker_06eb6f46c8ff42a59e120cc99e8b5bfa%20%3D%20L.marker%28%0A%20%20%20%20%20%20%20%20%20%20%20%20%20%20%20%20%5B41.9652987%2C%20-87.67557959999999%5D%2C%0A%20%20%20%20%20%20%20%20%20%20%20%20%20%20%20%20%7B%7D%0A%20%20%20%20%20%20%20%20%20%20%20%20%29.addTo%28map_1014390b9dec4629a0294fcd81976660%29%3B%0A%20%20%20%20%20%20%20%20%0A%20%20%20%20%0A%20%20%20%20%20%20%20%20var%20popup_8cf08b03929745d49bb69f3e69317f72%20%3D%20L.popup%28%7B%22maxWidth%22%3A%20%22100%25%22%7D%29%3B%0A%0A%20%20%20%20%20%20%20%20%0A%20%20%20%20%20%20%20%20%20%20%20%20var%20html_1df5fbe7049e4df495cd7a20cd29efda%20%3D%20%24%28%60%3Cdiv%20id%3D%22html_1df5fbe7049e4df495cd7a20cd29efda%22%20style%3D%22width%3A%20100.0%25%3B%20height%3A%20100.0%25%3B%22%3ECity%20Provisions%3C/div%3E%60%29%5B0%5D%3B%0A%20%20%20%20%20%20%20%20%20%20%20%20popup_8cf08b03929745d49bb69f3e69317f72.setContent%28html_1df5fbe7049e4df495cd7a20cd29efda%29%3B%0A%20%20%20%20%20%20%20%20%0A%0A%20%20%20%20%20%20%20%20marker_06eb6f46c8ff42a59e120cc99e8b5bfa.bindPopup%28popup_8cf08b03929745d49bb69f3e69317f72%29%0A%20%20%20%20%20%20%20%20%3B%0A%0A%20%20%20%20%20%20%20%20%0A%20%20%20%20%0A%20%20%20%20%0A%20%20%20%20%20%20%20%20%20%20%20%20var%20marker_ec5eb418161f414fae67cfa11760f9ab%20%3D%20L.marker%28%0A%20%20%20%20%20%20%20%20%20%20%20%20%20%20%20%20%5B41.9027178%2C%20-87.6902192%5D%2C%0A%20%20%20%20%20%20%20%20%20%20%20%20%20%20%20%20%7B%7D%0A%20%20%20%20%20%20%20%20%20%20%20%20%29.addTo%28map_1014390b9dec4629a0294fcd81976660%29%3B%0A%20%20%20%20%20%20%20%20%0A%20%20%20%20%0A%20%20%20%20%20%20%20%20var%20popup_f1ee0aa1ab0845289dcbb15b0acfb907%20%3D%20L.popup%28%7B%22maxWidth%22%3A%20%22100%25%22%7D%29%3B%0A%0A%20%20%20%20%20%20%20%20%0A%20%20%20%20%20%20%20%20%20%20%20%20var%20html_6fc604eacea441308989d7251364f569%20%3D%20%24%28%60%3Cdiv%20id%3D%22html_6fc604eacea441308989d7251364f569%22%20style%3D%22width%3A%20100.0%25%3B%20height%3A%20100.0%25%3B%22%3EPapa%E2%80%99s%20Cache%20Sabroso%3C/div%3E%60%29%5B0%5D%3B%0A%20%20%20%20%20%20%20%20%20%20%20%20popup_f1ee0aa1ab0845289dcbb15b0acfb907.setContent%28html_6fc604eacea441308989d7251364f569%29%3B%0A%20%20%20%20%20%20%20%20%0A%0A%20%20%20%20%20%20%20%20marker_ec5eb418161f414fae67cfa11760f9ab.bindPopup%28popup_f1ee0aa1ab0845289dcbb15b0acfb907%29%0A%20%20%20%20%20%20%20%20%3B%0A%0A%20%20%20%20%20%20%20%20%0A%20%20%20%20%0A%20%20%20%20%0A%20%20%20%20%20%20%20%20%20%20%20%20var%20marker_a9162ec9cc774cac91d0540aa45bb8dd%20%3D%20L.marker%28%0A%20%20%20%20%20%20%20%20%20%20%20%20%20%20%20%20%5B41.8893683%2C%20-87.6349487%5D%2C%0A%20%20%20%20%20%20%20%20%20%20%20%20%20%20%20%20%7B%7D%0A%20%20%20%20%20%20%20%20%20%20%20%20%29.addTo%28map_1014390b9dec4629a0294fcd81976660%29%3B%0A%20%20%20%20%20%20%20%20%0A%20%20%20%20%0A%20%20%20%20%20%20%20%20var%20popup_cd914ae8755a4547918f6c5479561985%20%3D%20L.popup%28%7B%22maxWidth%22%3A%20%22100%25%22%7D%29%3B%0A%0A%20%20%20%20%20%20%20%20%0A%20%20%20%20%20%20%20%20%20%20%20%20var%20html_a0efde30fb6247f2bbf11bab946294a5%20%3D%20%24%28%60%3Cdiv%20id%3D%22html_a0efde30fb6247f2bbf11bab946294a5%22%20style%3D%22width%3A%20100.0%25%3B%20height%3A%20100.0%25%3B%22%3EBavette%E2%80%99s%20Bar%20%26%20Boeuf%3C/div%3E%60%29%5B0%5D%3B%0A%20%20%20%20%20%20%20%20%20%20%20%20popup_cd914ae8755a4547918f6c5479561985.setContent%28html_a0efde30fb6247f2bbf11bab946294a5%29%3B%0A%20%20%20%20%20%20%20%20%0A%0A%20%20%20%20%20%20%20%20marker_a9162ec9cc774cac91d0540aa45bb8dd.bindPopup%28popup_cd914ae8755a4547918f6c5479561985%29%0A%20%20%20%20%20%20%20%20%3B%0A%0A%20%20%20%20%20%20%20%20%0A%20%20%20%20%0A%20%20%20%20%0A%20%20%20%20%20%20%20%20%20%20%20%20var%20marker_8d59aac3ec44411b8bba445310724bbf%20%3D%20L.marker%28%0A%20%20%20%20%20%20%20%20%20%20%20%20%20%20%20%20%5B41.8828658%2C%20-87.64928379999999%5D%2C%0A%20%20%20%20%20%20%20%20%20%20%20%20%20%20%20%20%7B%7D%0A%20%20%20%20%20%20%20%20%20%20%20%20%29.addTo%28map_1014390b9dec4629a0294fcd81976660%29%3B%0A%20%20%20%20%20%20%20%20%0A%20%20%20%20%0A%20%20%20%20%20%20%20%20var%20popup_1bd1b58202794208b2742f0cf14fdb6a%20%3D%20L.popup%28%7B%22maxWidth%22%3A%20%22100%25%22%7D%29%3B%0A%0A%20%20%20%20%20%20%20%20%0A%20%20%20%20%20%20%20%20%20%20%20%20var%20html_53b98a73bed241f1bdb2911ea5b39955%20%3D%20%24%28%60%3Cdiv%20id%3D%22html_53b98a73bed241f1bdb2911ea5b39955%22%20style%3D%22width%3A%20100.0%25%3B%20height%3A%20100.0%25%3B%22%3EHannah%E2%80%99s%20Bretzel%3C/div%3E%60%29%5B0%5D%3B%0A%20%20%20%20%20%20%20%20%20%20%20%20popup_1bd1b58202794208b2742f0cf14fdb6a.setContent%28html_53b98a73bed241f1bdb2911ea5b39955%29%3B%0A%20%20%20%20%20%20%20%20%0A%0A%20%20%20%20%20%20%20%20marker_8d59aac3ec44411b8bba445310724bbf.bindPopup%28popup_1bd1b58202794208b2742f0cf14fdb6a%29%0A%20%20%20%20%20%20%20%20%3B%0A%0A%20%20%20%20%20%20%20%20%0A%20%20%20%20%0A%20%20%20%20%0A%20%20%20%20%20%20%20%20%20%20%20%20var%20marker_bea8030d8a414d8ba7141f2f68f828c8%20%3D%20L.marker%28%0A%20%20%20%20%20%20%20%20%20%20%20%20%20%20%20%20%5B41.9105258%2C%20-87.6343775%5D%2C%0A%20%20%20%20%20%20%20%20%20%20%20%20%20%20%20%20%7B%7D%0A%20%20%20%20%20%20%20%20%20%20%20%20%29.addTo%28map_1014390b9dec4629a0294fcd81976660%29%3B%0A%20%20%20%20%20%20%20%20%0A%20%20%20%20%0A%20%20%20%20%20%20%20%20var%20popup_4c6e0b74d0404f3ba0ba843d8bd2704a%20%3D%20L.popup%28%7B%22maxWidth%22%3A%20%22100%25%22%7D%29%3B%0A%0A%20%20%20%20%20%20%20%20%0A%20%20%20%20%20%20%20%20%20%20%20%20var%20html_51a4d832ecf54f6d8a13c07db78120db%20%3D%20%24%28%60%3Cdiv%20id%3D%22html_51a4d832ecf54f6d8a13c07db78120db%22%20style%3D%22width%3A%20100.0%25%3B%20height%3A%20100.0%25%3B%22%3ELa%20Fournette%3C/div%3E%60%29%5B0%5D%3B%0A%20%20%20%20%20%20%20%20%20%20%20%20popup_4c6e0b74d0404f3ba0ba843d8bd2704a.setContent%28html_51a4d832ecf54f6d8a13c07db78120db%29%3B%0A%20%20%20%20%20%20%20%20%0A%0A%20%20%20%20%20%20%20%20marker_bea8030d8a414d8ba7141f2f68f828c8.bindPopup%28popup_4c6e0b74d0404f3ba0ba843d8bd2704a%29%0A%20%20%20%20%20%20%20%20%3B%0A%0A%20%20%20%20%20%20%20%20%0A%20%20%20%20%0A%20%20%20%20%0A%20%20%20%20%20%20%20%20%20%20%20%20var%20marker_6b3b505741474a13b662b529c055c40d%20%3D%20L.marker%28%0A%20%20%20%20%20%20%20%20%20%20%20%20%20%20%20%20%5B41.8896188%2C%20-87.64484259999999%5D%2C%0A%20%20%20%20%20%20%20%20%20%20%20%20%20%20%20%20%7B%7D%0A%20%20%20%20%20%20%20%20%20%20%20%20%29.addTo%28map_1014390b9dec4629a0294fcd81976660%29%3B%0A%20%20%20%20%20%20%20%20%0A%20%20%20%20%0A%20%20%20%20%20%20%20%20var%20popup_214b311fd89c4c34b238cf1d5f2c4d8d%20%3D%20L.popup%28%7B%22maxWidth%22%3A%20%22100%25%22%7D%29%3B%0A%0A%20%20%20%20%20%20%20%20%0A%20%20%20%20%20%20%20%20%20%20%20%20var%20html_27bb06d67a7042589bc578fb7a638fc1%20%3D%20%24%28%60%3Cdiv%20id%3D%22html_27bb06d67a7042589bc578fb7a638fc1%22%20style%3D%22width%3A%20100.0%25%3B%20height%3A%20100.0%25%3B%22%3EParamount%20Room%3C/div%3E%60%29%5B0%5D%3B%0A%20%20%20%20%20%20%20%20%20%20%20%20popup_214b311fd89c4c34b238cf1d5f2c4d8d.setContent%28html_27bb06d67a7042589bc578fb7a638fc1%29%3B%0A%20%20%20%20%20%20%20%20%0A%0A%20%20%20%20%20%20%20%20marker_6b3b505741474a13b662b529c055c40d.bindPopup%28popup_214b311fd89c4c34b238cf1d5f2c4d8d%29%0A%20%20%20%20%20%20%20%20%3B%0A%0A%20%20%20%20%20%20%20%20%0A%20%20%20%20%0A%20%20%20%20%0A%20%20%20%20%20%20%20%20%20%20%20%20var%20marker_d1dde0da7a8449ac94b8481e1e96c84d%20%3D%20L.marker%28%0A%20%20%20%20%20%20%20%20%20%20%20%20%20%20%20%20%5B41.91504990000001%2C%20-87.6778047%5D%2C%0A%20%20%20%20%20%20%20%20%20%20%20%20%20%20%20%20%7B%7D%0A%20%20%20%20%20%20%20%20%20%20%20%20%29.addTo%28map_1014390b9dec4629a0294fcd81976660%29%3B%0A%20%20%20%20%20%20%20%20%0A%20%20%20%20%0A%20%20%20%20%20%20%20%20var%20popup_ce23f67f73794b8f8f807732ea9b80e0%20%3D%20L.popup%28%7B%22maxWidth%22%3A%20%22100%25%22%7D%29%3B%0A%0A%20%20%20%20%20%20%20%20%0A%20%20%20%20%20%20%20%20%20%20%20%20var%20html_b13ca8e4a7494ce5bf4258897774b926%20%3D%20%24%28%60%3Cdiv%20id%3D%22html_b13ca8e4a7494ce5bf4258897774b926%22%20style%3D%22width%3A%20100.0%25%3B%20height%3A%20100.0%25%3B%22%3EMelt%20Sandwich%20Shoppe%3C/div%3E%60%29%5B0%5D%3B%0A%20%20%20%20%20%20%20%20%20%20%20%20popup_ce23f67f73794b8f8f807732ea9b80e0.setContent%28html_b13ca8e4a7494ce5bf4258897774b926%29%3B%0A%20%20%20%20%20%20%20%20%0A%0A%20%20%20%20%20%20%20%20marker_d1dde0da7a8449ac94b8481e1e96c84d.bindPopup%28popup_ce23f67f73794b8f8f807732ea9b80e0%29%0A%20%20%20%20%20%20%20%20%3B%0A%0A%20%20%20%20%20%20%20%20%0A%20%20%20%20%0A%20%20%20%20%0A%20%20%20%20%20%20%20%20%20%20%20%20var%20marker_eb1ba5838caf46189b29d63880a3a9de%20%3D%20L.marker%28%0A%20%20%20%20%20%20%20%20%20%20%20%20%20%20%20%20%5B41.9218521%2C%20-87.6592124%5D%2C%0A%20%20%20%20%20%20%20%20%20%20%20%20%20%20%20%20%7B%7D%0A%20%20%20%20%20%20%20%20%20%20%20%20%29.addTo%28map_1014390b9dec4629a0294fcd81976660%29%3B%0A%20%20%20%20%20%20%20%20%0A%20%20%20%20%0A%20%20%20%20%20%20%20%20var%20popup_96cdf981de9e48c1bbf380a1fce9a610%20%3D%20L.popup%28%7B%22maxWidth%22%3A%20%22100%25%22%7D%29%3B%0A%0A%20%20%20%20%20%20%20%20%0A%20%20%20%20%20%20%20%20%20%20%20%20var%20html_e7a1692426cf4a79a1a68b09216b632a%20%3D%20%24%28%60%3Cdiv%20id%3D%22html_e7a1692426cf4a79a1a68b09216b632a%22%20style%3D%22width%3A%20100.0%25%3B%20height%3A%20100.0%25%3B%22%3EFloriole%20Cafe%20%26%20Bakery%3C/div%3E%60%29%5B0%5D%3B%0A%20%20%20%20%20%20%20%20%20%20%20%20popup_96cdf981de9e48c1bbf380a1fce9a610.setContent%28html_e7a1692426cf4a79a1a68b09216b632a%29%3B%0A%20%20%20%20%20%20%20%20%0A%0A%20%20%20%20%20%20%20%20marker_eb1ba5838caf46189b29d63880a3a9de.bindPopup%28popup_96cdf981de9e48c1bbf380a1fce9a610%29%0A%20%20%20%20%20%20%20%20%3B%0A%0A%20%20%20%20%20%20%20%20%0A%20%20%20%20%0A%20%20%20%20%0A%20%20%20%20%20%20%20%20%20%20%20%20var%20marker_0d7b2f7663b54db493145f0dee75ab58%20%3D%20L.marker%28%0A%20%20%20%20%20%20%20%20%20%20%20%20%20%20%20%20%5B41.9797099%2C%20-87.66934409999999%5D%2C%0A%20%20%20%20%20%20%20%20%20%20%20%20%20%20%20%20%7B%7D%0A%20%20%20%20%20%20%20%20%20%20%20%20%29.addTo%28map_1014390b9dec4629a0294fcd81976660%29%3B%0A%20%20%20%20%20%20%20%20%0A%20%20%20%20%0A%20%20%20%20%20%20%20%20var%20popup_96628eac644d41749463e90d6a6d3ee6%20%3D%20L.popup%28%7B%22maxWidth%22%3A%20%22100%25%22%7D%29%3B%0A%0A%20%20%20%20%20%20%20%20%0A%20%20%20%20%20%20%20%20%20%20%20%20var%20html_6d4d6c6a419745ef8c12370d831183c8%20%3D%20%24%28%60%3Cdiv%20id%3D%22html_6d4d6c6a419745ef8c12370d831183c8%22%20style%3D%22width%3A%20100.0%25%3B%20height%3A%20100.0%25%3B%22%3EFirst%20Slice%20Pie%20Caf%C3%A9%3C/div%3E%60%29%5B0%5D%3B%0A%20%20%20%20%20%20%20%20%20%20%20%20popup_96628eac644d41749463e90d6a6d3ee6.setContent%28html_6d4d6c6a419745ef8c12370d831183c8%29%3B%0A%20%20%20%20%20%20%20%20%0A%0A%20%20%20%20%20%20%20%20marker_0d7b2f7663b54db493145f0dee75ab58.bindPopup%28popup_96628eac644d41749463e90d6a6d3ee6%29%0A%20%20%20%20%20%20%20%20%3B%0A%0A%20%20%20%20%20%20%20%20%0A%20%20%20%20%0A%20%20%20%20%0A%20%20%20%20%20%20%20%20%20%20%20%20var%20marker_4bf40a6c0bb44c81a2736ae4b344b9ce%20%3D%20L.marker%28%0A%20%20%20%20%20%20%20%20%20%20%20%20%20%20%20%20%5B41.9617122%2C%20-87.67581620000001%5D%2C%0A%20%20%20%20%20%20%20%20%20%20%20%20%20%20%20%20%7B%7D%0A%20%20%20%20%20%20%20%20%20%20%20%20%29.addTo%28map_1014390b9dec4629a0294fcd81976660%29%3B%0A%20%20%20%20%20%20%20%20%0A%20%20%20%20%0A%20%20%20%20%20%20%20%20var%20popup_c45462de495a4f02b762347406f065c6%20%3D%20L.popup%28%7B%22maxWidth%22%3A%20%22100%25%22%7D%29%3B%0A%0A%20%20%20%20%20%20%20%20%0A%20%20%20%20%20%20%20%20%20%20%20%20var%20html_b0bb76b70b7c4bedba913ffdca1787a2%20%3D%20%24%28%60%3Cdiv%20id%3D%22html_b0bb76b70b7c4bedba913ffdca1787a2%22%20style%3D%22width%3A%20100.0%25%3B%20height%3A%20100.0%25%3B%22%3ETroquet%3C/div%3E%60%29%5B0%5D%3B%0A%20%20%20%20%20%20%20%20%20%20%20%20popup_c45462de495a4f02b762347406f065c6.setContent%28html_b0bb76b70b7c4bedba913ffdca1787a2%29%3B%0A%20%20%20%20%20%20%20%20%0A%0A%20%20%20%20%20%20%20%20marker_4bf40a6c0bb44c81a2736ae4b344b9ce.bindPopup%28popup_c45462de495a4f02b762347406f065c6%29%0A%20%20%20%20%20%20%20%20%3B%0A%0A%20%20%20%20%20%20%20%20%0A%20%20%20%20%0A%20%20%20%20%0A%20%20%20%20%20%20%20%20%20%20%20%20var%20marker_dac643330c4241ab8a265a8ce84f0a1d%20%3D%20L.marker%28%0A%20%20%20%20%20%20%20%20%20%20%20%20%20%20%20%20%5B41.89296119999999%2C%20-87.6278214%5D%2C%0A%20%20%20%20%20%20%20%20%20%20%20%20%20%20%20%20%7B%7D%0A%20%20%20%20%20%20%20%20%20%20%20%20%29.addTo%28map_1014390b9dec4629a0294fcd81976660%29%3B%0A%20%20%20%20%20%20%20%20%0A%20%20%20%20%0A%20%20%20%20%20%20%20%20var%20popup_16a2691e5ea24415b3e58cab90208cbd%20%3D%20L.popup%28%7B%22maxWidth%22%3A%20%22100%25%22%7D%29%3B%0A%0A%20%20%20%20%20%20%20%20%0A%20%20%20%20%20%20%20%20%20%20%20%20var%20html_b582e45976b84562846fda771e8fc825%20%3D%20%24%28%60%3Cdiv%20id%3D%22html_b582e45976b84562846fda771e8fc825%22%20style%3D%22width%3A%20100.0%25%3B%20height%3A%20100.0%25%3B%22%3EGrahamwich%3C/div%3E%60%29%5B0%5D%3B%0A%20%20%20%20%20%20%20%20%20%20%20%20popup_16a2691e5ea24415b3e58cab90208cbd.setContent%28html_b582e45976b84562846fda771e8fc825%29%3B%0A%20%20%20%20%20%20%20%20%0A%0A%20%20%20%20%20%20%20%20marker_dac643330c4241ab8a265a8ce84f0a1d.bindPopup%28popup_16a2691e5ea24415b3e58cab90208cbd%29%0A%20%20%20%20%20%20%20%20%3B%0A%0A%20%20%20%20%20%20%20%20%0A%20%20%20%20%0A%20%20%20%20%0A%20%20%20%20%20%20%20%20%20%20%20%20var%20marker_b2b80ef593e44c5aaea688aba33e8e0f%20%3D%20L.marker%28%0A%20%20%20%20%20%20%20%20%20%20%20%20%20%20%20%20%5B41.8828658%2C%20-87.64928379999999%5D%2C%0A%20%20%20%20%20%20%20%20%20%20%20%20%20%20%20%20%7B%7D%0A%20%20%20%20%20%20%20%20%20%20%20%20%29.addTo%28map_1014390b9dec4629a0294fcd81976660%29%3B%0A%20%20%20%20%20%20%20%20%0A%20%20%20%20%0A%20%20%20%20%20%20%20%20var%20popup_38729fc2521a48538b8e3a14c0128c1c%20%3D%20L.popup%28%7B%22maxWidth%22%3A%20%22100%25%22%7D%29%3B%0A%0A%20%20%20%20%20%20%20%20%0A%20%20%20%20%20%20%20%20%20%20%20%20var%20html_179386488fd84a04863f2d29846c108a%20%3D%20%24%28%60%3Cdiv%20id%3D%22html_179386488fd84a04863f2d29846c108a%22%20style%3D%22width%3A%20100.0%25%3B%20height%3A%20100.0%25%3B%22%3ESaigon%20Sisters%3C/div%3E%60%29%5B0%5D%3B%0A%20%20%20%20%20%20%20%20%20%20%20%20popup_38729fc2521a48538b8e3a14c0128c1c.setContent%28html_179386488fd84a04863f2d29846c108a%29%3B%0A%20%20%20%20%20%20%20%20%0A%0A%20%20%20%20%20%20%20%20marker_b2b80ef593e44c5aaea688aba33e8e0f.bindPopup%28popup_38729fc2521a48538b8e3a14c0128c1c%29%0A%20%20%20%20%20%20%20%20%3B%0A%0A%20%20%20%20%20%20%20%20%0A%20%20%20%20%0A%20%20%20%20%0A%20%20%20%20%20%20%20%20%20%20%20%20var%20marker_dca45f1adf214cfda80b5b6202a8e985%20%3D%20L.marker%28%0A%20%20%20%20%20%20%20%20%20%20%20%20%20%20%20%20%5B41.9047551%2C%20-87.9396459%5D%2C%0A%20%20%20%20%20%20%20%20%20%20%20%20%20%20%20%20%7B%7D%0A%20%20%20%20%20%20%20%20%20%20%20%20%29.addTo%28map_1014390b9dec4629a0294fcd81976660%29%3B%0A%20%20%20%20%20%20%20%20%0A%20%20%20%20%0A%20%20%20%20%20%20%20%20var%20popup_75c53e9cd77b4c8caaab69da47e9e4a4%20%3D%20L.popup%28%7B%22maxWidth%22%3A%20%22100%25%22%7D%29%3B%0A%0A%20%20%20%20%20%20%20%20%0A%20%20%20%20%20%20%20%20%20%20%20%20var%20html_96f1ceaf608f44d19234e69ff10deb6c%20%3D%20%24%28%60%3Cdiv%20id%3D%22html_96f1ceaf608f44d19234e69ff10deb6c%22%20style%3D%22width%3A%20100.0%25%3B%20height%3A%20100.0%25%3B%22%3ERosalia%E2%80%99s%20Deli%3C/div%3E%60%29%5B0%5D%3B%0A%20%20%20%20%20%20%20%20%20%20%20%20popup_75c53e9cd77b4c8caaab69da47e9e4a4.setContent%28html_96f1ceaf608f44d19234e69ff10deb6c%29%3B%0A%20%20%20%20%20%20%20%20%0A%0A%20%20%20%20%20%20%20%20marker_dca45f1adf214cfda80b5b6202a8e985.bindPopup%28popup_75c53e9cd77b4c8caaab69da47e9e4a4%29%0A%20%20%20%20%20%20%20%20%3B%0A%0A%20%20%20%20%20%20%20%20%0A%20%20%20%20%0A%20%20%20%20%0A%20%20%20%20%20%20%20%20%20%20%20%20var%20marker_dc5f264fe79048f29fb49478b1b269b8%20%3D%20L.marker%28%0A%20%20%20%20%20%20%20%20%20%20%20%20%20%20%20%20%5B41.7913185%2C%20-87.5938456%5D%2C%0A%20%20%20%20%20%20%20%20%20%20%20%20%20%20%20%20%7B%7D%0A%20%20%20%20%20%20%20%20%20%20%20%20%29.addTo%28map_1014390b9dec4629a0294fcd81976660%29%3B%0A%20%20%20%20%20%20%20%20%0A%20%20%20%20%0A%20%20%20%20%20%20%20%20var%20popup_b69eee24e143420bb34bfa97d7c90fd6%20%3D%20L.popup%28%7B%22maxWidth%22%3A%20%22100%25%22%7D%29%3B%0A%0A%20%20%20%20%20%20%20%20%0A%20%20%20%20%20%20%20%20%20%20%20%20var%20html_817c1564ab0140d8b1cf9b1e1a2c45b8%20%3D%20%24%28%60%3Cdiv%20id%3D%22html_817c1564ab0140d8b1cf9b1e1a2c45b8%22%20style%3D%22width%3A%20100.0%25%3B%20height%3A%20100.0%25%3B%22%3EZ%26H%20MarketCafe%3C/div%3E%60%29%5B0%5D%3B%0A%20%20%20%20%20%20%20%20%20%20%20%20popup_b69eee24e143420bb34bfa97d7c90fd6.setContent%28html_817c1564ab0140d8b1cf9b1e1a2c45b8%29%3B%0A%20%20%20%20%20%20%20%20%0A%0A%20%20%20%20%20%20%20%20marker_dc5f264fe79048f29fb49478b1b269b8.bindPopup%28popup_b69eee24e143420bb34bfa97d7c90fd6%29%0A%20%20%20%20%20%20%20%20%3B%0A%0A%20%20%20%20%20%20%20%20%0A%20%20%20%20%0A%20%20%20%20%0A%20%20%20%20%20%20%20%20%20%20%20%20var%20marker_cc0acb99f3834d3ebfc1b264238e5363%20%3D%20L.marker%28%0A%20%20%20%20%20%20%20%20%20%20%20%20%20%20%20%20%5B42.2518352%2C%20-87.8414998%5D%2C%0A%20%20%20%20%20%20%20%20%20%20%20%20%20%20%20%20%7B%7D%0A%20%20%20%20%20%20%20%20%20%20%20%20%29.addTo%28map_1014390b9dec4629a0294fcd81976660%29%3B%0A%20%20%20%20%20%20%20%20%0A%20%20%20%20%0A%20%20%20%20%20%20%20%20var%20popup_cb4ee0b336794349bd2c4ada436316f5%20%3D%20L.popup%28%7B%22maxWidth%22%3A%20%22100%25%22%7D%29%3B%0A%0A%20%20%20%20%20%20%20%20%0A%20%20%20%20%20%20%20%20%20%20%20%20var%20html_76a1f35df8554e0aa65b11bbe6ca14cc%20%3D%20%24%28%60%3Cdiv%20id%3D%22html_76a1f35df8554e0aa65b11bbe6ca14cc%22%20style%3D%22width%3A%20100.0%25%3B%20height%3A%20100.0%25%3B%22%3EMarket%20House%20on%20the%20Square%3C/div%3E%60%29%5B0%5D%3B%0A%20%20%20%20%20%20%20%20%20%20%20%20popup_cb4ee0b336794349bd2c4ada436316f5.setContent%28html_76a1f35df8554e0aa65b11bbe6ca14cc%29%3B%0A%20%20%20%20%20%20%20%20%0A%0A%20%20%20%20%20%20%20%20marker_cc0acb99f3834d3ebfc1b264238e5363.bindPopup%28popup_cb4ee0b336794349bd2c4ada436316f5%29%0A%20%20%20%20%20%20%20%20%3B%0A%0A%20%20%20%20%20%20%20%20%0A%20%20%20%20%0A%20%20%20%20%0A%20%20%20%20%20%20%20%20%20%20%20%20var%20marker_6d1ebadeaeef45d79c26f7b053692b6f%20%3D%20L.marker%28%0A%20%20%20%20%20%20%20%20%20%20%20%20%20%20%20%20%5B41.9152875%2C%20-87.6343888%5D%2C%0A%20%20%20%20%20%20%20%20%20%20%20%20%20%20%20%20%7B%7D%0A%20%20%20%20%20%20%20%20%20%20%20%20%29.addTo%28map_1014390b9dec4629a0294fcd81976660%29%3B%0A%20%20%20%20%20%20%20%20%0A%20%20%20%20%0A%20%20%20%20%20%20%20%20var%20popup_8788b9337d824e449c5415758e5c0424%20%3D%20L.popup%28%7B%22maxWidth%22%3A%20%22100%25%22%7D%29%3B%0A%0A%20%20%20%20%20%20%20%20%0A%20%20%20%20%20%20%20%20%20%20%20%20var%20html_36057e732b4e4038a2ea6785c661f410%20%3D%20%24%28%60%3Cdiv%20id%3D%22html_36057e732b4e4038a2ea6785c661f410%22%20style%3D%22width%3A%20100.0%25%3B%20height%3A%20100.0%25%3B%22%3EElaine%E2%80%99s%20Coffee%20Call%3C/div%3E%60%29%5B0%5D%3B%0A%20%20%20%20%20%20%20%20%20%20%20%20popup_8788b9337d824e449c5415758e5c0424.setContent%28html_36057e732b4e4038a2ea6785c661f410%29%3B%0A%20%20%20%20%20%20%20%20%0A%0A%20%20%20%20%20%20%20%20marker_6d1ebadeaeef45d79c26f7b053692b6f.bindPopup%28popup_8788b9337d824e449c5415758e5c0424%29%0A%20%20%20%20%20%20%20%20%3B%0A%0A%20%20%20%20%20%20%20%20%0A%20%20%20%20%0A%20%20%20%20%0A%20%20%20%20%20%20%20%20%20%20%20%20var%20marker_8521fb61816148f4b00f7a5e5fcdc6ae%20%3D%20L.marker%28%0A%20%20%20%20%20%20%20%20%20%20%20%20%20%20%20%20%5B41.8863622%2C%20-87.8022297%5D%2C%0A%20%20%20%20%20%20%20%20%20%20%20%20%20%20%20%20%7B%7D%0A%20%20%20%20%20%20%20%20%20%20%20%20%29.addTo%28map_1014390b9dec4629a0294fcd81976660%29%3B%0A%20%20%20%20%20%20%20%20%0A%20%20%20%20%0A%20%20%20%20%20%20%20%20var%20popup_943d9a181b464719801bce040b1b8415%20%3D%20L.popup%28%7B%22maxWidth%22%3A%20%22100%25%22%7D%29%3B%0A%0A%20%20%20%20%20%20%20%20%0A%20%20%20%20%20%20%20%20%20%20%20%20var%20html_7eb9612dacfa4e869af1f22705d7b918%20%3D%20%24%28%60%3Cdiv%20id%3D%22html_7eb9612dacfa4e869af1f22705d7b918%22%20style%3D%22width%3A%20100.0%25%3B%20height%3A%20100.0%25%3B%22%3EMarion%20Street%20Cheese%20Market%3C/div%3E%60%29%5B0%5D%3B%0A%20%20%20%20%20%20%20%20%20%20%20%20popup_943d9a181b464719801bce040b1b8415.setContent%28html_7eb9612dacfa4e869af1f22705d7b918%29%3B%0A%20%20%20%20%20%20%20%20%0A%0A%20%20%20%20%20%20%20%20marker_8521fb61816148f4b00f7a5e5fcdc6ae.bindPopup%28popup_943d9a181b464719801bce040b1b8415%29%0A%20%20%20%20%20%20%20%20%3B%0A%0A%20%20%20%20%20%20%20%20%0A%20%20%20%20%0A%20%20%20%20%0A%20%20%20%20%20%20%20%20%20%20%20%20var%20marker_d7b6933f01c1438e860ab2f0ed92b231%20%3D%20L.marker%28%0A%20%20%20%20%20%20%20%20%20%20%20%20%20%20%20%20%5B41.8758102%2C%20-87.6264489%5D%2C%0A%20%20%20%20%20%20%20%20%20%20%20%20%20%20%20%20%7B%7D%0A%20%20%20%20%20%20%20%20%20%20%20%20%29.addTo%28map_1014390b9dec4629a0294fcd81976660%29%3B%0A%20%20%20%20%20%20%20%20%0A%20%20%20%20%0A%20%20%20%20%20%20%20%20var%20popup_f61e1614e8ca46afb056a09f0157020c%20%3D%20L.popup%28%7B%22maxWidth%22%3A%20%22100%25%22%7D%29%3B%0A%0A%20%20%20%20%20%20%20%20%0A%20%20%20%20%20%20%20%20%20%20%20%20var%20html_3b54cad335cd4f768020248afb0d32f8%20%3D%20%24%28%60%3Cdiv%20id%3D%22html_3b54cad335cd4f768020248afb0d32f8%22%20style%3D%22width%3A%20100.0%25%3B%20height%3A%20100.0%25%3B%22%3ECafecito%3C/div%3E%60%29%5B0%5D%3B%0A%20%20%20%20%20%20%20%20%20%20%20%20popup_f61e1614e8ca46afb056a09f0157020c.setContent%28html_3b54cad335cd4f768020248afb0d32f8%29%3B%0A%20%20%20%20%20%20%20%20%0A%0A%20%20%20%20%20%20%20%20marker_d7b6933f01c1438e860ab2f0ed92b231.bindPopup%28popup_f61e1614e8ca46afb056a09f0157020c%29%0A%20%20%20%20%20%20%20%20%3B%0A%0A%20%20%20%20%20%20%20%20%0A%20%20%20%20%0A%20%20%20%20%0A%20%20%20%20%20%20%20%20%20%20%20%20var%20marker_05c76d0a57a44e1693b6b7509609175c%20%3D%20L.marker%28%0A%20%20%20%20%20%20%20%20%20%20%20%20%20%20%20%20%5B41.8961134%2C%20-87.677857%5D%2C%0A%20%20%20%20%20%20%20%20%20%20%20%20%20%20%20%20%7B%7D%0A%20%20%20%20%20%20%20%20%20%20%20%20%29.addTo%28map_1014390b9dec4629a0294fcd81976660%29%3B%0A%20%20%20%20%20%20%20%20%0A%20%20%20%20%0A%20%20%20%20%20%20%20%20var%20popup_09a7ac76f5e141dbb97c7e430c773045%20%3D%20L.popup%28%7B%22maxWidth%22%3A%20%22100%25%22%7D%29%3B%0A%0A%20%20%20%20%20%20%20%20%0A%20%20%20%20%20%20%20%20%20%20%20%20var%20html_008087ca416d4d0ba11743ddec874c9f%20%3D%20%24%28%60%3Cdiv%20id%3D%22html_008087ca416d4d0ba11743ddec874c9f%22%20style%3D%22width%3A%20100.0%25%3B%20height%3A%20100.0%25%3B%22%3EChickpea%3C/div%3E%60%29%5B0%5D%3B%0A%20%20%20%20%20%20%20%20%20%20%20%20popup_09a7ac76f5e141dbb97c7e430c773045.setContent%28html_008087ca416d4d0ba11743ddec874c9f%29%3B%0A%20%20%20%20%20%20%20%20%0A%0A%20%20%20%20%20%20%20%20marker_05c76d0a57a44e1693b6b7509609175c.bindPopup%28popup_09a7ac76f5e141dbb97c7e430c773045%29%0A%20%20%20%20%20%20%20%20%3B%0A%0A%20%20%20%20%20%20%20%20%0A%20%20%20%20%0A%20%20%20%20%0A%20%20%20%20%20%20%20%20%20%20%20%20var%20marker_3fb33ffa300f400281d76819b1b8afed%20%3D%20L.marker%28%0A%20%20%20%20%20%20%20%20%20%20%20%20%20%20%20%20%5B41.89897850000001%2C%20-87.6273926%5D%2C%0A%20%20%20%20%20%20%20%20%20%20%20%20%20%20%20%20%7B%7D%0A%20%20%20%20%20%20%20%20%20%20%20%20%29.addTo%28map_1014390b9dec4629a0294fcd81976660%29%3B%0A%20%20%20%20%20%20%20%20%0A%20%20%20%20%0A%20%20%20%20%20%20%20%20var%20popup_1edfe0c44ff04e5fac90ef0ab9b8a8c2%20%3D%20L.popup%28%7B%22maxWidth%22%3A%20%22100%25%22%7D%29%3B%0A%0A%20%20%20%20%20%20%20%20%0A%20%20%20%20%20%20%20%20%20%20%20%20var%20html_a671043e2ea7473f95702e48f99bad2a%20%3D%20%24%28%60%3Cdiv%20id%3D%22html_a671043e2ea7473f95702e48f99bad2a%22%20style%3D%22width%3A%20100.0%25%3B%20height%3A%20100.0%25%3B%22%3EThe%20Goddess%20and%20Grocer%3C/div%3E%60%29%5B0%5D%3B%0A%20%20%20%20%20%20%20%20%20%20%20%20popup_1edfe0c44ff04e5fac90ef0ab9b8a8c2.setContent%28html_a671043e2ea7473f95702e48f99bad2a%29%3B%0A%20%20%20%20%20%20%20%20%0A%0A%20%20%20%20%20%20%20%20marker_3fb33ffa300f400281d76819b1b8afed.bindPopup%28popup_1edfe0c44ff04e5fac90ef0ab9b8a8c2%29%0A%20%20%20%20%20%20%20%20%3B%0A%0A%20%20%20%20%20%20%20%20%0A%20%20%20%20%0A%20%20%20%20%0A%20%20%20%20%20%20%20%20%20%20%20%20var%20marker_481c08c59ecb46618307ca3698f934ab%20%3D%20L.marker%28%0A%20%20%20%20%20%20%20%20%20%20%20%20%20%20%20%20%5B41.9105832%2C%20-87.94048839999999%5D%2C%0A%20%20%20%20%20%20%20%20%20%20%20%20%20%20%20%20%7B%7D%0A%20%20%20%20%20%20%20%20%20%20%20%20%29.addTo%28map_1014390b9dec4629a0294fcd81976660%29%3B%0A%20%20%20%20%20%20%20%20%0A%20%20%20%20%0A%20%20%20%20%20%20%20%20var%20popup_c5f07f9855344d1ab0e2aeb2c7590b76%20%3D%20L.popup%28%7B%22maxWidth%22%3A%20%22100%25%22%7D%29%3B%0A%0A%20%20%20%20%20%20%20%20%0A%20%20%20%20%20%20%20%20%20%20%20%20var%20html_af2e919d32b743158e67736a2ca30ea1%20%3D%20%24%28%60%3Cdiv%20id%3D%22html_af2e919d32b743158e67736a2ca30ea1%22%20style%3D%22width%3A%20100.0%25%3B%20height%3A%20100.0%25%3B%22%3EZenwich%3C/div%3E%60%29%5B0%5D%3B%0A%20%20%20%20%20%20%20%20%20%20%20%20popup_c5f07f9855344d1ab0e2aeb2c7590b76.setContent%28html_af2e919d32b743158e67736a2ca30ea1%29%3B%0A%20%20%20%20%20%20%20%20%0A%0A%20%20%20%20%20%20%20%20marker_481c08c59ecb46618307ca3698f934ab.bindPopup%28popup_c5f07f9855344d1ab0e2aeb2c7590b76%29%0A%20%20%20%20%20%20%20%20%3B%0A%0A%20%20%20%20%20%20%20%20%0A%20%20%20%20%0A%20%20%20%20%0A%20%20%20%20%20%20%20%20%20%20%20%20var%20marker_cf1e352730764ac3bf5446d52604b93d%20%3D%20L.marker%28%0A%20%20%20%20%20%20%20%20%20%20%20%20%20%20%20%20%5B41.8831061%2C%20-87.6254381%5D%2C%0A%20%20%20%20%20%20%20%20%20%20%20%20%20%20%20%20%7B%7D%0A%20%20%20%20%20%20%20%20%20%20%20%20%29.addTo%28map_1014390b9dec4629a0294fcd81976660%29%3B%0A%20%20%20%20%20%20%20%20%0A%20%20%20%20%0A%20%20%20%20%20%20%20%20var%20popup_6a69c3e9d16a4d8c80c2257335c31c77%20%3D%20L.popup%28%7B%22maxWidth%22%3A%20%22100%25%22%7D%29%3B%0A%0A%20%20%20%20%20%20%20%20%0A%20%20%20%20%20%20%20%20%20%20%20%20var%20html_9660693cf7214d73ab102eb31787f2fa%20%3D%20%24%28%60%3Cdiv%20id%3D%22html_9660693cf7214d73ab102eb31787f2fa%22%20style%3D%22width%3A%20100.0%25%3B%20height%3A%20100.0%25%3B%22%3EToni%20Patisserie%3C/div%3E%60%29%5B0%5D%3B%0A%20%20%20%20%20%20%20%20%20%20%20%20popup_6a69c3e9d16a4d8c80c2257335c31c77.setContent%28html_9660693cf7214d73ab102eb31787f2fa%29%3B%0A%20%20%20%20%20%20%20%20%0A%0A%20%20%20%20%20%20%20%20marker_cf1e352730764ac3bf5446d52604b93d.bindPopup%28popup_6a69c3e9d16a4d8c80c2257335c31c77%29%0A%20%20%20%20%20%20%20%20%3B%0A%0A%20%20%20%20%20%20%20%20%0A%20%20%20%20%0A%20%20%20%20%0A%20%20%20%20%20%20%20%20%20%20%20%20var%20marker_3dcbbf3b9999478487c7b4e6fef0dccc%20%3D%20L.marker%28%0A%20%20%20%20%20%20%20%20%20%20%20%20%20%20%20%20%5B41.9431632%2C%20-87.6445071%5D%2C%0A%20%20%20%20%20%20%20%20%20%20%20%20%20%20%20%20%7B%7D%0A%20%20%20%20%20%20%20%20%20%20%20%20%29.addTo%28map_1014390b9dec4629a0294fcd81976660%29%3B%0A%20%20%20%20%20%20%20%20%0A%20%20%20%20%0A%20%20%20%20%20%20%20%20var%20popup_130032c3d4ab4c1bb8e24d74e8f416bc%20%3D%20L.popup%28%7B%22maxWidth%22%3A%20%22100%25%22%7D%29%3B%0A%0A%20%20%20%20%20%20%20%20%0A%20%20%20%20%20%20%20%20%20%20%20%20var%20html_3f0d73186e8c468bb7a90fb57fdd5105%20%3D%20%24%28%60%3Cdiv%20id%3D%22html_3f0d73186e8c468bb7a90fb57fdd5105%22%20style%3D%22width%3A%20100.0%25%3B%20height%3A%20100.0%25%3B%22%3EPhoebe%E2%80%99s%20Bakery%3C/div%3E%60%29%5B0%5D%3B%0A%20%20%20%20%20%20%20%20%20%20%20%20popup_130032c3d4ab4c1bb8e24d74e8f416bc.setContent%28html_3f0d73186e8c468bb7a90fb57fdd5105%29%3B%0A%20%20%20%20%20%20%20%20%0A%0A%20%20%20%20%20%20%20%20marker_3dcbbf3b9999478487c7b4e6fef0dccc.bindPopup%28popup_130032c3d4ab4c1bb8e24d74e8f416bc%29%0A%20%20%20%20%20%20%20%20%3B%0A%0A%20%20%20%20%20%20%20%20%0A%20%20%20%20%0A%3C/script%3E onload=\"this.contentDocument.open();this.contentDocument.write(    decodeURIComponent(this.getAttribute('data-html')));this.contentDocument.close();\" allowfullscreen webkitallowfullscreen mozallowfullscreen></iframe></div></div>"
      ],
      "text/plain": [
       "<folium.folium.Map at 0x2ca203dfe50>"
      ]
     },
     "execution_count": 113,
     "metadata": {},
     "output_type": "execute_result"
    }
   ],
   "source": [
    "map_fin"
   ]
  },
  {
   "cell_type": "code",
   "execution_count": 115,
   "metadata": {
    "collapsed": true
   },
   "outputs": [],
   "source": [
    "## 지도 저장\n",
    "map_fin.save('시카고_카페.html')"
   ]
  },
  {
   "cell_type": "code",
   "execution_count": null,
   "metadata": {
    "collapsed": true
   },
   "outputs": [],
   "source": []
  },
  {
   "cell_type": "code",
   "execution_count": null,
   "metadata": {
    "collapsed": true
   },
   "outputs": [],
   "source": []
  }
 ],
 "metadata": {
  "kernelspec": {
   "display_name": "Python 3",
   "language": "python",
   "name": "python3"
  },
  "language_info": {
   "codemirror_mode": {
    "name": "ipython",
    "version": 3
   },
   "file_extension": ".py",
   "mimetype": "text/x-python",
   "name": "python",
   "nbconvert_exporter": "python",
   "pygments_lexer": "ipython3",
   "version": "3.8.5"
  },
  "toc": {
   "base_numbering": 1,
   "nav_menu": {},
   "number_sections": true,
   "sideBar": true,
   "skip_h1_title": false,
   "title_cell": "Table of Contents",
   "title_sidebar": "Contents",
   "toc_cell": false,
   "toc_position": {},
   "toc_section_display": true,
   "toc_window_display": false
  },
  "varInspector": {
   "cols": {
    "lenName": 16,
    "lenType": 16,
    "lenVar": 40
   },
   "kernels_config": {
    "python": {
     "delete_cmd_postfix": "",
     "delete_cmd_prefix": "del ",
     "library": "var_list.py",
     "varRefreshCmd": "print(var_dic_list())"
    },
    "r": {
     "delete_cmd_postfix": ") ",
     "delete_cmd_prefix": "rm(",
     "library": "var_list.r",
     "varRefreshCmd": "cat(var_dic_list()) "
    }
   },
   "types_to_exclude": [
    "module",
    "function",
    "builtin_function_or_method",
    "instance",
    "_Feature"
   ],
   "window_display": false
  }
 },
 "nbformat": 4,
 "nbformat_minor": 4
}
