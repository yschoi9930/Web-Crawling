{
 "cells": [
  {
   "cell_type": "code",
   "execution_count": 122,
   "metadata": {
    "ExecuteTime": {
     "end_time": "2021-03-25T04:25:21.028400Z",
     "start_time": "2021-03-25T04:25:20.435399Z"
    }
   },
   "outputs": [],
   "source": [
    "# 서울시 강남구의 삼성약국 추출\n",
    "# 서울특별시 강남구 - encoding 필요 quote()\n",
    "from urllib.parse import quote\n",
    "import requests\n",
    "from bs4 import BeautifulSoup\n",
    "import pandas as pd\n",
    "import numpy as np\n",
    "import string\n",
    "import matplotlib.pyplot as plt\n",
    "%matplotlib inline"
   ]
  },
  {
   "cell_type": "code",
   "execution_count": 183,
   "metadata": {
    "ExecuteTime": {
     "end_time": "2021-03-25T04:49:07.761305Z",
     "start_time": "2021-03-25T04:49:07.752291Z"
    }
   },
   "outputs": [],
   "source": [
    "# 그래프 한글 처리하는 코드\n",
    "import platform\n",
    "\n",
    "from matplotlib import font_manager, rc\n",
    "plt.rcParams['axes.unicode_minus'] = False\n",
    "\n",
    "if platform.system() == 'Darwin':  # 맥OS \n",
    "    rc('font', family='AppleGothic')\n",
    "elif platform.system() == 'Windows': \n",
    "    # 윈도우   \n",
    "    path = \"c:/Windows/Fonts/malgun.ttf\"\n",
    "    font_name = font_manager.FontProperties(fname=path).get_name()\n",
    "    rc('font', family=font_name)\n",
    "else:\n",
    "    print('Unknown system...  sorry~~~')"
   ]
  },
  {
   "cell_type": "code",
   "execution_count": 10,
   "metadata": {
    "ExecuteTime": {
     "end_time": "2021-03-25T01:59:56.070283Z",
     "start_time": "2021-03-25T01:59:56.068284Z"
    }
   },
   "outputs": [],
   "source": [
    "endpoint = 'http://apis.data.go.kr/B552657/ErmctInsttInfoInqireService/getParmacyListInfoInqire?'\n",
    "serviceKey = 'h2mLc7vL1zItTKcrj91QtEN1LzL9XmC2%2Fr5OfMz5Z2qYxdT6y6zGQDoGbayFwP2wUzDVzDlPvfvkH%2BKt6hcPdw%3D%3D'"
   ]
  },
  {
   "cell_type": "code",
   "execution_count": 3,
   "metadata": {
    "ExecuteTime": {
     "end_time": "2021-03-25T01:58:29.599142Z",
     "start_time": "2021-03-25T01:58:29.595138Z"
    }
   },
   "outputs": [],
   "source": [
    "Q0 = quote('서울특별시')\n",
    "Q1 = quote('강남구')\n",
    "QT = '1'\n",
    "QN = quote('삼성약국')\n",
    "ORD = 'NAME'\n",
    "numofRows = '500'"
   ]
  },
  {
   "cell_type": "code",
   "execution_count": 15,
   "metadata": {
    "ExecuteTime": {
     "end_time": "2021-03-25T02:02:41.564414Z",
     "start_time": "2021-03-25T02:02:41.559094Z"
    }
   },
   "outputs": [],
   "source": [
    "# parameter\n",
    "paramset = 'serviceKey=' + serviceKey + '&' \\\n",
    "            + 'Q0=' + Q0 + '&' \\\n",
    "            + 'Q1=' + Q1 + '&' \\\n",
    "            + 'QT=' + QT + '&' \\\n",
    "            + 'QN=' + QN + '&' \\\n",
    "            + 'ORD=' + ORD + '&' \\\n",
    "            + 'numofRows=' + numofRows"
   ]
  },
  {
   "cell_type": "code",
   "execution_count": 16,
   "metadata": {
    "ExecuteTime": {
     "end_time": "2021-03-25T02:02:42.990310Z",
     "start_time": "2021-03-25T02:02:42.986308Z"
    }
   },
   "outputs": [
    {
     "data": {
      "text/plain": [
       "'http://apis.data.go.kr/B552657/ErmctInsttInfoInqireService/getParmacyListInfoInqire?serviceKey=h2mLc7vL1zItTKcrj91QtEN1LzL9XmC2%2Fr5OfMz5Z2qYxdT6y6zGQDoGbayFwP2wUzDVzDlPvfvkH%2BKt6hcPdw%3D%3D&Q0=%EC%84%9C%EC%9A%B8%ED%8A%B9%EB%B3%84%EC%8B%9C&Q1=%EA%B0%95%EB%82%A8%EA%B5%AC&QT=1&QN=%EC%82%BC%EC%84%B1%EC%95%BD%EA%B5%AD&ORD=NAME&numofRows=500'"
      ]
     },
     "execution_count": 16,
     "metadata": {},
     "output_type": "execute_result"
    }
   ],
   "source": [
    "url = endpoint + paramset\n",
    "url"
   ]
  },
  {
   "cell_type": "code",
   "execution_count": 17,
   "metadata": {
    "ExecuteTime": {
     "end_time": "2021-03-25T02:02:45.622613Z",
     "start_time": "2021-03-25T02:02:45.334345Z"
    }
   },
   "outputs": [
    {
     "data": {
      "text/plain": [
       "<?xml version=\"1.0\" encoding=\"UTF-8\" standalone=\"yes\"?><response><header><resultcode>00</resultcode><resultmsg>NORMAL SERVICE.</resultmsg></header><body><items><item><dutyaddr>서울특별시 강남구 일원로 53 (일원동) </dutyaddr><dutymapimg>소림빌딩 1층</dutymapimg><dutyname>E-삼성약국</dutyname><dutytel1>02-3412-1254</dutytel1><dutytime1c>1900</dutytime1c><dutytime1s>0900</dutytime1s><dutytime2c>1900</dutytime2c><dutytime2s>0900</dutytime2s><dutytime3c>1900</dutytime3c><dutytime3s>0900</dutytime3s><dutytime4c>1900</dutytime4c><dutytime4s>0900</dutytime4s><dutytime5c>1900</dutytime5c><dutytime5s>0900</dutytime5s><dutytime6c>1300</dutytime6c><dutytime6s>0900</dutytime6s><hpid>C1104799</hpid><postcdn1>063</postcdn1><postcdn2>43 </postcdn2><rnum>1</rnum><wgs84lat>37.48926299528938</wgs84lat><wgs84lon>127.08181088280385</wgs84lon></item><item><dutyaddr>서울특별시 강남구 광평로19길 10, 101호 (수서동, 까치마을아파트상가)</dutyaddr><dutymapimg>삼성의료원10번출근처/까치마을아파트상가 101호</dutymapimg><dutyname>삼성약국</dutyname><dutytel1>02-451-7281</dutytel1><dutytime1c>2030</dutytime1c><dutytime1s>0900</dutytime1s><dutytime2c>2030</dutytime2c><dutytime2s>0900</dutytime2s><dutytime3c>2030</dutytime3c><dutytime3s>0900</dutytime3s><dutytime4c>2030</dutytime4c><dutytime4s>0900</dutytime4s><dutytime5c>2030</dutytime5c><dutytime5s>0900</dutytime5s><dutytime6c>2030</dutytime6c><dutytime6s>0900</dutytime6s><hpid>C1101446</hpid><postcdn1>063</postcdn1><postcdn2>54 </postcdn2><rnum>2</rnum><wgs84lat>37.4854861607</wgs84lat><wgs84lon>127.086600835</wgs84lon></item></items><numofrows>10</numofrows><pageno>1</pageno><totalcount>2</totalcount></body></response>"
      ]
     },
     "execution_count": 17,
     "metadata": {},
     "output_type": "execute_result"
    }
   ],
   "source": [
    "result=requests.get(url)\n",
    "bs_obj=BeautifulSoup(result.content,'html.parser')\n",
    "bs_obj"
   ]
  },
  {
   "cell_type": "code",
   "execution_count": null,
   "metadata": {},
   "outputs": [],
   "source": [
    "# ------------------서울시 전체 약국 정보"
   ]
  },
  {
   "cell_type": "code",
   "execution_count": 42,
   "metadata": {
    "ExecuteTime": {
     "end_time": "2021-03-25T02:30:29.149342Z",
     "start_time": "2021-03-25T02:30:29.142010Z"
    }
   },
   "outputs": [],
   "source": [
    "endpoint = 'http://apis.data.go.kr/B552657/ErmctInsttInfoInqireService/getParmacyListInfoInqire?'\n",
    "serviceKey = 'h2mLc7vL1zItTKcrj91QtEN1LzL9XmC2%2Fr5OfMz5Z2qYxdT6y6zGQDoGbayFwP2wUzDVzDlPvfvkH%2BKt6hcPdw%3D%3D'"
   ]
  },
  {
   "cell_type": "code",
   "execution_count": 43,
   "metadata": {
    "ExecuteTime": {
     "end_time": "2021-03-25T02:30:30.486762Z",
     "start_time": "2021-03-25T02:30:30.480760Z"
    }
   },
   "outputs": [],
   "source": [
    "Q0 = quote('서울특별시')\n",
    "ORD = 'NAME'\n",
    "numofRows = '5000'\n",
    "startPage = '1'\n",
    "paseSize = '10'"
   ]
  },
  {
   "cell_type": "code",
   "execution_count": 65,
   "metadata": {
    "ExecuteTime": {
     "end_time": "2021-03-25T02:41:12.517564Z",
     "start_time": "2021-03-25T02:41:12.514517Z"
    }
   },
   "outputs": [],
   "source": [
    "# parameter\n",
    "paramset = 'serviceKey=' + serviceKey + '&' \\\n",
    "            + 'Q0=' + Q0 + '&' \\\n",
    "            + 'ORD=' + ORD + '&' \\\n",
    "            + 'startPage=' + startPage +'&' \\\n",
    "            + 'paseSize=' + pageSize + '&' \\\n",
    "            + 'numOfRows=' + numofRows"
   ]
  },
  {
   "cell_type": "code",
   "execution_count": 66,
   "metadata": {
    "ExecuteTime": {
     "end_time": "2021-03-25T02:41:14.385560Z",
     "start_time": "2021-03-25T02:41:14.378626Z"
    }
   },
   "outputs": [
    {
     "data": {
      "text/plain": [
       "'http://apis.data.go.kr/B552657/ErmctInsttInfoInqireService/getParmacyListInfoInqire?serviceKey=h2mLc7vL1zItTKcrj91QtEN1LzL9XmC2%2Fr5OfMz5Z2qYxdT6y6zGQDoGbayFwP2wUzDVzDlPvfvkH%2BKt6hcPdw%3D%3D&Q0=%EC%84%9C%EC%9A%B8%ED%8A%B9%EB%B3%84%EC%8B%9C&ORD=NAME&startPage=1&paseSize=10&numOfRows=5000'"
      ]
     },
     "execution_count": 66,
     "metadata": {},
     "output_type": "execute_result"
    }
   ],
   "source": [
    "url = endpoint + paramset\n",
    "url"
   ]
  },
  {
   "cell_type": "code",
   "execution_count": 68,
   "metadata": {
    "ExecuteTime": {
     "end_time": "2021-03-25T02:45:06.864503Z",
     "start_time": "2021-03-25T02:45:00.655321Z"
    }
   },
   "outputs": [],
   "source": [
    "result=requests.get(url)\n",
    "bs_obj=BeautifulSoup(result.content,'html.parser')"
   ]
  },
  {
   "cell_type": "code",
   "execution_count": 70,
   "metadata": {
    "ExecuteTime": {
     "end_time": "2021-03-25T02:46:17.785529Z",
     "start_time": "2021-03-25T02:46:17.720501Z"
    }
   },
   "outputs": [
    {
     "data": {
      "text/plain": [
       "4937"
      ]
     },
     "execution_count": 70,
     "metadata": {},
     "output_type": "execute_result"
    }
   ],
   "source": [
    "# 모든 약국 정보 추출\n",
    "items = bs_obj.findAll('item')\n",
    "len(items)"
   ]
  },
  {
   "cell_type": "code",
   "execution_count": 71,
   "metadata": {
    "ExecuteTime": {
     "end_time": "2021-03-25T02:46:20.405065Z",
     "start_time": "2021-03-25T02:46:20.067960Z"
    }
   },
   "outputs": [],
   "source": [
    "# 약국 정보 저장\n",
    "name =[]\n",
    "adr = []\n",
    "tel = []\n",
    "\n",
    "for item in items : \n",
    "    name.append(item.find('dutyname').text)\n",
    "    adr.append(item.find('dutyaddr').text)\n",
    "    tel.append(item.find('dutytel1').text)\n",
    "df = pd.DataFrame({'약국명':name,'주소':adr,'전화번호':tel})"
   ]
  },
  {
   "cell_type": "code",
   "execution_count": 72,
   "metadata": {
    "ExecuteTime": {
     "end_time": "2021-03-25T02:46:22.639654Z",
     "start_time": "2021-03-25T02:46:22.629652Z"
    }
   },
   "outputs": [
    {
     "data": {
      "text/html": [
       "<div>\n",
       "<style scoped>\n",
       "    .dataframe tbody tr th:only-of-type {\n",
       "        vertical-align: middle;\n",
       "    }\n",
       "\n",
       "    .dataframe tbody tr th {\n",
       "        vertical-align: top;\n",
       "    }\n",
       "\n",
       "    .dataframe thead th {\n",
       "        text-align: right;\n",
       "    }\n",
       "</style>\n",
       "<table border=\"1\" class=\"dataframe\">\n",
       "  <thead>\n",
       "    <tr style=\"text-align: right;\">\n",
       "      <th></th>\n",
       "      <th>약국명</th>\n",
       "      <th>주소</th>\n",
       "      <th>전화번호</th>\n",
       "    </tr>\n",
       "  </thead>\n",
       "  <tbody>\n",
       "    <tr>\n",
       "      <th>0</th>\n",
       "      <td>100세약국</td>\n",
       "      <td>서울특별시 영등포구 양평로 24, (당산동6가)</td>\n",
       "      <td>02-2678-8217</td>\n",
       "    </tr>\n",
       "    <tr>\n",
       "      <th>1</th>\n",
       "      <td>13층약국</td>\n",
       "      <td>서울특별시 중구 서소문로 116, 유원빌딩 1304호 (서소문동)</td>\n",
       "      <td>070-7718-1316</td>\n",
       "    </tr>\n",
       "    <tr>\n",
       "      <th>2</th>\n",
       "      <td>153온누리약국</td>\n",
       "      <td>서울특별시 성동구 왕십리로 410, K동 106호 (하왕십리동, 센트라스)</td>\n",
       "      <td>02-2291-9153</td>\n",
       "    </tr>\n",
       "    <tr>\n",
       "      <th>3</th>\n",
       "      <td>1번약국</td>\n",
       "      <td>서울특별시 구로구 구로동로 132 (구로동)</td>\n",
       "      <td>02-851-1155</td>\n",
       "    </tr>\n",
       "    <tr>\n",
       "      <th>4</th>\n",
       "      <td>1번약국</td>\n",
       "      <td>서울특별시 관악구 남부순환로 1832 1층</td>\n",
       "      <td>02-872-7583</td>\n",
       "    </tr>\n",
       "    <tr>\n",
       "      <th>...</th>\n",
       "      <td>...</td>\n",
       "      <td>...</td>\n",
       "      <td>...</td>\n",
       "    </tr>\n",
       "    <tr>\n",
       "      <th>4932</th>\n",
       "      <td>힘찬약국</td>\n",
       "      <td>서울특별시 영등포구 디지털로37길 9-5 (대림동)</td>\n",
       "      <td>02-2062-7789</td>\n",
       "    </tr>\n",
       "    <tr>\n",
       "      <th>4933</th>\n",
       "      <td>힘찬약국</td>\n",
       "      <td>서울특별시 중구 장충단로13길 7, 401호 (을지로6가, 을호빌딩)</td>\n",
       "      <td>02-2279-7588</td>\n",
       "    </tr>\n",
       "    <tr>\n",
       "      <th>4934</th>\n",
       "      <td>힘찬약국</td>\n",
       "      <td>서울특별시 도봉구 삼양로 580-4, 1층 101호 (쌍문동, 노스브릭)</td>\n",
       "      <td>02-996-9114</td>\n",
       "    </tr>\n",
       "    <tr>\n",
       "      <th>4935</th>\n",
       "      <td>힘찬약국</td>\n",
       "      <td>서울특별시 광진구 뚝섬로 631-1, 1층 (자양동)</td>\n",
       "      <td>02-454-1221</td>\n",
       "    </tr>\n",
       "    <tr>\n",
       "      <th>4936</th>\n",
       "      <td>힘챤약국</td>\n",
       "      <td>서울특별시 성북구 보국문로 16-1</td>\n",
       "      <td>02-942-2088</td>\n",
       "    </tr>\n",
       "  </tbody>\n",
       "</table>\n",
       "<p>4937 rows × 3 columns</p>\n",
       "</div>"
      ],
      "text/plain": [
       "           약국명                                         주소           전화번호\n",
       "0       100세약국                 서울특별시 영등포구 양평로 24, (당산동6가)   02-2678-8217\n",
       "1        13층약국       서울특별시 중구 서소문로 116, 유원빌딩 1304호 (서소문동)  070-7718-1316\n",
       "2     153온누리약국  서울특별시 성동구 왕십리로 410, K동 106호 (하왕십리동, 센트라스)   02-2291-9153\n",
       "3         1번약국                   서울특별시 구로구 구로동로 132 (구로동)    02-851-1155\n",
       "4         1번약국                    서울특별시 관악구 남부순환로 1832 1층    02-872-7583\n",
       "...        ...                                        ...            ...\n",
       "4932      힘찬약국               서울특별시 영등포구 디지털로37길 9-5 (대림동)   02-2062-7789\n",
       "4933      힘찬약국     서울특별시 중구 장충단로13길 7, 401호 (을지로6가, 을호빌딩)   02-2279-7588\n",
       "4934      힘찬약국   서울특별시 도봉구 삼양로 580-4, 1층 101호 (쌍문동, 노스브릭)    02-996-9114\n",
       "4935      힘찬약국              서울특별시 광진구 뚝섬로 631-1, 1층 (자양동)    02-454-1221\n",
       "4936      힘챤약국                        서울특별시 성북구 보국문로 16-1    02-942-2088\n",
       "\n",
       "[4937 rows x 3 columns]"
      ]
     },
     "execution_count": 72,
     "metadata": {},
     "output_type": "execute_result"
    }
   ],
   "source": [
    "df"
   ]
  },
  {
   "cell_type": "code",
   "execution_count": null,
   "metadata": {},
   "outputs": [],
   "source": [
    "# 서울시에서 토요일에 영업하는 약국의 수를 출력\n",
    "# 서울시 각 구별로 약국의 수를 비교하는 그래프 시각화 작업"
   ]
  },
  {
   "cell_type": "code",
   "execution_count": 78,
   "metadata": {
    "ExecuteTime": {
     "end_time": "2021-03-25T02:51:46.347794Z",
     "start_time": "2021-03-25T02:51:46.342101Z"
    }
   },
   "outputs": [],
   "source": [
    "Q0 = quote('서울특별시')\n",
    "QT = '6'\n",
    "ORD = 'NAME'\n",
    "numofRows = '5000'\n",
    "startPage = '1'\n",
    "paseSize = '10'"
   ]
  },
  {
   "cell_type": "code",
   "execution_count": 79,
   "metadata": {
    "ExecuteTime": {
     "end_time": "2021-03-25T02:51:47.518204Z",
     "start_time": "2021-03-25T02:51:47.515204Z"
    }
   },
   "outputs": [],
   "source": [
    "# parameter\n",
    "paramset = 'serviceKey=' + serviceKey + '&' \\\n",
    "            + 'Q0=' + Q0 + '&' \\\n",
    "            + 'QT=' + QT + '&' \\\n",
    "            + 'ORD=' + ORD + '&' \\\n",
    "            + 'startPage=' + startPage +'&' \\\n",
    "            + 'paseSize=' + pageSize + '&' \\\n",
    "            + 'numOfRows=' + numofRows"
   ]
  },
  {
   "cell_type": "code",
   "execution_count": 80,
   "metadata": {
    "ExecuteTime": {
     "end_time": "2021-03-25T02:51:50.243300Z",
     "start_time": "2021-03-25T02:51:50.238300Z"
    }
   },
   "outputs": [
    {
     "data": {
      "text/plain": [
       "'http://apis.data.go.kr/B552657/ErmctInsttInfoInqireService/getParmacyListInfoInqire?serviceKey=h2mLc7vL1zItTKcrj91QtEN1LzL9XmC2%2Fr5OfMz5Z2qYxdT6y6zGQDoGbayFwP2wUzDVzDlPvfvkH%2BKt6hcPdw%3D%3D&Q0=%EC%84%9C%EC%9A%B8%ED%8A%B9%EB%B3%84%EC%8B%9C&QT=6&ORD=NAME&startPage=1&paseSize=10&numOfRows=5000'"
      ]
     },
     "execution_count": 80,
     "metadata": {},
     "output_type": "execute_result"
    }
   ],
   "source": [
    "url = endpoint + paramset\n",
    "url"
   ]
  },
  {
   "cell_type": "code",
   "execution_count": 81,
   "metadata": {
    "ExecuteTime": {
     "end_time": "2021-03-25T02:52:51.020138Z",
     "start_time": "2021-03-25T02:52:44.300017Z"
    }
   },
   "outputs": [],
   "source": [
    "result = requests.get(url)\n",
    "bs_obj = BeautifulSoup(result.content, 'html.parser')"
   ]
  },
  {
   "cell_type": "code",
   "execution_count": 82,
   "metadata": {
    "ExecuteTime": {
     "end_time": "2021-03-25T02:52:58.016657Z",
     "start_time": "2021-03-25T02:52:57.951012Z"
    }
   },
   "outputs": [
    {
     "data": {
      "text/plain": [
       "4417"
      ]
     },
     "execution_count": 82,
     "metadata": {},
     "output_type": "execute_result"
    }
   ],
   "source": [
    "items = bs_obj.findAll('item')\n",
    "len(items)"
   ]
  },
  {
   "cell_type": "code",
   "execution_count": 84,
   "metadata": {
    "ExecuteTime": {
     "end_time": "2021-03-25T02:54:20.850875Z",
     "start_time": "2021-03-25T02:54:20.839928Z"
    }
   },
   "outputs": [
    {
     "data": {
      "text/plain": [
       "<item><dutyaddr>서울특별시 관악구 남부순환로 1832 1층</dutyaddr><dutyname>1번약국</dutyname><dutytel1>02-872-7583</dutytel1><dutytime1c>2100</dutytime1c><dutytime1s>0900</dutytime1s><dutytime2c>2100</dutytime2c><dutytime2s>0900</dutytime2s><dutytime3c>2100</dutytime3c><dutytime3s>0900</dutytime3s><dutytime4c>2100</dutytime4c><dutytime4s>0900</dutytime4s><dutytime5c>2100</dutytime5c><dutytime5s>0900</dutytime5s><dutytime6c>1730</dutytime6c><dutytime6s>0900</dutytime6s><hpid>C1104416</hpid><postcdn1>087</postcdn1><postcdn2>88 </postcdn2><rnum>2</rnum><wgs84lat>37.480704569</wgs84lat><wgs84lon>126.9534959421</wgs84lon></item>"
      ]
     },
     "execution_count": 84,
     "metadata": {},
     "output_type": "execute_result"
    }
   ],
   "source": [
    "items[1]"
   ]
  },
  {
   "cell_type": "code",
   "execution_count": 86,
   "metadata": {
    "ExecuteTime": {
     "end_time": "2021-03-25T04:04:24.213231Z",
     "start_time": "2021-03-25T04:04:23.929626Z"
    }
   },
   "outputs": [],
   "source": [
    "name = []\n",
    "adr = []\n",
    "tel = []\n",
    "\n",
    "for item in items :\n",
    "    name.append(item.find('dutyname').text)\n",
    "    adr.append(item.find('dutyaddr').text)\n",
    "    tel.append(item.find('dutytel1').text)\n",
    "df = pd.DataFrame({'약국명':name, '주소': adr, '전화번호' :tel})"
   ]
  },
  {
   "cell_type": "code",
   "execution_count": 165,
   "metadata": {
    "ExecuteTime": {
     "end_time": "2021-03-25T04:37:17.583253Z",
     "start_time": "2021-03-25T04:37:17.567318Z"
    }
   },
   "outputs": [
    {
     "data": {
      "text/html": [
       "<div>\n",
       "<style scoped>\n",
       "    .dataframe tbody tr th:only-of-type {\n",
       "        vertical-align: middle;\n",
       "    }\n",
       "\n",
       "    .dataframe tbody tr th {\n",
       "        vertical-align: top;\n",
       "    }\n",
       "\n",
       "    .dataframe thead th {\n",
       "        text-align: right;\n",
       "    }\n",
       "</style>\n",
       "<table border=\"1\" class=\"dataframe\">\n",
       "  <thead>\n",
       "    <tr style=\"text-align: right;\">\n",
       "      <th></th>\n",
       "      <th>약국명</th>\n",
       "      <th>주소</th>\n",
       "      <th>전화번호</th>\n",
       "    </tr>\n",
       "  </thead>\n",
       "  <tbody>\n",
       "    <tr>\n",
       "      <th>0</th>\n",
       "      <td>100세약국</td>\n",
       "      <td>서울특별시 영등포구 양평로 24, (당산동6가)</td>\n",
       "      <td>02-2678-8217</td>\n",
       "    </tr>\n",
       "    <tr>\n",
       "      <th>1</th>\n",
       "      <td>1번약국</td>\n",
       "      <td>서울특별시 관악구 남부순환로 1832 1층</td>\n",
       "      <td>02-872-7583</td>\n",
       "    </tr>\n",
       "    <tr>\n",
       "      <th>2</th>\n",
       "      <td>1번약국</td>\n",
       "      <td>서울특별시 구로구 구로동로 132 (구로동)</td>\n",
       "      <td>02-851-1155</td>\n",
       "    </tr>\n",
       "    <tr>\n",
       "      <th>3</th>\n",
       "      <td>1층엔약국</td>\n",
       "      <td>서울특별시 강남구 강남대로 624, ICT TOWER 1층 일부호 (신사동)</td>\n",
       "      <td>02-518-1080</td>\n",
       "    </tr>\n",
       "    <tr>\n",
       "      <th>4</th>\n",
       "      <td>1층천호약국</td>\n",
       "      <td>서울특별시 강동구 천호대로 1006, 브라운스톤천호 105호 (성내동)</td>\n",
       "      <td>02-478-1178</td>\n",
       "    </tr>\n",
       "    <tr>\n",
       "      <th>...</th>\n",
       "      <td>...</td>\n",
       "      <td>...</td>\n",
       "      <td>...</td>\n",
       "    </tr>\n",
       "    <tr>\n",
       "      <th>4412</th>\n",
       "      <td>힘찬약국</td>\n",
       "      <td>서울특별시 영등포구 디지털로37길 9-5 (대림동)</td>\n",
       "      <td>02-2062-7789</td>\n",
       "    </tr>\n",
       "    <tr>\n",
       "      <th>4413</th>\n",
       "      <td>힘찬약국</td>\n",
       "      <td>서울특별시 도봉구 삼양로 580-4, 1층 101호 (쌍문동, 노스브릭)</td>\n",
       "      <td>02-996-9114</td>\n",
       "    </tr>\n",
       "    <tr>\n",
       "      <th>4414</th>\n",
       "      <td>힘찬약국</td>\n",
       "      <td>서울특별시 중구 장충단로13길 7, 401호 (을지로6가, 을호빌딩)</td>\n",
       "      <td>02-2279-7588</td>\n",
       "    </tr>\n",
       "    <tr>\n",
       "      <th>4415</th>\n",
       "      <td>힘찬약국</td>\n",
       "      <td>서울특별시 광진구 뚝섬로 631-1, 1층 (자양동)</td>\n",
       "      <td>02-454-1221</td>\n",
       "    </tr>\n",
       "    <tr>\n",
       "      <th>4416</th>\n",
       "      <td>힘챤약국</td>\n",
       "      <td>서울특별시 성북구 보국문로 16-1</td>\n",
       "      <td>02-942-2088</td>\n",
       "    </tr>\n",
       "  </tbody>\n",
       "</table>\n",
       "<p>4417 rows × 3 columns</p>\n",
       "</div>"
      ],
      "text/plain": [
       "         약국명                                          주소          전화번호\n",
       "0     100세약국                  서울특별시 영등포구 양평로 24, (당산동6가)  02-2678-8217\n",
       "1       1번약국                     서울특별시 관악구 남부순환로 1832 1층   02-872-7583\n",
       "2       1번약국                    서울특별시 구로구 구로동로 132 (구로동)   02-851-1155\n",
       "3      1층엔약국  서울특별시 강남구 강남대로 624, ICT TOWER 1층 일부호 (신사동)   02-518-1080\n",
       "4     1층천호약국     서울특별시 강동구 천호대로 1006, 브라운스톤천호 105호 (성내동)   02-478-1178\n",
       "...      ...                                         ...           ...\n",
       "4412    힘찬약국                서울특별시 영등포구 디지털로37길 9-5 (대림동)  02-2062-7789\n",
       "4413    힘찬약국    서울특별시 도봉구 삼양로 580-4, 1층 101호 (쌍문동, 노스브릭)   02-996-9114\n",
       "4414    힘찬약국      서울특별시 중구 장충단로13길 7, 401호 (을지로6가, 을호빌딩)  02-2279-7588\n",
       "4415    힘찬약국               서울특별시 광진구 뚝섬로 631-1, 1층 (자양동)   02-454-1221\n",
       "4416    힘챤약국                         서울특별시 성북구 보국문로 16-1   02-942-2088\n",
       "\n",
       "[4417 rows x 3 columns]"
      ]
     },
     "execution_count": 165,
     "metadata": {},
     "output_type": "execute_result"
    }
   ],
   "source": [
    "df"
   ]
  },
  {
   "cell_type": "code",
   "execution_count": 200,
   "metadata": {
    "ExecuteTime": {
     "end_time": "2021-03-25T04:57:32.015687Z",
     "start_time": "2021-03-25T04:57:31.998689Z"
    }
   },
   "outputs": [
    {
     "data": {
      "text/plain": [
       "0                        [서울특별시, 영등포구, 양평로, 24,, (당산동6가)]\n",
       "1                           [서울특별시, 관악구, 남부순환로, 1832, 1층]\n",
       "2                          [서울특별시, 구로구, 구로동로, 132, (구로동)]\n",
       "3       [서울특별시, 강남구, 강남대로, 624,, ICT, TOWER, 1층, 일부호, ...\n",
       "4         [서울특별시, 강동구, 천호대로, 1006,, 브라운스톤천호, 105호, (성내동)]\n",
       "                              ...                        \n",
       "4412                   [서울특별시, 영등포구, 디지털로37길, 9-5, (대림동)]\n",
       "4413    [서울특별시, 도봉구, 삼양로, 580-4,, 1층, 101호, (쌍문동,, 노스브릭)]\n",
       "4414       [서울특별시, 중구, 장충단로13길, 7,, 401호, (을지로6가,, 을호빌딩)]\n",
       "4415                 [서울특별시, 광진구, 뚝섬로, 631-1,, 1층, (자양동)]\n",
       "4416                             [서울특별시, 성북구, 보국문로, 16-1]\n",
       "Name: 주소, Length: 4417, dtype: object"
      ]
     },
     "execution_count": 200,
     "metadata": {},
     "output_type": "execute_result"
    }
   ],
   "source": [
    "address = df['주소']\n",
    "address.str.split(' ')"
   ]
  },
  {
   "cell_type": "code",
   "execution_count": 201,
   "metadata": {
    "ExecuteTime": {
     "end_time": "2021-03-25T04:57:34.548033Z",
     "start_time": "2021-03-25T04:57:34.514998Z"
    },
    "scrolled": true
   },
   "outputs": [
    {
     "data": {
      "text/plain": [
       "0       영등포구\n",
       "1        관악구\n",
       "2        구로구\n",
       "3        강남구\n",
       "4        강동구\n",
       "        ... \n",
       "4412    영등포구\n",
       "4413     도봉구\n",
       "4414      중구\n",
       "4415     광진구\n",
       "4416     성북구\n",
       "Name: 주소, Length: 4417, dtype: object"
      ]
     },
     "execution_count": 201,
     "metadata": {},
     "output_type": "execute_result"
    }
   ],
   "source": [
    "gu = address.str.split(' ').str.get(1)\n",
    "gu"
   ]
  },
  {
   "cell_type": "code",
   "execution_count": 230,
   "metadata": {
    "ExecuteTime": {
     "end_time": "2021-03-25T05:05:27.620129Z",
     "start_time": "2021-03-25T05:05:27.606112Z"
    }
   },
   "outputs": [
    {
     "data": {
      "text/html": [
       "<div>\n",
       "<style scoped>\n",
       "    .dataframe tbody tr th:only-of-type {\n",
       "        vertical-align: middle;\n",
       "    }\n",
       "\n",
       "    .dataframe tbody tr th {\n",
       "        vertical-align: top;\n",
       "    }\n",
       "\n",
       "    .dataframe thead th {\n",
       "        text-align: right;\n",
       "    }\n",
       "</style>\n",
       "<table border=\"1\" class=\"dataframe\">\n",
       "  <thead>\n",
       "    <tr style=\"text-align: right;\">\n",
       "      <th></th>\n",
       "      <th>구 명</th>\n",
       "      <th>약국 수</th>\n",
       "    </tr>\n",
       "  </thead>\n",
       "  <tbody>\n",
       "    <tr>\n",
       "      <th>0</th>\n",
       "      <td>강남구</td>\n",
       "      <td>337</td>\n",
       "    </tr>\n",
       "    <tr>\n",
       "      <th>1</th>\n",
       "      <td>송파구</td>\n",
       "      <td>311</td>\n",
       "    </tr>\n",
       "    <tr>\n",
       "      <th>2</th>\n",
       "      <td>강서구</td>\n",
       "      <td>235</td>\n",
       "    </tr>\n",
       "    <tr>\n",
       "      <th>3</th>\n",
       "      <td>영등포구</td>\n",
       "      <td>228</td>\n",
       "    </tr>\n",
       "    <tr>\n",
       "      <th>4</th>\n",
       "      <td>서초구</td>\n",
       "      <td>216</td>\n",
       "    </tr>\n",
       "    <tr>\n",
       "      <th>5</th>\n",
       "      <td>관악구</td>\n",
       "      <td>202</td>\n",
       "    </tr>\n",
       "    <tr>\n",
       "      <th>6</th>\n",
       "      <td>강동구</td>\n",
       "      <td>198</td>\n",
       "    </tr>\n",
       "    <tr>\n",
       "      <th>7</th>\n",
       "      <td>노원구</td>\n",
       "      <td>195</td>\n",
       "    </tr>\n",
       "    <tr>\n",
       "      <th>8</th>\n",
       "      <td>성북구</td>\n",
       "      <td>180</td>\n",
       "    </tr>\n",
       "    <tr>\n",
       "      <th>9</th>\n",
       "      <td>마포구</td>\n",
       "      <td>175</td>\n",
       "    </tr>\n",
       "    <tr>\n",
       "      <th>10</th>\n",
       "      <td>동대문구</td>\n",
       "      <td>170</td>\n",
       "    </tr>\n",
       "    <tr>\n",
       "      <th>11</th>\n",
       "      <td>은평구</td>\n",
       "      <td>169</td>\n",
       "    </tr>\n",
       "    <tr>\n",
       "      <th>12</th>\n",
       "      <td>양천구</td>\n",
       "      <td>167</td>\n",
       "    </tr>\n",
       "    <tr>\n",
       "      <th>13</th>\n",
       "      <td>동작구</td>\n",
       "      <td>166</td>\n",
       "    </tr>\n",
       "    <tr>\n",
       "      <th>14</th>\n",
       "      <td>구로구</td>\n",
       "      <td>165</td>\n",
       "    </tr>\n",
       "    <tr>\n",
       "      <th>15</th>\n",
       "      <td>종로구</td>\n",
       "      <td>157</td>\n",
       "    </tr>\n",
       "    <tr>\n",
       "      <th>16</th>\n",
       "      <td>강북구</td>\n",
       "      <td>152</td>\n",
       "    </tr>\n",
       "    <tr>\n",
       "      <th>17</th>\n",
       "      <td>중랑구</td>\n",
       "      <td>145</td>\n",
       "    </tr>\n",
       "    <tr>\n",
       "      <th>18</th>\n",
       "      <td>광진구</td>\n",
       "      <td>143</td>\n",
       "    </tr>\n",
       "    <tr>\n",
       "      <th>19</th>\n",
       "      <td>중구</td>\n",
       "      <td>142</td>\n",
       "    </tr>\n",
       "    <tr>\n",
       "      <th>20</th>\n",
       "      <td>서대문구</td>\n",
       "      <td>133</td>\n",
       "    </tr>\n",
       "    <tr>\n",
       "      <th>21</th>\n",
       "      <td>성동구</td>\n",
       "      <td>120</td>\n",
       "    </tr>\n",
       "    <tr>\n",
       "      <th>22</th>\n",
       "      <td>도봉구</td>\n",
       "      <td>107</td>\n",
       "    </tr>\n",
       "    <tr>\n",
       "      <th>23</th>\n",
       "      <td>용산구</td>\n",
       "      <td>106</td>\n",
       "    </tr>\n",
       "    <tr>\n",
       "      <th>24</th>\n",
       "      <td>금천구</td>\n",
       "      <td>98</td>\n",
       "    </tr>\n",
       "  </tbody>\n",
       "</table>\n",
       "</div>"
      ],
      "text/plain": [
       "     구 명  약국 수\n",
       "0    강남구   337\n",
       "1    송파구   311\n",
       "2    강서구   235\n",
       "3   영등포구   228\n",
       "4    서초구   216\n",
       "5    관악구   202\n",
       "6    강동구   198\n",
       "7    노원구   195\n",
       "8    성북구   180\n",
       "9    마포구   175\n",
       "10  동대문구   170\n",
       "11   은평구   169\n",
       "12   양천구   167\n",
       "13   동작구   166\n",
       "14   구로구   165\n",
       "15   종로구   157\n",
       "16   강북구   152\n",
       "17   중랑구   145\n",
       "18   광진구   143\n",
       "19    중구   142\n",
       "20  서대문구   133\n",
       "21   성동구   120\n",
       "22   도봉구   107\n",
       "23   용산구   106\n",
       "24   금천구    98"
      ]
     },
     "execution_count": 230,
     "metadata": {},
     "output_type": "execute_result"
    }
   ],
   "source": [
    "count = df.value_counts(gu)\n",
    "count = pd.DataFrame(count).reset_index()\n",
    "count.columns = ['구 명','약국 수']\n",
    "count"
   ]
  },
  {
   "cell_type": "code",
   "execution_count": 232,
   "metadata": {
    "ExecuteTime": {
     "end_time": "2021-03-25T05:06:06.874368Z",
     "start_time": "2021-03-25T05:06:06.348748Z"
    }
   },
   "outputs": [
    {
     "data": {
      "text/plain": [
       "<function matplotlib.pyplot.show(close=None, block=None)>"
      ]
     },
     "execution_count": 232,
     "metadata": {},
     "output_type": "execute_result"
    },
    {
     "data": {
      "image/png": "[encoded data removed]",
      "text/plain": [
       "<Figure size 1440x720 with 1 Axes>"
      ]
     },
     "metadata": {
      "needs_background": "light"
     },
     "output_type": "display_data"
    }
   ],
   "source": [
    "plt.figure(figsize=(20,10))\n",
    "plt.bar(count['구 명'], count['약국 수'])\n",
    "plt.xlabel('구 명')\n",
    "plt.ylabel('약국 수')\n",
    "plt.show"
   ]
  },
  {
   "cell_type": "code",
   "execution_count": null,
   "metadata": {},
   "outputs": [],
   "source": [
    "# --------------------- 강사님 설명 참고"
   ]
  },
  {
   "cell_type": "code",
   "execution_count": 167,
   "metadata": {
    "ExecuteTime": {
     "end_time": "2021-03-25T04:37:59.880933Z",
     "start_time": "2021-03-25T04:37:59.865932Z"
    }
   },
   "outputs": [
    {
     "data": {
      "text/html": [
       "<div>\n",
       "<style scoped>\n",
       "    .dataframe tbody tr th:only-of-type {\n",
       "        vertical-align: middle;\n",
       "    }\n",
       "\n",
       "    .dataframe tbody tr th {\n",
       "        vertical-align: top;\n",
       "    }\n",
       "\n",
       "    .dataframe thead th {\n",
       "        text-align: right;\n",
       "    }\n",
       "</style>\n",
       "<table border=\"1\" class=\"dataframe\">\n",
       "  <thead>\n",
       "    <tr style=\"text-align: right;\">\n",
       "      <th></th>\n",
       "      <th>약국명</th>\n",
       "      <th>주소</th>\n",
       "      <th>전화번호</th>\n",
       "      <th>구</th>\n",
       "    </tr>\n",
       "  </thead>\n",
       "  <tbody>\n",
       "    <tr>\n",
       "      <th>0</th>\n",
       "      <td>100세약국</td>\n",
       "      <td>서울특별시 영등포구 양평로 24, (당산동6가)</td>\n",
       "      <td>02-2678-8217</td>\n",
       "      <td>영등포구</td>\n",
       "    </tr>\n",
       "    <tr>\n",
       "      <th>1</th>\n",
       "      <td>1번약국</td>\n",
       "      <td>서울특별시 관악구 남부순환로 1832 1층</td>\n",
       "      <td>02-872-7583</td>\n",
       "      <td>관악구</td>\n",
       "    </tr>\n",
       "    <tr>\n",
       "      <th>2</th>\n",
       "      <td>1번약국</td>\n",
       "      <td>서울특별시 구로구 구로동로 132 (구로동)</td>\n",
       "      <td>02-851-1155</td>\n",
       "      <td>구로구</td>\n",
       "    </tr>\n",
       "    <tr>\n",
       "      <th>3</th>\n",
       "      <td>1층엔약국</td>\n",
       "      <td>서울특별시 강남구 강남대로 624, ICT TOWER 1층 일부호 (신사동)</td>\n",
       "      <td>02-518-1080</td>\n",
       "      <td>강남구</td>\n",
       "    </tr>\n",
       "    <tr>\n",
       "      <th>4</th>\n",
       "      <td>1층천호약국</td>\n",
       "      <td>서울특별시 강동구 천호대로 1006, 브라운스톤천호 105호 (성내동)</td>\n",
       "      <td>02-478-1178</td>\n",
       "      <td>강동구</td>\n",
       "    </tr>\n",
       "    <tr>\n",
       "      <th>...</th>\n",
       "      <td>...</td>\n",
       "      <td>...</td>\n",
       "      <td>...</td>\n",
       "      <td>...</td>\n",
       "    </tr>\n",
       "    <tr>\n",
       "      <th>4412</th>\n",
       "      <td>힘찬약국</td>\n",
       "      <td>서울특별시 영등포구 디지털로37길 9-5 (대림동)</td>\n",
       "      <td>02-2062-7789</td>\n",
       "      <td>영등포구</td>\n",
       "    </tr>\n",
       "    <tr>\n",
       "      <th>4413</th>\n",
       "      <td>힘찬약국</td>\n",
       "      <td>서울특별시 도봉구 삼양로 580-4, 1층 101호 (쌍문동, 노스브릭)</td>\n",
       "      <td>02-996-9114</td>\n",
       "      <td>도봉구</td>\n",
       "    </tr>\n",
       "    <tr>\n",
       "      <th>4414</th>\n",
       "      <td>힘찬약국</td>\n",
       "      <td>서울특별시 중구 장충단로13길 7, 401호 (을지로6가, 을호빌딩)</td>\n",
       "      <td>02-2279-7588</td>\n",
       "      <td>중구</td>\n",
       "    </tr>\n",
       "    <tr>\n",
       "      <th>4415</th>\n",
       "      <td>힘찬약국</td>\n",
       "      <td>서울특별시 광진구 뚝섬로 631-1, 1층 (자양동)</td>\n",
       "      <td>02-454-1221</td>\n",
       "      <td>광진구</td>\n",
       "    </tr>\n",
       "    <tr>\n",
       "      <th>4416</th>\n",
       "      <td>힘챤약국</td>\n",
       "      <td>서울특별시 성북구 보국문로 16-1</td>\n",
       "      <td>02-942-2088</td>\n",
       "      <td>성북구</td>\n",
       "    </tr>\n",
       "  </tbody>\n",
       "</table>\n",
       "<p>4417 rows × 4 columns</p>\n",
       "</div>"
      ],
      "text/plain": [
       "         약국명                                          주소          전화번호     구\n",
       "0     100세약국                  서울특별시 영등포구 양평로 24, (당산동6가)  02-2678-8217  영등포구\n",
       "1       1번약국                     서울특별시 관악구 남부순환로 1832 1층   02-872-7583   관악구\n",
       "2       1번약국                    서울특별시 구로구 구로동로 132 (구로동)   02-851-1155   구로구\n",
       "3      1층엔약국  서울특별시 강남구 강남대로 624, ICT TOWER 1층 일부호 (신사동)   02-518-1080   강남구\n",
       "4     1층천호약국     서울특별시 강동구 천호대로 1006, 브라운스톤천호 105호 (성내동)   02-478-1178   강동구\n",
       "...      ...                                         ...           ...   ...\n",
       "4412    힘찬약국                서울특별시 영등포구 디지털로37길 9-5 (대림동)  02-2062-7789  영등포구\n",
       "4413    힘찬약국    서울특별시 도봉구 삼양로 580-4, 1층 101호 (쌍문동, 노스브릭)   02-996-9114   도봉구\n",
       "4414    힘찬약국      서울특별시 중구 장충단로13길 7, 401호 (을지로6가, 을호빌딩)  02-2279-7588    중구\n",
       "4415    힘찬약국               서울특별시 광진구 뚝섬로 631-1, 1층 (자양동)   02-454-1221   광진구\n",
       "4416    힘챤약국                         서울특별시 성북구 보국문로 16-1   02-942-2088   성북구\n",
       "\n",
       "[4417 rows x 4 columns]"
      ]
     },
     "execution_count": 167,
     "metadata": {},
     "output_type": "execute_result"
    }
   ],
   "source": [
    "df['구'] = gu\n",
    "df"
   ]
  },
  {
   "cell_type": "code",
   "execution_count": 172,
   "metadata": {
    "ExecuteTime": {
     "end_time": "2021-03-25T04:40:31.057547Z",
     "start_time": "2021-03-25T04:40:31.031344Z"
    }
   },
   "outputs": [
    {
     "data": {
      "text/html": [
       "<div>\n",
       "<style scoped>\n",
       "    .dataframe tbody tr th:only-of-type {\n",
       "        vertical-align: middle;\n",
       "    }\n",
       "\n",
       "    .dataframe tbody tr th {\n",
       "        vertical-align: top;\n",
       "    }\n",
       "\n",
       "    .dataframe thead th {\n",
       "        text-align: right;\n",
       "    }\n",
       "</style>\n",
       "<table border=\"1\" class=\"dataframe\">\n",
       "  <thead>\n",
       "    <tr style=\"text-align: right;\">\n",
       "      <th></th>\n",
       "      <th>약국명</th>\n",
       "      <th>주소</th>\n",
       "      <th>전화번호</th>\n",
       "    </tr>\n",
       "    <tr>\n",
       "      <th>구</th>\n",
       "      <th></th>\n",
       "      <th></th>\n",
       "      <th></th>\n",
       "    </tr>\n",
       "  </thead>\n",
       "  <tbody>\n",
       "    <tr>\n",
       "      <th>강남구</th>\n",
       "      <td>337</td>\n",
       "      <td>337</td>\n",
       "      <td>337</td>\n",
       "    </tr>\n",
       "    <tr>\n",
       "      <th>강동구</th>\n",
       "      <td>198</td>\n",
       "      <td>198</td>\n",
       "      <td>198</td>\n",
       "    </tr>\n",
       "    <tr>\n",
       "      <th>강북구</th>\n",
       "      <td>152</td>\n",
       "      <td>152</td>\n",
       "      <td>152</td>\n",
       "    </tr>\n",
       "    <tr>\n",
       "      <th>강서구</th>\n",
       "      <td>235</td>\n",
       "      <td>235</td>\n",
       "      <td>235</td>\n",
       "    </tr>\n",
       "    <tr>\n",
       "      <th>관악구</th>\n",
       "      <td>202</td>\n",
       "      <td>202</td>\n",
       "      <td>202</td>\n",
       "    </tr>\n",
       "    <tr>\n",
       "      <th>광진구</th>\n",
       "      <td>143</td>\n",
       "      <td>143</td>\n",
       "      <td>143</td>\n",
       "    </tr>\n",
       "    <tr>\n",
       "      <th>구로구</th>\n",
       "      <td>165</td>\n",
       "      <td>165</td>\n",
       "      <td>165</td>\n",
       "    </tr>\n",
       "    <tr>\n",
       "      <th>금천구</th>\n",
       "      <td>98</td>\n",
       "      <td>98</td>\n",
       "      <td>98</td>\n",
       "    </tr>\n",
       "    <tr>\n",
       "      <th>노원구</th>\n",
       "      <td>195</td>\n",
       "      <td>195</td>\n",
       "      <td>195</td>\n",
       "    </tr>\n",
       "    <tr>\n",
       "      <th>도봉구</th>\n",
       "      <td>107</td>\n",
       "      <td>107</td>\n",
       "      <td>107</td>\n",
       "    </tr>\n",
       "    <tr>\n",
       "      <th>동대문구</th>\n",
       "      <td>170</td>\n",
       "      <td>170</td>\n",
       "      <td>170</td>\n",
       "    </tr>\n",
       "    <tr>\n",
       "      <th>동작구</th>\n",
       "      <td>166</td>\n",
       "      <td>166</td>\n",
       "      <td>166</td>\n",
       "    </tr>\n",
       "    <tr>\n",
       "      <th>마포구</th>\n",
       "      <td>175</td>\n",
       "      <td>175</td>\n",
       "      <td>175</td>\n",
       "    </tr>\n",
       "    <tr>\n",
       "      <th>서대문구</th>\n",
       "      <td>133</td>\n",
       "      <td>133</td>\n",
       "      <td>133</td>\n",
       "    </tr>\n",
       "    <tr>\n",
       "      <th>서초구</th>\n",
       "      <td>216</td>\n",
       "      <td>216</td>\n",
       "      <td>216</td>\n",
       "    </tr>\n",
       "    <tr>\n",
       "      <th>성동구</th>\n",
       "      <td>120</td>\n",
       "      <td>120</td>\n",
       "      <td>120</td>\n",
       "    </tr>\n",
       "    <tr>\n",
       "      <th>성북구</th>\n",
       "      <td>180</td>\n",
       "      <td>180</td>\n",
       "      <td>180</td>\n",
       "    </tr>\n",
       "    <tr>\n",
       "      <th>송파구</th>\n",
       "      <td>311</td>\n",
       "      <td>311</td>\n",
       "      <td>311</td>\n",
       "    </tr>\n",
       "    <tr>\n",
       "      <th>양천구</th>\n",
       "      <td>167</td>\n",
       "      <td>167</td>\n",
       "      <td>167</td>\n",
       "    </tr>\n",
       "    <tr>\n",
       "      <th>영등포구</th>\n",
       "      <td>228</td>\n",
       "      <td>228</td>\n",
       "      <td>228</td>\n",
       "    </tr>\n",
       "    <tr>\n",
       "      <th>용산구</th>\n",
       "      <td>106</td>\n",
       "      <td>106</td>\n",
       "      <td>106</td>\n",
       "    </tr>\n",
       "    <tr>\n",
       "      <th>은평구</th>\n",
       "      <td>169</td>\n",
       "      <td>169</td>\n",
       "      <td>169</td>\n",
       "    </tr>\n",
       "    <tr>\n",
       "      <th>종로구</th>\n",
       "      <td>157</td>\n",
       "      <td>157</td>\n",
       "      <td>157</td>\n",
       "    </tr>\n",
       "    <tr>\n",
       "      <th>중구</th>\n",
       "      <td>142</td>\n",
       "      <td>142</td>\n",
       "      <td>142</td>\n",
       "    </tr>\n",
       "    <tr>\n",
       "      <th>중랑구</th>\n",
       "      <td>145</td>\n",
       "      <td>145</td>\n",
       "      <td>145</td>\n",
       "    </tr>\n",
       "  </tbody>\n",
       "</table>\n",
       "</div>"
      ],
      "text/plain": [
       "      약국명   주소  전화번호\n",
       "구                   \n",
       "강남구   337  337   337\n",
       "강동구   198  198   198\n",
       "강북구   152  152   152\n",
       "강서구   235  235   235\n",
       "관악구   202  202   202\n",
       "광진구   143  143   143\n",
       "구로구   165  165   165\n",
       "금천구    98   98    98\n",
       "노원구   195  195   195\n",
       "도봉구   107  107   107\n",
       "동대문구  170  170   170\n",
       "동작구   166  166   166\n",
       "마포구   175  175   175\n",
       "서대문구  133  133   133\n",
       "서초구   216  216   216\n",
       "성동구   120  120   120\n",
       "성북구   180  180   180\n",
       "송파구   311  311   311\n",
       "양천구   167  167   167\n",
       "영등포구  228  228   228\n",
       "용산구   106  106   106\n",
       "은평구   169  169   169\n",
       "종로구   157  157   157\n",
       "중구    142  142   142\n",
       "중랑구   145  145   145"
      ]
     },
     "execution_count": 172,
     "metadata": {},
     "output_type": "execute_result"
    }
   ],
   "source": [
    "group = df.groupby('구').count()\n",
    "group"
   ]
  },
  {
   "cell_type": "code",
   "execution_count": 181,
   "metadata": {
    "ExecuteTime": {
     "end_time": "2021-03-25T04:48:41.036829Z",
     "start_time": "2021-03-25T04:48:41.021895Z"
    }
   },
   "outputs": [
    {
     "data": {
      "text/plain": [
       "0      강남구\n",
       "17     송파구\n",
       "3      강서구\n",
       "19    영등포구\n",
       "14     서초구\n",
       "4      관악구\n",
       "1      강동구\n",
       "8      노원구\n",
       "16     성북구\n",
       "12     마포구\n",
       "10    동대문구\n",
       "21     은평구\n",
       "18     양천구\n",
       "11     동작구\n",
       "6      구로구\n",
       "22     종로구\n",
       "2      강북구\n",
       "24     중랑구\n",
       "5      광진구\n",
       "23      중구\n",
       "13    서대문구\n",
       "15     성동구\n",
       "9      도봉구\n",
       "20     용산구\n",
       "7      금천구\n",
       "Name: 구, dtype: object"
      ]
     },
     "execution_count": 181,
     "metadata": {},
     "output_type": "execute_result"
    }
   ],
   "source": [
    "group = df.groupby('구').count().reset_index()[['구','약국명']]\n",
    "group = group.sort_values(by='약국명', ascending=False)\n",
    "group"
   ]
  },
  {
   "cell_type": "code",
   "execution_count": 186,
   "metadata": {
    "ExecuteTime": {
     "end_time": "2021-03-25T04:54:26.972462Z",
     "start_time": "2021-03-25T04:54:26.511600Z"
    }
   },
   "outputs": [
    {
     "data": {
      "text/plain": [
       "<function matplotlib.pyplot.show(close=None, block=None)>"
      ]
     },
     "execution_count": 186,
     "metadata": {},
     "output_type": "execute_result"
    },
    {
     "data": {
      "image/png": "[encoded data removed]",
      "text/plain": [
       "<Figure size 1440x720 with 1 Axes>"
      ]
     },
     "metadata": {
      "needs_background": "light"
     },
     "output_type": "display_data"
    }
   ],
   "source": [
    "plt.figure(figsize=(20,10))\n",
    "plt.bar(group['구'], group['약국명'])\n",
    "plt.xlabel('구 명')\n",
    "plt.ylabel('약국 수')\n",
    "plt.show"
   ]
  }
 ],
 "metadata": {
  "kernelspec": {
   "display_name": "Python 3",
   "language": "python",
   "name": "python3"
  },
  "language_info": {
   "codemirror_mode": {
    "name": "ipython",
    "version": 3
   },
   "file_extension": ".py",
   "mimetype": "text/x-python",
   "name": "python",
   "nbconvert_exporter": "python",
   "pygments_lexer": "ipython3",
   "version": "3.8.5"
  },
  "toc": {
   "base_numbering": 1,
   "nav_menu": {},
   "number_sections": true,
   "sideBar": true,
   "skip_h1_title": false,
   "title_cell": "Table of Contents",
   "title_sidebar": "Contents",
   "toc_cell": false,
   "toc_position": {},
   "toc_section_display": true,
   "toc_window_display": false
  },
  "varInspector": {
   "cols": {
    "lenName": 16,
    "lenType": 16,
    "lenVar": 40
   },
   "kernels_config": {
    "python": {
     "delete_cmd_postfix": "",
     "delete_cmd_prefix": "del ",
     "library": "var_list.py",
     "varRefreshCmd": "print(var_dic_list())"
    },
    "r": {
     "delete_cmd_postfix": ") ",
     "delete_cmd_prefix": "rm(",
     "library": "var_list.r",
     "varRefreshCmd": "cat(var_dic_list()) "
    }
   },
   "types_to_exclude": [
    "module",
    "function",
    "builtin_function_or_method",
    "instance",
    "_Feature"
   ],
   "window_display": false
  }
 },
 "nbformat": 4,
 "nbformat_minor": 4
}
